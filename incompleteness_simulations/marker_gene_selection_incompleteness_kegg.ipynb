{
 "cells": [
  {
   "cell_type": "markdown",
   "id": "02884ab7-262a-4614-871a-d4b5db40d520",
   "metadata": {},
   "source": [
    "# Phylogeny for EMP500 after randomly removing genes to simulate completeness\n",
    "\n",
    "## KOfamscan annotation"
   ]
  },
  {
   "cell_type": "code",
   "execution_count": 1,
   "id": "5189ef24-789d-4ce7-9771-d17febd6dacb",
   "metadata": {},
   "outputs": [],
   "source": [
    "import numpy as np\n",
    "import pandas as pd\n",
    "import matplotlib.pyplot as plt\n",
    "import re\n",
    "from scipy.stats import pmean\n",
    "import matplotlib.gridspec as grid_spec\n",
    "import upsetplot\n",
    "import os, sys"
   ]
  },
  {
   "cell_type": "code",
   "execution_count": 2,
   "id": "21e55b45-9deb-4b17-8fa1-4909162b42e8",
   "metadata": {},
   "outputs": [],
   "source": [
    "plt.rcParams.update({\n",
    "    'figure.autolayout': True,\n",
    "    'savefig.bbox': 'tight',\n",
    "    'svg.fonttype': 'none',\n",
    "    'font.sans-serif': 'Arial',\n",
    "    'font.size': 12,\n",
    "    'boxplot.medianprops.linewidth': 2,\n",
    "    'boxplot.flierprops.markeredgecolor': 'none',\n",
    "    'boxplot.flierprops.markersize': 5})"
   ]
  },
  {
   "cell_type": "markdown",
   "id": "f635669a-c4d0-490a-aa47-a52ca6e743e7",
   "metadata": {},
   "source": [
    "Functions"
   ]
  },
  {
   "cell_type": "code",
   "execution_count": 3,
   "id": "38961065-b08e-4508-9040-f6b9f4b2e546",
   "metadata": {},
   "outputs": [],
   "source": [
    "def adjMatv2(edges_ogs, edges_genomes):\n",
    "    # Get unique elements\n",
    "    ogs, ogs_indices = np.unique(edges_ogs, return_inverse = True)\n",
    "    genomes, genomes_indices = np.unique(edges_genomes, return_inverse = True)\n",
    "    # Calculate bin counts for each combination of indices\n",
    "    counts = np.bincount(ogs_indices * len(genomes) + genomes_indices, minlength = len(ogs) * len(genomes))\n",
    "    # Reshape counts as adjacency matrix\n",
    "    adj = counts.reshape(len(ogs), len(genomes))\n",
    "    return adj, genomes, ogs"
   ]
  },
  {
   "cell_type": "code",
   "execution_count": 4,
   "id": "2f75c833-61b8-4462-84f2-50c7e35223e7",
   "metadata": {},
   "outputs": [],
   "source": [
    "def prop_single_copy(genes, adj, trans = False):\n",
    "    \n",
    "    selected_genes = adj[genes]\n",
    "    \n",
    "    single_copy = np.sum(selected_genes == 1, axis = 1)\n",
    "    all_copies = np.sum(selected_genes >= 1, axis = 1)\n",
    "    \n",
    "    ratios = single_copy / all_copies\n",
    "    \n",
    "    if trans:\n",
    "        ratios = np.arcsin(np.sqrt(ratios))\n",
    "    \n",
    "    return ratios"
   ]
  },
  {
   "cell_type": "code",
   "execution_count": 5,
   "id": "07b58b4e-a21b-4574-ab6e-7706007a1a18",
   "metadata": {},
   "outputs": [],
   "source": [
    "def save_genes(genes, fOut):\n",
    "    with open(fOut, 'w') as f:\n",
    "        for gene in genes:\n",
    "            f.write(f'{gene}\\n')"
   ]
  },
  {
   "cell_type": "code",
   "execution_count": 6,
   "id": "9e496fdc-6b52-4e54-9164-f11d4e93bde9",
   "metadata": {},
   "outputs": [],
   "source": [
    "def save_markers_per_genome(markers_per_genome, fOut):\n",
    "    with open(fOut, 'w') as f:\n",
    "        for genome, number in markers_per_genome.items():\n",
    "            f.write(f'{genome}:{number}\\n')"
   ]
  },
  {
   "cell_type": "code",
   "execution_count": 7,
   "id": "7489fe19-5d2a-47da-acf3-4e07504f56ba",
   "metadata": {},
   "outputs": [],
   "source": [
    "def parse_kofamscan(file):\n",
    "    '''\n",
    "    Parse KOfamscan output file\n",
    "    '''\n",
    "    results = []\n",
    "    with open(file, 'r') as f:\n",
    "        for line in f:\n",
    "            if not line.startswith('#'):\n",
    "                tmp = re.sub('\\s+', ' ', line.strip()).split(' ')\n",
    "                # Omit the description column, ko_score, and e-value\n",
    "                orf, ko, bit_score = tmp[0], tmp[1], float(tmp[3])\n",
    "                results.append([orf, ko, bit_score])\n",
    "    return results"
   ]
  },
  {
   "cell_type": "code",
   "execution_count": 8,
   "id": "5122797d-866a-4eca-9ee1-1748994e87a0",
   "metadata": {},
   "outputs": [],
   "source": [
    "def remove_genes(adj_mod):\n",
    "    '''\n",
    "    Function that removes genes if:\n",
    "        present in less than 4 genomes/species\n",
    "    '''\n",
    "    remove = np.array([i for i in range(len(adj_mod)) if adj_mod[i].sum() < 4])\n",
    "    return remove"
   ]
  },
  {
   "cell_type": "code",
   "execution_count": 9,
   "id": "77c92691-296d-4c01-a080-ebce90b4d2e5",
   "metadata": {},
   "outputs": [],
   "source": [
    "def greedy_power_mean_sample_final(data, k, p, pseudocount, min_universality_genes):\n",
    "    \"\"\"Select k rows from a matrix such that the selection criterion by column is maximized.\n",
    "\n",
    "    Parameters\n",
    "    ----------\n",
    "    data : ndarray (2D)\n",
    "        Input data matrix.\n",
    "    k : int\n",
    "        Number of rows to select.\n",
    "    p : float\n",
    "        Exponent.\n",
    "\n",
    "    Returns\n",
    "    -------\n",
    "    ndarray (1D)\n",
    "        Row indices selected in order.\n",
    "    \"\"\"\n",
    "\n",
    "    n, m = data.shape\n",
    "\n",
    "    # Matrix is empty\n",
    "    if n == 0 or m == 0:\n",
    "        raise ValueError(f'Matrix is empty!')\n",
    "\n",
    "    # Matrix contains only zeroes\n",
    "    if (data == 0).all():\n",
    "        raise ValueError(f'Matrix only contains 0\\'s')\n",
    "\n",
    "    if (data.sum(axis = 1) == min_universality_genes).all():\n",
    "        raise ValueError(f'Matrix only contains genes present in less than {min_universality_genes}')\n",
    "\n",
    "    if k >= n:\n",
    "        raise ValueError(f'k should be smaller than {n}')\n",
    "    \n",
    "    # Add pseudocount\n",
    "    data = data + pseudocount\n",
    "\n",
    "    # cumulative gene counts\n",
    "    counts = np.zeros(m, dtype = int)\n",
    "\n",
    "    # gene indices in original data matrix\n",
    "    indices = np.arange(n)\n",
    "\n",
    "    # indices of selected genes\n",
    "    selected = []\n",
    "\n",
    "    # will select k genes sequentially\n",
    "    for i in range(k):\n",
    "        # calculate counts after adding each gene\n",
    "        sums_ = counts + data\n",
    "\n",
    "        # select a gene that maximizes the power mean gene count per genome, using the cumulative matric\n",
    "        if isinstance(p, int) or isinstance(p, np.int64): \n",
    "            choice = pmean(sums_, int(p), axis = 1).argmax()\n",
    "        elif p == 'min':\n",
    "            choice = sums_.min(axis = 1).argmax()\n",
    "        elif p == 'max':\n",
    "            choice = sums_.max(axis = 1).argmax()\n",
    "        else:\n",
    "            raise ValueError(f'Invalid p: {p}.')\n",
    "\n",
    "        # append index of selected gene\n",
    "        selected.append(indices[choice])\n",
    "\n",
    "        # update per-species gene counts\n",
    "        counts = sums_[choice]\n",
    "\n",
    "        # remove selected gene from data matrix\n",
    "        data = np.delete(data, choice, axis = 0)\n",
    "\n",
    "        # remove selected gene from indices\n",
    "        indices = np.delete(indices, choice)\n",
    "\n",
    "    return np.sort(np.array(selected))"
   ]
  },
  {
   "cell_type": "markdown",
   "id": "bc0bf2b2-db49-477a-92c4-2ff733d0cef2",
   "metadata": {},
   "source": [
    "Load bins statistics"
   ]
  },
  {
   "cell_type": "code",
   "execution_count": 10,
   "id": "8e5fc7ee-baf9-45d2-8458-8ad31a515f99",
   "metadata": {},
   "outputs": [
    {
     "data": {
      "text/plain": [
       "(811, 3)"
      ]
     },
     "execution_count": 10,
     "metadata": {},
     "output_type": "execute_result"
    }
   ],
   "source": [
    "df_bins = pd.read_csv(f'../markers_selection/input_data/emp/mags_statistics_kegg.tsv', index_col = 0, sep = '\\t')\n",
    "df_bins.shape"
   ]
  },
  {
   "cell_type": "markdown",
   "id": "daf6caa4-2301-4cfe-9eef-503706629827",
   "metadata": {},
   "source": [
    "**Remove bins outside the diagonal (`num_prokka_genes` vs `num_pfam_families`) and with less than 20 PFAM families**"
   ]
  },
  {
   "cell_type": "code",
   "execution_count": 11,
   "id": "ded2aaf0-ba49-44a4-b7d1-27077522bcce",
   "metadata": {},
   "outputs": [],
   "source": [
    "to_exclude = ['SaltMarsh.Metabat.Bin.73', 'SaltMarsh.Metabat.Bin.70', 'SaltMarsh.Metabat.Bin.9', 'SaltMarsh.Metabat.Bin.33',\n",
    "              'Steppe.Metabat.Bin.3', 'Mayer_watershed.Metabat.Bin.5', 'Jensen_Benthic.Metabat.Bin.3', 'Jensen_Benthic.Metabat.Bin.5',\n",
    "              'Lichen.Metabat.Bin.11', 'Lichen.Metabat.Bin.19', 'Lichen.Metabat.Bin.29', 'Seedorf_soil.Metabat.Bin.1',\n",
    "              'Seedorf_soil.Metabat.Bin.2', 'Seedorf_soil.Metabat.Bin.6', 'Marsh.Metabat.Bin.10',\n",
    "              'Marsh.Metabat.Bin.12', 'Marsh.Metabat.Bin.35', 'Marsh.Metabat.Bin.7']\n",
    "bins = df_bins[~df_bins.index.isin(to_exclude)].index.values"
   ]
  },
  {
   "cell_type": "code",
   "execution_count": 12,
   "id": "019715bd-4b68-4c0d-bb67-ba0b984d8d9a",
   "metadata": {},
   "outputs": [
    {
     "data": {
      "text/plain": [
       "793"
      ]
     },
     "execution_count": 12,
     "metadata": {},
     "output_type": "execute_result"
    }
   ],
   "source": [
    "len(bins)"
   ]
  },
  {
   "cell_type": "markdown",
   "id": "e6fee5da-c503-4345-9367-b83565ae68a8",
   "metadata": {},
   "source": [
    "Load KOfamScan annotations"
   ]
  },
  {
   "cell_type": "code",
   "execution_count": 13,
   "id": "1471eaa7-cec4-4147-ac39-4d83df40546b",
   "metadata": {},
   "outputs": [
    {
     "name": "stdout",
     "output_type": "stream",
     "text": [
      "CPU times: user 1.29 s, sys: 157 ms, total: 1.45 s\n",
      "Wall time: 1.68 s\n"
     ]
    }
   ],
   "source": [
    "%%time\n",
    "results = []\n",
    "for bin in bins:\n",
    "    # Load file\n",
    "    with open(f'../markers_selection/input_data/emp/kegg/{bin}.tsv', 'r') as f:\n",
    "        for line in f:\n",
    "            row = line.strip().split('\\t')\n",
    "            orf, ko, bit_score = row[0], row[1], float(row[3])\n",
    "            results.append([orf, ko, bit_score, bin])"
   ]
  },
  {
   "cell_type": "code",
   "execution_count": 14,
   "id": "8443983e-cf9d-4fdc-b987-7b09a8366faa",
   "metadata": {},
   "outputs": [
    {
     "data": {
      "text/plain": [
       "839302"
      ]
     },
     "execution_count": 14,
     "metadata": {},
     "output_type": "execute_result"
    }
   ],
   "source": [
    "len(results)"
   ]
  },
  {
   "cell_type": "code",
   "execution_count": 15,
   "id": "4a6f869c-7c53-4658-addf-d4949c2f05d5",
   "metadata": {},
   "outputs": [],
   "source": [
    "df = pd.DataFrame(results, columns = ['orf', 'ko', 'bit_score', 'bin'])\n",
    "df.set_index('orf', inplace = True)\n",
    "df['genome'] = df.index.map(lambda x: x.split('_')[0])"
   ]
  },
  {
   "cell_type": "code",
   "execution_count": 16,
   "id": "d56ea905-afe0-4400-b4fb-d068de0a5e53",
   "metadata": {},
   "outputs": [
    {
     "data": {
      "text/plain": [
       "(839302, 4)"
      ]
     },
     "execution_count": 16,
     "metadata": {},
     "output_type": "execute_result"
    }
   ],
   "source": [
    "df.shape"
   ]
  },
  {
   "cell_type": "code",
   "execution_count": 17,
   "id": "e00b638f-b261-4f4f-b6d2-eb359820859a",
   "metadata": {},
   "outputs": [
    {
     "data": {
      "text/plain": [
       "803458"
      ]
     },
     "execution_count": 17,
     "metadata": {},
     "output_type": "execute_result"
    }
   ],
   "source": [
    "orfs_all = set(df.index.values)\n",
    "len(orfs_all)"
   ]
  },
  {
   "cell_type": "markdown",
   "id": "c6c3a2b6-0d9a-4462-9aa4-9740614d9843",
   "metadata": {},
   "source": [
    "### Load genes to remove (incompleteness)"
   ]
  },
  {
   "cell_type": "code",
   "execution_count": 18,
   "id": "1afab6bf-e9c8-4a2f-a134-dd1c66026ea2",
   "metadata": {},
   "outputs": [],
   "source": [
    "def remove_genes_completeness(bins, orfs_all, threshold, replicate):\n",
    "    '''\n",
    "    Add genes to bin.\n",
    "    Parameters\n",
    "    ----------\n",
    "        bins : ndarray 1D\n",
    "            Bin names\n",
    "        orfs_all : set\n",
    "            ORFs of all bins\n",
    "        threshold : float\n",
    "            Completeness \n",
    "        replicate : int\n",
    "            Replicate number\n",
    "    Returns\n",
    "    -------\n",
    "        to_keep : list\n",
    "            ORFs to keep\n",
    "    '''\n",
    "    to_remove = []\n",
    "    \n",
    "    # Iterate over bins\n",
    "    for bi in bins:\n",
    "        # Add genes that will be removed remove\n",
    "        sampled = np.loadtxt(f'./output_data/incompleteness/sampled_genes/{bi}_sample_contigs_genes_th_{threshold}_rep_{replicate}.txt', dtype = 'str')\n",
    "        to_remove.extend(sampled)\n",
    "        \n",
    "    # Take difference\n",
    "    to_keep = list(orfs_all.difference(set(to_remove)))\n",
    "\n",
    "    return to_keep"
   ]
  },
  {
   "cell_type": "markdown",
   "id": "6ce75b00-72ed-4981-9f8f-ecfe130f1a04",
   "metadata": {},
   "source": [
    "# Using different completeness and copy number thresholds"
   ]
  },
  {
   "cell_type": "code",
   "execution_count": 19,
   "id": "9ea408b3-613c-4d98-a28f-7971886503fd",
   "metadata": {},
   "outputs": [
    {
     "data": {
      "text/plain": [
       "(793,)"
      ]
     },
     "execution_count": 19,
     "metadata": {},
     "output_type": "execute_result"
    }
   ],
   "source": [
    "bins.shape"
   ]
  },
  {
   "cell_type": "code",
   "execution_count": 20,
   "id": "33a8b12f-9529-4225-82ad-0acc17be6d7d",
   "metadata": {},
   "outputs": [
    {
     "data": {
      "text/plain": [
       "803458"
      ]
     },
     "execution_count": 20,
     "metadata": {},
     "output_type": "execute_result"
    }
   ],
   "source": [
    "len(orfs_all)"
   ]
  },
  {
   "cell_type": "code",
   "execution_count": 21,
   "id": "f09e5086-7af7-4f11-8b79-6bd8213a0495",
   "metadata": {},
   "outputs": [],
   "source": [
    "thresholds_completeness = [0.05, 0.1, 0.2, 0.4]\n",
    "replicates = np.arange(10)\n",
    "thresholds_copy_number = [1.0]\n",
    "ps = [0]\n",
    "k = 400"
   ]
  },
  {
   "cell_type": "code",
   "execution_count": null,
   "id": "86587066-3590-4b90-8c6f-8118ef9ee7a6",
   "metadata": {},
   "outputs": [
    {
     "name": "stdout",
     "output_type": "stream",
     "text": [
      "Completeness threshold: 0.05\n",
      "\tReplicate: 0\n",
      "\tReplicate: 1\n"
     ]
    }
   ],
   "source": [
    "%%time\n",
    "for th_comp in thresholds_completeness:\n",
    "    print(f'Completeness threshold: {th_comp}')\n",
    "    for rep in replicates:\n",
    "        print(f'\\tReplicate: {rep}')\n",
    "        # Load PFAM scan and filter based on completeness\n",
    "        to_keep = remove_genes_completeness(bins, orfs_all, th_comp, rep)\n",
    "        tmp_df = df.loc[to_keep]\n",
    "        for th_copy in thresholds_copy_number:\n",
    "            # print(f'\\tCopy number threshold: {th_copy}')\n",
    "            # Create directory\n",
    "            path = f'./output_data/incompleteness/marker_genes/comp_th_{th_comp}/replicate_{rep}/copy_th_{th_copy}'\n",
    "            os.system(f'mkdir -p {path}/orfs')\n",
    "            os.system(f'mkdir -p {path}/proteins')\n",
    "            os.system(f'mkdir -p {path}/presence_absence_copies')\n",
    "            # Filter based on copy number, where the score is greater than or equal to max_score * threshold\n",
    "            max_scores = tmp_df.groupby(['genome', 'ko'])['bit_score'].transform('max')\n",
    "            filtered_df = tmp_df[tmp_df['bit_score'] >= max_scores * th_copy]\n",
    "            # Build presence-absence matrix\n",
    "            edges_genomes = filtered_df['genome'].values\n",
    "            edges_ogs = filtered_df['ko'].values\n",
    "            adj, genomes, ogs = adjMatv2(edges_ogs, edges_genomes)\n",
    "            adj1 = adj\n",
    "            adj2 = adj1.copy()\n",
    "            adj1[adj1 > 1] = 1\n",
    "            # Copy presence/absence matrix\n",
    "            adj_mod = adj1.copy()\n",
    "            # Select genes to remove\n",
    "            remove = remove_genes(adj_mod)\n",
    "            # Remove genes\n",
    "            adj_mod = np.delete(adj_mod, remove, axis = 0)\n",
    "            # Remove genes from list\n",
    "            ogs_mod = np.delete(ogs, remove, axis = 0)\n",
    "            # Copy matrix\n",
    "            adj_mod2 = adj2.copy()\n",
    "            # Remove genes\n",
    "            adj_mod2 = np.delete(adj_mod2, remove, axis = 0)\n",
    "            # Iterate over values of hyperparameter p\n",
    "            all_genes = []\n",
    "            for p in ps:\n",
    "                # Select marker genes\n",
    "                select_presence_absence_copies = greedy_power_mean_sample_final(adj_mod2, k, p = p, pseudocount = 0.1, min_universality_genes = 1)\n",
    "                marker_genes = [ogs_mod[i] for i in select_presence_absence_copies]\n",
    "                num_marker_genes_per_genome = {genome : number for genome, number in zip(genomes, adj_mod[select_presence_absence_copies].sum(axis = 0))}\n",
    "                all_genes.extend(marker_genes)\n",
    "                # Save \n",
    "                save_genes(marker_genes, f'{path}/presence_absence_copies/select_k_{k}_p_{p}.txt')\n",
    "                save_markers_per_genome(num_marker_genes_per_genome, f'{path}/presence_absence_copies/num_markers_per_genome_k_{k}_p_{p}.txt')\n",
    "                \n",
    "            # Save union\n",
    "            all_genes_union = set(all_genes)\n",
    "            save_genes(all_genes_union, f'{path}/all_genes.txt') \n",
    "            # Save ORFs\n",
    "            for gene in all_genes_union:\n",
    "                orfs = filtered_df.query('ko == @gene').index.values\n",
    "                with open(f'{path}/orfs/{gene}.txt', 'w') as f:\n",
    "                    for orf in orfs:\n",
    "                        f.write(f'{orf}\\n')"
   ]
  },
  {
   "cell_type": "code",
   "execution_count": null,
   "id": "2aaf490b-4482-4b7e-9e1a-1441f6d965a9",
   "metadata": {},
   "outputs": [],
   "source": []
  },
  {
   "cell_type": "code",
   "execution_count": null,
   "id": "196ea11d-62c9-45a8-87af-cb232037c56b",
   "metadata": {},
   "outputs": [],
   "source": []
  },
  {
   "cell_type": "code",
   "execution_count": null,
   "id": "72af9091-de09-406d-884c-e02ccae359b9",
   "metadata": {},
   "outputs": [],
   "source": []
  },
  {
   "cell_type": "code",
   "execution_count": null,
   "id": "a27406b8-8c61-42e7-a2b4-ed645a496c6a",
   "metadata": {},
   "outputs": [],
   "source": []
  },
  {
   "cell_type": "code",
   "execution_count": null,
   "id": "d9a642f7-5ed4-4cfe-94fb-06b3ad01c751",
   "metadata": {},
   "outputs": [],
   "source": []
  },
  {
   "cell_type": "code",
   "execution_count": null,
   "id": "87c8f54f-5f48-4e8e-b80c-3b4831c33d69",
   "metadata": {},
   "outputs": [],
   "source": []
  },
  {
   "cell_type": "code",
   "execution_count": null,
   "id": "04b5e9d8-9ece-4fae-9924-0344d99d5870",
   "metadata": {},
   "outputs": [],
   "source": []
  },
  {
   "cell_type": "code",
   "execution_count": null,
   "id": "3b6bbae8-a36f-4eef-8e05-282a7034e8e5",
   "metadata": {},
   "outputs": [],
   "source": []
  },
  {
   "cell_type": "code",
   "execution_count": null,
   "id": "c16d45f1-e84c-4a35-b2b1-5b17d776b8d5",
   "metadata": {},
   "outputs": [],
   "source": []
  },
  {
   "cell_type": "code",
   "execution_count": null,
   "id": "b88bd6b4-3c54-491d-bc5a-d39accfe5898",
   "metadata": {},
   "outputs": [],
   "source": []
  },
  {
   "cell_type": "code",
   "execution_count": null,
   "id": "b01ff144-07fa-4a2b-9c63-056022fe22d5",
   "metadata": {},
   "outputs": [],
   "source": []
  }
 ],
 "metadata": {
  "kernelspec": {
   "display_name": "Python 3 (ipykernel)",
   "language": "python",
   "name": "python3"
  },
  "language_info": {
   "codemirror_mode": {
    "name": "ipython",
    "version": 3
   },
   "file_extension": ".py",
   "mimetype": "text/x-python",
   "name": "python",
   "nbconvert_exporter": "python",
   "pygments_lexer": "ipython3",
   "version": "3.10.13"
  }
 },
 "nbformat": 4,
 "nbformat_minor": 5
}
