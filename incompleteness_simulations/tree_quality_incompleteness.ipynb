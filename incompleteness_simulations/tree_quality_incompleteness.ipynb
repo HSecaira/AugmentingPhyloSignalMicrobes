{
 "cells": [
  {
   "cell_type": "markdown",
   "id": "74851c22-28d4-4d86-9baa-59090e6e342e",
   "metadata": {},
   "source": [
    "# Metrics for goodness of trees -- Local posterior probability from ASTRAL-pro and Taxonomic accuracy"
   ]
  },
  {
   "cell_type": "code",
   "execution_count": 1,
   "id": "510294f7-2064-4fa9-8651-6c9f810eb379",
   "metadata": {},
   "outputs": [],
   "source": [
    "import sys\n",
    "import pandas as pd\n",
    "import numpy as np\n",
    "from skbio.tree import TreeNode\n",
    "import matplotlib.pyplot as plt"
   ]
  },
  {
   "cell_type": "code",
   "execution_count": 2,
   "id": "e002f06e-74be-4297-8ac1-379bb6d6a930",
   "metadata": {},
   "outputs": [],
   "source": [
    "import dendropy\n",
    "from dendropy.calculate.treecompare import unweighted_robinson_foulds_distance, weighted_robinson_foulds_distance"
   ]
  },
  {
   "cell_type": "code",
   "execution_count": 3,
   "id": "935b3733-319b-4d1c-b586-8093867a4a42",
   "metadata": {},
   "outputs": [],
   "source": [
    "from scipy.stats import mannwhitneyu, false_discovery_control"
   ]
  },
  {
   "cell_type": "code",
   "execution_count": 4,
   "id": "ecb4e29d-4f60-4c95-8afd-83924b5352ae",
   "metadata": {},
   "outputs": [],
   "source": [
    "import warnings\n",
    "warnings.filterwarnings('ignore')"
   ]
  },
  {
   "cell_type": "code",
   "execution_count": 5,
   "id": "1e6e9e02-644f-43b8-a418-2a24ec8b24c1",
   "metadata": {},
   "outputs": [],
   "source": [
    "plt.rcParams.update({\n",
    "    'figure.autolayout': True,\n",
    "    'savefig.bbox': 'tight',\n",
    "    'svg.fonttype': 'none',\n",
    "    'font.sans-serif': 'Arial',\n",
    "    'font.size': 12,\n",
    "    'boxplot.medianprops.linewidth': 2,\n",
    "    'boxplot.flierprops.markeredgecolor': 'none',\n",
    "    'boxplot.flierprops.markersize': 5})"
   ]
  },
  {
   "cell_type": "code",
   "execution_count": 6,
   "id": "32b96b75-27dc-4841-b815-2578a326ef6a",
   "metadata": {},
   "outputs": [],
   "source": [
    "def get_cmap_colors(cmap_name, n):\n",
    "    cmap = plt.get_cmap(cmap_name)\n",
    "    colors = [cmap(i) for i in np.linspace(0, 1, n)]\n",
    "    return colors"
   ]
  },
  {
   "cell_type": "markdown",
   "id": "211df459-9f69-4103-917d-a7540ad295ad",
   "metadata": {},
   "source": [
    "## Marker genes selected with our approach"
   ]
  },
  {
   "cell_type": "code",
   "execution_count": 7,
   "id": "068e06e6-3be4-423c-a33d-2fb763710563",
   "metadata": {},
   "outputs": [],
   "source": [
    "matrix = 'presence_absence_copies'\n",
    "ks = [400]\n",
    "th_simulations = [0.05, 0.1, 0.2, 0.4]\n",
    "replicates = [0, 1, 2, 3, 4, 5, 6, 7, 8, 9]\n",
    "ps = [0]\n",
    "version = 2"
   ]
  },
  {
   "cell_type": "code",
   "execution_count": 8,
   "id": "b5c6f0aa-f081-455b-b682-8ae206561de6",
   "metadata": {},
   "outputs": [],
   "source": [
    "trees = {}\n",
    "metadata = {}\n",
    "for th_simul in th_simulations:\n",
    "    trees[th_simul] = {}\n",
    "    metadata[th_simul] = {}\n",
    "    for rep in replicates:\n",
    "        dataPathIn = f'./input_data/inferred_trees/kegg/comp_th_{th_simul}/replicate_{rep}/{matrix}' \n",
    "        trees[th_simul][rep] = {}\n",
    "        metadata[th_simul][rep] = {}\n",
    "        for k in ks:\n",
    "            for p in ps:\n",
    "                metadata[th_simul][rep][p] = pd.read_table(f'{dataPathIn}/metadata_k_{k}_p_{p}_astral-pro{version}.tsv', index_col = 0)\n",
    "                trees[th_simul][rep][p] = TreeNode.read(f'{dataPathIn}/nid_k_{k}_p_{p}_astral-pro{version}.nwk')"
   ]
  },
  {
   "cell_type": "code",
   "execution_count": 9,
   "id": "09f6633a-5f9d-4fd1-bbbf-7f471b67a1c1",
   "metadata": {},
   "outputs": [],
   "source": [
    "trees_complete = {}\n",
    "metadata_complete = {}\n",
    "ks = [400]\n",
    "p = 0\n",
    "matrix = 'presence_absence_copies'\n",
    "for k in ks:\n",
    "    combination = f'k_{k}_p_{p}/{matrix}' \n",
    "    dataPathIn = f'../quality_inferred_trees/input_data/emp/kegg/bit_score_threshold_1.0/no_min_marker_genes_per_genome/{combination}'\n",
    "    metadata_complete[k] = pd.read_table(f'{dataPathIn}/metadata_astral-pro2.tsv', index_col = 0)\n",
    "    trees_complete[k] = TreeNode.read(f'{dataPathIn}/nid_astral-pro2.nwk')"
   ]
  },
  {
   "cell_type": "markdown",
   "id": "7771a6bc-7945-4098-a1d5-b3dd977430a0",
   "metadata": {},
   "source": [
    "## Phylophlan"
   ]
  },
  {
   "cell_type": "code",
   "execution_count": 10,
   "id": "dcb8936d-6b45-428e-a59c-55e5fa4db139",
   "metadata": {},
   "outputs": [],
   "source": [
    "th_simulations = [0.05, 0.1, 0.2, 0.4]\n",
    "replicates = [0, 1, 2, 3, 4, 5, 6, 7, 8, 9]\n",
    "version = 2"
   ]
  },
  {
   "cell_type": "code",
   "execution_count": 11,
   "id": "550f56b2-d676-410c-a99e-cb08e9a643df",
   "metadata": {},
   "outputs": [],
   "source": [
    "trees_phylophlan = {}\n",
    "metadata_phylophlan = {}\n",
    "for th_simul in th_simulations:\n",
    "    trees_phylophlan[th_simul] = {}\n",
    "    metadata_phylophlan[th_simul] = {}\n",
    "    for rep in replicates:\n",
    "        dataPathIn = f'./input_data/inferred_trees/phylophlan/comp_th_{th_simul}/replicate_{rep}'\n",
    "        metadata_phylophlan[th_simul][rep] = pd.read_table(f'{dataPathIn}/metadata_astral-pro{version}.tsv', index_col = 0)\n",
    "        trees_phylophlan[th_simul][rep] = TreeNode.read(f'{dataPathIn}/nid_astral-pro{version}.nwk')"
   ]
  },
  {
   "cell_type": "code",
   "execution_count": 12,
   "id": "048aae99-7dc6-4dac-a676-090109f68fae",
   "metadata": {},
   "outputs": [],
   "source": [
    "dataPathIn = f'../quality_inferred_trees/input_data/emp/phylophlan/emp_min_marker_genes_per_genome_1'\n",
    "phylophlan_tree_complete = TreeNode.read(f'{dataPathIn}/nid_astral-pro{version}.nwk')\n",
    "phylophlan_df_complete = pd.read_table(f'{dataPathIn}/metadata_astral-pro{version}.tsv', index_col = 0)"
   ]
  },
  {
   "cell_type": "markdown",
   "id": "0aa3f561-43a1-4e8f-be28-8f4eedce30f5",
   "metadata": {},
   "source": [
    "# Figures"
   ]
  },
  {
   "cell_type": "code",
   "execution_count": 13,
   "id": "2dff0be9-63af-40b8-85bb-1d959c43b0ca",
   "metadata": {},
   "outputs": [],
   "source": [
    "ps = [0]\n",
    "th_simulations = [0.05, 0.1, 0.2, 0.4]\n",
    "data = {}\n",
    "for p in ps:\n",
    "    data[p] = {}\n",
    "    for th_simul in th_simulations:\n",
    "        tmp = []\n",
    "        for rep in replicates:\n",
    "            datum = metadata[th_simul][rep][p]['pp1'].values\n",
    "            tmp.append(np.sum(datum >= 0.95) / len(datum))\n",
    "        data[p][th_simul] = np.array(tmp)"
   ]
  },
  {
   "cell_type": "code",
   "execution_count": 14,
   "id": "93cdd057-c77d-4236-87f8-ef6537f10ce3",
   "metadata": {},
   "outputs": [],
   "source": [
    "th_simulations = [0.05, 0.1, 0.2, 0.4]\n",
    "data_phylophlan = {}\n",
    "for th_simul in th_simulations:\n",
    "    tmp = []\n",
    "    for rep in replicates:\n",
    "        datum = metadata_phylophlan[th_simul][rep]['pp1'].values\n",
    "        tmp.append(np.sum(datum >= 0.95) / len(datum))\n",
    "    data_phylophlan[th_simul] = np.array(tmp)"
   ]
  },
  {
   "cell_type": "markdown",
   "id": "97a08638-f03b-4d43-954f-43faddbc856b",
   "metadata": {},
   "source": [
    "Mann-Whitney tests"
   ]
  },
  {
   "cell_type": "code",
   "execution_count": 15,
   "id": "265f3a73-439c-4876-b5e9-12f6def890cf",
   "metadata": {},
   "outputs": [],
   "source": [
    "th_simulations = [0.05, 0.1, 0.2, 0.4]\n",
    "p = 0\n",
    "results = []\n",
    "for th in th_simulations:\n",
    "    stat, p_value = mannwhitneyu(data[p][th], data_phylophlan[th])\n",
    "    results.append([th, stat, p_value])"
   ]
  },
  {
   "cell_type": "code",
   "execution_count": 16,
   "id": "cfa9ea5d-47f9-4e17-babc-4cb52b84101c",
   "metadata": {},
   "outputs": [],
   "source": [
    "df_stats_lpp = pd.DataFrame(results, columns = ['incompleteness_threshold', 'statistic', 'p-value'])\n",
    "df_stats_lpp.set_index('incompleteness_threshold', inplace = True)"
   ]
  },
  {
   "cell_type": "markdown",
   "id": "ebf25921-86ea-428b-a0f7-864b12c6fda5",
   "metadata": {},
   "source": [
    "Benjamini-Hochberg correction for multiple testing"
   ]
  },
  {
   "cell_type": "code",
   "execution_count": 17,
   "id": "18f6dd40-ac47-4c00-893e-496e67f36c73",
   "metadata": {},
   "outputs": [],
   "source": [
    "df_stats_lpp['q-value'] = false_discovery_control(df_stats_lpp['p-value'].values)"
   ]
  },
  {
   "cell_type": "code",
   "execution_count": 18,
   "id": "7218a8bb-48d5-4946-8a47-941bb1b596d6",
   "metadata": {},
   "outputs": [
    {
     "data": {
      "text/html": [
       "<div>\n",
       "<style scoped>\n",
       "    .dataframe tbody tr th:only-of-type {\n",
       "        vertical-align: middle;\n",
       "    }\n",
       "\n",
       "    .dataframe tbody tr th {\n",
       "        vertical-align: top;\n",
       "    }\n",
       "\n",
       "    .dataframe thead th {\n",
       "        text-align: right;\n",
       "    }\n",
       "</style>\n",
       "<table border=\"1\" class=\"dataframe\">\n",
       "  <thead>\n",
       "    <tr style=\"text-align: right;\">\n",
       "      <th></th>\n",
       "      <th>statistic</th>\n",
       "      <th>p-value</th>\n",
       "      <th>q-value</th>\n",
       "    </tr>\n",
       "    <tr>\n",
       "      <th>incompleteness_threshold</th>\n",
       "      <th></th>\n",
       "      <th></th>\n",
       "      <th></th>\n",
       "    </tr>\n",
       "  </thead>\n",
       "  <tbody>\n",
       "    <tr>\n",
       "      <th>0.05</th>\n",
       "      <td>100.0</td>\n",
       "      <td>0.000179</td>\n",
       "      <td>0.000181</td>\n",
       "    </tr>\n",
       "    <tr>\n",
       "      <th>0.10</th>\n",
       "      <td>100.0</td>\n",
       "      <td>0.000181</td>\n",
       "      <td>0.000181</td>\n",
       "    </tr>\n",
       "    <tr>\n",
       "      <th>0.20</th>\n",
       "      <td>100.0</td>\n",
       "      <td>0.000181</td>\n",
       "      <td>0.000181</td>\n",
       "    </tr>\n",
       "    <tr>\n",
       "      <th>0.40</th>\n",
       "      <td>100.0</td>\n",
       "      <td>0.000179</td>\n",
       "      <td>0.000181</td>\n",
       "    </tr>\n",
       "  </tbody>\n",
       "</table>\n",
       "</div>"
      ],
      "text/plain": [
       "                          statistic   p-value   q-value\n",
       "incompleteness_threshold                               \n",
       "0.05                          100.0  0.000179  0.000181\n",
       "0.10                          100.0  0.000181  0.000181\n",
       "0.20                          100.0  0.000181  0.000181\n",
       "0.40                          100.0  0.000179  0.000181"
      ]
     },
     "execution_count": 18,
     "metadata": {},
     "output_type": "execute_result"
    }
   ],
   "source": [
    "df_stats_lpp"
   ]
  },
  {
   "cell_type": "code",
   "execution_count": 19,
   "id": "1ff64028-4200-42cd-8097-aded27f540a8",
   "metadata": {},
   "outputs": [],
   "source": [
    "def sig_sign(p_value):\n",
    "    if p_value > 0.05:\n",
    "        return 'ns'\n",
    "    elif p_value > 0.01:\n",
    "        return '*'\n",
    "    elif p_value > 0.001:\n",
    "        return '**'\n",
    "    elif p_value > 0.0001:\n",
    "        return '***'\n",
    "    else:\n",
    "        return '****'"
   ]
  },
  {
   "cell_type": "code",
   "execution_count": 20,
   "id": "45ad75ca-cf5d-4465-9556-5e0aa7015eaf",
   "metadata": {},
   "outputs": [
    {
     "data": {
      "image/png": "[encoded data removed]",
      "text/plain": [
       "<Figure size 460x300 with 1 Axes>"
      ]
     },
     "metadata": {},
     "output_type": "display_data"
    }
   ],
   "source": [
    "plt.figure(figsize=(4.6, 3))\n",
    "\n",
    "# X locations for bars\n",
    "p = 0\n",
    "x = np.array([0, 1, 2, 3])  \n",
    "width = 0.35  # Width of the bars\n",
    "rng = np.random.default_rng(42)\n",
    "\n",
    "# Means and standard deviations\n",
    "means_data = [data[p][0.05].mean(), data[p][0.1].mean(), data[p][0.2].mean(), data[p][0.4].mean()]\n",
    "stds_data = [data[p][0.05].std(), data[p][0.1].std(), data[p][0.2].std(), data[p][0.4].std()]\n",
    "\n",
    "means_phylophlan = [data_phylophlan[0.05].mean(), data_phylophlan[0.1].mean(), \n",
    "                     data_phylophlan[0.2].mean(), data_phylophlan[0.4].mean()]\n",
    "stds_phylophlan = [data_phylophlan[0.05].std(), data_phylophlan[0.1].std(),\n",
    "                    data_phylophlan[0.2].std(), data_phylophlan[0.4].std()]\n",
    "\n",
    "# Plot bars\n",
    "plt.bar(x - width/2, means_data, width, yerr = stds_data, capsize = 3,\n",
    "        edgecolor = '#f467a1', alpha = 1.0, color = 'none', lw = 3)\n",
    "plt.bar(x + width/2, means_phylophlan, width, yerr = stds_phylophlan, capsize = 3,\n",
    "        edgecolor = '#b5c99a', alpha = 1.0, color = 'none', lw = 3)\n",
    "# Add individual data points as scatter overlaid on top of bars\n",
    "for i in range(len(x)):\n",
    "        plt.scatter(np.full(len(data[p][th_simulations[i]]), x[i] - width/2 + rng.normal(0, 0.05, \n",
    "                len(data[p][th_simulations[i]]))), data[p][th_simulations[i]],\n",
    "                color = '#f467a1', alpha = 0.6, s = 20, edgecolor = 'none')\n",
    "        plt.scatter(np.full(len(data_phylophlan[th_simulations[i]]), x[i] + width/2 + rng.normal(0, 0.05, \n",
    "                len(data_phylophlan[th_simulations[i]]))), data_phylophlan[th_simulations[i]], \n",
    "                color = '#b5c99a', alpha = 0.6, s = 20, edgecolor = 'none')\n",
    "\n",
    "# Add annotations\n",
    "for i in range(len(x)):\n",
    "        plt.text(x[i] - width/2, means_data[i] + 0.02, \n",
    "                 f'{means_data[i]:.2f}', \n",
    "                 ha = 'center', fontsize = 10)\n",
    "        plt.text(x[i] + width/2, means_phylophlan[i] + 0.02, \n",
    "                 f'{means_phylophlan[i]:.2f}', \n",
    "                 ha = 'center', fontsize = 10)\n",
    "\n",
    "# Add q-values\n",
    "for i in range(len(x)):\n",
    "    plt.text(x[i], max(means_data[i], means_phylophlan[i]) + 0.05,\n",
    "             f'{sig_sign(df_stats_lpp.loc[th_simulations[i]][\"q-value\"])}', \n",
    "             ha = 'center', fontsize = 12, color = 'black')\n",
    "\n",
    "# X-axis labels and formatting\n",
    "plt.xticks(x, labels = [0.05, 0.1, 0.2, 0.4])\n",
    "plt.ylabel('Proportion of\\nconfident branches')\n",
    "plt.xlabel('Incompleteness threshold')\n",
    "plt.tick_params(top=True, right=True, direction='in', which='both')\n",
    "plt.ylim(0, 0.75)\n",
    "\n",
    "# Save and show\n",
    "plt.savefig('./figures/lpp_completeness_barplot.svg')\n",
    "plt.show()"
   ]
  },
  {
   "cell_type": "markdown",
   "id": "6cd41606-7b0e-42a9-bfa1-fd9bc57960f5",
   "metadata": {},
   "source": [
    "### Robinson-Foulds distance --DendroPy"
   ]
  },
  {
   "cell_type": "code",
   "execution_count": 34,
   "id": "2d26ef8b-e040-4018-9a73-cc3cbbdd08f2",
   "metadata": {},
   "outputs": [],
   "source": [
    "def shared_taxa(tree1, tree2):\n",
    "    taxa1 = {node.taxon.label for node in tree1.leaf_node_iter()}\n",
    "    taxa2 = {node.taxon.label for node in tree2.leaf_node_iter()}\n",
    "    return list(taxa1.intersection(taxa2)), taxa1, taxa2"
   ]
  },
  {
   "cell_type": "code",
   "execution_count": 35,
   "id": "01c19e5e-2faf-4626-9a11-bdaebfa2a910",
   "metadata": {},
   "outputs": [],
   "source": [
    "def RF_distance(treeA, treeB, norm = True, **kwargs):\n",
    "    \n",
    "    treeA_copy, treeB_copy = dendropy.Tree(treeA), dendropy.Tree(treeB)\n",
    "    \n",
    "    # Prune trees such that they contain the same taxa, otherwise RF is much larger\n",
    "    taxa_to_keep, taxa1, taxa2 = shared_taxa(treeA_copy, treeB_copy)\n",
    "    if len(taxa_to_keep) < len(taxa1) or len(taxa_to_keep) < len(taxa2):\n",
    "        treeA_copy.retain_taxa_with_labels(taxa_to_keep)\n",
    "        treeB_copy.retain_taxa_with_labels(taxa_to_keep)\n",
    "        \n",
    "    # Update bipartition\n",
    "    treeA_copy.update_bipartitions()\n",
    "    treeB_copy.update_bipartitions()\n",
    "    \n",
    "    # Assuming trees share the same taxon name space\n",
    "    rf = unweighted_robinson_foulds_distance(treeA_copy, treeB_copy)\n",
    "    if norm:\n",
    "        # Normalize by the maximal possible distance: which is the sum of internal branches\n",
    "        # between both trees. Alternatively, if both trees are unrooted and binary, the sum\n",
    "        # is always 2n - 6, where n is the number of tips in the tree.\n",
    "        max_dist = 2 * len(taxa_to_keep) - 6\n",
    "        # Number of internal branches\n",
    "        # n, m = num_internal_branches(treeA_copy), num_internal_branches(treeB_copy)\n",
    "        if len(taxa_to_keep) > 3:\n",
    "            rf = rf / max_dist\n",
    "        else:\n",
    "            rf = 0.0\n",
    "\n",
    "    # Ratio between species in inferred to actual species tree\n",
    "    ratio_sps = len(taxa2) / len(taxa1)\n",
    "    # print(f'Ratios of sps: {ratio_sps}')\n",
    "    \n",
    "    return rf"
   ]
  },
  {
   "cell_type": "code",
   "execution_count": 36,
   "id": "5a882b0f-c65c-4cb0-a4d3-8e63c08fd2c6",
   "metadata": {},
   "outputs": [],
   "source": [
    "taxon_namespace = dendropy.TaxonNamespace()"
   ]
  },
  {
   "cell_type": "markdown",
   "id": "c6e80c1d-1ee2-4ae4-ae5e-f8dee3189d51",
   "metadata": {},
   "source": [
    "Marker genes selected with our approach"
   ]
  },
  {
   "cell_type": "code",
   "execution_count": 37,
   "id": "81c5cb2a-1f23-4ea3-8464-f22a09418754",
   "metadata": {},
   "outputs": [],
   "source": [
    "matrix = 'presence_absence_copies'\n",
    "ks = [400]\n",
    "th_simulations = [0.05, 0.1, 0.2, 0.4]\n",
    "replicates = [0, 1, 2, 3, 4, 5, 6, 7, 8, 9]\n",
    "ps = [-10, -5, -2, -1, 0]\n",
    "version = 2"
   ]
  },
  {
   "cell_type": "code",
   "execution_count": 38,
   "id": "f01115de-b225-40cb-8b83-99885ee4f674",
   "metadata": {},
   "outputs": [],
   "source": [
    "trees_dendro = {}\n",
    "for th_simul in th_simulations:\n",
    "    trees_dendro[th_simul] = {}\n",
    "    for rep in replicates:\n",
    "        dataPathIn = f'./input_data/inferred_trees/kegg/comp_th_{th_simul}/replicate_{rep}/{matrix}' \n",
    "        trees_dendro[th_simul][rep] = {}\n",
    "        for k in ks:\n",
    "            for p in ps:\n",
    "                trees_dendro[th_simul][rep][p] = dendropy.Tree.get(path = f'{dataPathIn}/nid_k_{k}_p_{p}_astral-pro{version}.nwk',\n",
    "                                schema = 'newick', taxon_namespace = taxon_namespace)"
   ]
  },
  {
   "cell_type": "code",
   "execution_count": 39,
   "id": "d9a6a2fe-4ef5-41cd-b63b-fad5b5d18d54",
   "metadata": {},
   "outputs": [],
   "source": [
    "trees_complete_dendro = {}\n",
    "ks = [400, 600, 800, 1000]\n",
    "p = 0\n",
    "matrix = 'presence_absence_copies'\n",
    "for k in ks:\n",
    "    combination = f'k_{k}_p_{p}/{matrix}'\n",
    "    dataPathIn = f'../quality_inferred_trees/input_data/emp/kegg/bit_score_threshold_1.0/no_min_marker_genes_per_genome/{combination}'\n",
    "    trees_complete_dendro[k] = dendropy.Tree.get(path = f'{dataPathIn}/nid_astral-pro2.nwk',\n",
    "                                schema = 'newick', taxon_namespace = taxon_namespace)"
   ]
  },
  {
   "cell_type": "markdown",
   "id": "33d55d36-88e0-46aa-8b2e-41be1b67b6f1",
   "metadata": {},
   "source": [
    "Phylophlan"
   ]
  },
  {
   "cell_type": "code",
   "execution_count": 40,
   "id": "412e7bc4-87ce-4e0b-9b36-81c43b0f38b5",
   "metadata": {},
   "outputs": [],
   "source": [
    "th_simulations = [0.05, 0.1, 0.2, 0.4]\n",
    "replicates = [0, 1, 2, 3, 4, 5, 6, 7, 8, 9]\n",
    "version = 2"
   ]
  },
  {
   "cell_type": "code",
   "execution_count": 41,
   "id": "3fa0ff82-f629-414b-9146-ec2ff3ea2949",
   "metadata": {},
   "outputs": [],
   "source": [
    "trees_phylophlan_dendro = {}\n",
    "for th_simul in th_simulations:\n",
    "    trees_phylophlan_dendro[th_simul] = {}\n",
    "    for rep in replicates:\n",
    "        dataPathIn = f'./input_data/inferred_trees/phylophlan/comp_th_{th_simul}/replicate_{rep}'\n",
    "        trees_phylophlan_dendro[th_simul][rep] = dendropy.Tree.get(path = f'{dataPathIn}/nid_astral-pro{version}.nwk',\n",
    "                                schema = 'newick', taxon_namespace = taxon_namespace)"
   ]
  },
  {
   "cell_type": "code",
   "execution_count": 42,
   "id": "599a6822-947a-4761-8715-cd48a169cc61",
   "metadata": {},
   "outputs": [],
   "source": [
    "dataPathIn = f'../quality_inferred_trees/input_data/emp/phylophlan/emp_min_marker_genes_per_genome_1'\n",
    "phylophlan_tree_complete_dendro = dendropy.Tree.get(path = f'{dataPathIn}/nid_astral-pro{version}.nwk',\n",
    "                                schema = 'newick', taxon_namespace = taxon_namespace)"
   ]
  },
  {
   "cell_type": "code",
   "execution_count": 43,
   "id": "d6f4feb2-d264-41eb-84f6-aa5100bce590",
   "metadata": {},
   "outputs": [],
   "source": [
    "ps = [0]\n",
    "th_simulations = [0.05, 0.1, 0.2, 0.4]\n",
    "data_dendro = {}\n",
    "for p in ps:\n",
    "    data_dendro[p] = {}\n",
    "    for th_simul in th_simulations:\n",
    "        tmp = []\n",
    "        for rep in replicates:\n",
    "            tmp.append(RF_distance(trees_dendro[th_simul][rep][p], trees_complete_dendro[400]))\n",
    "        data_dendro[p][th_simul] = np.array(tmp)"
   ]
  },
  {
   "cell_type": "code",
   "execution_count": 44,
   "id": "f6c517c2-d3a4-4509-92d0-d97f2f62e1d7",
   "metadata": {},
   "outputs": [],
   "source": [
    "th_simulations = [0.05, 0.1, 0.2, 0.4]\n",
    "data_phylophlan_dendro = {}\n",
    "for th_simul in th_simulations:\n",
    "    tmp = []\n",
    "    for rep in replicates:\n",
    "        tmp.append(RF_distance(trees_phylophlan_dendro[th_simul][rep], phylophlan_tree_complete_dendro))\n",
    "    data_phylophlan_dendro[th_simul] = np.array(tmp)"
   ]
  },
  {
   "cell_type": "markdown",
   "id": "2554aae9-2f73-4cf9-932c-386417e2ca47",
   "metadata": {},
   "source": [
    "Mann-Whitney tests"
   ]
  },
  {
   "cell_type": "code",
   "execution_count": 45,
   "id": "f4830f2c-0772-4e44-8788-4549e03312e7",
   "metadata": {},
   "outputs": [],
   "source": [
    "th_simulations = [0.05, 0.1, 0.2, 0.4]\n",
    "p = 0\n",
    "results = []\n",
    "for th in th_simulations:\n",
    "    stat, p_value = mannwhitneyu(data_dendro[p][th], data_phylophlan_dendro[th])\n",
    "    results.append([th, stat, p_value])"
   ]
  },
  {
   "cell_type": "code",
   "execution_count": 46,
   "id": "d6526928-f453-42bd-929d-638965bbd91c",
   "metadata": {},
   "outputs": [],
   "source": [
    "df_stats_rf = pd.DataFrame(results, columns = ['incompleteness_threshold', 'statistic', 'p-value'])\n",
    "df_stats_rf.set_index('incompleteness_threshold', inplace = True)"
   ]
  },
  {
   "cell_type": "markdown",
   "id": "b483fa91-2813-44ed-84a9-0cd574ebf21b",
   "metadata": {},
   "source": [
    "Benjamini-Hochberg correction for multiple testing"
   ]
  },
  {
   "cell_type": "code",
   "execution_count": 47,
   "id": "8ad56238-21cf-4dfc-a3bc-8a93266b3875",
   "metadata": {},
   "outputs": [],
   "source": [
    "df_stats_rf['q-value'] = false_discovery_control(df_stats_rf['p-value'].values)"
   ]
  },
  {
   "cell_type": "code",
   "execution_count": 48,
   "id": "2a311be5-d10b-49b3-8e21-1da5ddd649c0",
   "metadata": {},
   "outputs": [
    {
     "data": {
      "text/html": [
       "<div>\n",
       "<style scoped>\n",
       "    .dataframe tbody tr th:only-of-type {\n",
       "        vertical-align: middle;\n",
       "    }\n",
       "\n",
       "    .dataframe tbody tr th {\n",
       "        vertical-align: top;\n",
       "    }\n",
       "\n",
       "    .dataframe thead th {\n",
       "        text-align: right;\n",
       "    }\n",
       "</style>\n",
       "<table border=\"1\" class=\"dataframe\">\n",
       "  <thead>\n",
       "    <tr style=\"text-align: right;\">\n",
       "      <th></th>\n",
       "      <th>statistic</th>\n",
       "      <th>p-value</th>\n",
       "      <th>q-value</th>\n",
       "    </tr>\n",
       "    <tr>\n",
       "      <th>incompleteness_threshold</th>\n",
       "      <th></th>\n",
       "      <th></th>\n",
       "      <th></th>\n",
       "    </tr>\n",
       "  </thead>\n",
       "  <tbody>\n",
       "    <tr>\n",
       "      <th>0.05</th>\n",
       "      <td>24.0</td>\n",
       "      <td>0.053722</td>\n",
       "      <td>0.053722</td>\n",
       "    </tr>\n",
       "    <tr>\n",
       "      <th>0.10</th>\n",
       "      <td>11.0</td>\n",
       "      <td>0.003548</td>\n",
       "      <td>0.004730</td>\n",
       "    </tr>\n",
       "    <tr>\n",
       "      <th>0.20</th>\n",
       "      <td>0.0</td>\n",
       "      <td>0.000181</td>\n",
       "      <td>0.000363</td>\n",
       "    </tr>\n",
       "    <tr>\n",
       "      <th>0.40</th>\n",
       "      <td>0.0</td>\n",
       "      <td>0.000182</td>\n",
       "      <td>0.000363</td>\n",
       "    </tr>\n",
       "  </tbody>\n",
       "</table>\n",
       "</div>"
      ],
      "text/plain": [
       "                          statistic   p-value   q-value\n",
       "incompleteness_threshold                               \n",
       "0.05                           24.0  0.053722  0.053722\n",
       "0.10                           11.0  0.003548  0.004730\n",
       "0.20                            0.0  0.000181  0.000363\n",
       "0.40                            0.0  0.000182  0.000363"
      ]
     },
     "execution_count": 48,
     "metadata": {},
     "output_type": "execute_result"
    }
   ],
   "source": [
    "df_stats_rf"
   ]
  },
  {
   "cell_type": "code",
   "execution_count": 49,
   "id": "87ebd460-d35d-4632-8dde-8e31af2a8f2d",
   "metadata": {},
   "outputs": [
    {
     "data": {
      "image/png": "[encoded data removed]",
      "text/plain": [
       "<Figure size 445x300 with 1 Axes>"
      ]
     },
     "metadata": {},
     "output_type": "display_data"
    }
   ],
   "source": [
    "plt.figure(figsize=(4.45, 3))\n",
    "\n",
    "# X locations for bars\n",
    "p = 0\n",
    "x = np.array([0, 1, 2, 3])  \n",
    "width = 0.35  # Width of the bars\n",
    "rng = np.random.default_rng(42)\n",
    "\n",
    "# Means and standard deviations\n",
    "means_data = [data_dendro[p][0.05].mean(), data_dendro[p][0.1].mean(), data_dendro[p][0.2].mean(), data_dendro[p][0.4].mean()]\n",
    "stds_data = [data_dendro[p][0.05].std(), data_dendro[p][0.1].std(), data_dendro[p][0.2].std(), data_dendro[p][0.4].std()]\n",
    "\n",
    "means_phylophlan = [data_phylophlan_dendro[0.05].mean(), data_phylophlan_dendro[0.1].mean(), \n",
    "                     data_phylophlan_dendro[0.2].mean(), data_phylophlan_dendro[0.4].mean()]\n",
    "stds_phylophlan = [data_phylophlan_dendro[0.05].std(), data_phylophlan_dendro[0.1].std(),\n",
    "                    data_phylophlan_dendro[0.2].std(), data_phylophlan_dendro[0.4].std()]\n",
    "\n",
    "# Plot bars\n",
    "plt.bar(x - width/2, means_data, width, yerr = stds_data, capsize = 3,\n",
    "        edgecolor = '#f467a1', alpha = 1.0, color = 'none', lw = 3)\n",
    "plt.bar(x + width/2, means_phylophlan, width, yerr = stds_phylophlan, capsize = 3,\n",
    "        edgecolor = '#b5c99a', alpha = 1.0, color = 'none', lw = 3)\n",
    "# Add individual data points as scatter overlaid on top of bars\n",
    "for i in range(len(x)):\n",
    "        plt.scatter(np.full(len(data_dendro[p][th_simulations[i]]), x[i] - width/2 + rng.normal(0, 0.05, \n",
    "                len(data_dendro[p][th_simulations[i]]))), data_dendro[p][th_simulations[i]],\n",
    "                color = '#f467a1', alpha = 0.6, s = 20, edgecolor = 'none')\n",
    "        plt.scatter(np.full(len(data_phylophlan_dendro[th_simulations[i]]), x[i] + width/2 + rng.normal(0, 0.05, \n",
    "                len(data_phylophlan_dendro[th_simulations[i]]))), data_phylophlan_dendro[th_simulations[i]], \n",
    "                color = '#b5c99a', alpha = 0.6, s = 20, edgecolor = 'none')\n",
    "\n",
    "\n",
    "# Add annotations\n",
    "for i in range(len(x)):\n",
    "        plt.text(x[i] - width/2, means_data[i] + 0.035, \n",
    "                 f'{means_data[i]:.2f}', \n",
    "                 ha = 'center', fontsize = 10)\n",
    "        plt.text(x[i] + width/2, means_phylophlan[i] + 0.035, \n",
    "                 f'{means_phylophlan[i]:.2f}', \n",
    "                 ha = 'center', fontsize = 10)\n",
    "\n",
    "# Add q-values\n",
    "for i in range(len(x)):\n",
    "    plt.text(x[i], max(means_data[i], means_phylophlan[i]) + 0.07,\n",
    "             f'{sig_sign(df_stats_rf.loc[th_simulations[i]][\"q-value\"])}', \n",
    "             ha = 'center', va = 'center', fontsize = 12, color = 'black')\n",
    "\n",
    "# X-axis labels and formatting\n",
    "plt.xticks([0, 1, 2, 3], labels = [0.05, 0.1, 0.2, 0.4])\n",
    "plt.ylabel('nRF distance')\n",
    "plt.xlabel('Incompleteness threshold')\n",
    "plt.tick_params(top = True, right = True, direction = 'in', which = 'both')\n",
    "plt.ylim(0, 0.47)\n",
    "\n",
    "# Save and show\n",
    "plt.savefig(f'./figures/figure_4C.svg')\n",
    "plt.show()"
   ]
  },
  {
   "cell_type": "code",
   "execution_count": null,
   "id": "ef5786b3-d08d-4774-adf0-3ba8c3096859",
   "metadata": {},
   "outputs": [],
   "source": []
  },
  {
   "cell_type": "code",
   "execution_count": null,
   "id": "58c178a5-db71-4500-89f3-761b96a5f357",
   "metadata": {},
   "outputs": [],
   "source": []
  },
  {
   "cell_type": "code",
   "execution_count": null,
   "id": "1785d17a-58f0-4c29-992a-3ee75c21a985",
   "metadata": {},
   "outputs": [],
   "source": []
  }
 ],
 "metadata": {
  "kernelspec": {
   "display_name": "Python 3 (ipykernel)",
   "language": "python",
   "name": "python3"
  },
  "language_info": {
   "codemirror_mode": {
    "name": "ipython",
    "version": 3
   },
   "file_extension": ".py",
   "mimetype": "text/x-python",
   "name": "python",
   "nbconvert_exporter": "python",
   "pygments_lexer": "ipython3",
   "version": "3.10.13"
  }
 },
 "nbformat": 4,
 "nbformat_minor": 5
}
