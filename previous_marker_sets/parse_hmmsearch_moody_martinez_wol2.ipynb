{
 "cells": [
  {
   "cell_type": "markdown",
   "id": "3e72c804-8f59-44dd-80f3-c5cd1a0eb742",
   "metadata": {},
   "source": [
    "# Parse output of `hmmsearch` with single-copy genes on genomes from WoL v2"
   ]
  },
  {
   "cell_type": "code",
   "execution_count": 1,
   "id": "1c04608e-9689-49ba-b954-4b1a62c99b16",
   "metadata": {},
   "outputs": [],
   "source": [
    "import numpy as np\n",
    "import pandas as pd\n",
    "import matplotlib.pyplot as plt"
   ]
  },
  {
   "cell_type": "code",
   "execution_count": null,
   "id": "deb8b97c-7d6f-41fd-859f-b27dc1a9d6bb",
   "metadata": {},
   "outputs": [],
   "source": [
    "plt.rcParams.update({\n",
    "    'figure.autolayout': True,\n",
    "    'savefig.bbox': 'tight',\n",
    "    'svg.fonttype': 'none',\n",
    "    'font.sans-serif': 'Arial',\n",
    "    'font.size': 12,\n",
    "    'boxplot.medianprops.linewidth': 2,\n",
    "    'boxplot.flierprops.markeredgecolor': 'none',\n",
    "    'boxplot.flierprops.markersize': 5})"
   ]
  },
  {
   "cell_type": "markdown",
   "id": "f5e121cb-ec2d-4495-97de-4b03d01bb47d",
   "metadata": {},
   "source": [
    "## Moody 2024"
   ]
  },
  {
   "cell_type": "markdown",
   "id": "9d2b88b1-664e-486d-824d-b1ab1430fc0b",
   "metadata": {},
   "source": [
    "Load genomes from WoL v2"
   ]
  },
  {
   "cell_type": "code",
   "execution_count": 2,
   "id": "47379a57-99a1-463f-a94c-a9f73909ffea",
   "metadata": {},
   "outputs": [
    {
     "data": {
      "text/plain": [
       "(1510,)"
      ]
     },
     "execution_count": 2,
     "metadata": {},
     "output_type": "execute_result"
    }
   ],
   "source": [
    "genomes = np.loadtxt(f'../markers_selection/output_data/genomes_sampled_family_10.txt', dtype = str)\n",
    "genomes.shape"
   ]
  },
  {
   "cell_type": "markdown",
   "id": "8e3b0732-fb36-4c9e-ae2a-8e404dea3d8d",
   "metadata": {},
   "source": [
    "Load output from hmmsearch"
   ]
  },
  {
   "cell_type": "code",
   "execution_count": 3,
   "id": "f329966d-fe85-465a-8c8b-c7db469957ee",
   "metadata": {},
   "outputs": [],
   "source": [
    "df = pd.read_table(f'./moody_2024/wol2/hits/moody_scg_hits_wol2.txt', sep = '\\s+', comment = '#',\n",
    "                  header = None, \n",
    "                names = ['target', 'acession_1', 'query', 'acession_2', 'e-value_full', 'score_full', 'bias_full',\n",
    "                        'e-value_domain', 'score_domain', 'bias_domain',\n",
    "                        'exp', 'reg', 'clu', 'ov', 'env', 'dom', 'rep', 'inc', 'description'])\n",
    "df.set_index('target', inplace = True)"
   ]
  },
  {
   "cell_type": "code",
   "execution_count": 4,
   "id": "3d996168-1c6a-4326-ac4b-b22b977b23a9",
   "metadata": {},
   "outputs": [
    {
     "data": {
      "text/plain": [
       "(122926, 18)"
      ]
     },
     "execution_count": 4,
     "metadata": {},
     "output_type": "execute_result"
    }
   ],
   "source": [
    "df.shape"
   ]
  },
  {
   "cell_type": "markdown",
   "id": "7fbfa3ff-9ad9-4a5a-9037-6724cda61e9d",
   "metadata": {},
   "source": [
    "Filter ORFs (`target`) not in selected 1,510 genomes from WoL v2."
   ]
  },
  {
   "cell_type": "code",
   "execution_count": 5,
   "id": "c575bc5f-cdba-4867-9fb6-a1c4d7f7af5b",
   "metadata": {},
   "outputs": [],
   "source": [
    "df['genome'] = df.index.map(lambda x: x.split('_')[0])"
   ]
  },
  {
   "cell_type": "code",
   "execution_count": 6,
   "id": "6bbedd23-ccc8-4416-b328-bf58921066cc",
   "metadata": {},
   "outputs": [],
   "source": [
    "df['wol2'] = df['genome'].map(lambda x: 'yes' if x in genomes else 'no')"
   ]
  },
  {
   "cell_type": "code",
   "execution_count": 7,
   "id": "3b3d7430-a672-43d5-9bad-d1a62b0bb558",
   "metadata": {},
   "outputs": [],
   "source": [
    "df = df[df['wol2'] == 'yes']"
   ]
  },
  {
   "cell_type": "code",
   "execution_count": 8,
   "id": "d898e460-0a62-4cc9-bdc3-e3ca40abe80d",
   "metadata": {},
   "outputs": [
    {
     "data": {
      "text/plain": [
       "(122926, 20)"
      ]
     },
     "execution_count": 8,
     "metadata": {},
     "output_type": "execute_result"
    }
   ],
   "source": [
    "df.shape"
   ]
  },
  {
   "cell_type": "markdown",
   "id": "a71af91a-fb24-420f-a913-aab4763f13d1",
   "metadata": {},
   "source": [
    "Load suggested bit score values for each SCG --Only for Maartinez-Gutierrez marker gene set"
   ]
  },
  {
   "cell_type": "code",
   "execution_count": 9,
   "id": "0936e4e3-1bad-43be-9139-7bfc9d32fcc2",
   "metadata": {},
   "outputs": [],
   "source": [
    "# score_dict = {\"COG0012\":float(210), \"COG0016\":float(240), \"COG0018\":float(340), \"COG0048\":float(100), \"COG0049\":float(120), \"COG0052\":float(140), \"COG0080\":float(90), \"COG0081\":float(130), \"COG0085\":float(200), \"COG0086\":float(200), \"COG0087\":float(120), \"COG0088\":float(110), \"COG0090\":float(180), \"COG0091\":float(80), \"COG0092\":float(120), \"COG0093\":float(80), \"COG0094\":float(110), \"COG0096\":float(80), \"COG0097\":float(100), \"COG0098\":float(140), \"COG0099\":float(120), \"COG0100\":float(80), \"COG0102\":float(100), \"COG0103\":float(80), \"COG0124\":float(320), \"COG0172\":float(170), \"COG0184\":float(60), \"COG0185\":float(70), \"COG0186\":float(80), \"COG0197\":float(70), \"COG0200\":float(60), \"COG0201\":float(210), \"COG0202\":float(80), \"COG0215\":float(400), \"COG0256\":float(70), \"COG0495\":float(450), \"COG0522\":float(80), \"COG0525\":float(740), \"COG0533\":float(300), \"COG0541\":float(450), \"COG0552\":float(220), \"COG0086\":float(300)}"
   ]
  },
  {
   "cell_type": "code",
   "execution_count": 10,
   "id": "3acb997e-12dd-4146-adc2-e9ae641f9728",
   "metadata": {},
   "outputs": [],
   "source": [
    "# df['significant'] = df.apply(lambda x: 'yes' if x['score_full'] >= score_dict[x['query']] else 'no', axis = 1)"
   ]
  },
  {
   "cell_type": "code",
   "execution_count": 11,
   "id": "df36c5ee-5444-4721-b0ac-3dee39e72522",
   "metadata": {},
   "outputs": [],
   "source": [
    "# df = df[df['significant'] == 'yes']"
   ]
  },
  {
   "cell_type": "code",
   "execution_count": 12,
   "id": "39b78eb6-e74f-4fab-873f-73a4833a0730",
   "metadata": {},
   "outputs": [],
   "source": [
    "# df.shape"
   ]
  },
  {
   "cell_type": "markdown",
   "id": "8da1e201-e821-4dc7-b0dc-13ebbd09e122",
   "metadata": {},
   "source": [
    "Statistics"
   ]
  },
  {
   "cell_type": "code",
   "execution_count": 9,
   "id": "7572d945-56d2-40d1-8417-d54647741d5a",
   "metadata": {},
   "outputs": [
    {
     "data": {
      "image/png": "[encoded data removed]",
      "text/plain": [
       "<Figure size 900x300 with 1 Axes>"
      ]
     },
     "metadata": {},
     "output_type": "display_data"
    }
   ],
   "source": [
    "plt.figure(figsize = (9, 3))\n",
    "datum = df['query'].value_counts()\n",
    "plt.bar(datum.index, datum)\n",
    "plt.xticks(rotation = 90)\n",
    "plt.axhline(y = len(genomes), color = 'r', ls = 'dashed')\n",
    "plt.ylabel('Number of hits')\n",
    "plt.show()"
   ]
  },
  {
   "cell_type": "markdown",
   "id": "ba3fb5dd-02f3-45c0-9d3d-b3ec65c27cd5",
   "metadata": {},
   "source": [
    "For each species and SCG take only the top/best hit"
   ]
  },
  {
   "cell_type": "code",
   "execution_count": 11,
   "id": "ee9e8108-a3e9-4f67-a690-0aa8974735dd",
   "metadata": {},
   "outputs": [
    {
     "name": "stdout",
     "output_type": "stream",
     "text": [
      "CPU times: user 5.99 s, sys: 48.1 ms, total: 6.04 s\n",
      "Wall time: 6.05 s\n"
     ]
    }
   ],
   "source": [
    "%%time\n",
    "orfs = {}\n",
    "genes = df['query'].unique()\n",
    "for scg in genes:\n",
    "    orfs[scg] = []\n",
    "    filtered_df = df[df['query'] == scg]\n",
    "    grouped = filtered_df.groupby('genome')\n",
    "    for genome, group in grouped:\n",
    "        if not group.empty:\n",
    "            top_idx = group.sort_values(by = 'score_full', ascending = False).index[0]\n",
    "            orfs[scg].append(top_idx)"
   ]
  },
  {
   "cell_type": "markdown",
   "id": "ef6f72b2-b917-4156-952e-1a52cf590a0a",
   "metadata": {},
   "source": [
    "Save ORFS"
   ]
  },
  {
   "cell_type": "code",
   "execution_count": 12,
   "id": "8fb306a6-7ee0-43a2-9c52-da93c86d1ebd",
   "metadata": {},
   "outputs": [
    {
     "data": {
      "text/plain": [
       "57"
      ]
     },
     "execution_count": 12,
     "metadata": {},
     "output_type": "execute_result"
    }
   ],
   "source": [
    "len(orfs)"
   ]
  },
  {
   "cell_type": "code",
   "execution_count": 13,
   "id": "51d2e1ee-8e15-4336-ad26-a0629d61f037",
   "metadata": {},
   "outputs": [],
   "source": [
    "for scg, ofs in orfs.items():\n",
    "    with open(f'./moody_2024/wol2/orfs/{scg}.txt', 'w') as f:\n",
    "        for of in ofs:\n",
    "            f.write(f'{of}\\n')"
   ]
  },
  {
   "cell_type": "markdown",
   "id": "510920be-c0e5-4ab9-bca3-cd62ca30e5b0",
   "metadata": {},
   "source": [
    "Calculate the number of marker genes per genome"
   ]
  },
  {
   "cell_type": "code",
   "execution_count": 14,
   "id": "fa6cad73-7edf-464c-97fb-72bd384ca329",
   "metadata": {},
   "outputs": [],
   "source": [
    "markers_per_genome = {}\n",
    "for scg, ofs in orfs.items():\n",
    "    for of in ofs:\n",
    "        genome = of.split('_')[0]\n",
    "        if genome not in markers_per_genome.keys():\n",
    "            markers_per_genome[genome] = 1\n",
    "        else:\n",
    "            markers_per_genome[genome] += 1"
   ]
  },
  {
   "cell_type": "markdown",
   "id": "8f511cce-4506-414d-864a-86aded2b3e5e",
   "metadata": {},
   "source": [
    "Exclude those genome with less than k * 0.25 marker genes"
   ]
  },
  {
   "cell_type": "code",
   "execution_count": 15,
   "id": "7cdeb537-0193-40df-8153-05be5afd01d5",
   "metadata": {},
   "outputs": [],
   "source": [
    "for genome, num_markers in markers_per_genome.items():\n",
    "    if num_markers < int(57 * 0.25):\n",
    "        print(genome)"
   ]
  },
  {
   "cell_type": "markdown",
   "id": "794c4f37-c626-44de-99fb-5fc37895a32d",
   "metadata": {},
   "source": [
    "No genomes to exclude"
   ]
  },
  {
   "cell_type": "markdown",
   "id": "a77518ae-b5d4-4878-901e-6ecafa4b324f",
   "metadata": {},
   "source": [
    "## Martinez-Gutierrez"
   ]
  },
  {
   "cell_type": "code",
   "execution_count": 16,
   "id": "453f5bf7-69c0-406a-a2d8-9633117488d5",
   "metadata": {},
   "outputs": [
    {
     "data": {
      "text/plain": [
       "(1510,)"
      ]
     },
     "execution_count": 16,
     "metadata": {},
     "output_type": "execute_result"
    }
   ],
   "source": [
    "genomes = np.loadtxt(f'../markers_selection/output_data/genomes_sampled_family_10.txt', dtype = str)\n",
    "genomes.shape"
   ]
  },
  {
   "cell_type": "markdown",
   "id": "e9c910c8-b6f4-4d16-a7eb-f16af6b79bd0",
   "metadata": {},
   "source": [
    "Load output from HMMsearch"
   ]
  },
  {
   "cell_type": "code",
   "execution_count": 17,
   "id": "d955ffd0-1102-4b88-afee-ed458462ac6b",
   "metadata": {},
   "outputs": [],
   "source": [
    "df = pd.read_table(f'./martinez_gutierrez/wol2/hits/41_scg_hits.txt', sep = '\\s+', comment = '#',\n",
    "                  header = None, \n",
    "                names = ['target', 'acession_1', 'query', 'acession_2', 'e-value_full', 'score_full', 'bias_full',\n",
    "                        'e-value_domain', 'score_domain', 'bias_domain',\n",
    "                        'exp', 'reg', 'clu', 'ov', 'env', 'dom', 'rep', 'inc', 'description'])\n",
    "df.set_index('target', inplace = True)"
   ]
  },
  {
   "cell_type": "code",
   "execution_count": 18,
   "id": "995bc3df-e2c5-4fd8-b5db-9a11adb4d3ba",
   "metadata": {},
   "outputs": [
    {
     "data": {
      "text/plain": [
       "(933283, 18)"
      ]
     },
     "execution_count": 18,
     "metadata": {},
     "output_type": "execute_result"
    }
   ],
   "source": [
    "df.shape"
   ]
  },
  {
   "cell_type": "markdown",
   "id": "8dfc20c0-3726-466e-bf34-49fe7e8cbdfc",
   "metadata": {},
   "source": [
    "Filter ORFs (`target`) not in genomes from WoL v2."
   ]
  },
  {
   "cell_type": "code",
   "execution_count": 19,
   "id": "9e336b5e-4c85-48f1-a06a-68652a9ac99b",
   "metadata": {},
   "outputs": [],
   "source": [
    "df['genome'] = df.index.map(lambda x: x.split('_')[0])"
   ]
  },
  {
   "cell_type": "code",
   "execution_count": 20,
   "id": "2830299e-2a9a-4d75-84ac-5cc0dbad5f91",
   "metadata": {},
   "outputs": [],
   "source": [
    "df['wol2'] = df['genome'].map(lambda x: 'yes' if x in genomes else 'no')"
   ]
  },
  {
   "cell_type": "code",
   "execution_count": 21,
   "id": "cc9500be-a781-4bce-9fc8-9ff267515e23",
   "metadata": {},
   "outputs": [],
   "source": [
    "df = df[df['wol2'] == 'yes']"
   ]
  },
  {
   "cell_type": "code",
   "execution_count": 22,
   "id": "50899ef7-d8aa-458d-b4ec-9b4d15a88e8d",
   "metadata": {},
   "outputs": [
    {
     "data": {
      "text/plain": [
       "(92581, 20)"
      ]
     },
     "execution_count": 22,
     "metadata": {},
     "output_type": "execute_result"
    }
   ],
   "source": [
    "df.shape"
   ]
  },
  {
   "cell_type": "markdown",
   "id": "b750f7cd-c89d-4ddc-b674-e7d79389fd09",
   "metadata": {},
   "source": [
    "Load suggested bit score values for each SCG"
   ]
  },
  {
   "cell_type": "code",
   "execution_count": 23,
   "id": "2150eb5d-d9e3-4ebf-b418-4ec672d403e5",
   "metadata": {},
   "outputs": [],
   "source": [
    "score_dict = {\"COG0012\":float(210), \"COG0016\":float(240), \"COG0018\":float(340), \"COG0048\":float(100), \"COG0049\":float(120), \"COG0052\":float(140), \"COG0080\":float(90), \"COG0081\":float(130), \"COG0085\":float(200), \"COG0086\":float(200), \"COG0087\":float(120), \"COG0088\":float(110), \"COG0090\":float(180), \"COG0091\":float(80), \"COG0092\":float(120), \"COG0093\":float(80), \"COG0094\":float(110), \"COG0096\":float(80), \"COG0097\":float(100), \"COG0098\":float(140), \"COG0099\":float(120), \"COG0100\":float(80), \"COG0102\":float(100), \"COG0103\":float(80), \"COG0124\":float(320), \"COG0172\":float(170), \"COG0184\":float(60), \"COG0185\":float(70), \"COG0186\":float(80), \"COG0197\":float(70), \"COG0200\":float(60), \"COG0201\":float(210), \"COG0202\":float(80), \"COG0215\":float(400), \"COG0256\":float(70), \"COG0495\":float(450), \"COG0522\":float(80), \"COG0525\":float(740), \"COG0533\":float(300), \"COG0541\":float(450), \"COG0552\":float(220), \"COG0086\":float(300)}"
   ]
  },
  {
   "cell_type": "markdown",
   "id": "4fa739a8-43b3-4f60-9b1f-7dab9c4add58",
   "metadata": {},
   "source": [
    "Statistics"
   ]
  },
  {
   "cell_type": "code",
   "execution_count": 24,
   "id": "37c6805d-9039-4f73-9973-25cc8dcea60a",
   "metadata": {},
   "outputs": [
    {
     "data": {
      "image/png": "[encoded data removed]",
      "text/plain": [
       "<Figure size 900x300 with 1 Axes>"
      ]
     },
     "metadata": {},
     "output_type": "display_data"
    }
   ],
   "source": [
    "plt.figure(figsize = (9, 3))\n",
    "datum = df['query'].value_counts()\n",
    "plt.bar(datum.index, datum)\n",
    "plt.xticks(rotation = 90)\n",
    "plt.axhline(y = len(genomes), color = 'r', ls = 'dashed')\n",
    "plt.ylabel('Number of hits')\n",
    "plt.show()"
   ]
  },
  {
   "cell_type": "markdown",
   "id": "d1bcde18-dc33-4ae1-83f8-527f06a4bf82",
   "metadata": {},
   "source": [
    "For each species and SCG take only the top/best hit"
   ]
  },
  {
   "cell_type": "code",
   "execution_count": 25,
   "id": "2b3b884b-868a-442d-ac25-e024c70e759f",
   "metadata": {},
   "outputs": [
    {
     "name": "stdout",
     "output_type": "stream",
     "text": [
      "CPU times: user 7.94 s, sys: 46.3 ms, total: 7.98 s\n",
      "Wall time: 7.99 s\n"
     ]
    }
   ],
   "source": [
    "%%time\n",
    "orfs = {}\n",
    "genes = df['query'].unique()\n",
    "for scg in genes:\n",
    "    orfs[scg] = []\n",
    "    filtered_df = df[df['query'] == scg]\n",
    "    grouped = filtered_df.groupby('genome')\n",
    "    for genome, group in grouped:\n",
    "        if not group.empty:\n",
    "            top_idx = group.sort_values(by = 'score_full', ascending = False).index[0]\n",
    "            orfs[scg].append(top_idx)"
   ]
  },
  {
   "cell_type": "code",
   "execution_count": 26,
   "id": "b734e1fc-d510-43cf-addc-793a1bc702b7",
   "metadata": {},
   "outputs": [
    {
     "data": {
      "text/plain": [
       "41"
      ]
     },
     "execution_count": 26,
     "metadata": {},
     "output_type": "execute_result"
    }
   ],
   "source": [
    "len(orfs)"
   ]
  },
  {
   "cell_type": "markdown",
   "id": "5d64bd39-83b8-4649-8404-fd73b0c8e207",
   "metadata": {},
   "source": [
    "Calculate the number of marker genes per genome"
   ]
  },
  {
   "cell_type": "code",
   "execution_count": 27,
   "id": "ffbc735a-069e-4e40-b35a-2cb257881f13",
   "metadata": {},
   "outputs": [],
   "source": [
    "markers_per_genome = {}\n",
    "for scg, ofs in orfs.items():\n",
    "    for of in ofs:\n",
    "        genome = of.split('_')[0]\n",
    "        if genome not in markers_per_genome.keys():\n",
    "            markers_per_genome[genome] = 1\n",
    "        else:\n",
    "            markers_per_genome[genome] += 1"
   ]
  },
  {
   "cell_type": "markdown",
   "id": "ea8759d0-e232-4477-b292-d63ec546dcb9",
   "metadata": {},
   "source": [
    "Exclude those genome with less than k * 0.25 marker genes"
   ]
  },
  {
   "cell_type": "code",
   "execution_count": 28,
   "id": "19f5e9d6-de45-4448-8577-c1b693655f95",
   "metadata": {},
   "outputs": [],
   "source": [
    "for genome, num_markers in markers_per_genome.items():\n",
    "    if num_markers < int(len(orfs) * 0.25):\n",
    "        print(genome)"
   ]
  },
  {
   "cell_type": "markdown",
   "id": "fa386d9f-72a0-4d26-a989-7f432c312079",
   "metadata": {},
   "source": [
    "No genomes to exclude"
   ]
  },
  {
   "cell_type": "code",
   "execution_count": null,
   "id": "72b661e3-cf75-44f1-bcd7-e731521684b6",
   "metadata": {},
   "outputs": [],
   "source": []
  }
 ],
 "metadata": {
  "kernelspec": {
   "display_name": "Python 3 (ipykernel)",
   "language": "python",
   "name": "python3"
  },
  "language_info": {
   "codemirror_mode": {
    "name": "ipython",
    "version": 3
   },
   "file_extension": ".py",
   "mimetype": "text/x-python",
   "name": "python",
   "nbconvert_exporter": "python",
   "pygments_lexer": "ipython3",
   "version": "3.10.13"
  }
 },
 "nbformat": 4,
 "nbformat_minor": 5
}
