{
 "cells": [
  {
   "cell_type": "markdown",
   "metadata": {},
   "source": [
    "# Parse ASTRAL-pro2 trees from taxonomic imbalance"
   ]
  },
  {
   "cell_type": "code",
   "execution_count": 1,
   "metadata": {},
   "outputs": [],
   "source": [
    "import sys\n",
    "import re\n",
    "import pandas as pd\n",
    "import numpy as np\n",
    "from skbio.tree import TreeNode"
   ]
  },
  {
   "cell_type": "code",
   "execution_count": 2,
   "metadata": {},
   "outputs": [],
   "source": [
    "def assign_supports(tree):\n",
    "    for node in tree.traverse():\n",
    "        if node.is_tip() or node.is_root():\n",
    "            node.support = None\n",
    "        else:\n",
    "            node.support = node.name\n",
    "            node.name = None"
   ]
  },
  {
   "cell_type": "code",
   "execution_count": 3,
   "metadata": {},
   "outputs": [],
   "source": [
    "def add_length_to_tips(tree):\n",
    "    '''\n",
    "    Add a length of 0 to tips. \n",
    "    Useful for trees produced by Astral-pro2, in which\n",
    "    tips do not have a branch lengths\n",
    "    '''\n",
    "    for node in tree.tips():\n",
    "        node.length = 0.0\n",
    "\n",
    "    return tree"
   ]
  },
  {
   "cell_type": "code",
   "execution_count": 4,
   "metadata": {},
   "outputs": [],
   "source": [
    "def order_nodes(tree, increase=True):\n",
    "    res = tree.copy()\n",
    "    for node in res.postorder():\n",
    "        if node.is_tip():\n",
    "            node.n = 1\n",
    "        else:\n",
    "            node.n = sum(x.n for x in node.children)\n",
    "    for node in res.postorder():\n",
    "        if not node.is_tip():\n",
    "            child2n = {x: x.n for x in node.children}\n",
    "            node.children = []\n",
    "            for child in sorted(child2n, key=child2n.get, reverse=increase):\n",
    "                node.append(child)\n",
    "    for node in res.postorder():\n",
    "        delattr(node, 'n')\n",
    "    return res"
   ]
  },
  {
   "cell_type": "code",
   "execution_count": 5,
   "metadata": {},
   "outputs": [],
   "source": [
    "def parse_tree_astralpro(dataPathIn, dataPathOut, k, p):\n",
    "    # Read newick file\n",
    "    with open(f'{dataPathIn}/select_k_{k}_p_{p}_speciestree_astral-pro2.nwk', 'r') as f:\n",
    "        nwk = f.read().strip()\n",
    "    # Replace complex nodes with simple labels\n",
    "    tmplabs = []\n",
    "    def replace(match):\n",
    "        # Get the first subgroup from re.match\n",
    "        tmplabs.append(match.group(1))\n",
    "        return f'X{len(tmplabs)}'\n",
    "    nwk = re.sub(r'\\'\\[([^\\[\\]]+)\\]\\'', replace, nwk)\n",
    "    # Convert string into TreeNode object\n",
    "    tree = TreeNode.read([nwk])\n",
    "    # Convert indices into branch supports\n",
    "    assign_supports(tree)\n",
    "    # Trifurcate the arbitrary root -- root has two children: 1 (big clade) and 0 (single tip) \n",
    "    if not tree.children[1].is_tip():\n",
    "        raise ValueError('Unexpected input tree format.')\n",
    "    t = tree.children[0]\n",
    "    tree.remove(t)\n",
    "    tree.extend(t.children)\n",
    "    # # Root tree by outgroup\n",
    "    # tree = root_by_outgroup(tree, outgroup)\n",
    "\n",
    "    # Add branch lengths to tips for ASTRAL-pro2 trees\n",
    "    t = add_length_to_tips(tree)\n",
    "    # Root at midpoint\n",
    "    tree = t.root_at_midpoint(branch_attrs = ['support'])\n",
    "    \n",
    "    # Order nodes by number of childs\n",
    "    tree = order_nodes(tree, increase = False)\n",
    "    # Assign incremental nodes IDs\n",
    "    i = 1\n",
    "    for node in tree.levelorder(include_self = True):\n",
    "        if not node.is_tip():\n",
    "            node.name = f'N{i}'\n",
    "            i += 1\n",
    "    # Extract node metadata\n",
    "    metadata = []\n",
    "    for node in tree.levelorder(include_self = True):\n",
    "        if node.is_tip():\n",
    "            continue\n",
    "        if node.support is None:\n",
    "            continue\n",
    "        label = tmplabs[int(node.support[1:]) - 1]\n",
    "        attrs = dict(x.split('=') for x in label.split(';'))\n",
    "        attrs['node'] = node.name\n",
    "        metadata.append(attrs)\n",
    "    # Generate metadata table\n",
    "    df = pd.DataFrame(metadata).set_index('node')\n",
    "    # Save metadata\n",
    "    df.to_csv(f'{dataPathOut}/metadata_k_{k}_p_{p}_astral-pro2.tsv', sep = '\\t')\n",
    "    # Save tree with node ids\n",
    "    tree.write(f'{dataPathOut}/nid_k_{k}_p_{p}_astral-pro2.nwk')\n",
    "    # Save tree with local posterior probabilities\n",
    "    lpps = df['pp1'].to_dict()\n",
    "    t = tree.copy()\n",
    "    for node in t.non_tips(include_self=True):\n",
    "        if node.name in lpps:\n",
    "            lpp = lpps[node.name]\n",
    "            node.name = '1.0' if lpp == '1.0' else f'{float(lpp):.3f}'\n",
    "        else:\n",
    "            node.name = None\n",
    "    t.write(f'{dataPathOut}/lpp_k_{k}_p_{p}_astral-pro2.nwk')\n",
    "    # Save tree without node labels\n",
    "    for node in t.non_tips(include_self = True):\n",
    "        node.name = None\n",
    "    t.write(f'{dataPathOut}/nlabels_k_{k}_p_{p}_astral-pro2.nwk')"
   ]
  },
  {
   "cell_type": "code",
   "execution_count": 6,
   "metadata": {},
   "outputs": [],
   "source": [
    "# Parameters\n",
    "replicates =[0, 1, 2, 3, 4, 5, 6, 7, 8, 9]\n",
    "markers = ['kegg', 'eggnog']\n",
    "ks = [50, 100, 200, 400]\n",
    "p = 0"
   ]
  },
  {
   "cell_type": "code",
   "execution_count": 7,
   "metadata": {},
   "outputs": [
    {
     "name": "stdout",
     "output_type": "stream",
     "text": [
      "At replicate 0\n",
      "At replicate 1\n",
      "At replicate 2\n",
      "At replicate 3\n",
      "At replicate 4\n",
      "At replicate 5\n",
      "At replicate 6\n",
      "At replicate 7\n",
      "At replicate 8\n",
      "At replicate 9\n"
     ]
    }
   ],
   "source": [
    "for rep in replicates:\n",
    "    print(f'At replicate {rep}')\n",
    "    for marker in markers:\n",
    "        dataPathIn = f'./out/replicate_{rep}/pipeline/{marker}'\n",
    "        dataPathOut = f'./out/replicate_{rep}/parsed/{marker}'\n",
    "        for k in ks:\n",
    "            parse_tree_astralpro(dataPathIn, dataPathOut, k, p)"
   ]
  },
  {
   "cell_type": "code",
   "execution_count": 8,
   "metadata": {},
   "outputs": [],
   "source": [
    "def parse_tree_astralpro_previous_markers(dataPathIn, dataPathOut, k):\n",
    "    # Read newick file\n",
    "    with open(f'{dataPathIn}/combined_speciestree_astral-pro2.nwk', 'r') as f:\n",
    "        nwk = f.read().strip()\n",
    "    # Replace complex nodes with simple labels\n",
    "    tmplabs = []\n",
    "    def replace(match):\n",
    "        # Get the first subgroup from re.match\n",
    "        tmplabs.append(match.group(1))\n",
    "        return f'X{len(tmplabs)}'\n",
    "    nwk = re.sub(r'\\'\\[([^\\[\\]]+)\\]\\'', replace, nwk)\n",
    "    # Convert string into TreeNode object\n",
    "    tree = TreeNode.read([nwk])\n",
    "    # Convert indices into branch supports\n",
    "    assign_supports(tree)\n",
    "    # Trifurcate the arbitrary root -- root has two children: 1 (big clade) and 0 (single tip) \n",
    "    if not tree.children[1].is_tip():\n",
    "        raise ValueError('Unexpected input tree format.')\n",
    "    t = tree.children[0]\n",
    "    tree.remove(t)\n",
    "    tree.extend(t.children)\n",
    "    # # Root tree by outgroup\n",
    "    # tree = root_by_outgroup(tree, outgroup)\n",
    "\n",
    "    # Add branch lengths to tips for ASTRAL-pro2 trees\n",
    "    t = add_length_to_tips(tree)\n",
    "    # Root at midpoint\n",
    "    tree = t.root_at_midpoint(branch_attrs = ['support'])\n",
    "    \n",
    "    # Order nodes by number of childs\n",
    "    tree = order_nodes(tree, increase = False)\n",
    "    # Assign incremental nodes IDs\n",
    "    i = 1\n",
    "    for node in tree.levelorder(include_self = True):\n",
    "        if not node.is_tip():\n",
    "            node.name = f'N{i}'\n",
    "            i += 1\n",
    "    # Extract node metadata\n",
    "    metadata = []\n",
    "    for node in tree.levelorder(include_self = True):\n",
    "        if node.is_tip():\n",
    "            continue\n",
    "        if node.support is None:\n",
    "            continue\n",
    "        label = tmplabs[int(node.support[1:]) - 1]\n",
    "        attrs = dict(x.split('=') for x in label.split(';'))\n",
    "        attrs['node'] = node.name\n",
    "        metadata.append(attrs)\n",
    "    # Generate metadata table\n",
    "    df = pd.DataFrame(metadata).set_index('node')\n",
    "    # Save metadata\n",
    "    df.to_csv(f'{dataPathOut}/metadata_k_{k}_astral-pro2.tsv', sep = '\\t')\n",
    "    # Save tree with node ids\n",
    "    tree.write(f'{dataPathOut}/nid_k_{k}_astral-pro2.nwk')\n",
    "    # Save tree with local posterior probabilities\n",
    "    lpps = df['pp1'].to_dict()\n",
    "    t = tree.copy()\n",
    "    for node in t.non_tips(include_self=True):\n",
    "        if node.name in lpps:\n",
    "            lpp = lpps[node.name]\n",
    "            node.name = '1.0' if lpp == '1.0' else f'{float(lpp):.3f}'\n",
    "        else:\n",
    "            node.name = None\n",
    "    t.write(f'{dataPathOut}/lpp_k_{k}_p_astral-pro2.nwk')\n",
    "    # Save tree without node labels\n",
    "    for node in t.non_tips(include_self = True):\n",
    "        node.name = None\n",
    "    t.write(f'{dataPathOut}/nlabels_k_{k}_astral-pro2.nwk')"
   ]
  },
  {
   "cell_type": "code",
   "execution_count": 9,
   "metadata": {},
   "outputs": [],
   "source": [
    "# Parameters\n",
    "replicates =[0, 1, 2, 3, 4, 5, 6, 7, 8, 9]\n",
    "markers = ['martinez_gutierrez', 'moody_2024', 'amphora', 'phylophlan']\n",
    "ks = [41, 57, 136, 400]"
   ]
  },
  {
   "cell_type": "code",
   "execution_count": 10,
   "metadata": {},
   "outputs": [
    {
     "name": "stdout",
     "output_type": "stream",
     "text": [
      "At replicate 0\n",
      "At replicate 1\n",
      "At replicate 2\n",
      "At replicate 3\n",
      "At replicate 4\n",
      "At replicate 5\n",
      "At replicate 6\n",
      "At replicate 7\n",
      "At replicate 8\n",
      "At replicate 9\n"
     ]
    }
   ],
   "source": [
    "for rep in replicates:\n",
    "    print(f'At replicate {rep}')\n",
    "    for marker, k in zip(markers, ks):\n",
    "        dataPathIn = f'./out/replicate_{rep}/pipeline/{marker}'\n",
    "        dataPathOut = f'./out/replicate_{rep}/parsed/{marker}'\n",
    "        parse_tree_astralpro_previous_markers(dataPathIn, dataPathOut, k)"
   ]
  },
  {
   "cell_type": "code",
   "execution_count": null,
   "metadata": {},
   "outputs": [],
   "source": []
  },
  {
   "cell_type": "code",
   "execution_count": null,
   "metadata": {},
   "outputs": [],
   "source": []
  },
  {
   "cell_type": "code",
   "execution_count": null,
   "metadata": {},
   "outputs": [],
   "source": []
  },
  {
   "cell_type": "code",
   "execution_count": null,
   "metadata": {},
   "outputs": [],
   "source": []
  },
  {
   "cell_type": "code",
   "execution_count": null,
   "metadata": {},
   "outputs": [],
   "source": []
  },
  {
   "cell_type": "code",
   "execution_count": null,
   "metadata": {},
   "outputs": [],
   "source": []
  },
  {
   "cell_type": "code",
   "execution_count": null,
   "metadata": {},
   "outputs": [],
   "source": []
  },
  {
   "cell_type": "code",
   "execution_count": null,
   "metadata": {},
   "outputs": [],
   "source": []
  }
 ],
 "metadata": {
  "kernelspec": {
   "display_name": "BipNet",
   "language": "python",
   "name": "python3"
  },
  "language_info": {
   "codemirror_mode": {
    "name": "ipython",
    "version": 3
   },
   "file_extension": ".py",
   "mimetype": "text/x-python",
   "name": "python",
   "nbconvert_exporter": "python",
   "pygments_lexer": "ipython3",
   "version": "3.10.13"
  }
 },
 "nbformat": 4,
 "nbformat_minor": 2
}
