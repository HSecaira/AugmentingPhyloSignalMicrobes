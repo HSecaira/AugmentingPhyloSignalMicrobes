{
 "cells": [
  {
   "cell_type": "code",
   "execution_count": 1,
   "metadata": {},
   "outputs": [],
   "source": [
    "import numpy as np\n",
    "import pandas as pd\n",
    "import matplotlib.pyplot as plt\n",
    "import os, lzma\n",
    "from scipy.stats import pmean"
   ]
  },
  {
   "cell_type": "code",
   "execution_count": 2,
   "metadata": {},
   "outputs": [],
   "source": [
    "plt.rcParams.update({\n",
    "    'figure.autolayout': True,\n",
    "    'savefig.bbox': 'tight',\n",
    "    'svg.fonttype': 'none',\n",
    "    'font.sans-serif': 'Arial',\n",
    "    'font.size': 12,\n",
    "    'boxplot.medianprops.linewidth': 2,\n",
    "    'boxplot.flierprops.markeredgecolor': 'none',\n",
    "    'boxplot.flierprops.markersize': 5})"
   ]
  },
  {
   "cell_type": "markdown",
   "metadata": {},
   "source": [
    "Functions"
   ]
  },
  {
   "cell_type": "code",
   "execution_count": 3,
   "metadata": {},
   "outputs": [],
   "source": [
    "def adjMatv2(edges_ogs, edges_genomes):\n",
    "    # Get unique elements\n",
    "    ogs, ogs_indices = np.unique(edges_ogs, return_inverse = True)\n",
    "    genomes, genomes_indices = np.unique(edges_genomes, return_inverse = True)\n",
    "    # Calculate bin counts for each combination of indices\n",
    "    counts = np.bincount(ogs_indices * len(genomes) + genomes_indices, minlength = len(ogs) * len(genomes))\n",
    "    # Reshape counts as adjacency matrix\n",
    "    adj = counts.reshape(len(ogs), len(genomes))\n",
    "    return adj, genomes, ogs"
   ]
  },
  {
   "cell_type": "code",
   "execution_count": 4,
   "metadata": {},
   "outputs": [],
   "source": [
    "def save_genes(genes, fOut):\n",
    "    with open(fOut, 'w') as f:\n",
    "        for gene in genes:\n",
    "            f.write(f'{gene}\\n')"
   ]
  },
  {
   "cell_type": "code",
   "execution_count": 5,
   "metadata": {},
   "outputs": [],
   "source": [
    "def remove_genes(adj_mod):\n",
    "    remove = np.array([i for i in range(len(adj_mod)) if adj_mod[i].sum() < 4])\n",
    "    return remove"
   ]
  },
  {
   "cell_type": "code",
   "execution_count": 6,
   "metadata": {},
   "outputs": [],
   "source": [
    "def greedy_power_mean_sample_mask(data, k, p, pseudocount):\n",
    "    \"\"\"Iteratively select rows from a matrix such that the selection criterion by\n",
    "    column is maximized.\n",
    "\n",
    "    Parameters\n",
    "    ----------\n",
    "    data : ndarray of shape (2D)\n",
    "        Input data matrix (gene by species).\n",
    "    k : int\n",
    "        Number of rows (genes) to select.\n",
    "    p : float or str\n",
    "        Exponent of generalized mean, or special values: \"min\" or \"max\".\n",
    "    pseudocount : float, optional\n",
    "        Pseudocount to add to each cell value.\n",
    "    min_universality_genes : int, optional\n",
    "        Minimum universality threshold.\n",
    "\n",
    "    Returns\n",
    "    -------\n",
    "    ndarray (1D)\n",
    "        Row indices selected in order.\n",
    "\n",
    "    \"\"\"\n",
    "    \n",
    "    # numbers of genes (n) and species (m)\n",
    "    n, m = data.shape\n",
    "\n",
    "    # matrix is empty\n",
    "    if n == 0 or m == 0:\n",
    "        raise ValueError('Matrix is empty!')\n",
    "\n",
    "    # matrix contains only zeroes\n",
    "    if (data == 0).all():\n",
    "        raise ValueError('Matrix only contains 0\\'s')\n",
    "\n",
    "    if k >= n:\n",
    "        raise ValueError(f'k should be smaller than {n}')\n",
    "\n",
    "    # Add pseudocount\n",
    "    data = data.astype(np.float64, copy = False) + pseudocount\n",
    "\n",
    "    # cumulative gene counts\n",
    "    counts = np.zeros(m, dtype = np.float64)\n",
    "\n",
    "    # gene indices in original data matrix\n",
    "    all_original_indices = np.arange(n)\n",
    "    # Boolean mask to keep track of available genes\n",
    "    available_row_mask = np.ones(n, dtype = bool)\n",
    "\n",
    "    # indices of selected genes\n",
    "    selected = np.empty(k, dtype = int)\n",
    "\n",
    "    # iteratively select k genes\n",
    "    for i in range(k):\n",
    "\n",
    "        # Create new array containing only available rows\n",
    "        current_data_slice = data[available_row_mask, :]\n",
    "        # calculate counts after adding each gene\n",
    "        sums_ = counts + current_data_slice\n",
    "\n",
    "        # select a gene that maximizes the power mean gene count per species, using the cumulative matrix\n",
    "        if isinstance(p, int) or isinstance(p, np.int64): \n",
    "            choice = pmean(sums_, int(p), axis = 1).argmax()\n",
    "        elif p == 'min':\n",
    "            choice = sums_.min(axis = 1).argmax()\n",
    "        elif p == 'max':\n",
    "            choice = sums_.max(axis = 1).argmax()\n",
    "        else:\n",
    "            raise ValueError(f'Invalid p: {p}.')\n",
    "\n",
    "        # append index of selected gene\n",
    "        original_indices_of_available_rows = all_original_indices[available_row_mask]\n",
    "        chosen_original_idx = original_indices_of_available_rows[choice]\n",
    "        selected[i] = chosen_original_idx\n",
    "\n",
    "        # update per-species gene counts\n",
    "        counts = sums_[choice, :]\n",
    "\n",
    "        # Update mask\n",
    "        available_row_mask[chosen_original_idx] = False\n",
    "\n",
    "    return selected"
   ]
  },
  {
   "cell_type": "code",
   "execution_count": 7,
   "metadata": {},
   "outputs": [],
   "source": [
    "def load_annotations_eggnog(file, genomes_sampled):\n",
    "    tmp = []\n",
    "    with lzma.open(file, mode = 'rt') as f:\n",
    "        for i, line in enumerate(f):\n",
    "            row = line.strip().split('\\t')\n",
    "            # orf, ko, score = row[0], row[1], row[3]\n",
    "            orf, score, og = row[0], row[3], row[4].split('|')[0]\n",
    "            genome = orf.split('_')[0]\n",
    "            if genome in genomes_sampled:\n",
    "                tmp.append([orf, float(score), og.split('@')[0], genome])\n",
    "                \n",
    "    df_eggnog = pd.DataFrame(tmp, columns = ['orf', 'score', 'og', 'genome'])\n",
    "    df_eggnog.set_index('orf', inplace = True)\n",
    "    return df_eggnog"
   ]
  },
  {
   "cell_type": "code",
   "execution_count": 8,
   "metadata": {},
   "outputs": [],
   "source": [
    "def load_annotations_kegg(file, genomes_sampled):\n",
    "    tmp = []\n",
    "    with lzma.open(file, mode = 'rt') as f:\n",
    "        for i, line in enumerate(f):\n",
    "            row = line.strip().split('\\t')\n",
    "            orf, ko, score = row[0], row[1], row[3]\n",
    "            genome = orf.split('_')[0]\n",
    "            if genome in genomes_sampled:\n",
    "                tmp.append([orf, float(score), ko, genome])\n",
    "                \n",
    "    df_kegg = pd.DataFrame(tmp, columns = ['orf', 'score', 'ko', 'genome'])\n",
    "    df_kegg.set_index('orf', inplace = True)\n",
    "    return df_kegg"
   ]
  },
  {
   "cell_type": "code",
   "execution_count": null,
   "metadata": {},
   "outputs": [],
   "source": []
  },
  {
   "cell_type": "markdown",
   "metadata": {},
   "source": [
    "Select markers"
   ]
  },
  {
   "cell_type": "code",
   "execution_count": 9,
   "metadata": {},
   "outputs": [],
   "source": [
    "replicates = np.arange(10)\n",
    "ks = [50, 100, 200, 400]\n",
    "p = 0\n",
    "dataPathIn = f'./out'\n",
    "file_annotations_eggnog = f'../markers_selection/input_data/wol2/emapper.annotations.xz'\n",
    "file_annotations_kegg = f'../markers_selection/input_data/wol2/kofamscan.tsv.xz'"
   ]
  },
  {
   "cell_type": "code",
   "execution_count": 10,
   "metadata": {},
   "outputs": [
    {
     "name": "stdout",
     "output_type": "stream",
     "text": [
      "At replicate 0\n",
      "\tCopy number matrix shape: (32736, 568)\n",
      "\tCopy number matrix after filtering: (10576, 568)\n",
      "At replicate 1\n",
      "\tCopy number matrix shape: (37283, 569)\n",
      "\tCopy number matrix after filtering: (11594, 569)\n",
      "At replicate 2\n",
      "\tCopy number matrix shape: (21263, 567)\n",
      "\tCopy number matrix after filtering: (6746, 567)\n",
      "At replicate 3\n",
      "\tCopy number matrix shape: (46255, 566)\n",
      "\tCopy number matrix after filtering: (16343, 566)\n",
      "At replicate 4\n",
      "\tCopy number matrix shape: (27550, 567)\n",
      "\tCopy number matrix after filtering: (9462, 567)\n",
      "At replicate 5\n",
      "\tCopy number matrix shape: (25034, 568)\n",
      "\tCopy number matrix after filtering: (10182, 568)\n",
      "At replicate 6\n",
      "\tCopy number matrix shape: (50106, 568)\n",
      "\tCopy number matrix after filtering: (16570, 568)\n",
      "At replicate 7\n",
      "\tCopy number matrix shape: (37750, 567)\n",
      "\tCopy number matrix after filtering: (12872, 567)\n",
      "At replicate 8\n",
      "\tCopy number matrix shape: (40651, 568)\n",
      "\tCopy number matrix after filtering: (12770, 568)\n",
      "At replicate 9\n",
      "\tCopy number matrix shape: (42685, 568)\n",
      "\tCopy number matrix after filtering: (15994, 568)\n"
     ]
    }
   ],
   "source": [
    "for rep in replicates:\n",
    "    print(f'At replicate {rep}')\n",
    "    genomes_sampled = np.loadtxt(f'{dataPathIn}/replicate_{rep}/genomes/genomes.txt', dtype = str)\n",
    "    df_eggnog = load_annotations_eggnog(file_annotations_eggnog, genomes_sampled)\n",
    "    # For each genome and gene, discard those genes with a score less than `x` of the top `score`\n",
    "    threshold = 1.0\n",
    "    # Calculate the maximum score for each genome and pfam combination\n",
    "    max_scores = df_eggnog.groupby(['genome', 'og'])['score'].transform('max')\n",
    "    # Keep rows where the score is greater than or equal to max_score * threshold\n",
    "    filtered_df = df_eggnog[df_eggnog['score'] >= max_scores * threshold]\n",
    "    # Convert to edges\n",
    "    edges_genomes = filtered_df['genome'].values\n",
    "    edges_ogs = filtered_df['og'].values\n",
    "    # Build copy number matrix\n",
    "    adj, genomes, ogs = adjMatv2(edges_ogs, edges_genomes)\n",
    "    print(f'\\tCopy number matrix shape: {adj.shape}')\n",
    "    # Reformat matrix\n",
    "    adj1 = adj\n",
    "    adj2 = adj1.copy()\n",
    "    adj1[adj1 > 1] = 1\n",
    "    # Remove genes with less than 4 genomes\n",
    "    # Copy presence/absence matrix\n",
    "    adj_mod = adj1.copy()\n",
    "    # Select genes to remove\n",
    "    remove = remove_genes(adj_mod)\n",
    "    # Remove genes\n",
    "    adj_mod = np.delete(adj_mod, remove, axis = 0)\n",
    "    # Remove genes from list\n",
    "    ogs_mod = np.delete(ogs, remove, axis = 0)\n",
    "    # Copy matrix\n",
    "    adj_mod2 = adj2.copy()\n",
    "    # Remove genes\n",
    "    adj_mod2 = np.delete(adj_mod2, remove, axis = 0)\n",
    "    print(f'\\tCopy number matrix after filtering: {adj_mod2.shape}')\n",
    "    # Select markers\n",
    "    selected_genes_mod = {}\n",
    "    for k in ks:\n",
    "        select = greedy_power_mean_sample_mask(adj_mod2, k = k, p = p, pseudocount = 0.1)\n",
    "        selected_genes_mod[k] = select\n",
    "    # Save markers\n",
    "    os.makedirs(f'{dataPathIn}/replicate_{rep}/markers/eggnog', exist_ok = True)\n",
    "    for k, markers in selected_genes_mod.items():\n",
    "        save_genes(ogs_mod[markers], f'{dataPathIn}/replicate_{rep}/markers/eggnog/select_k_{k}_p_{p}.txt')\n",
    "    # Save ORFs\n",
    "    os.makedirs(f'{dataPathIn}/replicate_{rep}/orfs/eggnog', exist_ok = True)\n",
    "    # Because smaller sets are nested in larger sets of selected genes, we only need to save the largest set\n",
    "    for i in selected_genes_mod[ks[-1]]:\n",
    "        gene = ogs_mod[i]\n",
    "        with open(f'{dataPathIn}/replicate_{rep}/orfs/eggnog/{gene}.txt', 'w') as f:\n",
    "            orfs = filtered_df.query('og == @gene').index\n",
    "            for orf in orfs:\n",
    "                f.write(f'{orf}\\n')\n",
    "    "
   ]
  },
  {
   "cell_type": "code",
   "execution_count": 11,
   "metadata": {},
   "outputs": [
    {
     "name": "stdout",
     "output_type": "stream",
     "text": [
      "At replicate 0\n",
      "\tCopy number matrix shape: (7532, 568)\n",
      "\tCopy number matrix after filtering: (6001, 568)\n",
      "At replicate 1\n",
      "\tCopy number matrix shape: (7065, 569)\n",
      "\tCopy number matrix after filtering: (5854, 569)\n",
      "At replicate 2\n",
      "\tCopy number matrix shape: (5856, 567)\n",
      "\tCopy number matrix after filtering: (4343, 567)\n",
      "At replicate 3\n",
      "\tCopy number matrix shape: (7150, 566)\n",
      "\tCopy number matrix after filtering: (6051, 566)\n",
      "At replicate 4\n",
      "\tCopy number matrix shape: (6629, 567)\n",
      "\tCopy number matrix after filtering: (5196, 567)\n",
      "At replicate 5\n",
      "\tCopy number matrix shape: (6322, 568)\n",
      "\tCopy number matrix after filtering: (4961, 568)\n",
      "At replicate 6\n",
      "\tCopy number matrix shape: (7204, 568)\n",
      "\tCopy number matrix after filtering: (5953, 568)\n",
      "At replicate 7\n",
      "\tCopy number matrix shape: (6606, 567)\n",
      "\tCopy number matrix after filtering: (5464, 567)\n",
      "At replicate 8\n",
      "\tCopy number matrix shape: (7306, 568)\n",
      "\tCopy number matrix after filtering: (6072, 568)\n",
      "At replicate 9\n",
      "\tCopy number matrix shape: (6918, 568)\n",
      "\tCopy number matrix after filtering: (5661, 568)\n"
     ]
    }
   ],
   "source": [
    "for rep in replicates:\n",
    "    print(f'At replicate {rep}')\n",
    "    genomes_sampled = np.loadtxt(f'{dataPathIn}/replicate_{rep}/genomes/genomes.txt', dtype = str)\n",
    "    df_kegg = load_annotations_kegg(file_annotations_kegg, genomes_sampled)\n",
    "    # For each genome and gene, discard those genes with a score less than `x` of the top `score`\n",
    "    threshold = 1.0\n",
    "    # Calculate the maximum score for each genome and pfam combination\n",
    "    max_scores = df_kegg.groupby(['genome', 'ko'])['score'].transform('max')\n",
    "    # Keep rows where the score is greater than or equal to max_score * threshold\n",
    "    filtered_df = df_kegg[df_kegg['score'] >= max_scores * threshold]\n",
    "    # Convert to edges\n",
    "    edges_genomes = filtered_df['genome'].values\n",
    "    edges_ogs = filtered_df['ko'].values\n",
    "    # Build copy number matrix\n",
    "    adj, genomes, ogs = adjMatv2(edges_ogs, edges_genomes)\n",
    "    print(f'\\tCopy number matrix shape: {adj.shape}')\n",
    "    # Reformat matrix\n",
    "    adj1 = adj\n",
    "    adj2 = adj1.copy()\n",
    "    adj1[adj1 > 1] = 1\n",
    "    # Remove genes with less than 4 genomes\n",
    "    # Copy presence/absence matrix\n",
    "    adj_mod = adj1.copy()\n",
    "    # Select genes to remove\n",
    "    remove = remove_genes(adj_mod)\n",
    "    # Remove genes\n",
    "    adj_mod = np.delete(adj_mod, remove, axis = 0)\n",
    "    # Remove genes from list\n",
    "    ogs_mod = np.delete(ogs, remove, axis = 0)\n",
    "    # Copy matrix\n",
    "    adj_mod2 = adj2.copy()\n",
    "    # Remove genes\n",
    "    adj_mod2 = np.delete(adj_mod2, remove, axis = 0)\n",
    "    print(f'\\tCopy number matrix after filtering: {adj_mod2.shape}')\n",
    "    # Select markers\n",
    "    selected_genes_mod = {}\n",
    "    for k in ks:\n",
    "        select = greedy_power_mean_sample_mask(adj_mod2, k = k, p = p, pseudocount = 0.1)\n",
    "        selected_genes_mod[k] = select\n",
    "    # Save markers\n",
    "    os.makedirs(f'{dataPathIn}/replicate_{rep}/markers/kegg', exist_ok = True)\n",
    "    for k, markers in selected_genes_mod.items():\n",
    "        save_genes(ogs_mod[markers], f'{dataPathIn}/replicate_{rep}/markers/kegg/select_k_{k}_p_{p}.txt')\n",
    "    # Save ORFs\n",
    "    os.makedirs(f'{dataPathIn}/replicate_{rep}/orfs/kegg', exist_ok = True)\n",
    "    # Because smaller sets are nested in larger sets of selected genes, we only need to save the largest set\n",
    "    for i in selected_genes_mod[ks[-1]]:\n",
    "        gene = ogs_mod[i]\n",
    "        with open(f'{dataPathIn}/replicate_{rep}/orfs/kegg/{gene}.txt', 'w') as f:\n",
    "            orfs = filtered_df.query('ko == @gene').index\n",
    "            for orf in orfs:\n",
    "                f.write(f'{orf}\\n')\n",
    "    "
   ]
  },
  {
   "cell_type": "code",
   "execution_count": null,
   "metadata": {},
   "outputs": [],
   "source": []
  },
  {
   "cell_type": "code",
   "execution_count": null,
   "metadata": {},
   "outputs": [],
   "source": []
  },
  {
   "cell_type": "code",
   "execution_count": null,
   "metadata": {},
   "outputs": [],
   "source": []
  },
  {
   "cell_type": "code",
   "execution_count": null,
   "metadata": {},
   "outputs": [],
   "source": []
  },
  {
   "cell_type": "code",
   "execution_count": null,
   "metadata": {},
   "outputs": [],
   "source": []
  },
  {
   "cell_type": "code",
   "execution_count": null,
   "metadata": {},
   "outputs": [],
   "source": []
  },
  {
   "cell_type": "code",
   "execution_count": null,
   "metadata": {},
   "outputs": [],
   "source": []
  },
  {
   "cell_type": "code",
   "execution_count": null,
   "metadata": {},
   "outputs": [],
   "source": []
  },
  {
   "cell_type": "code",
   "execution_count": null,
   "metadata": {},
   "outputs": [],
   "source": []
  },
  {
   "cell_type": "code",
   "execution_count": null,
   "metadata": {},
   "outputs": [],
   "source": []
  },
  {
   "cell_type": "code",
   "execution_count": null,
   "metadata": {},
   "outputs": [],
   "source": []
  },
  {
   "cell_type": "code",
   "execution_count": null,
   "metadata": {},
   "outputs": [],
   "source": []
  },
  {
   "cell_type": "code",
   "execution_count": null,
   "metadata": {},
   "outputs": [],
   "source": []
  },
  {
   "cell_type": "code",
   "execution_count": null,
   "metadata": {},
   "outputs": [],
   "source": []
  },
  {
   "cell_type": "code",
   "execution_count": null,
   "metadata": {},
   "outputs": [],
   "source": []
  },
  {
   "cell_type": "code",
   "execution_count": null,
   "metadata": {},
   "outputs": [],
   "source": []
  },
  {
   "cell_type": "code",
   "execution_count": null,
   "metadata": {},
   "outputs": [],
   "source": []
  },
  {
   "cell_type": "code",
   "execution_count": null,
   "metadata": {},
   "outputs": [],
   "source": []
  },
  {
   "cell_type": "code",
   "execution_count": null,
   "metadata": {},
   "outputs": [],
   "source": []
  },
  {
   "cell_type": "code",
   "execution_count": null,
   "metadata": {},
   "outputs": [],
   "source": []
  },
  {
   "cell_type": "code",
   "execution_count": null,
   "metadata": {},
   "outputs": [],
   "source": []
  },
  {
   "cell_type": "code",
   "execution_count": null,
   "metadata": {},
   "outputs": [],
   "source": []
  },
  {
   "cell_type": "code",
   "execution_count": null,
   "metadata": {},
   "outputs": [],
   "source": []
  },
  {
   "cell_type": "code",
   "execution_count": null,
   "metadata": {},
   "outputs": [],
   "source": []
  },
  {
   "cell_type": "code",
   "execution_count": null,
   "metadata": {},
   "outputs": [],
   "source": []
  }
 ],
 "metadata": {
  "kernelspec": {
   "display_name": "BipNet",
   "language": "python",
   "name": "python3"
  },
  "language_info": {
   "codemirror_mode": {
    "name": "ipython",
    "version": 3
   },
   "file_extension": ".py",
   "mimetype": "text/x-python",
   "name": "python",
   "nbconvert_exporter": "python",
   "pygments_lexer": "ipython3",
   "version": "3.10.13"
  }
 },
 "nbformat": 4,
 "nbformat_minor": 2
}
