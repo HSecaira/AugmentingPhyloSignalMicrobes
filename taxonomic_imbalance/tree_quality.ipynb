{
 "cells": [
  {
   "cell_type": "markdown",
   "metadata": {},
   "source": [
    "## Metrics for goodness/quality of trees -- Local posterior probability from ASTRAL-pro2 and normalized Robinson-Foulds distance to WoL2 tree"
   ]
  },
  {
   "cell_type": "code",
   "execution_count": 1,
   "metadata": {},
   "outputs": [],
   "source": [
    "import sys\n",
    "import pandas as pd\n",
    "import numpy as np\n",
    "from skbio.tree import TreeNode\n",
    "import matplotlib.pyplot as plt"
   ]
  },
  {
   "cell_type": "code",
   "execution_count": 2,
   "metadata": {},
   "outputs": [],
   "source": [
    "import dendropy\n",
    "from dendropy.calculate.treecompare import unweighted_robinson_foulds_distance\n",
    "from scipy.stats import mannwhitneyu, false_discovery_control"
   ]
  },
  {
   "cell_type": "code",
   "execution_count": 3,
   "metadata": {},
   "outputs": [],
   "source": [
    "plt.rcParams.update({\n",
    "    'figure.autolayout': True,\n",
    "    'savefig.bbox': 'tight',\n",
    "    'svg.fonttype': 'none',\n",
    "    'font.sans-serif': 'Arial',\n",
    "    'font.size': 12,\n",
    "    'boxplot.medianprops.linewidth': 2,\n",
    "    'boxplot.flierprops.markeredgecolor': 'none',\n",
    "    'boxplot.flierprops.markersize': 5})"
   ]
  },
  {
   "cell_type": "code",
   "execution_count": 4,
   "metadata": {},
   "outputs": [],
   "source": [
    "def shared_taxa(tree1, tree2):\n",
    "    taxa1 = {node.taxon.label for node in tree1.leaf_node_iter()}\n",
    "    taxa2 = {node.taxon.label for node in tree2.leaf_node_iter()}\n",
    "    return list(taxa1.intersection(taxa2)), taxa1, taxa2"
   ]
  },
  {
   "cell_type": "code",
   "execution_count": 5,
   "metadata": {},
   "outputs": [],
   "source": [
    "def count_internal_branches(tree):\n",
    "    \"\"\"\n",
    "    Calculate the number of internal branches in a phylogenetic tree.\n",
    "\n",
    "    Parameters\n",
    "    ----------\n",
    "    tree : dendropy.Tree\n",
    "        A phylogenetic tree represented by a dendropy Tree object.\n",
    "\n",
    "    Returns\n",
    "    -------\n",
    "    int\n",
    "        The number of internal branches (edges) in the tree.\n",
    "    \"\"\"\n",
    "    # Internal branches are the edges between internal nodes\n",
    "    internal_branches = 0\n",
    "    \n",
    "    for edge in tree.postorder_edge_iter():\n",
    "        if not edge.is_leaf() and edge.tail_node is not None:  # Check if it's an internal branch\n",
    "            internal_branches += 1\n",
    "    \n",
    "    return internal_branches"
   ]
  },
  {
   "cell_type": "code",
   "execution_count": 6,
   "metadata": {},
   "outputs": [],
   "source": [
    "def RF_distance(treeA, treeB, norm = True, **kwargs):\n",
    "    \n",
    "    treeA_copy, treeB_copy = dendropy.Tree(treeA), dendropy.Tree(treeB)\n",
    "    \n",
    "    # Prune trees such that they contain the same taxa, otherwise RF is much larger\n",
    "    taxa_to_keep, taxa1, taxa2 = shared_taxa(treeA_copy, treeB_copy)\n",
    "    if len(taxa_to_keep) < len(taxa1) or len(taxa_to_keep) < len(taxa2):\n",
    "        treeA_copy.retain_taxa_with_labels(taxa_to_keep)\n",
    "        treeB_copy.retain_taxa_with_labels(taxa_to_keep)\n",
    "        \n",
    "    # Update bipartition\n",
    "    treeA_copy.update_bipartitions()\n",
    "    treeB_copy.update_bipartitions()\n",
    "    \n",
    "    # Assuming trees share the same taxon name space\n",
    "    rf = unweighted_robinson_foulds_distance(treeA_copy, treeB_copy)\n",
    "    if norm:\n",
    "        # Normalize by the maximal possible distance: which is the sum of internal branches\n",
    "        # between both trees. Alternatively, if both trees are unrooted and binary, the sum\n",
    "        # is always 2n - 6, where n is the number of tips in the tree.\n",
    "        max_dist = 2 * len(taxa_to_keep) - 6\n",
    "        # Number of internal branches\n",
    "        n, m = count_internal_branches(treeA_copy), count_internal_branches(treeB_copy)\n",
    "        if len(taxa_to_keep) > 3:\n",
    "            # rf = rf / max_dist\n",
    "            rf = rf / (n + m)\n",
    "        else:\n",
    "            rf = 0.0\n",
    "\n",
    "    # Ratio between species in inferred to actual species tree\n",
    "    ratio_sps = len(taxa2) / len(taxa1)\n",
    "    # print(f'Ratios of sps: {ratio_sps}')\n",
    "    \n",
    "    return rf"
   ]
  },
  {
   "cell_type": "code",
   "execution_count": 7,
   "metadata": {},
   "outputs": [],
   "source": [
    "def sig_sign(p_value):\n",
    "    if p_value > 0.05:\n",
    "        return 'n.s.'\n",
    "    elif p_value > 0.01:\n",
    "        return '*'\n",
    "    elif p_value > 0.001:\n",
    "        return '**'\n",
    "    elif p_value > 0.0001:\n",
    "        return '***'\n",
    "    else:\n",
    "        return '****'"
   ]
  },
  {
   "cell_type": "markdown",
   "metadata": {},
   "source": [
    "## Marker genes selected with our approach"
   ]
  },
  {
   "cell_type": "code",
   "execution_count": 8,
   "metadata": {},
   "outputs": [],
   "source": [
    "taxon_namespace = dendropy.TaxonNamespace()"
   ]
  },
  {
   "cell_type": "markdown",
   "metadata": {},
   "source": [
    "WoL2 tree"
   ]
  },
  {
   "cell_type": "code",
   "execution_count": 9,
   "metadata": {},
   "outputs": [],
   "source": [
    "wol_tree = dendropy.Tree.get(path = f'./tree.nwk', schema = 'newick', taxon_namespace = taxon_namespace)"
   ]
  },
  {
   "cell_type": "code",
   "execution_count": 10,
   "metadata": {},
   "outputs": [],
   "source": [
    "# Parameters\n",
    "replicates = [0, 1, 2, 3, 4, 5, 6, 7, 8, 9]\n",
    "ks = [50, 100, 200, 400]\n",
    "p = 0"
   ]
  },
  {
   "cell_type": "code",
   "execution_count": 11,
   "metadata": {},
   "outputs": [],
   "source": [
    "trees_kegg = {}\n",
    "metadata_kegg = {}\n",
    "for rep in replicates:\n",
    "    dataPathIn = f'./out/replicate_{rep}/parsed/kegg' \n",
    "    trees_kegg[rep] = {}\n",
    "    metadata_kegg[rep] = {}\n",
    "    for k in ks:\n",
    "        metadata_kegg[rep][k] = pd.read_table(f'{dataPathIn}/metadata_k_{k}_p_{p}_astral-pro2.tsv', index_col = 0)\n",
    "        trees_kegg[rep][k] = dendropy.Tree.get(path = f'{dataPathIn}/nid_k_{k}_p_{p}_astral-pro2.nwk', schema = 'newick',\n",
    "                                                  taxon_namespace = taxon_namespace)"
   ]
  },
  {
   "cell_type": "code",
   "execution_count": 12,
   "metadata": {},
   "outputs": [],
   "source": [
    "trees_eggnog = {}\n",
    "metadata_eggnog = {}\n",
    "for rep in replicates:\n",
    "    dataPathIn = f'./out/replicate_{rep}/parsed/eggnog' \n",
    "    trees_eggnog[rep] = {}\n",
    "    metadata_eggnog[rep] = {}\n",
    "    for k in ks:\n",
    "        metadata_eggnog[rep][k] = pd.read_table(f'{dataPathIn}/metadata_k_{k}_p_{p}_astral-pro2.tsv', index_col = 0)\n",
    "        trees_eggnog[rep][k] = dendropy.Tree.get(path = f'{dataPathIn}/nid_k_{k}_p_{p}_astral-pro2.nwk', schema = 'newick',\n",
    "                                                  taxon_namespace = taxon_namespace)"
   ]
  },
  {
   "cell_type": "markdown",
   "metadata": {},
   "source": [
    "## Previous marker sets"
   ]
  },
  {
   "cell_type": "markdown",
   "metadata": {},
   "source": [
    "Martinez-Gutierrez (k = 41), Moody (k = 57), Amphora2 (k = 136), PhylophAn3 (k = 400)"
   ]
  },
  {
   "cell_type": "code",
   "execution_count": 13,
   "metadata": {},
   "outputs": [],
   "source": [
    "# Parameters\n",
    "replicates = [0, 1, 2, 3, 4, 5, 6, 7, 8, 9]\n",
    "markers = ['martinez_gutierrez', 'moody_2024', 'amphora', 'phylophlan']\n",
    "ks = [41, 57, 136, 400]"
   ]
  },
  {
   "cell_type": "code",
   "execution_count": 14,
   "metadata": {},
   "outputs": [],
   "source": [
    "trees_previous = {}\n",
    "metadata_previous = {}\n",
    "for rep in replicates:\n",
    "    trees_previous[rep] = {}\n",
    "    metadata_previous[rep] = {}\n",
    "    for marker, k in zip(markers, ks):\n",
    "        dataPathIn = f'./out/replicate_{rep}/parsed/{marker}' \n",
    "        trees_previous[rep][marker] = dendropy.Tree.get(path = f'{dataPathIn}/nid_k_{k}_astral-pro2.nwk', schema = 'newick',\n",
    "                                                  taxon_namespace = taxon_namespace)\n",
    "        metadata_previous[rep][marker] = pd.read_table(f'{dataPathIn}/metadata_k_{k}_astral-pro2.tsv', index_col = 0)"
   ]
  },
  {
   "cell_type": "markdown",
   "metadata": {},
   "source": [
    "## LPP"
   ]
  },
  {
   "cell_type": "code",
   "execution_count": 15,
   "metadata": {},
   "outputs": [],
   "source": [
    "replicates = [0, 1, 2, 3, 4, 5, 6, 7, 8, 9]\n",
    "ks = [50, 100, 200, 400]"
   ]
  },
  {
   "cell_type": "code",
   "execution_count": 16,
   "metadata": {},
   "outputs": [],
   "source": [
    "lpp_kegg = np.empty((len(replicates), len(ks)), dtype = float)\n",
    "for i, rep in enumerate(replicates):\n",
    "    for j, k in enumerate(ks):\n",
    "        # Get lpp values\n",
    "        datum = metadata_kegg[rep][k]['pp1'].values\n",
    "        # print(f'At replicate {rep}, k {k}, lpp values for KEGG: {np.sum(datum >= 0.95) / len(datum)}')\n",
    "        lpp_kegg[i, j] = np.sum(datum >= 0.95) / len(datum)"
   ]
  },
  {
   "cell_type": "code",
   "execution_count": 17,
   "metadata": {},
   "outputs": [
    {
     "data": {
      "text/plain": [
       "(10, 4)"
      ]
     },
     "execution_count": 17,
     "metadata": {},
     "output_type": "execute_result"
    }
   ],
   "source": [
    "lpp_kegg.shape"
   ]
  },
  {
   "cell_type": "code",
   "execution_count": 18,
   "metadata": {},
   "outputs": [],
   "source": [
    "lpp_eggnog = np.empty((len(replicates), len(ks)), dtype = float)\n",
    "for i, rep in enumerate(replicates):\n",
    "    for j, k in enumerate(ks):\n",
    "        # Get lpp values\n",
    "        datum = metadata_eggnog[rep][k]['pp1'].values\n",
    "        # print(f'At replicate {rep}, k {k}, lpp values for EggNOG: {np.sum(datum >= 0.95) / len(datum)}')\n",
    "        lpp_eggnog[i, j] = np.sum(datum >= 0.95) / len(datum)"
   ]
  },
  {
   "cell_type": "code",
   "execution_count": 19,
   "metadata": {},
   "outputs": [
    {
     "data": {
      "text/plain": [
       "(10, 4)"
      ]
     },
     "execution_count": 19,
     "metadata": {},
     "output_type": "execute_result"
    }
   ],
   "source": [
    "lpp_eggnog.shape"
   ]
  },
  {
   "cell_type": "code",
   "execution_count": 20,
   "metadata": {},
   "outputs": [],
   "source": [
    "replicates =[0, 1, 2, 3, 4, 5]\n",
    "markers = ['martinez_gutierrez', 'moody_2024', 'amphora', 'phylophlan']\n",
    "ks = [41, 57, 136, 400]"
   ]
  },
  {
   "cell_type": "code",
   "execution_count": 21,
   "metadata": {},
   "outputs": [],
   "source": [
    "lpp_previous = np.empty((len(replicates), len(markers)), dtype = float)\n",
    "for i, rep in enumerate(replicates):\n",
    "    for j, marker in enumerate(markers):\n",
    "        # Get lpp values\n",
    "        datum = metadata_previous[rep][marker]['pp1'].values\n",
    "        # print(f'At replicate {rep}, k {k}, lpp values for {marker}: {np.sum(datum >= 0.95) / len(datum)}')\n",
    "        lpp_previous[i, j] = np.sum(datum >= 0.95) / len(datum)"
   ]
  },
  {
   "cell_type": "code",
   "execution_count": 22,
   "metadata": {},
   "outputs": [
    {
     "data": {
      "text/plain": [
       "(6, 4)"
      ]
     },
     "execution_count": 22,
     "metadata": {},
     "output_type": "execute_result"
    }
   ],
   "source": [
    "lpp_previous.shape"
   ]
  },
  {
   "cell_type": "markdown",
   "metadata": {},
   "source": [
    "Mann-Whitney test with Benjamini-Hochberg correction"
   ]
  },
  {
   "cell_type": "code",
   "execution_count": 23,
   "metadata": {},
   "outputs": [],
   "source": [
    "ks_kegg_eggnog = [50, 100, 200, 400]\n",
    "ks_previous = [41, 57, 136, 400]"
   ]
  },
  {
   "cell_type": "code",
   "execution_count": 24,
   "metadata": {},
   "outputs": [],
   "source": [
    "results_lpp_kegg = {}\n",
    "results_lpp_eggnog = {}\n",
    "for i, k1 in enumerate(ks_kegg_eggnog):\n",
    "    # Store p-values\n",
    "    pvals_kegg = [] \n",
    "    pvals_eggnog = []\n",
    "    for j, k2 in enumerate(ks_previous):\n",
    "        stat_kegg, p_value_kegg = mannwhitneyu(lpp_kegg[:, i], lpp_previous[:, j])\n",
    "        pvals_kegg.append([f'k1_{k1}_k2_{k2}', stat_kegg, p_value_kegg])\n",
    "        stat_eggnog, p_value_eggnog = mannwhitneyu(lpp_eggnog[:, i], lpp_previous[:, j])\n",
    "        pvals_eggnog.append([f'k1_{k1}_k2_{k2}', stat_eggnog, p_value_eggnog])\n",
    "    # Store as dataframe\n",
    "    results_lpp_kegg[k1] = pd.DataFrame(pvals_kegg, columns = ['comparison', 'statistic', 'p-value'])\n",
    "    results_lpp_eggnog[k1] = pd.DataFrame(pvals_eggnog, columns = ['comparison', 'statistic', 'p-value'])\n",
    "    # Correct p-values\n",
    "    results_lpp_kegg[k1]['q-value'] = false_discovery_control(results_lpp_kegg[k1]['p-value'])\n",
    "    results_lpp_eggnog[k1]['q-value'] = false_discovery_control(results_lpp_eggnog[k1]['p-value'])"
   ]
  },
  {
   "cell_type": "markdown",
   "metadata": {},
   "source": [
    "Figure"
   ]
  },
  {
   "cell_type": "code",
   "execution_count": 25,
   "metadata": {},
   "outputs": [
    {
     "data": {
      "image/png": "[encoded data removed]",
      "text/plain": [
       "<Figure size 750x400 with 8 Axes>"
      ]
     },
     "metadata": {},
     "output_type": "display_data"
    }
   ],
   "source": [
    "fig, axs = plt.subplots(2, 4, figsize=(7.5, 4), sharey=True, sharex=False)\n",
    "x = np.arange(5)\n",
    "colors_list = [['red', 'blue', 'orange', 'green', '#f72585'], ['red', 'blue', 'orange', 'green', '#4361ee']]\n",
    "datasets = [lpp_kegg, lpp_eggnog]\n",
    "xticklabels = [\n",
    "    ['k = 41', 'k = 57', 'k = 136', 'k = 400', 'k = 50'],\n",
    "    ['k = 41', 'k = 57', 'k = 136', 'k = 400', 'k = 100'],\n",
    "    ['k = 41', 'k = 57', 'k = 136', 'k = 400', 'k = 200'],\n",
    "    ['k = 41', 'k = 57', 'k = 136', 'k = 400', 'k = 400']\n",
    "]\n",
    "\n",
    "# Define a mapping for q-value datasets\n",
    "q_value_mapping = [50, 100, 200, 400]\n",
    "\n",
    "for row in range(2):\n",
    "    for col in range(4):\n",
    "        dataset = datasets[row] if col < 4 else lpp_previous\n",
    "        means = [lpp_previous[:, i].mean() for i in range(4)] + [dataset[:, col].mean()]\n",
    "        stds = [lpp_previous[:, i].std() for i in range(4)] + [dataset[:, col].std()]\n",
    "        colors = colors_list[row]\n",
    "        \n",
    "        axs[row, col].bar(x, means, yerr=stds, capsize=3, lw=2, edgecolor=colors, color='none', alpha=0.8)\n",
    "        for i, mean in enumerate(means):\n",
    "            axs[row, col].text(x[i], mean + stds[i] + 0.02, f'{mean:.2f}', ha='center', va='bottom', fontsize=8)\n",
    "        axs[row, col].tick_params(top=True, right=True, direction='in', which='both')\n",
    "        axs[row, col].set_xticks(x)\n",
    "        axs[row, col].set_xticklabels([] if row == 0 else xticklabels[col], rotation=45, ha='center')\n",
    "        \n",
    "        # Add q-values\n",
    "        if row == 0 and col < 4:\n",
    "            q_value_key = q_value_mapping[col]\n",
    "            for i in range(len(ks_previous)):\n",
    "                q_value = results_lpp_kegg[q_value_key].loc[i]['q-value']\n",
    "                axs[row, col].text(x[i] + 0.5, 0.85 + i / 50, sig_sign(q_value), ha='center', fontsize=8, color='k')\n",
    "        elif row == 1 and col < 4:\n",
    "            q_value_key = q_value_mapping[col]\n",
    "            for i in range(len(ks_previous)):\n",
    "                q_value = results_lpp_eggnog[q_value_key].loc[i]['q-value']\n",
    "                axs[row, col].text(x[i] + 0.5, 0.85 + i / 50, sig_sign(q_value), ha='center', fontsize=8, color='k')\n",
    "\n",
    "axs[1, 3].set_ylim(0, 1.45)\n",
    "axs[0, 0].set_ylabel(f'Proportion of\\nconfident branches')\n",
    "axs[1, 0].set_ylabel(f'Proportion of\\nconfident branches')\n",
    "# plt.savefig(f'./figures/lpp_taxonomic_imbalance.svg')\n",
    "plt.show()"
   ]
  },
  {
   "cell_type": "code",
   "execution_count": 26,
   "metadata": {},
   "outputs": [
    {
     "name": "stdout",
     "output_type": "stream",
     "text": [
      "Col: 0\n",
      "means: [0.6039630553687674, 0.5859185687248626, 0.6159768969127701, 0.45920599105646037, 0.6670059663925394, 0.6005898632155069]\n",
      "stds: [0.04642600675218072, 0.021850241484152596, 0.01577070865149144, 0.04445826713842886, 0.07140900189099804, 0.029735262521876485]\n",
      "Col: 1\n",
      "means: [0.6847740227489505, 0.5859185687248626, 0.6159768969127701, 0.45920599105646037, 0.6670059663925394, 0.6822876615641691]\n",
      "stds: [0.048235316133679, 0.021850241484152596, 0.01577070865149144, 0.04445826713842886, 0.07140900189099804, 0.027818847834076198]\n",
      "Col: 2\n",
      "means: [0.7401216598293658, 0.5859185687248626, 0.6159768969127701, 0.45920599105646037, 0.6670059663925394, 0.7401063239849354]\n",
      "stds: [0.051023080705761684, 0.021850241484152596, 0.01577070865149144, 0.04445826713842886, 0.07140900189099804, 0.033719546246449746]\n",
      "Col: 3\n",
      "means: [0.7809591342009946, 0.5859185687248626, 0.6159768969127701, 0.45920599105646037, 0.6670059663925394, 0.7874918521188757]\n",
      "stds: [0.053393674194987695, 0.021850241484152596, 0.01577070865149144, 0.04445826713842886, 0.07140900189099804, 0.03529501977874867]\n"
     ]
    },
    {
     "data": {
      "image/png": "[encoded data removed]",
      "text/plain": [
       "<Figure size 850x250 with 4 Axes>"
      ]
     },
     "metadata": {},
     "output_type": "display_data"
    }
   ],
   "source": [
    "fig, axs = plt.subplots(1, 4, figsize=(8.5, 2.5), sharey=True, sharex = False)\n",
    "x = np.arange(6)\n",
    "colors = ['#f467a1', '#d88c9a', '#b0d0d3', '#f9c784', '#b5c99a', '#4895ef']\n",
    "# datasets = [lpp_kegg, lpp_eggnog]\n",
    "xticklabels = [\n",
    "    ['k = 50', 'k = 41', 'k = 57', 'k = 136', 'k = 400', 'k = 50'],\n",
    "    ['k = 100', 'k = 41', 'k = 57', 'k = 136', 'k = 400', 'k = 100'],\n",
    "    ['k = 200', 'k = 41', 'k = 57', 'k = 136', 'k = 400', 'k = 200'],\n",
    "    ['k = 400', 'k = 41', 'k = 57', 'k = 136', 'k = 400', 'k = 400']\n",
    "]\n",
    "\n",
    "for col in range(4):\n",
    "    means = [lpp_kegg[:, col].mean()] + [lpp_previous[:, i].mean() for i in range(4)] + [lpp_eggnog[:, col].mean()]\n",
    "    stds = [lpp_kegg[:, col].std()] + [lpp_previous[:, i].std() for i in range(4)] + [lpp_eggnog[:, col].std()]\n",
    "    print(f'Col: {col}\\nmeans: {means}\\nstds: {stds}')\n",
    "    \n",
    "    axs[col].bar(x, means, yerr=stds, capsize=3, lw=2, edgecolor=colors, color='none', alpha=1.0,\n",
    "                error_kw = {'elinewidth': 1})\n",
    "    for i, mean in enumerate(means):\n",
    "        axs[col].text(x[i], mean + stds[i] + 0.02, f'{mean:.2f}', ha='center', va='bottom', fontsize=8)\n",
    "    axs[col].tick_params(top=True, right=True, direction='in', which='both')\n",
    "    axs[col].set_xticks(x)\n",
    "    axs[col].set_xticklabels(xticklabels[col], rotation = 45, ha='center')\n",
    "\n",
    "    # Add q-values\n",
    "    q_value_key = q_value_mapping[col]\n",
    "    for i in range(len(ks_previous)):\n",
    "        q_value_kegg = results_lpp_kegg[q_value_key].loc[i]['q-value']\n",
    "        q_value_eggnog = results_lpp_eggnog[q_value_key].loc[i]['q-value']\n",
    "        axs[col].text(x[i] + 1.15, 0.85 + i / 50, sig_sign(q_value_kegg), ha='center', fontsize=8, color='#f467a1')\n",
    "        axs[col].text(x[i] + 1.45, 0.85 + i / 50, sig_sign(q_value_eggnog), ha='center', fontsize=8, color='#4895ef')\n",
    "\n",
    "    \n",
    "axs[0].set_ylim(0, 1.45)\n",
    "axs[0].set_ylabel(f'Mean proportion of\\nconfident branches')\n",
    "# axs[1, 0].set_ylabel(f'Proportion of\\nconfident branches')\n",
    "# plt.savefig(f'./figures/lpp_taxonomic_imbalance.svg')\n",
    "plt.show()"
   ]
  },
  {
   "cell_type": "code",
   "execution_count": 92,
   "metadata": {},
   "outputs": [
    {
     "data": {
      "image/png": "[encoded data removed]",
      "text/plain": [
       "<Figure size 630x260 with 3 Axes>"
      ]
     },
     "metadata": {},
     "output_type": "display_data"
    }
   ],
   "source": [
    "fig, axs = plt.subplots(1, 3, figsize=(6.3, 2.6), sharey=True, sharex = False)\n",
    "x = np.arange(4)\n",
    "colors = ['#d88c9a', '#b0d0d3', '#f9c784', '#b5c99a']\n",
    "# datasets = [lpp_kegg, lpp_eggnog]\n",
    "xticklabels_kegg_eggnog = [50, 100, 200, 400]\n",
    "xticklabels_previous = [41, 57, 136, 400]\n",
    "\n",
    "axs[0].bar(x, lpp_kegg.mean(axis = 0), yerr = lpp_kegg.std(axis = 0),\n",
    "        edgecolor = '#f467a1', color = 'none', capsize = 3, lw = 3, error_kw = {'elinewidth': 1})\n",
    "axs[0].tick_params(top=True, right=True, direction='in', which='both')\n",
    "axs[0].set_xticks(x)\n",
    "axs[0].set_xticklabels(xticklabels_kegg_eggnog, ha = 'center')\n",
    "axs[0].set_xlabel(f'k')\n",
    "axs[1].bar(x, lpp_previous.mean(axis = 0), yerr = lpp_previous.std(axis = 0),\n",
    "        edgecolor = colors, color = 'none', capsize = 3, lw = 3, error_kw = {'elinewidth': 1})\n",
    "axs[1].tick_params(top=True, right=True, direction='in', which='both')\n",
    "axs[1].set_xticks(x)\n",
    "axs[1].set_xticklabels(xticklabels_previous, ha = 'center')\n",
    "axs[1].set_xlabel(f'k')\n",
    "axs[2].bar(x, lpp_eggnog.mean(axis = 0), yerr = lpp_eggnog.std(axis = 0),\n",
    "        edgecolor = '#4895ef', color = 'none', capsize = 3, lw = 3, error_kw = {'elinewidth': 1})\n",
    "axs[2].tick_params(top=True, right=True, direction='in', which='both')\n",
    "axs[2].set_xticks(x)\n",
    "axs[2].set_xticklabels(xticklabels_kegg_eggnog, ha = 'center')\n",
    "axs[2].set_xlabel(f'k')\n",
    "# Add means as text\n",
    "for i in x:\n",
    "        axs[0].text(x[i], lpp_kegg.mean(axis = 0)[i] + lpp_kegg.std(axis = 0)[i] + 0.02, \n",
    "                f'{lpp_kegg.mean(axis = 0)[i] % 1:.2f}'[1:], ha = 'center', va = 'bottom', fontsize = 10)\n",
    "        axs[1].text(x[i], lpp_previous.mean(axis = 0)[i] + lpp_previous.std(axis = 0)[i] + 0.02, \n",
    "                f'{lpp_previous.mean(axis = 0)[i] % 1:.2f}'[1:], ha = 'center', va = 'bottom', fontsize = 10)\n",
    "        axs[2].text(x[i], lpp_eggnog.mean(axis = 0)[i] + lpp_eggnog.std(axis = 0)[i] + 0.02, \n",
    "                f'{lpp_eggnog.mean(axis = 0)[i] % 1:.2f}'[1:], ha = 'center', va = 'bottom', fontsize = 10)\n",
    "      \n",
    "axs[0].set_ylim(0, 1.0)\n",
    "axs[0].set_ylabel(f'Proportion of confident branches')\n",
    "plt.savefig(f'./figures/lpp_taxonomic_imbalance.svg')\n",
    "plt.show()"
   ]
  },
  {
   "cell_type": "code",
   "execution_count": 65,
   "metadata": {},
   "outputs": [
    {
     "data": {
      "text/plain": [
       "{50:      comparison  statistic   p-value   q-value\n",
       " 0   k1_50_k2_41       36.0  0.562188  0.635365\n",
       " 1   k1_50_k2_57       25.0  0.635365  0.635365\n",
       " 2  k1_50_k2_136       60.0  0.000250  0.000999\n",
       " 3  k1_50_k2_400       16.0  0.147103  0.294206,\n",
       " 100:       comparison  statistic   p-value   q-value\n",
       " 0   k1_100_k2_41       59.0  0.000500  0.000999\n",
       " 1   k1_100_k2_57       53.0  0.010989  0.014652\n",
       " 2  k1_100_k2_136       60.0  0.000250  0.000999\n",
       " 3  k1_100_k2_400       37.5  0.447365  0.447365,\n",
       " 200:       comparison  statistic   p-value   q-value\n",
       " 0   k1_200_k2_41       60.0  0.000250  0.000333\n",
       " 1   k1_200_k2_57       60.0  0.000250  0.000333\n",
       " 2  k1_200_k2_136       60.0  0.000250  0.000333\n",
       " 3  k1_200_k2_400       48.0  0.055944  0.055944,\n",
       " 400:       comparison  statistic   p-value   q-value\n",
       " 0   k1_400_k2_41       60.0  0.000250  0.000333\n",
       " 1   k1_400_k2_57       60.0  0.000250  0.000333\n",
       " 2  k1_400_k2_136       60.0  0.000250  0.000333\n",
       " 3  k1_400_k2_400       53.0  0.010989  0.010989}"
      ]
     },
     "execution_count": 65,
     "metadata": {},
     "output_type": "execute_result"
    }
   ],
   "source": [
    "results_lpp_kegg"
   ]
  },
  {
   "cell_type": "code",
   "execution_count": 66,
   "metadata": {},
   "outputs": [
    {
     "data": {
      "text/plain": [
       "{50:      comparison  statistic   p-value   q-value\n",
       " 0   k1_50_k2_41       37.5  0.447365  0.447365\n",
       " 1   k1_50_k2_57       20.0  0.313187  0.417582\n",
       " 2  k1_50_k2_136       60.0  0.000250  0.000999\n",
       " 3  k1_50_k2_400        9.5  0.029939  0.059877,\n",
       " 100:       comparison  statistic   p-value   q-value\n",
       " 0   k1_100_k2_41       60.0  0.000250  0.000500\n",
       " 1   k1_100_k2_57       59.0  0.000500  0.000666\n",
       " 2  k1_100_k2_136       60.0  0.000250  0.000500\n",
       " 3  k1_100_k2_400       40.0  0.313187  0.313187,\n",
       " 200:       comparison  statistic   p-value   q-value\n",
       " 0   k1_200_k2_41       60.0  0.000250  0.000333\n",
       " 1   k1_200_k2_57       60.0  0.000250  0.000333\n",
       " 2  k1_200_k2_136       60.0  0.000250  0.000333\n",
       " 3  k1_200_k2_400       48.0  0.055944  0.055944,\n",
       " 400:       comparison  statistic   p-value   q-value\n",
       " 0   k1_400_k2_41       60.0  0.000250  0.000333\n",
       " 1   k1_400_k2_57       60.0  0.000250  0.000333\n",
       " 2  k1_400_k2_136       60.0  0.000250  0.000333\n",
       " 3  k1_400_k2_400       54.0  0.007493  0.007493}"
      ]
     },
     "execution_count": 66,
     "metadata": {},
     "output_type": "execute_result"
    }
   ],
   "source": [
    "results_lpp_eggnog"
   ]
  },
  {
   "cell_type": "code",
   "execution_count": null,
   "metadata": {},
   "outputs": [],
   "source": []
  },
  {
   "cell_type": "markdown",
   "metadata": {},
   "source": [
    "## Normalized Robinson-Foulds distance"
   ]
  },
  {
   "cell_type": "code",
   "execution_count": 67,
   "metadata": {},
   "outputs": [],
   "source": [
    "replicates = [0, 1, 2, 3, 4, 5, 6, 7, 8, 9]\n",
    "ks = [50, 100, 200, 400]"
   ]
  },
  {
   "cell_type": "code",
   "execution_count": 68,
   "metadata": {},
   "outputs": [],
   "source": [
    "nrf_kegg = np.empty((len(replicates), len(ks)), dtype = float)\n",
    "for i, rep in enumerate(replicates):\n",
    "    for j, k in enumerate(ks):\n",
    "        # Calculate nrf to WoL2\n",
    "        nrf_kegg[i, j] = RF_distance(wol_tree, trees_kegg[rep][k])"
   ]
  },
  {
   "cell_type": "code",
   "execution_count": 69,
   "metadata": {},
   "outputs": [
    {
     "data": {
      "text/plain": [
       "(10, 4)"
      ]
     },
     "execution_count": 69,
     "metadata": {},
     "output_type": "execute_result"
    }
   ],
   "source": [
    "nrf_kegg.shape"
   ]
  },
  {
   "cell_type": "code",
   "execution_count": 70,
   "metadata": {},
   "outputs": [],
   "source": [
    "nrf_eggnog = np.empty((len(replicates), len(ks)), dtype = float)\n",
    "for i, rep in enumerate(replicates):\n",
    "    for j, k in enumerate(ks):\n",
    "        # Calculate nrf to WoL2\n",
    "        nrf_eggnog[i, j] = RF_distance(wol_tree, trees_eggnog[rep][k])"
   ]
  },
  {
   "cell_type": "code",
   "execution_count": 71,
   "metadata": {},
   "outputs": [
    {
     "data": {
      "text/plain": [
       "(10, 4)"
      ]
     },
     "execution_count": 71,
     "metadata": {},
     "output_type": "execute_result"
    }
   ],
   "source": [
    "nrf_eggnog.shape"
   ]
  },
  {
   "cell_type": "code",
   "execution_count": 72,
   "metadata": {},
   "outputs": [],
   "source": [
    "replicates =[0, 1, 2, 3, 4, 5, 6, 7, 8, 9]\n",
    "markers = ['martinez_gutierrez', 'moody_2024', 'amphora', 'phylophlan']\n",
    "ks = [41, 57, 136, 400]"
   ]
  },
  {
   "cell_type": "code",
   "execution_count": 73,
   "metadata": {},
   "outputs": [],
   "source": [
    "nrf_previous = np.empty((len(replicates), len(markers)), dtype = float)\n",
    "for i, rep in enumerate(replicates):\n",
    "    for j, marker in enumerate(markers):\n",
    "        # Get lpp values\n",
    "        # Calculate nrf to WoL2\n",
    "        nrf_previous[i, j] = RF_distance(wol_tree, trees_previous[rep][marker])"
   ]
  },
  {
   "cell_type": "code",
   "execution_count": 74,
   "metadata": {},
   "outputs": [
    {
     "data": {
      "text/plain": [
       "(10, 4)"
      ]
     },
     "execution_count": 74,
     "metadata": {},
     "output_type": "execute_result"
    }
   ],
   "source": [
    "nrf_previous.shape"
   ]
  },
  {
   "cell_type": "markdown",
   "metadata": {},
   "source": [
    "Mann-Whitney test with Benjamini-Hochberg correction"
   ]
  },
  {
   "cell_type": "code",
   "execution_count": 75,
   "metadata": {},
   "outputs": [],
   "source": [
    "ks_kegg_eggnog = [50, 100, 200, 400]\n",
    "ks_previous = [41, 57, 136, 400]"
   ]
  },
  {
   "cell_type": "code",
   "execution_count": 76,
   "metadata": {},
   "outputs": [],
   "source": [
    "results_nrf_kegg = {}\n",
    "results_nrf_eggnog = {}\n",
    "for i, k1 in enumerate(ks_kegg_eggnog):\n",
    "    # Store p-values\n",
    "    pvals_kegg = [] \n",
    "    pvals_eggnog = []\n",
    "    for j, k2 in enumerate(ks_previous):\n",
    "        stat_kegg, p_value_kegg = mannwhitneyu(nrf_kegg[:, i], nrf_previous[:, j])\n",
    "        pvals_kegg.append([f'k1_{k1}_k2_{k2}', stat_kegg, p_value_kegg])\n",
    "        stat_eggnog, p_value_eggnog = mannwhitneyu(nrf_eggnog[:, i], nrf_previous[:, j])\n",
    "        pvals_eggnog.append([f'k1_{k1}_k2_{k2}', stat_eggnog, p_value_eggnog])\n",
    "    # Store as dataframe\n",
    "    results_nrf_kegg[k1] = pd.DataFrame(pvals_kegg, columns = ['comparison', 'statistic', 'p-value'])\n",
    "    results_nrf_eggnog[k1] = pd.DataFrame(pvals_eggnog, columns = ['comparison', 'statistic', 'p-value'])\n",
    "    # Correct p-values\n",
    "    results_nrf_kegg[k1]['q-value'] = false_discovery_control(results_nrf_kegg[k1]['p-value'])\n",
    "    results_nrf_eggnog[k1]['q-value'] = false_discovery_control(results_nrf_eggnog[k1]['p-value'])"
   ]
  },
  {
   "cell_type": "markdown",
   "metadata": {},
   "source": [
    "Figure"
   ]
  },
  {
   "cell_type": "code",
   "execution_count": 77,
   "metadata": {},
   "outputs": [
    {
     "data": {
      "image/png": "[encoded data removed]",
      "text/plain": [
       "<Figure size 750x400 with 8 Axes>"
      ]
     },
     "metadata": {},
     "output_type": "display_data"
    }
   ],
   "source": [
    "fig, axs = plt.subplots(2, 4, figsize=(7.5, 4), sharey=True, sharex=False)\n",
    "x = np.arange(5)\n",
    "colors_list = [['red', 'blue', 'orange', 'green', '#f72585'], ['red', 'blue', 'orange', 'green', '#4361ee']]\n",
    "datasets = [nrf_kegg, nrf_eggnog]\n",
    "xticklabels = [\n",
    "    ['k = 41', 'k = 57', 'k = 136', 'k = 400', 'k = 50'],\n",
    "    ['k = 41', 'k = 57', 'k = 136', 'k = 400', 'k = 100'],\n",
    "    ['k = 41', 'k = 57', 'k = 136', 'k = 400', 'k = 200'],\n",
    "    ['k = 41', 'k = 57', 'k = 136', 'k = 400', 'k = 400']\n",
    "]\n",
    "\n",
    "# Define a mapping for q-value datasets\n",
    "q_value_mapping = [50, 100, 200, 400]\n",
    "\n",
    "for row in range(2):\n",
    "    for col in range(4):\n",
    "        dataset = datasets[row] if col < 4 else nrf_previous\n",
    "        means = [nrf_previous[:, i].mean() for i in range(4)] + [dataset[:, col].mean()]\n",
    "        stds = [nrf_previous[:, i].std() for i in range(4)] + [dataset[:, col].std()]\n",
    "        colors = colors_list[row]\n",
    "        \n",
    "        axs[row, col].bar(x, means, yerr=stds, capsize=3, lw=2, edgecolor=colors, color='none', alpha=0.8)\n",
    "        for i, mean in enumerate(means):\n",
    "            axs[row, col].text(x[i], mean + stds[i] + 0.02, f'{mean:.2f}', ha='center', va='bottom', fontsize=8)\n",
    "        axs[row, col].tick_params(top=True, right=True, direction='in', which='both')\n",
    "        axs[row, col].set_xticks(x)\n",
    "        axs[row, col].set_xticklabels([] if row == 0 else xticklabels[col], rotation = 45, ha = 'center')\n",
    "\n",
    "    # Add q-values\n",
    "        if row == 0 and col < 4:\n",
    "            q_value_key = q_value_mapping[col]\n",
    "            for i in range(len(ks_previous)):\n",
    "                q_value = results_nrf_kegg[q_value_key].loc[i]['q-value']\n",
    "                axs[row, col].text(x[i] + 0.5, 0.45 - i / 50, sig_sign(q_value), ha='center', fontsize=8, color='k')\n",
    "        elif row == 1 and col < 4:\n",
    "            q_value_key = q_value_mapping[col]\n",
    "            for i in range(len(ks_previous)):\n",
    "                q_value = results_nrf_eggnog[q_value_key].loc[i]['q-value']\n",
    "                axs[row, col].text(x[i] + 0.5, 0.5 - i / 50, sig_sign(q_value), ha='center', fontsize=8, color='k')\n",
    "\n",
    "axs[1, 3].set_ylim(0, 0.6)\n",
    "axs[0, 0].set_ylabel(f'nRF')\n",
    "axs[1, 0].set_ylabel(f'nRF')\n",
    "# plt.savefig(f'./figures/nrf_taxonomic_imbalance.svg')\n",
    "plt.show()"
   ]
  },
  {
   "cell_type": "code",
   "execution_count": 78,
   "metadata": {},
   "outputs": [
    {
     "name": "stdout",
     "output_type": "stream",
     "text": [
      "Col: 0\n",
      "means: [0.22381999482702994, 0.24906274236419984, 0.2414573703216718, 0.2876198332190928, 0.17628144880769273, 0.224552050744445]\n",
      "stds: [0.01830729856256531, 0.01340680203054824, 0.02398700245177732, 0.03234050391065841, 0.021268597857166907, 0.021673784562618387]\n",
      "Col: 1\n",
      "means: [0.20472839570806597, 0.24906274236419984, 0.2414573703216718, 0.2876198332190928, 0.17628144880769273, 0.20278431734372498]\n",
      "stds: [0.018645853732489424, 0.01340680203054824, 0.02398700245177732, 0.03234050391065841, 0.021268597857166907, 0.018823071996709986]\n",
      "Col: 2\n",
      "means: [0.18753331796620068, 0.24906274236419984, 0.2414573703216718, 0.2876198332190928, 0.17628144880769273, 0.1874610084101031]\n",
      "stds: [0.02578330409696029, 0.01340680203054824, 0.02398700245177732, 0.03234050391065841, 0.021268597857166907, 0.023796500673477702]\n",
      "Col: 3\n",
      "means: [0.1834918713382253, 0.24906274236419984, 0.2414573703216718, 0.2876198332190928, 0.17628144880769273, 0.1805692165766137]\n",
      "stds: [0.022377478059758694, 0.01340680203054824, 0.02398700245177732, 0.03234050391065841, 0.021268597857166907, 0.02282996458206974]\n"
     ]
    },
    {
     "data": {
      "image/png": "[encoded data removed]",
      "text/plain": [
       "<Figure size 850x250 with 4 Axes>"
      ]
     },
     "metadata": {},
     "output_type": "display_data"
    }
   ],
   "source": [
    "fig, axs = plt.subplots(1, 4, figsize=(8.5, 2.5), sharey=True, sharex = False)\n",
    "x = np.arange(6)\n",
    "colors = ['#f467a1', '#d88c9a', '#b0d0d3', '#f9c784', '#b5c99a', '#4895ef']\n",
    "xticklabels = [\n",
    "    ['k = 50', 'k = 41', 'k = 57', 'k = 136', 'k = 400', 'k = 50'],\n",
    "    ['k = 100', 'k = 41', 'k = 57', 'k = 136', 'k = 400', 'k = 100'],\n",
    "    ['k = 200', 'k = 41', 'k = 57', 'k = 136', 'k = 400', 'k = 200'],\n",
    "    ['k = 400', 'k = 41', 'k = 57', 'k = 136', 'k = 400', 'k = 400']\n",
    "]\n",
    "\n",
    "for col in range(4):\n",
    "    means = [nrf_kegg[:, col].mean()] + [nrf_previous[:, i].mean() for i in range(4)] + [nrf_eggnog[:, col].mean()]\n",
    "    stds = [nrf_kegg[:, col].std()] + [nrf_previous[:, i].std() for i in range(4)] + [nrf_eggnog[:, col].std()]\n",
    "    print(f'Col: {col}\\nmeans: {means}\\nstds: {stds}')\n",
    "    \n",
    "    axs[col].bar(x, means, yerr=stds, capsize=3, lw=2, edgecolor=colors, color='none', alpha=1.0,\n",
    "                error_kw = {'elinewidth': 1})\n",
    "    for i, mean in enumerate(means):\n",
    "        axs[col].text(x[i], mean + stds[i] + 0.02, f'{mean:.2f}', ha='center', va='bottom', fontsize=8)\n",
    "    axs[col].tick_params(top=True, right=True, direction='in', which='both')\n",
    "    axs[col].set_xticks(x)\n",
    "    axs[col].set_xticklabels(xticklabels[col], rotation = 45, ha='center')\n",
    "\n",
    "    # Add q-values\n",
    "    q_value_key = q_value_mapping[col]\n",
    "    for i in range(len(ks_previous)):\n",
    "        q_value_kegg = results_nrf_kegg[q_value_key].loc[i]['q-value']\n",
    "        q_value_eggnog = results_nrf_eggnog[q_value_key].loc[i]['q-value']\n",
    "        axs[col].text(x[i] + 1.15, 0.5 - i / 50, sig_sign(q_value_kegg), ha='center', fontsize=8, color='#f467a1')\n",
    "        axs[col].text(x[i] + 1.45, 0.5 - i / 50, sig_sign(q_value_eggnog), ha='center', fontsize=8, color='#4895ef')\n",
    "   \n",
    "axs[0].set_ylim(0, 0.6)\n",
    "axs[0].set_ylabel(f'Mean nRF distance')\n",
    "# plt.savefig(f'./figures/nrf_taxonomic_imbalance.svg')\n",
    "plt.show()"
   ]
  },
  {
   "cell_type": "code",
   "execution_count": 91,
   "metadata": {},
   "outputs": [
    {
     "data": {
      "image/png": "[encoded data removed]",
      "text/plain": [
       "<Figure size 630x260 with 3 Axes>"
      ]
     },
     "metadata": {},
     "output_type": "display_data"
    }
   ],
   "source": [
    "fig, axs = plt.subplots(1, 3, figsize=(6.3, 2.6), sharey=True, sharex = False)\n",
    "x = np.arange(4)\n",
    "colors = ['#d88c9a', '#b0d0d3', '#f9c784', '#b5c99a']\n",
    "xticklabels_kegg_eggnog = [50, 100, 200, 400]\n",
    "xticklabels_previous = [41, 57, 136, 400]\n",
    "\n",
    "axs[0].bar(x, nrf_kegg.mean(axis = 0), yerr = nrf_kegg.std(axis = 0),\n",
    "        edgecolor = '#f467a1', color = 'none', capsize = 3, lw = 3, error_kw = {'elinewidth': 1})\n",
    "axs[0].tick_params(top=True, right=True, direction='in', which='both')\n",
    "axs[0].set_xticks(x)\n",
    "axs[0].set_xticklabels(xticklabels_kegg_eggnog, ha = 'center')\n",
    "axs[0].set_xlabel(f'k')\n",
    "axs[1].bar(x, nrf_previous.mean(axis = 0), yerr = nrf_previous.std(axis = 0),\n",
    "        edgecolor = colors, color = 'none', capsize = 3, lw = 3, error_kw = {'elinewidth': 1})\n",
    "axs[1].tick_params(top=True, right=True, direction='in', which='both')\n",
    "axs[1].set_xticks(x)\n",
    "axs[1].set_xticklabels(xticklabels_previous, ha = 'center')\n",
    "axs[1].set_xlabel(f'k')\n",
    "axs[2].bar(x, nrf_eggnog.mean(axis = 0), yerr = nrf_eggnog.std(axis = 0),\n",
    "        edgecolor = '#4895ef', color = 'none', capsize = 3, lw = 3, error_kw = {'elinewidth': 1})\n",
    "axs[2].tick_params(top=True, right=True, direction='in', which='both')\n",
    "axs[2].set_xticks(x)\n",
    "axs[2].set_xticklabels(xticklabels_kegg_eggnog, ha = 'center')\n",
    "axs[2].set_xlabel(f'k')\n",
    "# Add means as text\n",
    "for i in x:\n",
    "        axs[0].text(x[i], nrf_kegg.mean(axis = 0)[i] + nrf_kegg.std(axis = 0)[i] + 0.02, \n",
    "                f'{nrf_kegg.mean(axis = 0)[i] % 1:.2f}'[1:], ha = 'center', va = 'bottom', fontsize = 10)\n",
    "        axs[1].text(x[i], nrf_previous.mean(axis = 0)[i] + nrf_previous.std(axis = 0)[i] + 0.02, \n",
    "                f'{nrf_previous.mean(axis = 0)[i] % 1:.2f}'[1:], ha = 'center', va = 'bottom', fontsize = 10)\n",
    "        axs[2].text(x[i], nrf_eggnog.mean(axis = 0)[i] + nrf_eggnog.std(axis = 0)[i] + 0.02, \n",
    "                f'{nrf_eggnog.mean(axis = 0)[i] % 1:.2f}'[1:], ha = 'center', va = 'bottom', fontsize = 10)\n",
    "      \n",
    "axs[0].set_ylim(0, 0.4)\n",
    "axs[0].set_ylabel(f'nRF distance')\n",
    "plt.savefig(f'./figures/nrf_taxonomic_imbalance.svg')\n",
    "plt.show()"
   ]
  },
  {
   "cell_type": "code",
   "execution_count": null,
   "metadata": {},
   "outputs": [],
   "source": [
    "results_nrf_kegg"
   ]
  },
  {
   "cell_type": "code",
   "execution_count": null,
   "metadata": {},
   "outputs": [],
   "source": [
    "results_nrf_eggnog"
   ]
  },
  {
   "cell_type": "code",
   "execution_count": null,
   "metadata": {},
   "outputs": [],
   "source": []
  },
  {
   "cell_type": "code",
   "execution_count": null,
   "metadata": {},
   "outputs": [],
   "source": []
  },
  {
   "cell_type": "code",
   "execution_count": null,
   "metadata": {},
   "outputs": [],
   "source": []
  },
  {
   "cell_type": "code",
   "execution_count": null,
   "metadata": {},
   "outputs": [],
   "source": []
  },
  {
   "cell_type": "code",
   "execution_count": null,
   "metadata": {},
   "outputs": [],
   "source": []
  },
  {
   "cell_type": "code",
   "execution_count": null,
   "metadata": {},
   "outputs": [],
   "source": []
  }
 ],
 "metadata": {
  "kernelspec": {
   "display_name": "BipNet",
   "language": "python",
   "name": "python3"
  },
  "language_info": {
   "codemirror_mode": {
    "name": "ipython",
    "version": 3
   },
   "file_extension": ".py",
   "mimetype": "text/x-python",
   "name": "python",
   "nbconvert_exporter": "python",
   "pygments_lexer": "ipython3",
   "version": "3.10.13"
  }
 },
 "nbformat": 4,
 "nbformat_minor": 2
}
