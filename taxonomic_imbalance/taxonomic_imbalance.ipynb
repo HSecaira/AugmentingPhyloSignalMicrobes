{
 "cells": [
  {
   "cell_type": "code",
   "execution_count": 1,
   "metadata": {},
   "outputs": [],
   "source": [
    "import numpy as np\n",
    "import pandas as pd\n",
    "import matplotlib.pyplot as plt\n",
    "from skbio.diversity.alpha import gini_index, pielou_e\n",
    "import os"
   ]
  },
  {
   "cell_type": "code",
   "execution_count": 2,
   "metadata": {},
   "outputs": [],
   "source": [
    "plt.rcParams.update({\n",
    "    'figure.autolayout': True,\n",
    "    'savefig.bbox': 'tight',\n",
    "    'svg.fonttype': 'none',\n",
    "    'font.sans-serif': 'Arial',\n",
    "    'font.size': 12,\n",
    "    'boxplot.medianprops.linewidth': 2,\n",
    "    'boxplot.flierprops.markeredgecolor': 'none',\n",
    "    'boxplot.flierprops.markersize': 5})"
   ]
  },
  {
   "cell_type": "markdown",
   "metadata": {},
   "source": [
    "Functions"
   ]
  },
  {
   "cell_type": "code",
   "execution_count": 3,
   "metadata": {},
   "outputs": [],
   "source": [
    "def greedy_power_mean_sample_final(data, k, p, pseudocount = 0.1):\n",
    "    \"\"\"Iteratively select rows from a matrix such that the selection criterion by\n",
    "    column is maximized.\n",
    "\n",
    "    Parameters\n",
    "    ----------\n",
    "    data : ndarray of shape (2D)\n",
    "        Input data matrix (gene by species).\n",
    "    k : int\n",
    "        Number of rows (genes) to select.\n",
    "    p : float or str\n",
    "        Exponent of generalized mean, or special values: \"min\" or \"max\".\n",
    "    pseudocount : float, optional\n",
    "        Pseudocount to add to each cell value.\n",
    "    min_universality_genes : int, optional\n",
    "        Minimum universality threshold.\n",
    "\n",
    "    Returns\n",
    "    -------\n",
    "    ndarray (1D)\n",
    "        Row indices selected in order.\n",
    "\n",
    "    \"\"\"\n",
    "    \n",
    "    # numbers of genes (n) and species (m)\n",
    "    n, m = data.shape\n",
    "\n",
    "    # matrix is empty\n",
    "    if n == 0 or m == 0:\n",
    "        raise ValueError('Matrix is empty!')\n",
    "\n",
    "    # matrix contains only zeroes\n",
    "    if (data == 0).all():\n",
    "        raise ValueError('Matrix only contains 0\\'s')\n",
    "\n",
    "    if k >= n:\n",
    "        raise ValueError(f'k should be smaller than {n}')\n",
    "\n",
    "    # Add pseudocount\n",
    "    data = data + pseudocount\n",
    "\n",
    "    # cumulative gene counts\n",
    "    counts = np.zeros(m, dtype = int)\n",
    "\n",
    "    # gene indices in original data matrix\n",
    "    indices = np.arange(n)\n",
    "\n",
    "    # indices of selected genes\n",
    "    selected = []\n",
    "\n",
    "    # iteratively select k genes\n",
    "    for i in range(k):\n",
    "\n",
    "        # calculate counts after adding each gene\n",
    "        sums_ = counts + data\n",
    "\n",
    "        # select a gene that maximizes the power mean gene count per species, using the cumulative matrix\n",
    "        if isinstance(p, int) or isinstance(p, np.int64): \n",
    "            choice = pmean(sums_, int(p), axis = 1).argmax()\n",
    "        elif p == 'min':\n",
    "            choice = sums_.min(axis = 1).argmax()\n",
    "        elif p == 'max':\n",
    "            choice = sums_.max(axis = 1).argmax()\n",
    "        else:\n",
    "            raise ValueError(f'Invalid p: {p}.')\n",
    "\n",
    "        # append index of selected gene\n",
    "        selected.append(indices[choice])\n",
    "\n",
    "        # update per-species gene counts\n",
    "        counts = sums_[choice]\n",
    "\n",
    "        # remove selected gene from data matrix\n",
    "        data = np.delete(data, choice, axis = 0)\n",
    "\n",
    "        # remove selected gene from indices\n",
    "        indices = np.delete(indices, choice)\n",
    "\n",
    "    # return np.sort(np.array(selected))\n",
    "    return np.array(selected)"
   ]
  },
  {
   "cell_type": "code",
   "execution_count": 4,
   "metadata": {},
   "outputs": [],
   "source": [
    "def greedy_power_mean_sample_mask(data, k, p, pseudocount = 0.1):\n",
    "    \"\"\"Iteratively select rows from a matrix such that the selection criterion by\n",
    "    column is maximized.\n",
    "\n",
    "    Parameters\n",
    "    ----------\n",
    "    data : ndarray of shape (2D)\n",
    "        Input data matrix (gene by species).\n",
    "    k : int\n",
    "        Number of rows (genes) to select.\n",
    "    p : float or str\n",
    "        Exponent of generalized mean, or special values: \"min\" or \"max\".\n",
    "    pseudocount : float, optional\n",
    "        Pseudocount to add to each cell value.\n",
    "    min_universality_genes : int, optional\n",
    "        Minimum universality threshold.\n",
    "\n",
    "    Returns\n",
    "    -------\n",
    "    ndarray (1D)\n",
    "        Row indices selected in order.\n",
    "\n",
    "    \"\"\"\n",
    "    \n",
    "    # numbers of genes (n) and species (m)\n",
    "    n, m = data.shape\n",
    "\n",
    "    # matrix is empty\n",
    "    if n == 0 or m == 0:\n",
    "        raise ValueError('Matrix is empty!')\n",
    "\n",
    "    # matrix contains only zeroes\n",
    "    if (data == 0).all():\n",
    "        raise ValueError('Matrix only contains 0\\'s')\n",
    "\n",
    "    if k >= n:\n",
    "        raise ValueError(f'k should be smaller than {n}')\n",
    "\n",
    "    # Add pseudocount\n",
    "    data = data.astype(np.float64, copy = False) + pseudocount\n",
    "\n",
    "    # cumulative gene counts\n",
    "    counts = np.zeros(m, dtype = np.float64)\n",
    "\n",
    "    # gene indices in original data matrix\n",
    "    all_original_indices = np.arange(n)\n",
    "    # Boolean mask to keep track of available genes\n",
    "    available_row_mask = np.ones(n, dtype = bool)\n",
    "\n",
    "    # indices of selected genes\n",
    "    selected = np.empty(k, dtype = int)\n",
    "\n",
    "    # iteratively select k genes\n",
    "    for i in range(k):\n",
    "\n",
    "        # Create new array containing only available rows\n",
    "        current_data_slice = data[available_row_mask, :]\n",
    "        # calculate counts after adding each gene\n",
    "        sums_ = counts + current_data_slice\n",
    "\n",
    "        # select a gene that maximizes the power mean gene count per species, using the cumulative matrix\n",
    "        if isinstance(p, int) or isinstance(p, np.int64): \n",
    "            choice = pmean(sums_, int(p), axis = 1).argmax()\n",
    "        elif p == 'min':\n",
    "            choice = sums_.min(axis = 1).argmax()\n",
    "        elif p == 'max':\n",
    "            choice = sums_.max(axis = 1).argmax()\n",
    "        else:\n",
    "            raise ValueError(f'Invalid p: {p}.')\n",
    "\n",
    "        # append index of selected gene\n",
    "        original_indices_of_available_rows = all_original_indices[available_row_mask]\n",
    "        chosen_original_idx = original_indices_of_available_rows[choice]\n",
    "        selected[i] = chosen_original_idx\n",
    "\n",
    "        # update per-species gene counts\n",
    "        counts = sums_[choice, :]\n",
    "\n",
    "        # Update mask\n",
    "        available_row_mask[chosen_original_idx] = False\n",
    "\n",
    "    # return np.sort(np.array(selected))\n",
    "    return selected"
   ]
  },
  {
   "cell_type": "code",
   "execution_count": 5,
   "metadata": {},
   "outputs": [],
   "source": [
    "def greedy_power_mean_sample_alt(data_orig, k, p, pseudocount = 0.1):\n",
    "    \"\"\"\n",
    "    Select k rows from a matrix such that the selection criterion by column is maximized.\n",
    "    This improved version avoids costly np.delete operations in a loop.\n",
    "\n",
    "    Parameters\n",
    "    ----------\n",
    "    data_orig : ndarray (2D)\n",
    "        Input data matrix.\n",
    "    k : int\n",
    "        Number of rows to select.\n",
    "    p : float, int, or str\n",
    "        Exponent for the power mean. Can be an integer, a float, or 'min'/'max'.\n",
    "        If p=0, the geometric mean is used.\n",
    "    pseudocount : float\n",
    "        Value to add to all elements of the data matrix to ensure positivity\n",
    "        for operations like log or negative/fractional powers.\n",
    "    min_universality_genes : float or int\n",
    "        A threshold used in a pre-check. If all rows in the original data\n",
    "        sum to this specific value, an error is raised.\n",
    "\n",
    "    Returns\n",
    "    -------\n",
    "    ndarray (1D)\n",
    "        Row indices selected from the original matrix, in order of selection.\n",
    "    \"\"\"\n",
    "    n, m = data_orig.shape\n",
    "\n",
    "    # --- Input Validations ---\n",
    "    if n == 0 or m == 0:\n",
    "        raise ValueError('Matrix is empty!')\n",
    "\n",
    "    # Check on original data before pseudocount\n",
    "    if np.all(data_orig == 0):\n",
    "        raise ValueError(\"Matrix only contains 0's (before pseudocount).\")\n",
    "\n",
    "    if not isinstance(k, int) or k <= 0:\n",
    "        raise ValueError(f'k must be a positive integer, got {k}.')\n",
    "    if k >= n:\n",
    "        raise ValueError(f'k ({k}) must be smaller than the number of rows ({n}).')\n",
    "\n",
    "    # --- Data Preparation ---\n",
    "    # Work on a copy, ensure float type for calculations, and add pseudocount.\n",
    "    # Using float64 for precision with powers and sums.\n",
    "    data = data_orig.astype(np.float64)\n",
    "    data += pseudocount\n",
    "\n",
    "    # --- Initialization for Selection Process ---\n",
    "    # Stores the cumulative sum of features for the currently selected set of rows.\n",
    "    current_cumulative_sum = np.zeros(m, dtype=np.float64)\n",
    "\n",
    "    # Array to store the indices of the selected rows.\n",
    "    selected_indices = np.empty(k, dtype = int)\n",
    "    # Boolean mask to keep track of rows that have already been selected.\n",
    "    is_row_selected_mask = np.zeros(n, dtype=bool)\n",
    "\n",
    "    # --- Iterative Selection ---\n",
    "    for i in range(k):\n",
    "        best_score_for_this_iteration = -np.inf\n",
    "        best_row_idx_for_this_iteration = -1\n",
    "        # To store the sum vector corresponding to the best choice, avoiding re-computation.\n",
    "        best_potential_sum_if_selected = None\n",
    "\n",
    "        # Iterate through all original rows to find the next best one.\n",
    "        for current_row_idx in range(n):\n",
    "            if is_row_selected_mask[current_row_idx]:\n",
    "                continue  # Skip if this row has already been selected.\n",
    "\n",
    "            # Calculate the potential new cumulative sum if this row were added.\n",
    "            potential_new_sum = current_cumulative_sum + data[current_row_idx, :]\n",
    "            \n",
    "            current_score = 0.0\n",
    "            # Determine the type of p and calculate score accordingly.\n",
    "            use_numeric_p = False\n",
    "\n",
    "            if isinstance(p, int) or isinstance(p, np.int64): \n",
    "                current_score = pmean(potential_new_sum, int(p))\n",
    "            elif p == 'min':\n",
    "                current_score = potential_new_sum.min(axis = 1)\n",
    "            elif p == 'max':\n",
    "                current_score = potential_new_sum.max(axis = 1)\n",
    "            else:\n",
    "                raise ValueError(f'Invalid p: {p}.')\n",
    "\n",
    "            if current_score > best_score_for_this_iteration:\n",
    "                best_score_for_this_iteration = current_score\n",
    "                best_row_idx_for_this_iteration = current_row_idx\n",
    "                best_potential_sum_if_selected = potential_new_sum\n",
    "\n",
    "        # Record the selected row and update states.\n",
    "        selected_indices[i] = best_row_idx_for_this_iteration\n",
    "        is_row_selected_mask[best_row_idx_for_this_iteration] = True\n",
    "        current_cumulative_sum = best_potential_sum_if_selected # Use the stored sum\n",
    "\n",
    "    return selected_indices"
   ]
  },
  {
   "cell_type": "markdown",
   "metadata": {},
   "source": [
    "Load WoL2 data"
   ]
  },
  {
   "cell_type": "code",
   "execution_count": 6,
   "metadata": {},
   "outputs": [
    {
     "data": {
      "text/plain": [
       "(15953, 22)"
      ]
     },
     "execution_count": 6,
     "metadata": {},
     "output_type": "execute_result"
    }
   ],
   "source": [
    "df = pd.read_table(f'assembly.tsv', sep = '\\t', index_col = 0)\n",
    "# Get only complete genomes\n",
    "# df = df.loc[df.query('assembly_level == \"Complete Genome\" or assembly_level == \"Chromosome\"').index]\n",
    "df.shape"
   ]
  },
  {
   "cell_type": "code",
   "execution_count": 7,
   "metadata": {},
   "outputs": [
    {
     "data": {
      "text/plain": [
       "(15656, 7)"
      ]
     },
     "execution_count": 7,
     "metadata": {},
     "output_type": "execute_result"
    }
   ],
   "source": [
    "levels = ['domain', 'phylum', 'class', 'order', 'family', 'genus', 'species']\n",
    "taxonomy = pd.read_csv(f'lineages_gtdb_wol2.txt', index_col = 0, \n",
    "                     sep = r'\\t|;', engine = 'python', header = None,\n",
    "                    names = levels)\n",
    "taxonomy = taxonomy.map(lambda x: x.strip())\n",
    "# taxonomy = taxonomy.loc[df.index]\n",
    "# Remove taxa with no taxonomic information, i.e. p__\n",
    "taxonomy = taxonomy[taxonomy['phylum'] != 'p__']\n",
    "taxonomy.shape"
   ]
  },
  {
   "cell_type": "code",
   "execution_count": 8,
   "metadata": {},
   "outputs": [
    {
     "data": {
      "image/png": "[encoded data removed]",
      "text/plain": [
       "<Figure size 600x300 with 1 Axes>"
      ]
     },
     "metadata": {},
     "output_type": "display_data"
    }
   ],
   "source": [
    "plt.figure(figsize = (6, 3))\n",
    "data = []\n",
    "for level in levels:\n",
    "    data.append(len(taxonomy[level].value_counts()))\n",
    "plt.bar(range(len(levels)), [x for x in data], tick_label = levels)\n",
    "plt.yscale('log')\n",
    "plt.ylabel('# of taxonomic groups')\n",
    "plt.xlabel('Taxonomic level')\n",
    "plt.tick_params(top = True, right = True, direction = 'in', which = 'both')\n",
    "plt.show()"
   ]
  },
  {
   "cell_type": "code",
   "execution_count": 9,
   "metadata": {},
   "outputs": [
    {
     "data": {
      "image/png": "[encoded data removed]",
      "text/plain": [
       "<Figure size 600x300 with 1 Axes>"
      ]
     },
     "metadata": {},
     "output_type": "display_data"
    }
   ],
   "source": [
    "plt.figure(figsize = (6, 3))\n",
    "y = taxonomy['phylum'].value_counts()\n",
    "x = np.arange(len(y))\n",
    "plt.bar(x, y)\n",
    "plt.axhline(y = 4, ls = 'dashed', color = 'k')\n",
    "# plt.axvline(x = 10, ls = 'dashed', color = 'k')\n",
    "plt.yscale('log')\n",
    "# plt.xticks([])\n",
    "plt.xlabel('Phylum')\n",
    "plt.ylabel('# of genomes')\n",
    "plt.show()"
   ]
  },
  {
   "cell_type": "code",
   "execution_count": 12,
   "metadata": {},
   "outputs": [
    {
     "data": {
      "text/plain": [
       "phylum\n",
       "p__Proteobacteria        3712\n",
       "p__Patescibacteria       1872\n",
       "p__Actinobacteriota      1555\n",
       "p__Firmicutes            1553\n",
       "p__Bacteroidota          1460\n",
       "                         ... \n",
       "p__Caldisericota            5\n",
       "p__Hadarchaeota             5\n",
       "p__Ratteibacteria           5\n",
       "p__KSB1                     5\n",
       "p__Desulfobacterota_C       5\n",
       "Name: count, Length: 78, dtype: int64"
      ]
     },
     "execution_count": 12,
     "metadata": {},
     "output_type": "execute_result"
    }
   ],
   "source": [
    "y[y > 4]"
   ]
  },
  {
   "cell_type": "markdown",
   "metadata": {},
   "source": [
    "# Testing taxonomic imbalance\n",
    "\n",
    "If computational resources were unlimited, we can test taxonomic imbalance with the following protocol:\n",
    "\n",
    "1. Iterate over from 2 to T, where T is the maximum # of taxonomic groups at a given taxonomic level (e.g. phylum).\n",
    "2. Select $\\hat{T}$ groups randomly.\n",
    "3. Randomly select genomes across groups with abundances following a $\\beta$ distribution.\n",
    "\n",
    "However, doing this grid search is computationally expensive. Therefore, let us fix some paramaters to ease the computational burden.\n",
    "\n",
    "1. Set a maximum number of taxonomic groups to T = 17 at the phylum level (same as WoL2 analized in manuscript).\n",
    "2. Fix the maximum number of genomes to 500.\n",
    "3. Sampled the abundance of genomes across T taxonomic groups following a $\\beta$ distribution. The parameters of the distribution are tested before hand so the unevenness is high (measured with Gini index, as suggested in [Martinez-Gutierrez, 2021](https://academic.oup.com/mbe/article/38/12/5514/6358142?login=true): 0 --> evenness; 1 --> unevenness).\n",
    "4. For each abundance, randomly sample a taxonomic group and sample genomes within.\n",
    "5. Repeat steps 4 and 5 for 10 replicates.\n"
   ]
  },
  {
   "cell_type": "code",
   "execution_count": 10,
   "metadata": {},
   "outputs": [],
   "source": [
    "# Parameters\n",
    "T = 17 # Number of taxonomic groups, same as the WoL2 dataset tested on manuscript\n",
    "num_genomes = 500 # Number of genomes across taxonomic groups\n",
    "k = 400 # Number of marker genes to select \n",
    "p = 0 # Exponent p for selection\n",
    "replicates = np.arange(10) # Number of replicates\n",
    "taxonomic_level = 'phylum' # Taxonomic level to use for selection\n",
    "min_num_genomes = 4 # Minimum number of genomes per taxonomic group"
   ]
  },
  {
   "cell_type": "code",
   "execution_count": 11,
   "metadata": {},
   "outputs": [
    {
     "data": {
      "image/png": "[encoded data removed]",
      "text/plain": [
       "<Figure size 600x300 with 1 Axes>"
      ]
     },
     "metadata": {},
     "output_type": "display_data"
    }
   ],
   "source": [
    "plt.figure(figsize = (6, 3))\n",
    "rng = np.random.default_rng(42)\n",
    "x = rng.beta(a = 0.1, b = 1, size = 10000)\n",
    "plt.hist((x / x.sum()) * num_genomes, bins = 50)\n",
    "plt.tick_params(top = True, right = True, direction = 'in', which = 'both')\n",
    "plt.title('Beta distribution for sampling genome abundances')\n",
    "plt.show()"
   ]
  },
  {
   "cell_type": "code",
   "execution_count": 12,
   "metadata": {},
   "outputs": [],
   "source": [
    "ginis = np.empty(len(replicates), dtype = float)\n",
    "pielous = np.empty(len(replicates), dtype = float)\n",
    "selected_taxonomic_groups = {}"
   ]
  },
  {
   "cell_type": "code",
   "execution_count": 13,
   "metadata": {},
   "outputs": [
    {
     "name": "stdout",
     "output_type": "stream",
     "text": [
      "Mean gini index: 0.656 +/- 0.043\n"
     ]
    }
   ],
   "source": [
    "for rep in replicates:\n",
    "    # Initialize dict\n",
    "    selected_taxonomic_groups[rep] = {}\n",
    "    # Fix seed\n",
    "    rng = np.random.default_rng(rep)\n",
    "    # Sample abundance\n",
    "    abundance = rng.beta(a = 0.1, b = 1, size = T)\n",
    "    relative_abundance = abundance / abundance.sum()\n",
    "    abundance_genomes = np.round(relative_abundance * num_genomes).astype(int)\n",
    "    # # If abundance is 0 set it to 1\n",
    "    # abundance_genomes[abundance_genomes == 0] = 1\n",
    "    # Or reescale abundance so the minimum is min_num_genomes\n",
    "    abundance_genomes = abundance_genomes + min_num_genomes\n",
    "    # Calculate gini index as a measure of evenness\n",
    "    ginis[rep] = gini_index(abundance_genomes)\n",
    "    pielous[rep] = pielou_e(abundance_genomes)\n",
    "    # Get taxonomic groups\n",
    "    taxonomic_groups = taxonomy[taxonomic_level].unique()\n",
    "    # Randomly select a group and sample genomes according to abundance\n",
    "    for i, num_genomes_sample in enumerate(abundance_genomes):\n",
    "        # rng2 = np.random.default_rng(i)\n",
    "        taxonomic_group = rng.choice(taxonomic_groups)\n",
    "        genomes = taxonomy[taxonomy[taxonomic_level] == taxonomic_group].index\n",
    "        # Check if taxonomic group has enough genomes. If not keep sampling...\n",
    "        if len(genomes) < num_genomes_sample:\n",
    "            # Sample a different taxonomic group\n",
    "            while len(genomes) < num_genomes_sample:\n",
    "                taxonomic_group = rng.choice(taxonomic_groups)\n",
    "                genomes = taxonomy[taxonomy[taxonomic_level] == taxonomic_group].index\n",
    "        # Add genomes and taxonomic group\n",
    "        selected_taxonomic_groups[rep][taxonomic_group] = rng.choice(genomes, size = num_genomes_sample, replace = False)\n",
    "        # Remove taxonomic group from the list of taxonomic groups\n",
    "        taxonomic_groups = taxonomic_groups[taxonomic_groups != taxonomic_group]\n",
    "        \n",
    "print(f'Mean gini index: {ginis.mean():.3f} +/- {ginis.std():.3f}')\n",
    "# print(f'Mean pielou evenness: {pielous.mean():.3f} +/- {pielous.std():.3f}')"
   ]
  },
  {
   "cell_type": "code",
   "execution_count": 14,
   "metadata": {},
   "outputs": [
    {
     "name": "stdout",
     "output_type": "stream",
     "text": [
      "Replicate: 0, Gini index: 0.640\n",
      "\tp__Fusobacteriota with 12 genomes: ['G000158315' 'G010367435' 'G000691745']\n",
      "\tp__Marinisomatota with 4 genomes: ['G001626675' 'G001577025' 'G004402895']\n",
      "\tp__Firmicutes_G with 6 genomes: ['G001513395' 'G900019985' 'G007116995']\n",
      "\tp__Deferribacterota with 4 genomes: ['G001603805' 'G000010985' 'G000421105']\n",
      "\tp__Thermoproteota with 197 genomes: ['G001515905' 'G001316145' 'G000223395']\n",
      "\tp__Thermoplasmatota with 175 genomes: ['G000383395' 'G001512965' 'G003663595']\n",
      "\tp__Proteobacteria with 43 genomes: ['G002172695' 'G001695855' 'G000482725']\n",
      "\tp__Patescibacteria with 63 genomes: ['G001001645' 'G002791975' 'G002869265']\n",
      "\tp__Calescibacterota with 4 genomes: ['G011373475' 'G000494225' 'G000404605']\n",
      "\tp__Fibrobacterota with 4 genomes: ['G001462245' 'G900142475' 'G900143015']\n",
      "\tp__Firmicutes_B with 9 genomes: ['G011048115' 'G900101835' 'G000190635']\n",
      "\tp__Halobacteriota with 8 genomes: ['G000337455' 'G003164755' 'G000970045']\n",
      "\tp__Planctomycetota with 11 genomes: ['G011369955' 'G007753455' 'G012270345']\n",
      "\tp__Deinococcota with 15 genomes: ['G001644565' 'G000421625' 'G000620065']\n",
      "\tp__Firmicutes with 4 genomes: ['G000829195' 'G000829555' 'G000377985']\n",
      "\tp__Methanobacteriota with 5 genomes: ['G000190095' 'G003600755' 'G001639265']\n",
      "\tp__Nitrospirota with 4 genomes: ['G003569385' 'G001541255' 'G000714715']\n",
      "Replicate: 1, Gini index: 0.637\n",
      "\tp__Iainarchaeota with 5 genomes: ['G003353825' 'G001796805' 'G001796725']\n",
      "\tp__Riflebacteria with 4 genomes: ['G002068715' 'G002839445' 'G001872985']\n",
      "\tp__Firmicutes_G with 4 genomes: ['G002159155' 'G001544015' 'G001513495']\n",
      "\tp__Firmicutes with 208 genomes: ['G000958505' 'G001437405' 'G001543175']\n",
      "\tp__Patescibacteria with 67 genomes: ['G000993335' 'G001820065' 'G001000475']\n",
      "\tp__Chloroflexota with 79 genomes: ['G012514695' 'G009392275' 'G009937255']\n",
      "\tp__Nitrospinota with 4 genomes: ['G001804945' 'G009874475' 'G001804905']\n",
      "\tp__Fibrobacterota with 4 genomes: ['G900143015' 'G001462245' 'G001873075']\n",
      "\tp__Altiarchaeota with 4 genomes: ['G902384455' 'G001742785' 'G001723845']\n",
      "\tp__Bacteroidota with 4 genomes: ['G000024845' 'G000709555' 'G001747495']\n",
      "\tp__Thermoplasmatota with 131 genomes: ['G012269645' 'G902610965' 'G001510185']\n",
      "\tp__Desulfobacterota with 5 genomes: ['G000711225' 'G002093115' 'G011370455']\n",
      "\tp__Marinisomatota with 10 genomes: ['G011046365' 'G002705605' 'G902629855']\n",
      "\tp__Fusobacteriota with 4 genomes: ['G000691665' 'G000691745' 'G000242215']\n",
      "\tp__Synergistota with 13 genomes: ['G000402835' 'G001508975' 'G000237805']\n",
      "\tp__WOR-3 with 13 genomes: ['G000980735' 'G002256535' 'G001303785']\n",
      "\tp__Firmicutes_A with 10 genomes: ['G001896645' 'G001299475' 'G000955725']\n",
      "Replicate: 2, Gini index: 0.740\n",
      "\tp__WOR-3 with 4 genomes: ['G011052815' 'G002010655' 'G001303785']\n",
      "\tp__Patescibacteria with 439 genomes: ['G001777015' 'G003962975' 'G001818695']\n",
      "\tp__Atribacterota with 10 genomes: ['G000347575' 'G001006985' 'G001509285']\n",
      "\tp__Armatimonadota with 4 genomes: ['G002335425' 'G003574315' 'G001457855']\n",
      "\tp__Nitrospirota with 4 genomes: ['G002897935' 'G001643555' 'G001803945']\n",
      "\tp__Methanobacteriota_B with 19 genomes: ['G000211475' 'G001587715' 'G000151105']\n",
      "\tp__UBA10199 with 4 genomes: ['G001798535' 'G001798715' 'G001798185']\n",
      "\tp__Desulfobacterota_E with 4 genomes: ['G001873935' 'G011773515' 'G003696505']\n",
      "\tp__Myxococcota with 4 genomes: ['G003818285' 'G000219105' 'G009659535']\n",
      "\tp__Fermentibacterota with 4 genomes: ['G012516735' 'G001875255' 'G002748705']\n",
      "\tp__Firmicutes_D with 4 genomes: ['G001513245' 'G003605065' 'G003550565']\n",
      "\tp__KSB1 with 5 genomes: ['G011389025' 'G011046315' 'G011375275']\n",
      "\tp__Methanobacteriota with 4 genomes: ['G005924185' 'G000214725' 'G000437055']\n",
      "\tp__Deferribacterota with 4 genomes: ['G001603805' 'G000010985' 'G000025725']\n",
      "\tp__Thermotogota with 22 genomes: ['G000832145' 'G000235405' 'G001508115']\n",
      "\tp__Cyanobacteria with 26 genomes: ['G000317675' 'G000515235' 'G000312725']\n",
      "\tp__Actinobacteriota with 6 genomes: ['G006539565' 'G001486445' 'G000144675']\n",
      "Replicate: 3, Gini index: 0.662\n",
      "\tp__Elusimicrobiota with 4 genomes: ['G001800095' 'G001800075' 'G001800425']\n",
      "\tp__Firmicutes with 91 genomes: ['G001434845' 'G900109135' 'G003553945']\n",
      "\tp__Bdellovibrionota_E with 4 genomes: ['G001798315' 'G001798475' 'G001797335']\n",
      "\tp__Campylobacterota with 6 genomes: ['G000242915' 'G000583775' 'G001548055']\n",
      "\tp__Desulfobacterota with 163 genomes: ['G001799405' 'G000016745' 'G002753105']\n",
      "\tp__Atribacterota with 4 genomes: ['G011056645' 'G001509285' 'G000347575']\n",
      "\tp__Armatimonadota with 4 genomes: ['G000427095' 'G011380295' 'G003695835']\n",
      "\tp__Dependentiae with 4 genomes: ['G000991385' 'G001000065' 'G010027825']\n",
      "\tp__Firmicutes_A with 50 genomes: ['G000431995' 'G002160525' 'G000169255']\n",
      "\tp__Nitrospinota with 4 genomes: ['G000375765' 'G001804915' 'G000372225']\n",
      "\tp__Schekmanbacteria with 4 genomes: ['G001790785' 'G001790715' 'G001790645']\n",
      "\tp__Cyanobacteria with 199 genomes: ['G000934435' 'G001402795' 'G000433235']\n",
      "\tp__Fusobacteriota with 4 genomes: ['G000007325' 'G000516535' 'G000262225']\n",
      "\tp__Latescibacterota with 4 genomes: ['G002693325' 'G000403035' 'G002709665']\n",
      "\tp__Eisenbacteria with 4 genomes: ['G001780165' 'G011357805' 'G005893275']\n",
      "\tp__Bdellovibrionota with 13 genomes: ['G001769915' 'G000525675' 'G001799195']\n",
      "\tp__Methanobacteriota with 4 genomes: ['G001507955' 'G000621965' 'G000744455']\n",
      "Replicate: 4, Gini index: 0.624\n",
      "\tp__Thermoplasmatota with 206 genomes: ['G002499745' 'G003649945' 'G002508545']\n",
      "\tp__Bacteroidota with 8 genomes: ['G001421095' 'G001653175' 'G001536045']\n",
      "\tp__Acidobacteriota with 90 genomes: ['G003159545' 'G002297665' 'G001919445']\n",
      "\tp__Verrucomicrobiota with 75 genomes: ['G003167555' 'G000172555' 'G003164715']\n",
      "\tp__Patescibacteria with 99 genomes: ['G002869265' 'G000989705' 'G009694965']\n",
      "\tp__Ratteibacteria with 4 genomes: ['G003644395' 'G002070645' 'G011329245']\n",
      "\tp__Firmicutes_G with 4 genomes: ['G001512545' 'G001513495' 'G007116995']\n",
      "\tp__Armatimonadota with 11 genomes: ['G000427095' 'G003695835' 'G002162075']\n",
      "\tp__Marinisomatota with 29 genomes: ['G002730315' 'G004402895' 'G000494065']\n",
      "\tp__Desulfobacterota_B with 4 genomes: ['G009379725' 'G002898795' 'G009692435']\n",
      "\tp__TA06 with 4 genomes: ['G004376575' 'G001303705' 'G001302835']\n",
      "\tp__Bdellovibrionota with 4 genomes: ['G000443995' 'G001770075' 'G001464795']\n",
      "\tp__Iainarchaeota with 5 genomes: ['G009840665' 'G001796605' 'G000406905']\n",
      "\tp__Campylobacterota with 4 genomes: ['G001830725' 'G001643955' 'G001829555']\n",
      "\tp__Firmicutes with 4 genomes: ['G001439915' 'G000160675' 'G000751775']\n",
      "\tp__Hydrogenedentota with 5 genomes: ['G012719295' 'G000493945' 'G003557915']\n",
      "\tp__Latescibacterota with 11 genomes: ['G009841115' 'G002727195' 'G003645905']\n",
      "Replicate: 5, Gini index: 0.627\n",
      "\tp__Synergistota with 23 genomes: ['G000165795' 'G004366815' 'G000585335']\n",
      "\tp__Desulfobacterota_I with 5 genomes: ['G900155525' 'G001311565' 'G900104045']\n",
      "\tp__Desulfobacterota with 4 genomes: ['G011327825' 'G000423845' 'G003647275']\n",
      "\tp__Bacteroidota with 4 genomes: ['G000430025' 'G000430505' 'G001438305']\n",
      "\tp__Proteobacteria with 4 genomes: ['G003201205' 'G000218875' 'G001802455']\n",
      "\tp__Margulisbacteria with 13 genomes: ['G001771545' 'G001771395' 'G902530045']\n",
      "\tp__Caldisericota with 4 genomes: ['G003170795' 'G001871575' 'G002403335']\n",
      "\tp__Deferribacterota with 4 genomes: ['G000025725' 'G000421105' 'G000487995']\n",
      "\tp__Halobacteriota with 43 genomes: ['G000496235' 'G900196725' 'G000237865']\n",
      "\tp__Latescibacterota with 6 genomes: ['G000403035' 'G009841115' 'G002709665']\n",
      "\tp__Thermoplasmatota with 132 genomes: ['G003353945' 'G003488105' 'G902555715']\n",
      "\tp__Chlamydiota with 8 genomes: ['G000417845' 'G000298375' 'G000204135']\n",
      "\tp__Hydrogenedentota with 4 genomes: ['G000380785' 'G000405145' 'G002746185']\n",
      "\tp__Thermoproteota with 151 genomes: ['G003164295' 'G004376295' 'G000015945']\n",
      "\tp__Patescibacteria with 155 genomes: ['G000990465' 'G007376565' 'G001779735']\n",
      "\tp__Nitrospirota_A with 4 genomes: ['G000755505' 'G002002505' 'G000262365']\n",
      "\tp__Verrucomicrobiota with 4 genomes: ['G001803235' 'G003141355' 'G000264605']\n",
      "Replicate: 6, Gini index: 0.596\n",
      "\tp__Verrucomicrobiota with 7 genomes: ['G001917295' 'G900545715' 'G002071335']\n",
      "\tp__Methylomirabilota with 4 genomes: ['G001771245' 'G000091165' 'G003220255']\n",
      "\tp__Firmicutes with 36 genomes: ['G001412125' 'G000525975' 'G001696705']\n",
      "\tp__Cyanobacteria with 88 genomes: ['G001631985' 'G000759935' 'G003215415']\n",
      "\tp__Fusobacteriota with 4 genomes: ['G000158195' 'G001517865' 'G000691685']\n",
      "\tp__Armatimonadota with 4 genomes: ['G011370625' 'G002898895' 'G002335425']\n",
      "\tp__Bacteroidota with 96 genomes: ['G902768695' 'G002396965' 'G001802865']\n",
      "\tp__Desulfobacterota_B with 4 genomes: ['G002238415' 'G002898795' 'G011334465']\n",
      "\tp__Halobacteriota with 183 genomes: ['G000969905' 'G001767315' 'G008831545']\n",
      "\tp__Planctomycetota with 45 genomes: ['G007752535' 'G007124075' 'G902566065']\n",
      "\tp__Myxococcota with 4 genomes: ['G001263175' 'G002789955' 'G011526105']\n",
      "\tp__Firmicutes_C with 64 genomes: ['G012798135' 'G009695585' 'G000024945']\n",
      "\tp__Latescibacterota with 4 genomes: ['G003645905' 'G012960645' 'G002709665']\n",
      "\tp__Thermotogota with 4 genomes: ['G004768445' 'G002452585' 'G000025105']\n",
      "\tp__Actinobacteriota with 13 genomes: ['G000817105' 'G000494755' 'G000826685']\n",
      "\tp__Ratteibacteria with 4 genomes: ['G012515635' 'G003644395' 'G011329245']\n",
      "\tp__Patescibacteria with 4 genomes: ['G002345725' 'G001822935' 'G001780705']\n",
      "Replicate: 7, Gini index: 0.627\n",
      "\tp__Desulfobacterota_B with 11 genomes: ['G011334465' 'G009379725' 'G002050235']\n",
      "\tp__Desulfobacterota with 179 genomes: ['G000472805' 'G900101345' 'G012974445']\n",
      "\tp__Halobacteriota with 4 genomes: ['G000474235' 'G004332335' 'G002011315']\n",
      "\tp__Bdellovibrionota with 4 genomes: ['G002345205' 'G001770165' 'G002387735']\n",
      "\tp__Spirochaetota with 126 genomes: ['G001028525' 'G001604265' 'G000243815']\n",
      "\tp__Methanobacteriota with 4 genomes: ['G000166095' 'G000744455' 'G001563245']\n",
      "\tp__Firmicutes_F with 4 genomes: ['G000328625' 'G003564415' 'G900114545']\n",
      "\tp__Desulfobacterota_D with 5 genomes: ['G902609885' 'G004213355' 'G009839015']\n",
      "\tp__Nanoarchaeota with 10 genomes: ['G000830295' 'G002688355' 'G002897655']\n",
      "\tp__SAR324 with 4 genomes: ['G001627755' 'G001627735' 'G001627675']\n",
      "\tp__Planctomycetota with 102 genomes: ['G011776635' 'G003671055' 'G003669255']\n",
      "\tp__Armatimonadota with 4 genomes: ['G011048035' 'G003577425' 'G011329005']\n",
      "\tp__Patescibacteria with 4 genomes: ['G001822555' 'G002070355' 'G001791005']\n",
      "\tp__Margulisbacteria with 17 genomes: ['G001771425' 'G001772355' 'G001771505']\n",
      "\tp__Iainarchaeota with 6 genomes: ['G001796945' 'G001796635' 'G005879725']\n",
      "\tp__Bacteroidota with 4 genomes: ['G000812565' 'G001418685' 'G009919265']\n",
      "\tp__Firmicutes_A with 79 genomes: ['G003014445' 'G000952975' 'G000433635']\n",
      "Replicate: 8, Gini index: 0.691\n",
      "\tp__Campylobacterota with 4 genomes: ['G000021725' 'G000597805' 'G000789415']\n",
      "\tp__Patescibacteria with 4 genomes: ['G000992395' 'G000996025' 'G000999325']\n",
      "\tp__Thermoplasmatota with 142 genomes: ['G000011185' 'G001801945' 'G001629515']\n",
      "\tp__Methanobacteriota_A with 4 genomes: ['G000091665' 'G000017225' 'G000092305']\n",
      "\tp__Desulfobacterota_C with 4 genomes: ['G011049115' 'G000526155' 'G009724975']\n",
      "\tp__Firmicutes_B with 4 genomes: ['G009711705' 'G000946815' 'G900142025']\n",
      "\tp__Fermentibacterota with 4 genomes: ['G012516735' 'G001875255' 'G002436025']\n",
      "\tp__Chlamydiota with 87 genomes: ['G000813665' 'G000454725' 'G001796095']\n",
      "\tp__WOR-3 with 4 genomes: ['G012517375' 'G002256535' 'G002010635']\n",
      "\tp__Cyanobacteria with 8 genomes: ['G012030945' 'G000021825' 'G003216155']\n",
      "\tp__Firmicutes with 262 genomes: ['G001312305' 'G001435835' 'G000430585']\n",
      "\tp__Schekmanbacteria with 4 genomes: ['G001790715' 'G001790675' 'G001790785']\n",
      "\tp__Firmicutes_A with 4 genomes: ['G004134775' 'G000701545' 'G000247525']\n",
      "\tp__Halobacteriota with 4 genomes: ['G000337355' 'G003315675' 'G000337035']\n",
      "\tp__Asgardarchaeota with 10 genomes: ['G002728275' 'G002825515' 'G001563335']\n",
      "\tp__Fibrobacterota with 15 genomes: ['G900142495' 'G001462305' 'G001462225']\n",
      "\tp__Fusobacteriota with 4 genomes: ['G000165505' 'G000426625' 'G000622045']\n",
      "Replicate: 9, Gini index: 0.713\n",
      "\tp__Firmicutes with 169 genomes: ['G001982185' 'G004000845' 'G900604935']\n",
      "\tp__Chlamydiota with 7 genomes: ['G000270405' 'G000338695' 'G000786005']\n",
      "\tp__Firmicutes_B with 17 genomes: ['G001512665' 'G000740865' 'G000746025']\n",
      "\tp__Altiarchaeota with 4 genomes: ['G001723835' 'G003663115' 'G002254565']\n",
      "\tp__Methylomirabilota with 8 genomes: ['G003220255' 'G003220715' 'G001788475']\n",
      "\tp__Firmicutes_F with 4 genomes: ['G900109985' 'G000379025' 'G000165465']\n",
      "\tp__Eisenbacteria with 4 genomes: ['G011357805' 'G005893275' 'G003235575']\n",
      "\tp__Ratteibacteria with 4 genomes: ['G012515635' 'G002070645' 'G001871865']\n",
      "\tp__Latescibacterota with 4 genomes: ['G000403035' 'G007136405' 'G012960645']\n",
      "\tp__Spirochaetota with 23 genomes: ['G001829255' 'G000501695' 'G000300045']\n",
      "\tp__Cyanobacteria with 300 genomes: ['G010692625' 'G001786555' 'G000317085']\n",
      "\tp__Desulfobacterota_I with 4 genomes: ['G000384815' 'G011927665' 'G000526455']\n",
      "\tp__Asgardarchaeota with 4 genomes: ['G003662805' 'G001940755' 'G011364985']\n",
      "\tp__Nitrospirota with 4 genomes: ['G012960925' 'G000423865' 'G001805165']\n",
      "\tp__Eremiobacterota with 4 genomes: ['G003151115' 'G012799975' 'G013036235']\n",
      "\tp__Firmicutes_D with 4 genomes: ['G003550565' 'G001513245' 'G000020005']\n",
      "\tp__CSP1-3 with 4 genomes: ['G005883865' 'G005882295' 'G011055945']\n"
     ]
    }
   ],
   "source": [
    "for rep in replicates:\n",
    "    print(f'Replicate: {rep}, Gini index: {ginis[rep]:.3f}')\n",
    "    for tax, genomes in selected_taxonomic_groups[rep].items():\n",
    "        print(f'\\t{tax} with {len(genomes)} genomes: {genomes[:3]}')"
   ]
  },
  {
   "cell_type": "markdown",
   "metadata": {},
   "source": [
    "## For reference, the Gini index for the 1,510 genomes of the WoL2 is..."
   ]
  },
  {
   "cell_type": "code",
   "execution_count": 15,
   "metadata": {},
   "outputs": [
    {
     "data": {
      "text/plain": [
       "(1510,)"
      ]
     },
     "execution_count": 15,
     "metadata": {},
     "output_type": "execute_result"
    }
   ],
   "source": [
    "genomes_wol2_tmarsel = np.loadtxt(f'genomes_sampled_family_10.txt', dtype = str)\n",
    "genomes_wol2_tmarsel.shape"
   ]
  },
  {
   "cell_type": "code",
   "execution_count": 16,
   "metadata": {},
   "outputs": [
    {
     "data": {
      "text/plain": [
       "phylum\n",
       "p__Proteobacteria         627\n",
       "p__Actinobacteriota       262\n",
       "p__Firmicutes             189\n",
       "p__Bacteroidota            91\n",
       "p__Firmicutes_A            47\n",
       "p__Cyanobacteria           40\n",
       "p__Chlamydiota             39\n",
       "p__Halobacteriota          34\n",
       "p__Methanobacteriota_B     30\n",
       "p__Thermoproteota          28\n",
       "p__Campylobacterota        26\n",
       "p__Chloroflexota           22\n",
       "p__Desulfobacterota_I      18\n",
       "p__Spirochaetota           18\n",
       "p__Methanobacteriota       16\n",
       "p__Planctomycetota         12\n",
       "p__Deinococcota            11\n",
       "Name: count, dtype: int64"
      ]
     },
     "execution_count": 16,
     "metadata": {},
     "output_type": "execute_result"
    }
   ],
   "source": [
    "abundance_wol2 = taxonomy.loc[genomes_wol2_tmarsel]['phylum'].value_counts()\n",
    "abundance_wol2"
   ]
  },
  {
   "cell_type": "code",
   "execution_count": 17,
   "metadata": {},
   "outputs": [
    {
     "data": {
      "text/plain": [
       "0.5865212310089598"
      ]
     },
     "execution_count": 17,
     "metadata": {},
     "output_type": "execute_result"
    }
   ],
   "source": [
    "gini_index(abundance_wol2.values)"
   ]
  },
  {
   "cell_type": "markdown",
   "metadata": {},
   "source": [
    "Therefore, the taxonomic imbalanced datasets are more uneven than the WoL2 dataset tested on the manuscript."
   ]
  },
  {
   "cell_type": "markdown",
   "metadata": {},
   "source": [
    "## For reference, the Gini index for the 1,510 genomes of the EMP is...??"
   ]
  },
  {
   "cell_type": "markdown",
   "metadata": {},
   "source": [
    "If curious on why these mags were excluded, check `AugmentingPhyloSignalMicrobes/markers_selection\n",
    "/marker_selection_emp.ipynb` notebook."
   ]
  },
  {
   "cell_type": "code",
   "execution_count": 18,
   "metadata": {},
   "outputs": [],
   "source": [
    "mags_excluded = ['SaltMarsh.Metabat.Bin.73', 'SaltMarsh.Metabat.Bin.70', 'SaltMarsh.Metabat.Bin.9', 'SaltMarsh.Metabat.Bin.33',\n",
    "'Steppe.Metabat.Bin.3', 'Mayer_watershed.Metabat.Bin.5', 'Jensen_Benthic.Metabat.Bin.3', 'Jensen_Benthic.Metabat.Bin.5', 'Lichen.Metabat.Bin.11',\n",
    "'Lichen.Metabat.Bin.19', 'Lichen.Metabat.Bin.29', 'Seedorf_soil.Metabat.Bin.1', 'Seedorf_soil.Metabat.Bin.2', 'Seedorf_soil.Metabat.Bin.6',\n",
    "'Marsh.Metabat.Bin.10', 'Marsh.Metabat.Bin.12', 'Marsh.Metabat.Bin.35', 'Marsh.Metabat.Bin.7']"
   ]
  },
  {
   "cell_type": "code",
   "execution_count": 19,
   "metadata": {},
   "outputs": [
    {
     "data": {
      "text/plain": [
       "(793,)"
      ]
     },
     "execution_count": 19,
     "metadata": {},
     "output_type": "execute_result"
    }
   ],
   "source": [
    "mags = np.loadtxt('bins.txt', dtype = str)\n",
    "mags = mags[~np.isin(mags, mags_excluded)]\n",
    "mags.shape"
   ]
  },
  {
   "cell_type": "code",
   "execution_count": 20,
   "metadata": {},
   "outputs": [
    {
     "data": {
      "text/plain": [
       "(757, 7)"
      ]
     },
     "execution_count": 20,
     "metadata": {},
     "output_type": "execute_result"
    }
   ],
   "source": [
    "emp_taxonomy = pd.read_csv(f'lineages_gtdbtk_emp.txt', index_col = 0, \n",
    "                     sep = r'\\t|;', engine = 'python', header = None,\n",
    "                    names = levels)\n",
    "emp_taxonomy.map(lambda x: x.strip() if x is not None else x)\n",
    "emp_taxonomy = emp_taxonomy.loc[mags]\n",
    "# Remove phyla with 'p__' or None\n",
    "emp_taxonomy = emp_taxonomy[emp_taxonomy['phylum'] != 'p__']\n",
    "emp_taxonomy = emp_taxonomy[emp_taxonomy['phylum'].notna()]\n",
    "emp_taxonomy.shape"
   ]
  },
  {
   "cell_type": "code",
   "execution_count": 21,
   "metadata": {},
   "outputs": [
    {
     "data": {
      "text/plain": [
       "phylum\n",
       " p__Pseudomonadota        169\n",
       " p__Bacteroidota          159\n",
       " p__Bacillota_A           158\n",
       " p__Actinomycetota         34\n",
       " p__Acidobacteriota        24\n",
       " p__Spirochaetota          23\n",
       " p__Bacillota_I            23\n",
       " p__Chloroflexota          22\n",
       " p__Bacillota              21\n",
       " p__Verrucomicrobiota      21\n",
       " p__Planctomycetota        19\n",
       " p__Patescibacteria        11\n",
       " p__Desulfobacterota       11\n",
       " p__Gemmatimonadota         8\n",
       " p__Myxococcota             5\n",
       " p__Bacillota_C             4\n",
       " p__Cyanobacteriota         4\n",
       " p__Desulfobacterota_B      4\n",
       " p__CSP1-3                  4\n",
       " p__Campylobacterota        3\n",
       " p__Halobacteriota          3\n",
       " p__Nitrospirota            3\n",
       " p__Fibrobacterota          3\n",
       " p__Desulfobacterota_D      3\n",
       " p__Chlamydiota             2\n",
       " p__Eremiobacterota         2\n",
       " p__Armatimonadota          2\n",
       " p__Bacillota_B             2\n",
       " p__Hydrogenedentota        1\n",
       " p__Dependentiae            1\n",
       " p__Thermotogota            1\n",
       " p__Fusobacteriota          1\n",
       " p__SAR324                  1\n",
       " p__Synergistota            1\n",
       " p__Latescibacterota        1\n",
       " p__Myxococcota_A           1\n",
       " p__Moduliflexota           1\n",
       " p__Hinthialibacterota      1\n",
       "Name: count, dtype: int64"
      ]
     },
     "execution_count": 21,
     "metadata": {},
     "output_type": "execute_result"
    }
   ],
   "source": [
    "abundance_emp = emp_taxonomy['phylum'].value_counts()\n",
    "abundance_emp"
   ]
  },
  {
   "cell_type": "code",
   "execution_count": 22,
   "metadata": {},
   "outputs": [
    {
     "data": {
      "text/plain": [
       "0.7275255509977057"
      ]
     },
     "execution_count": 22,
     "metadata": {},
     "output_type": "execute_result"
    }
   ],
   "source": [
    "gini_index(abundance_emp.values)"
   ]
  },
  {
   "cell_type": "markdown",
   "metadata": {},
   "source": [
    "### Therefore, the taxonomic imbalanced datasets are not as uneven than the EMP dataset tested on the manuscript, but much more uneven than WoL2."
   ]
  },
  {
   "cell_type": "markdown",
   "metadata": {},
   "source": [
    "Save data"
   ]
  },
  {
   "cell_type": "code",
   "execution_count": 23,
   "metadata": {},
   "outputs": [],
   "source": [
    "dataPathOut = f'./out'"
   ]
  },
  {
   "cell_type": "code",
   "execution_count": 24,
   "metadata": {},
   "outputs": [],
   "source": [
    "np.savetxt(f'{dataPathOut}/gini_index.txt', ginis)"
   ]
  },
  {
   "cell_type": "code",
   "execution_count": 25,
   "metadata": {},
   "outputs": [],
   "source": [
    "for rep in replicates:\n",
    "    # Create output directory\n",
    "    os.makedirs(f'{dataPathOut}/replicate_{rep}/genomes', exist_ok = True)\n",
    "    os.makedirs(f'{dataPathOut}/replicate_{rep}/markers', exist_ok = True)\n",
    "    os.makedirs(f'{dataPathOut}/replicate_{rep}/pipeline', exist_ok = True)\n",
    "    os.makedirs(f'{dataPathOut}/replicate_{rep}/orfs', exist_ok = True)\n",
    "    with open(f'{dataPathOut}/replicate_{rep}/genomes/genomes.txt', 'w') as f:\n",
    "        for tax, genomes in selected_taxonomic_groups[rep].items():\n",
    "            # f.write(f'{tax}:{\",\".join(genomes)}\\n')\n",
    "            for genome in genomes:\n",
    "                f.write(f'{genome}\\n')"
   ]
  },
  {
   "cell_type": "code",
   "execution_count": null,
   "metadata": {},
   "outputs": [],
   "source": []
  },
  {
   "cell_type": "code",
   "execution_count": null,
   "metadata": {},
   "outputs": [],
   "source": []
  },
  {
   "cell_type": "code",
   "execution_count": null,
   "metadata": {},
   "outputs": [],
   "source": []
  },
  {
   "cell_type": "code",
   "execution_count": null,
   "metadata": {},
   "outputs": [],
   "source": []
  },
  {
   "cell_type": "code",
   "execution_count": null,
   "metadata": {},
   "outputs": [],
   "source": []
  }
 ],
 "metadata": {
  "kernelspec": {
   "display_name": "BipNet",
   "language": "python",
   "name": "python3"
  },
  "language_info": {
   "codemirror_mode": {
    "name": "ipython",
    "version": 3
   },
   "file_extension": ".py",
   "mimetype": "text/x-python",
   "name": "python",
   "nbconvert_exporter": "python",
   "pygments_lexer": "ipython3",
   "version": "3.10.13"
  }
 },
 "nbformat": 4,
 "nbformat_minor": 2
}
