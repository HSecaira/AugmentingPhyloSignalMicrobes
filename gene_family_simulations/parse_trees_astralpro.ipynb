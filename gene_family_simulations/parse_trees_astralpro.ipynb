{
 "cells": [
  {
   "cell_type": "markdown",
   "id": "d1466946-ed64-4a3b-bc74-3ac9fcc05135",
   "metadata": {},
   "source": [
    "# Parse ASTRAL-pro3 trees"
   ]
  },
  {
   "cell_type": "code",
   "execution_count": 1,
   "id": "523c8f13-e8d8-4cbc-804f-ae9634b170c8",
   "metadata": {},
   "outputs": [],
   "source": [
    "import sys, re, os\n",
    "import pandas as pd\n",
    "import numpy as np\n",
    "from skbio.tree import TreeNode"
   ]
  },
  {
   "cell_type": "markdown",
   "id": "6f5379c7-af5d-4b6c-9995-83d951e23bad",
   "metadata": {},
   "source": [
    "Functions"
   ]
  },
  {
   "cell_type": "code",
   "execution_count": 2,
   "id": "898f11e9-8d71-437e-80d2-854286fe5aa4",
   "metadata": {},
   "outputs": [],
   "source": [
    "def assign_supports(tree):\n",
    "    for node in tree.traverse():\n",
    "        if node.is_tip() or node.is_root():\n",
    "            node.support = None\n",
    "        else:\n",
    "            node.support = node.name\n",
    "            node.name = None"
   ]
  },
  {
   "cell_type": "code",
   "execution_count": 3,
   "id": "6168ac4b-0ffd-4fbf-bb39-8f4d0e05dd9c",
   "metadata": {},
   "outputs": [],
   "source": [
    "def order_nodes(tree, increase=True):\n",
    "    res = tree.copy()\n",
    "    for node in res.postorder():\n",
    "        if node.is_tip():\n",
    "            node.n = 1\n",
    "        else:\n",
    "            node.n = sum(x.n for x in node.children)\n",
    "    for node in res.postorder():\n",
    "        if not node.is_tip():\n",
    "            child2n = {x: x.n for x in node.children}\n",
    "            node.children = []\n",
    "            for child in sorted(child2n, key=child2n.get, reverse=increase):\n",
    "                node.append(child)\n",
    "    for node in res.postorder():\n",
    "        delattr(node, 'n')\n",
    "    return res"
   ]
  },
  {
   "cell_type": "markdown",
   "id": "1f467b2d-1278-4527-988a-673659c95815",
   "metadata": {},
   "source": [
    "# Batch"
   ]
  },
  {
   "cell_type": "code",
   "execution_count": 4,
   "id": "b955d79b-8181-4d60-b547-c9cdeb0f7f1f",
   "metadata": {},
   "outputs": [],
   "source": [
    "def parse_tree_astralpro(dataPathIn, dataPathOut, k, p, rep, version):\n",
    "    # Read newick file\n",
    "    with open(f'{dataPathIn}/sps_k_{k}_p_{p}_rep_{rep}_astralpro{version}.nwk', 'r') as f:\n",
    "        nwk = f.read().strip()\n",
    "    # Replace complex nodes with simple labels\n",
    "    tmplabs = []\n",
    "    def replace(match):\n",
    "        # Get the first subgroup from re.match\n",
    "        tmplabs.append(match.group(1))\n",
    "        return f'X{len(tmplabs)}'\n",
    "    nwk = re.sub(r'\\'\\[([^\\[\\]]+)\\]\\'', replace, nwk)\n",
    "    # Convert string into TreeNode object\n",
    "    tree = TreeNode.read([nwk])\n",
    "    # Convert indices into branch supports\n",
    "    assign_supports(tree)\n",
    "    # Order nodes by number of childs\n",
    "    tree = order_nodes(tree, increase = False)\n",
    "    # Assign incremental nodes IDs\n",
    "    i = 1\n",
    "    for node in tree.levelorder(include_self = True):\n",
    "        if not node.is_tip():\n",
    "            node.name = f'N{i}'\n",
    "            i += 1\n",
    "    # Extract node metadata\n",
    "    metadata = []\n",
    "    for node in tree.levelorder(include_self = True):\n",
    "        if node.is_tip():\n",
    "            continue\n",
    "        if node.support is None:\n",
    "            continue\n",
    "        label = tmplabs[int(node.support[1:]) - 1]\n",
    "        attrs = dict(x.split('=') for x in label.split(';'))\n",
    "        attrs['node'] = node.name\n",
    "        metadata.append(attrs)\n",
    "    # Generate metadata table\n",
    "    df = pd.DataFrame(metadata).set_index('node')\n",
    "    # Save metadata\n",
    "    df.to_csv(f'{dataPathOut}/metadata_sps_k_{k}_p_{p}_rep_{rep}_astralpro{version}.tsv', sep = '\\t')\n",
    "    # Save tree with node ids\n",
    "    tree.write(f'{dataPathOut}/nid_sps_k_{k}_p_{p}_rep_{rep}_astralpro{version}.nwk')\n",
    "    # Save tree with local posterior probabilities\n",
    "    lpps = df['pp1'].to_dict()\n",
    "    t = tree.copy()\n",
    "    for node in t.non_tips(include_self=True):\n",
    "        if node.name in lpps:\n",
    "            lpp = lpps[node.name]\n",
    "            node.name = '1.0' if lpp == '1.0' else f'{float(lpp):.3f}'\n",
    "        else:\n",
    "            node.name = None\n",
    "    t.write(f'{dataPathOut}/lpp_sps_k_{k}_p_{p}_rep_{rep}_astralpro{version}.nwk')\n",
    "    # Save tree without node labels\n",
    "    for node in t.non_tips(include_self = True):\n",
    "        node.name = None\n",
    "    t.write(f'{dataPathOut}/nlabels_sps_k_{k}_p_{p}_rep_{rep}_astralpro{version}.nwk')"
   ]
  },
  {
   "cell_type": "code",
   "execution_count": 5,
   "id": "dee4e115-5f54-447c-9ffb-6e5070587e3a",
   "metadata": {},
   "outputs": [],
   "source": [
    "max_copies = [1, 5]\n",
    "noises = [0.25, 0.5]\n",
    "G = 50\n",
    "S = 10\n",
    "replicates = np.arange(0, 25, dtype = int)\n",
    "ks = np.linspace(1, G - 1, dtype = int, num = 11) # Number of marker genes\n",
    "ps = [-100, -80, -60, -40, -20, 0, 20, 40, 60, 80, 100] # Exponent of power mean\n",
    "astralpro_vs = [2]"
   ]
  },
  {
   "cell_type": "code",
   "execution_count": 6,
   "id": "d3829e41-7ec5-45d7-b296-b60667e9f0bd",
   "metadata": {},
   "outputs": [
    {
     "name": "stdout",
     "output_type": "stream",
     "text": [
      "Copies: 1\n",
      "Copies: 5\n",
      "CPU times: user 29.6 s, sys: 5.67 s, total: 35.2 s\n",
      "Wall time: 37 s\n"
     ]
    }
   ],
   "source": [
    "%%time\n",
    "for copies in max_copies:\n",
    "    print(f'Copies: {copies}')\n",
    "    for noise in noises:\n",
    "        dataPathIn = f'./toy/simulations_G_50_S_10/multicopy_trees_{copies}_copy_noise_{noise}/pipeline'\n",
    "        dataPathOut = f'./toy/simulations_G_50_S_10/multicopy_trees_{copies}_copy_noise_{noise}/parsed'\n",
    "        os.system(f'mkdir -p {dataPathOut}')\n",
    "        for rep in replicates:\n",
    "            # print(f'Replicate: {rep}')\n",
    "            for k in ks:\n",
    "                for p in ps:\n",
    "                    for version in astralpro_vs:\n",
    "                        try:\n",
    "                            parse_tree_astralpro(dataPathIn, dataPathOut, k, p, rep, version)\n",
    "                        except:\n",
    "                            print(f'\\tCannot be parsed. Error. k: {k}, p: {p}, rep :{rep}')"
   ]
  },
  {
   "cell_type": "code",
   "execution_count": 7,
   "id": "335d8122-0e4e-4fa4-851d-835f59ab03ee",
   "metadata": {},
   "outputs": [],
   "source": [
    "def parse_tree_astralpro_shuffled(dataPathIn, dataPathOut, k, p, rep, version):\n",
    "    # Read newick file\n",
    "    with open(f'{dataPathIn}/sps_shuffled_k_{k}_p_{p}_rep_{rep}_astralpro{version}.nwk', 'r') as f:\n",
    "        nwk = f.read().strip()\n",
    "    # Replace complex nodes with simple labels\n",
    "    tmplabs = []\n",
    "    def replace(match):\n",
    "        # Get the first subgroup from re.match\n",
    "        tmplabs.append(match.group(1))\n",
    "        return f'X{len(tmplabs)}'\n",
    "    nwk = re.sub(r'\\'\\[([^\\[\\]]+)\\]\\'', replace, nwk)\n",
    "    # Convert string into TreeNode object\n",
    "    tree = TreeNode.read([nwk])\n",
    "    # Convert indices into branch supports\n",
    "    assign_supports(tree)\n",
    "    # Order nodes by number of childs\n",
    "    tree = order_nodes(tree, increase = False)\n",
    "    # Assign incremental nodes IDs\n",
    "    i = 1\n",
    "    for node in tree.levelorder(include_self = True):\n",
    "        if not node.is_tip():\n",
    "            node.name = f'N{i}'\n",
    "            i += 1\n",
    "    # Extract node metadata\n",
    "    metadata = []\n",
    "    for node in tree.levelorder(include_self = True):\n",
    "        if node.is_tip():\n",
    "            continue\n",
    "        if node.support is None:\n",
    "            continue\n",
    "        label = tmplabs[int(node.support[1:]) - 1]\n",
    "        attrs = dict(x.split('=') for x in label.split(';'))\n",
    "        attrs['node'] = node.name\n",
    "        metadata.append(attrs)\n",
    "    # Generate metadata table\n",
    "    df = pd.DataFrame(metadata).set_index('node')\n",
    "    # Save metadata\n",
    "    df.to_csv(f'{dataPathOut}/metadata_sps_shuffled_k_{k}_p_{p}_rep_{rep}_astralpro{version}.tsv', sep = '\\t')\n",
    "    # Save tree with node ids\n",
    "    tree.write(f'{dataPathOut}/nid_sps_shuffled_k_{k}_p_{p}_rep_{rep}_astralpro{version}.nwk')\n",
    "    # Save tree with local posterior probabilities\n",
    "    lpps = df['pp1'].to_dict()\n",
    "    t = tree.copy()\n",
    "    for node in t.non_tips(include_self=True):\n",
    "        if node.name in lpps:\n",
    "            lpp = lpps[node.name]\n",
    "            node.name = '1.0' if lpp == '1.0' else f'{float(lpp):.3f}'\n",
    "        else:\n",
    "            node.name = None\n",
    "    t.write(f'{dataPathOut}/lpp_sps_shuffled_k_{k}_p_{p}_rep_{rep}_astralpro{version}.nwk')\n",
    "    # Save tree without node labels\n",
    "    for node in t.non_tips(include_self = True):\n",
    "        node.name = None\n",
    "    t.write(f'{dataPathOut}/nlabels_sps_shuffled_k_{k}_p_{p}_rep_{rep}_astralpro{version}.nwk')"
   ]
  },
  {
   "cell_type": "code",
   "execution_count": 8,
   "id": "32662685-4de3-40fb-b3ab-2e21768d8123",
   "metadata": {},
   "outputs": [
    {
     "name": "stdout",
     "output_type": "stream",
     "text": [
      "Copies: 1\n",
      "Copies: 5\n",
      "CPU times: user 30.6 s, sys: 6.71 s, total: 37.3 s\n",
      "Wall time: 40.5 s\n"
     ]
    }
   ],
   "source": [
    "%%time\n",
    "for copies in max_copies:\n",
    "    print(f'Copies: {copies}')\n",
    "    for noise in noises:\n",
    "        dataPathIn = f'./toy/simulations_G_50_S_10/multicopy_trees_{copies}_copy_noise_{noise}/pipeline'\n",
    "        dataPathOut = f'./toy/simulations_G_50_S_10/multicopy_trees_{copies}_copy_noise_{noise}/parsed'\n",
    "        os.system(f'mkdir -p {dataPathOut}')\n",
    "        for rep in replicates:\n",
    "            # print(f'Replicate: {rep}')\n",
    "            for k in ks:\n",
    "                for p in ps:\n",
    "                    for version in astralpro_vs:\n",
    "                        try:\n",
    "                            parse_tree_astralpro_shuffled(dataPathIn, dataPathOut, k, p, rep, version)\n",
    "                        except:\n",
    "                            print(f'\\tCannot be parsed. Error. k: {k}, p: {p}, rep :{rep}')"
   ]
  },
  {
   "cell_type": "code",
   "execution_count": null,
   "id": "4d9dcb1f-8e6c-4879-9e5d-280b7f7502b3",
   "metadata": {},
   "outputs": [],
   "source": []
  },
  {
   "cell_type": "code",
   "execution_count": null,
   "id": "d74ad6ab-07ab-4efe-9cbe-5b4345df8512",
   "metadata": {},
   "outputs": [],
   "source": []
  },
  {
   "cell_type": "code",
   "execution_count": null,
   "id": "a3bd3fc4-e6fc-47f2-b54a-c683b51e3016",
   "metadata": {},
   "outputs": [],
   "source": []
  },
  {
   "cell_type": "code",
   "execution_count": null,
   "id": "58fecb81-5d78-4145-9500-baa93e2701af",
   "metadata": {},
   "outputs": [],
   "source": []
  },
  {
   "cell_type": "code",
   "execution_count": null,
   "id": "06f6535f-83d4-42d1-a62b-0a38a60b1b76",
   "metadata": {},
   "outputs": [],
   "source": []
  }
 ],
 "metadata": {
  "kernelspec": {
   "display_name": "Python 3 (ipykernel)",
   "language": "python",
   "name": "python3"
  },
  "language_info": {
   "codemirror_mode": {
    "name": "ipython",
    "version": 3
   },
   "file_extension": ".py",
   "mimetype": "text/x-python",
   "name": "python",
   "nbconvert_exporter": "python",
   "pygments_lexer": "ipython3",
   "version": "3.13.0"
  }
 },
 "nbformat": 4,
 "nbformat_minor": 5
}
