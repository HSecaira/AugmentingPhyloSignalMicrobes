{
 "cells": [
  {
   "cell_type": "markdown",
   "id": "836d2a90-dd75-495a-ae72-549edf8533dd",
   "metadata": {},
   "source": [
    "# Demo for marker gene selection"
   ]
  },
  {
   "cell_type": "code",
   "execution_count": 1,
   "id": "ee2bfa12-6214-4cbc-9528-e04d3bf609a0",
   "metadata": {},
   "outputs": [],
   "source": [
    "import numpy as np\n",
    "import pandas as pd\n",
    "import matplotlib.pyplot as plt\n",
    "import matplotlib.patches as patches\n",
    "from matplotlib.colors import to_rgb, ListedColormap, LinearSegmentedColormap"
   ]
  },
  {
   "cell_type": "code",
   "execution_count": 2,
   "id": "3c91ce6f-e940-4caf-8f90-552168b2db65",
   "metadata": {},
   "outputs": [],
   "source": [
    "from scipy.stats import pmean"
   ]
  },
  {
   "cell_type": "code",
   "execution_count": 3,
   "id": "cc792f45-80a6-4237-8f2f-83464f3adf8b",
   "metadata": {},
   "outputs": [],
   "source": [
    "plt.rcParams.update({\n",
    "    'figure.autolayout': True,\n",
    "    'savefig.bbox': 'tight',\n",
    "    'svg.fonttype': 'none',\n",
    "    'font.sans-serif': 'Arial',\n",
    "    'font.size': 12,\n",
    "    'boxplot.medianprops.linewidth': 2,\n",
    "    'boxplot.flierprops.markeredgecolor': 'none',\n",
    "    'boxplot.flierprops.markersize': 5})"
   ]
  },
  {
   "cell_type": "code",
   "execution_count": 4,
   "id": "59910de7-a5bf-47a1-9aa1-3667d4a972e2",
   "metadata": {},
   "outputs": [],
   "source": [
    "# Gene (families) and species (genomes)"
   ]
  },
  {
   "cell_type": "markdown",
   "id": "0966b90c-5ab0-4017-b5ce-bdb28fb23c8f",
   "metadata": {},
   "source": [
    "## Algorithm"
   ]
  },
  {
   "cell_type": "code",
   "execution_count": 5,
   "id": "ce6b9b21-1489-45b1-b53d-b3c64fc3086e",
   "metadata": {},
   "outputs": [],
   "source": [
    "def greedy_power_mean_sample_final(data, k, p, pseudocount = 0.1, min_universality_genes = 1):\n",
    "    \"\"\"Iteratively select rows from a matrix such that the selection criterion by\n",
    "    column is maximized.\n",
    "\n",
    "    Parameters\n",
    "    ----------\n",
    "    data : ndarray of shape (2D)\n",
    "        Input data matrix (gene by species).\n",
    "    k : int\n",
    "        Number of rows (genes) to select.\n",
    "    p : float or str\n",
    "        Exponent of generalized mean, or special values: \"min\" or \"max\".\n",
    "    pseudocount : float, optional\n",
    "        Pseudocount to add to each cell value.\n",
    "    min_universality_genes : int, optional\n",
    "        Minimum universality threshold.\n",
    "\n",
    "    Returns\n",
    "    -------\n",
    "    ndarray (1D)\n",
    "        Row indices selected in order.\n",
    "\n",
    "    \"\"\"\n",
    "    # numbers of genes (n) and species (m)\n",
    "    n, m = data.shape\n",
    "\n",
    "    # matrix is empty\n",
    "    if n == 0 or m == 0:\n",
    "        raise ValueError('Matrix is empty!')\n",
    "\n",
    "    # matrix contains only zeroes\n",
    "    if (data == 0).all():\n",
    "        raise ValueError('Matrix only contains 0\\'s')\n",
    "\n",
    "    if (data.sum(axis = 1) == min_universality_genes).all():\n",
    "        raise ValueError(f'Matrix only contains genes present in less than {min_universality_genes}')\n",
    "\n",
    "    if k >= n:\n",
    "        raise ValueError(f'k should be smaller than {n}')\n",
    "\n",
    "    # Add pseudocount\n",
    "    data = data + pseudocount\n",
    "\n",
    "    # cumulative gene counts\n",
    "    counts = np.zeros(m, dtype = int)\n",
    "\n",
    "    # gene indices in original data matrix\n",
    "    indices = np.arange(n)\n",
    "\n",
    "    # indices of selected genes\n",
    "    selected = []\n",
    "\n",
    "    # iteratively select k genes\n",
    "    for i in range(k):\n",
    "\n",
    "        # calculate counts after adding each gene\n",
    "        sums_ = counts + data\n",
    "\n",
    "        # select a gene that maximizes the power mean gene count per species, using the cumulative matrix\n",
    "        if isinstance(p, int) or isinstance(p, np.int64): \n",
    "            choice = pmean(sums_, int(p), axis = 1).argmax()\n",
    "        elif p == 'min':\n",
    "            choice = sums_.min(axis = 1).argmax()\n",
    "        elif p == 'max':\n",
    "            choice = sums_.max(axis = 1).argmax()\n",
    "        else:\n",
    "            raise ValueError(f'Invalid p: {p}.')\n",
    "\n",
    "        # append index of selected gene\n",
    "        selected.append(indices[choice])\n",
    "\n",
    "        # update per-species gene counts\n",
    "        counts = sums_[choice]\n",
    "\n",
    "        # remove selected gene from data matrix\n",
    "        data = np.delete(data, choice, axis = 0)\n",
    "\n",
    "        # remove selected gene from indices\n",
    "        indices = np.delete(indices, choice)\n",
    "\n",
    "    # return np.sort(np.array(selected))\n",
    "    return np.array(selected)"
   ]
  },
  {
   "cell_type": "markdown",
   "id": "046554b0-6622-4131-a199-ae36bba2e0bc",
   "metadata": {},
   "source": [
    "## Simple case"
   ]
  },
  {
   "cell_type": "markdown",
   "id": "180903ca-315e-40e8-ad91-c43eac017685",
   "metadata": {},
   "source": [
    "Let us generate a matrix with all the possible configurations for S species. Because we only consider presence/absence, then the number of possible configurations (number of genes) is $2^S$."
   ]
  },
  {
   "cell_type": "markdown",
   "id": "a0d3b137-9f37-4773-b9be-06796d38c9d0",
   "metadata": {},
   "source": [
    "For $S = 5$, the number of genes = $2^{5} = 32$"
   ]
  },
  {
   "cell_type": "code",
   "execution_count": 6,
   "id": "d7535d57-e614-4a53-bcd3-a7be51de34ac",
   "metadata": {},
   "outputs": [],
   "source": [
    "S = 5\n",
    "G = 2 ** 5"
   ]
  },
  {
   "cell_type": "code",
   "execution_count": 7,
   "id": "a4d0841c-7ac9-401e-9a67-7c5c4fa6b6a5",
   "metadata": {},
   "outputs": [
    {
     "data": {
      "text/plain": [
       "(32, 5)"
      ]
     },
     "execution_count": 7,
     "metadata": {},
     "output_type": "execute_result"
    }
   ],
   "source": [
    "data = np.array(np.meshgrid(*([0, 1],) * S)).T.reshape(-1, S)\n",
    "data.shape"
   ]
  },
  {
   "cell_type": "code",
   "execution_count": 8,
   "id": "68efc94e-9246-4cd9-9c38-86a44b08aa34",
   "metadata": {},
   "outputs": [
    {
     "data": {
      "image/png": "[encoded data removed]",
      "text/plain": [
       "<Figure size 300x500 with 1 Axes>"
      ]
     },
     "metadata": {},
     "output_type": "display_data"
    }
   ],
   "source": [
    "plt.figure(figsize=(3, 5))\n",
    "plt.pcolormesh(data, cmap = 'binary', lw = 0.5, ec = 'white')\n",
    "plt.xticks([])\n",
    "plt.yticks([])\n",
    "plt.xlabel('Species')\n",
    "plt.ylabel('Gene')\n",
    "plt.tight_layout()"
   ]
  },
  {
   "cell_type": "markdown",
   "id": "94dde89e-2184-4588-a663-650f416192b9",
   "metadata": {},
   "source": [
    "Select $k$ markers with $p = 0$"
   ]
  },
  {
   "cell_type": "code",
   "execution_count": 9,
   "id": "7287cd07-107f-412f-940a-148c338a2534",
   "metadata": {},
   "outputs": [],
   "source": [
    "k = 10\n",
    "p = 0"
   ]
  },
  {
   "cell_type": "code",
   "execution_count": 10,
   "id": "8edee769-2d05-4ce2-a106-014389870126",
   "metadata": {},
   "outputs": [
    {
     "data": {
      "text/plain": [
       "array([31, 15, 27, 23, 29, 30,  7, 25, 14, 19])"
      ]
     },
     "execution_count": 10,
     "metadata": {},
     "output_type": "execute_result"
    }
   ],
   "source": [
    "select = greedy_power_mean_sample_final(data, k, p)\n",
    "select"
   ]
  },
  {
   "cell_type": "markdown",
   "id": "8a2193a0-6d7c-4a62-8c5b-cf1deb0569b3",
   "metadata": {},
   "source": [
    "Number of markers per species"
   ]
  },
  {
   "cell_type": "code",
   "execution_count": 11,
   "id": "f37f6ef7-ff26-46af-b357-ed766acf379f",
   "metadata": {},
   "outputs": [
    {
     "data": {
      "text/plain": [
       "array([8, 8, 7, 7, 7])"
      ]
     },
     "execution_count": 11,
     "metadata": {},
     "output_type": "execute_result"
    }
   ],
   "source": [
    "sums = data[select].sum(axis = 0)\n",
    "sums"
   ]
  },
  {
   "cell_type": "code",
   "execution_count": 12,
   "id": "456b054f-ee64-42d9-82cb-9b6d877143b4",
   "metadata": {},
   "outputs": [],
   "source": [
    "cmapx = ListedColormap([(0, 0, 0, 0), (*to_rgb('crimson'), 0.5)])"
   ]
  },
  {
   "cell_type": "code",
   "execution_count": 13,
   "id": "2be9b8c0-163e-4638-8172-11f92ff1778e",
   "metadata": {},
   "outputs": [],
   "source": [
    "shade = np.zeros(G, dtype=int)\n",
    "shade[select] = 1\n",
    "shade = np.tile(shade, (S, 1)).T"
   ]
  },
  {
   "cell_type": "code",
   "execution_count": 14,
   "id": "95ca1518-b31d-4227-af7b-b96dac9328bc",
   "metadata": {},
   "outputs": [
    {
     "data": {
      "image/png": "[encoded data removed]",
      "text/plain": [
       "<Figure size 300x500 with 1 Axes>"
      ]
     },
     "metadata": {},
     "output_type": "display_data"
    }
   ],
   "source": [
    "fig, ax = plt.subplots(figsize=(3, 5))\n",
    "\n",
    "ax.pcolormesh(data, cmap = 'binary', lw = 0.5, ec = 'white')\n",
    "\n",
    "ax.pcolormesh(shade, cmap = cmapx, lw = 0)\n",
    "\n",
    "xrange = np.arange(S)\n",
    "ax.set_xticks(xrange + 0.5, xrange + 1)\n",
    "ax.set_xlabel('Species')\n",
    "\n",
    "# yrange = np.arange(G)\n",
    "# ax.set_yticks(yrange + 0.5, yrange + 1)\n",
    "ax.set_yticks([])\n",
    "ax.set_ylabel('Gene')\n",
    "\n",
    "xax2 = ax.secondary_xaxis('top')\n",
    "xax2.set_xticks(np.arange(S) + 0.5, sums, c = 'crimson');\n",
    "xax2.set_xlabel('# selected genes', c = 'crimson')\n",
    "\n",
    "yax2 = ax.secondary_yaxis('right')\n",
    "yax2.set_yticks(select + 0.5, np.arange(k) + 1, c = 'crimson')\n",
    "yax2.set_ylabel('Order of selection', c = 'crimson')\n",
    "\n",
    "plt.tight_layout()\n",
    "plt.savefig(f'figures/figure_1B.svg')"
   ]
  },
  {
   "cell_type": "markdown",
   "id": "e5380b22-9291-48a3-a912-0005f1f1837f",
   "metadata": {},
   "source": [
    "## Complex example"
   ]
  },
  {
   "cell_type": "markdown",
   "id": "a6d98168-5b59-4b4f-bd15-07900a642b89",
   "metadata": {},
   "source": [
    "Random generator"
   ]
  },
  {
   "cell_type": "code",
   "execution_count": 15,
   "id": "2e677554-6e88-4a08-9304-088976e4a3f1",
   "metadata": {},
   "outputs": [],
   "source": [
    "rng = np.random.default_rng(seed = 0)"
   ]
  },
  {
   "cell_type": "markdown",
   "id": "e1c48b3f-6999-465f-8f09-8fae1cd9762f",
   "metadata": {},
   "source": [
    "Specify the numbers of genes (_G_, rows) and species (_S_, columns), respectively"
   ]
  },
  {
   "cell_type": "code",
   "execution_count": 16,
   "id": "30a71a3c-4fde-4dcc-8b8d-afe498f10f3c",
   "metadata": {},
   "outputs": [],
   "source": [
    "G = 50  # number of genes\n",
    "S = 10  # number of species"
   ]
  },
  {
   "cell_type": "markdown",
   "id": "6acecf45-c695-4483-b300-205bc25ad4e6",
   "metadata": {},
   "source": [
    "**First**, simulate the presence/absence of each gene in each species."
   ]
  },
  {
   "cell_type": "markdown",
   "id": "a3cb67d9-9e82-449b-a745-716a21a36c39",
   "metadata": {},
   "source": [
    "Probability of a gene's presence per species. This roughly equals to the fraction of all genes found within each species. For simplicity, we sample the probabilities from a uniform distribution between 0.1 and 1.0."
   ]
  },
  {
   "cell_type": "code",
   "execution_count": 17,
   "id": "b6d9a8ca-e88a-4b62-b7bb-564dbab29469",
   "metadata": {},
   "outputs": [
    {
     "data": {
      "text/plain": [
       "array([0.67326552, 0.34280804, 0.13687617, 0.11487487, 0.83194322,\n",
       "       0.92148002, 0.6459722 , 0.7565469 , 0.58926249, 0.94156518])"
      ]
     },
     "execution_count": 17,
     "metadata": {},
     "output_type": "execute_result"
    }
   ],
   "source": [
    "probs = rng.uniform(low = 0.1, high = 1.0, size = S)\n",
    "probs"
   ]
  },
  {
   "cell_type": "markdown",
   "id": "46950094-8c59-45aa-8996-83f46a6db74f",
   "metadata": {},
   "source": [
    "Use the probabilities to sample the presence/absence of each gene within each species."
   ]
  },
  {
   "cell_type": "code",
   "execution_count": 18,
   "id": "d8843b7e-e9e7-4d25-9aad-5f51137ddbad",
   "metadata": {},
   "outputs": [],
   "source": [
    "data = [rng.choice([0, 1], size = G, p = [1 - x, x]) for x in probs]\n",
    "data = np.vstack(data).T"
   ]
  },
  {
   "cell_type": "code",
   "execution_count": 19,
   "id": "d2386b7d-2730-491f-a19b-f33478d38717",
   "metadata": {},
   "outputs": [],
   "source": [
    "labels = np.array([f'{label}' for label in range(S)])\n",
    "genes = np.arange(G)"
   ]
  },
  {
   "cell_type": "markdown",
   "id": "f2ab0db6-4b31-4346-a93a-129aa7fc42f9",
   "metadata": {},
   "source": [
    "**Next**, simulate the number of copies of each gene within each species."
   ]
  },
  {
   "cell_type": "markdown",
   "id": "040f973f-9d3c-4548-85c1-6eabe95165ad",
   "metadata": {},
   "source": [
    "Maximum copy number. The actual copy number is sampled from a uniform distribution between 1 (minimum) and this number."
   ]
  },
  {
   "cell_type": "code",
   "execution_count": 20,
   "id": "d06e0193-33c7-4906-b0f9-f87c2b40d3fb",
   "metadata": {},
   "outputs": [],
   "source": [
    "max_copies = 5"
   ]
  },
  {
   "cell_type": "code",
   "execution_count": 21,
   "id": "bd5e35c6-5dc9-417d-8f60-317e272e1204",
   "metadata": {},
   "outputs": [],
   "source": [
    "for i in range(G):\n",
    "    gene = data[i, :]\n",
    "    copies = rng.integers(low = 1, high = max_copies, size = len(gene.nonzero()[0]), endpoint = True)\n",
    "    gene[gene > 0] = copies"
   ]
  },
  {
   "cell_type": "markdown",
   "id": "6a8f093c-bd12-48f9-b47c-1e55318a148f",
   "metadata": {},
   "source": [
    "Plot"
   ]
  },
  {
   "cell_type": "code",
   "execution_count": 22,
   "id": "0420db51-8bcf-4e84-bdc9-466b90737316",
   "metadata": {},
   "outputs": [],
   "source": [
    "cmap_copies = LinearSegmentedColormap.from_list('from_list', ['white', 'black'], max_copies + 1)"
   ]
  },
  {
   "cell_type": "code",
   "execution_count": 23,
   "id": "d023c8c6-6bbc-4941-93ab-63721a3e989a",
   "metadata": {},
   "outputs": [
    {
     "data": {
      "image/png": "[encoded data removed]",
      "text/plain": [
       "<Figure size 600x600 with 2 Axes>"
      ]
     },
     "metadata": {},
     "output_type": "display_data"
    }
   ],
   "source": [
    "plt.figure(figsize = (6, 6))\n",
    "plt.pcolormesh(data, vmin = -0.5, vmax = max_copies + 0.5, cmap = cmap_copies, lw = 0.5, ec = 'white')\n",
    "plt.colorbar(label = 'Number of copies', shrink = 0.5)\n",
    "plt.xticks([])\n",
    "plt.yticks([])\n",
    "plt.xlabel('Species')\n",
    "plt.ylabel('Gene')\n",
    "plt.tight_layout()\n",
    "# plt.savefig('complex.svg')"
   ]
  },
  {
   "cell_type": "markdown",
   "id": "ceae65be-7824-414b-94f5-f0100fa181d5",
   "metadata": {},
   "source": [
    "Run the algorithm to select markers"
   ]
  },
  {
   "cell_type": "code",
   "execution_count": 24,
   "id": "68cd4106-8c75-4dd7-ae94-0579781fee56",
   "metadata": {},
   "outputs": [],
   "source": [
    "k = 10"
   ]
  },
  {
   "cell_type": "code",
   "execution_count": 25,
   "id": "6442f46c-d726-4921-8696-9c266c7f4912",
   "metadata": {},
   "outputs": [],
   "source": [
    "ps = [-40, -20, 0, 20, 40]"
   ]
  },
  {
   "cell_type": "code",
   "execution_count": 26,
   "id": "ca66f473-7225-460f-b163-8c8e28a88aa6",
   "metadata": {},
   "outputs": [],
   "source": [
    "selects = {p: greedy_power_mean_sample_final(data, k, p) for p in ps}"
   ]
  },
  {
   "cell_type": "markdown",
   "id": "4397cd86-44fc-4445-a3f8-a7e59fc152e2",
   "metadata": {},
   "source": [
    "Plot"
   ]
  },
  {
   "cell_type": "code",
   "execution_count": 27,
   "id": "d06d0b39-a100-41e9-8f98-01fbd711e87d",
   "metadata": {},
   "outputs": [],
   "source": [
    "shade_colors = ['mediumseagreen', 'dodgerblue', 'crimson', 'slateblue', 'orchid']"
   ]
  },
  {
   "cell_type": "code",
   "execution_count": 29,
   "id": "ff5419ea-ddce-4599-aa55-770e4030cc07",
   "metadata": {},
   "outputs": [
    {
     "data": {
      "image/png": "[encoded data removed]",
      "text/plain": [
       "<Figure size 650x530 with 3 Axes>"
      ]
     },
     "metadata": {},
     "output_type": "display_data"
    }
   ],
   "source": [
    "fig, axs = plt.subplots(1, 2, figsize = (6.5, 5.3), width_ratios = (2, 5), sharey = True)\n",
    "ax = axs[1]\n",
    "\n",
    "im = ax.pcolormesh(data, vmin = -0.5, vmax = max_copies + 0.5, cmap = cmap_copies, lw = 0.5, ec = 'white')\n",
    "\n",
    "fig.colorbar(im, ax = ax, label = 'Number of copies', shrink = 0.5)\n",
    "\n",
    "xrange = np.arange(S)\n",
    "ax.set_xticks(xrange + 0.5, xrange + 1)\n",
    "ax.set_xlabel('Genomes')\n",
    "\n",
    "yrange = np.arange(G)\n",
    "ax.set_yticks([])\n",
    "ax.set_ylabel('Gene families')\n",
    "\n",
    "ax = axs[0]\n",
    "\n",
    "for i, select in enumerate(selects.values()):\n",
    "    shade = np.zeros(G, dtype=int)\n",
    "    shade[select] = 1\n",
    "    cmap_ = ListedColormap(['w', shade_colors[i]])\n",
    "    ax.pcolormesh(np.array([i, i + 1]), np.arange(G + 1), shade.reshape(-1, 1), cmap = cmap_, ec = 'white', lw = 1)\n",
    "\n",
    "ax.set_xticks(np.arange(len(selects)) + 0.5, selects.keys())\n",
    "ax.set_xlabel('Exponent ($p$)')\n",
    "\n",
    "ax.set_yticks([])\n",
    "ax.set_ylabel('Selected gene family')\n",
    "\n",
    "fig.tight_layout()\n",
    "fig.savefig('./figures/figure_S2A.svg')"
   ]
  },
  {
   "cell_type": "code",
   "execution_count": null,
   "id": "c8fdcbd7-f6b2-48fe-9b6f-08ce5e2fb51b",
   "metadata": {},
   "outputs": [],
   "source": []
  },
  {
   "cell_type": "code",
   "execution_count": null,
   "id": "e2d9b9e7-77de-4494-a4f3-56764ffa0338",
   "metadata": {},
   "outputs": [],
   "source": []
  },
  {
   "cell_type": "code",
   "execution_count": null,
   "id": "8f0d2140-25e4-46a0-99c1-fab930d6f33e",
   "metadata": {},
   "outputs": [],
   "source": []
  },
  {
   "cell_type": "code",
   "execution_count": null,
   "id": "3d7ad4c3-d3bc-408b-b2ae-11992082c532",
   "metadata": {},
   "outputs": [],
   "source": []
  },
  {
   "cell_type": "code",
   "execution_count": null,
   "id": "de863886-703e-4c9e-9fa0-64372a6ee0e1",
   "metadata": {},
   "outputs": [],
   "source": []
  },
  {
   "cell_type": "code",
   "execution_count": null,
   "id": "13699f27-af56-41de-8051-e78487003403",
   "metadata": {},
   "outputs": [],
   "source": []
  }
 ],
 "metadata": {
  "kernelspec": {
   "display_name": "Python 3 (ipykernel)",
   "language": "python",
   "name": "python3"
  },
  "language_info": {
   "codemirror_mode": {
    "name": "ipython",
    "version": 3
   },
   "file_extension": ".py",
   "mimetype": "text/x-python",
   "name": "python",
   "nbconvert_exporter": "python",
   "pygments_lexer": "ipython3",
   "version": "3.10.13"
  }
 },
 "nbformat": 4,
 "nbformat_minor": 5
}
