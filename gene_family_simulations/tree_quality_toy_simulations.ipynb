{
 "cells": [
  {
   "cell_type": "markdown",
   "id": "114fdea5-b2bc-4805-8fc1-4e2301ef6705",
   "metadata": {},
   "source": [
    "# Distance between species trees"
   ]
  },
  {
   "cell_type": "code",
   "execution_count": 1,
   "id": "e1886bd3-0397-4228-99d0-90c076cf9b01",
   "metadata": {},
   "outputs": [],
   "source": [
    "import os\n",
    "import numpy as np\n",
    "import matplotlib.pyplot as plt\n",
    "import matplotlib.colors as mcolors"
   ]
  },
  {
   "cell_type": "code",
   "execution_count": 2,
   "id": "24133d46-1554-4764-b98f-9a626f6e8ec3",
   "metadata": {},
   "outputs": [],
   "source": [
    "import dendropy\n",
    "from dendropy.calculate.treecompare import unweighted_robinson_foulds_distance, weighted_robinson_foulds_distance"
   ]
  },
  {
   "cell_type": "code",
   "execution_count": 3,
   "id": "5e968121-3ac9-4204-bf89-036acc6c4094",
   "metadata": {},
   "outputs": [],
   "source": [
    "plt.rcParams.update({\n",
    "    'figure.autolayout': True,\n",
    "    'savefig.bbox': 'tight',\n",
    "    'svg.fonttype': 'none',\n",
    "    'font.sans-serif': 'Arial',\n",
    "    'font.size': 12,\n",
    "    'boxplot.medianprops.linewidth': 2,\n",
    "    'boxplot.flierprops.markeredgecolor': 'none',\n",
    "    'boxplot.flierprops.markersize': 5})"
   ]
  },
  {
   "cell_type": "markdown",
   "id": "a202924b-f5f8-48a3-a64c-d7f89ac75c44",
   "metadata": {},
   "source": [
    "Functions"
   ]
  },
  {
   "cell_type": "code",
   "execution_count": 4,
   "id": "e2d6d484-26f6-4265-91e8-3858c1105a40",
   "metadata": {},
   "outputs": [],
   "source": [
    "def shared_taxa(tree1, tree2):\n",
    "    taxa1 = {node.taxon.label for node in tree1.leaf_node_iter()}\n",
    "    taxa2 = {node.taxon.label for node in tree2.leaf_node_iter()}\n",
    "    return list(taxa1.intersection(taxa2)), taxa1, taxa2"
   ]
  },
  {
   "cell_type": "code",
   "execution_count": 5,
   "id": "f856e8a9-6dd6-4f93-b65b-42ce311d570f",
   "metadata": {},
   "outputs": [],
   "source": [
    "def RF_distance(treeA, treeB, norm = True, **kwargs):\n",
    "    \n",
    "    treeA_copy, treeB_copy = dendropy.Tree(treeA), dendropy.Tree(treeB)\n",
    "    \n",
    "    # Prune trees such that they contain the same taxa, otherwise RF is much larger\n",
    "    taxa_to_keep, taxa1, taxa2 = shared_taxa(treeA_copy, treeB_copy)\n",
    "    if len(taxa_to_keep) < len(taxa1) or len(taxa_to_keep) < len(taxa2):\n",
    "        treeA_copy.retain_taxa_with_labels(taxa_to_keep)\n",
    "        treeB_copy.retain_taxa_with_labels(taxa_to_keep)\n",
    "        \n",
    "    # Update bipartition\n",
    "    treeA_copy.update_bipartitions()\n",
    "    treeB_copy.update_bipartitions()\n",
    "    \n",
    "    # Assuming trees share the same taxon name space\n",
    "    rf = unweighted_robinson_foulds_distance(treeA_copy, treeB_copy)\n",
    "    if norm:\n",
    "        # Normalize by the maximal possible distance: which is the sum of internal branches\n",
    "        # between both trees. Alternatively, if both trees are unrooted and binary, the sum\n",
    "        # is always 2n - 6, where n is the number of tips in the tree.\n",
    "        max_dist = 2 * len(taxa_to_keep) - 6\n",
    "        # Number of internal branches\n",
    "        # n, m = num_internal_branches(treeA_copy), num_internal_branches(treeB_copy)\n",
    "        if len(taxa_to_keep) > 3:\n",
    "            rf = rf / max_dist\n",
    "        else:\n",
    "            rf = 0.0\n",
    "\n",
    "    # Ratio between species in inferred to actual species tree\n",
    "    ratio_sps = len(taxa2) / len(taxa1)\n",
    "    \n",
    "    return rf, ratio_sps"
   ]
  },
  {
   "cell_type": "markdown",
   "id": "53d6e2a0-08ca-48be-87da-d8d0544bd7c4",
   "metadata": {},
   "source": [
    "## Batch plots"
   ]
  },
  {
   "cell_type": "markdown",
   "id": "9603ab1f-3eca-45e2-805a-aa4e3263ff9a",
   "metadata": {},
   "source": [
    "Load data"
   ]
  },
  {
   "cell_type": "code",
   "execution_count": 6,
   "id": "64286e3a-759d-4ba6-91fb-61b835b5b8b7",
   "metadata": {},
   "outputs": [],
   "source": [
    "def load_data_calculate_distance(G, S, copies, noise, ks, ps, replicates, shuffled):\n",
    "    # To store results\n",
    "    mean_distances_trees = np.zeros((len(ks), len(ps)))\n",
    "    std_distances_trees = np.zeros((len(ks), len(ps)))\n",
    "    mean_ratio_sps = np.zeros((len(ks), len(ps)))\n",
    "    std_ratio_sps = np.zeros((len(ks), len(ps)))\n",
    "    # Load data\n",
    "    for i, k in enumerate(ks):\n",
    "        for j, p in enumerate(ps):\n",
    "            taxon_namespace = dendropy.TaxonNamespace()\n",
    "            distances = np.zeros(len(replicates))\n",
    "            ratios = np.zeros(len(replicates))\n",
    "            for rep in replicates:\n",
    "                if not shuffled:\n",
    "                    path_inferred_tree = f'./toy/simulations_G_{G}_S_{S}/multicopy_trees_{copies}_copy_noise_{noise}/parsed/nid_sps_k_{k}_p_{p}_rep_{rep}_astralpro2.nwk'\n",
    "                else:\n",
    "                    path_inferred_tree = f'./toy/simulations_G_{G}_S_{S}/multicopy_trees_{copies}_copy_noise_{noise}/parsed/nid_sps_shuffled_k_{k}_p_{p}_rep_{rep}_astralpro2.nwk'\n",
    "                try:\n",
    "                    # Load actual sps tree\n",
    "                    actual_tree = dendropy.Tree.get(path = f'./toy/simulations_G_{G}_S_{S}/multicopy_trees_{copies}_copy_noise_{noise}/sps_trees/sps_tree_rep_{rep}.nwk', \n",
    "                                                    schema = 'newick', taxon_namespace = taxon_namespace)\n",
    "                    # Load inferred tree\n",
    "                    inferred_tree = dendropy.Tree.get(path = path_inferred_tree, \n",
    "                                                      schema = 'newick', taxon_namespace = taxon_namespace)\n",
    "                    # Calculate distance\n",
    "                    distances[rep], ratios[rep] = RF_distance(actual_tree, inferred_tree)\n",
    "                except:\n",
    "                    print(f'\\tCannot be loaded. Error. k: {k}, p: {p}, rep :{rep}')\n",
    "                    distances[rep], ratios[rep] = 0, 0\n",
    "            # Calculate mean and std of replicates\n",
    "            mean_distances_trees[i, j] = distances.mean()\n",
    "            std_distances_trees[i, j] = distances.std()\n",
    "            mean_ratio_sps[i, j] = ratios.mean()\n",
    "            std_ratio_sps[i, j] = ratios.std()\n",
    "\n",
    "    return mean_distances_trees, std_distances_trees, mean_ratio_sps, std_ratio_sps"
   ]
  },
  {
   "cell_type": "markdown",
   "id": "8f04fdaf-27a1-4653-8412-9c2e995403b0",
   "metadata": {},
   "source": [
    "Parameters from simulation"
   ]
  },
  {
   "cell_type": "code",
   "execution_count": 7,
   "id": "814d73da-6d6c-4dbf-9e43-878761cbd6f6",
   "metadata": {},
   "outputs": [],
   "source": [
    "G = 50\n",
    "S = 10\n",
    "replicates = np.arange(0, 25, dtype = int)\n",
    "ks = np.linspace(1, G - 1, dtype = int, num = 11)\n",
    "ps = [-100, -80, -60, -40, -20, 0, 20, 40, 60, 80, 100]\n",
    "max_copies = [1, 5]\n",
    "noises = [0.25, 0.5]"
   ]
  },
  {
   "cell_type": "code",
   "execution_count": 8,
   "id": "bd74d780-d7d8-4eac-aa6c-bd768bace444",
   "metadata": {},
   "outputs": [
    {
     "name": "stdout",
     "output_type": "stream",
     "text": [
      "CPU times: user 41.3 s, sys: 2.44 s, total: 43.7 s\n",
      "Wall time: 47.9 s\n"
     ]
    }
   ],
   "source": [
    "%%time\n",
    "results = {}\n",
    "results_shuffled = {}\n",
    "for copies in max_copies:\n",
    "    results[copies] = {}\n",
    "    results_shuffled[copies] = {}\n",
    "    for noise in noises:\n",
    "        # No shuffled tips --no noise\n",
    "        mean_distances_trees, std_distances_trees, mean_ratio_sps, std_ratio_sps = load_data_calculate_distance(G, S, copies, noise, ks, ps, replicates, shuffled = False)\n",
    "        results[copies][0.0] = [mean_distances_trees, std_distances_trees, mean_ratio_sps, std_ratio_sps]\n",
    "        # Shuffled tips --noise\n",
    "        mean_distances_trees, std_distances_trees, mean_ratio_sps, std_ratio_sps = load_data_calculate_distance(G, S, copies, noise, ks, ps, replicates, shuffled = True)\n",
    "        results_shuffled[copies][noise] = [mean_distances_trees, std_distances_trees, mean_ratio_sps, std_ratio_sps]"
   ]
  },
  {
   "cell_type": "code",
   "execution_count": 9,
   "id": "fa4c9fb9-cd07-4fcd-b02b-9e9813600936",
   "metadata": {},
   "outputs": [],
   "source": [
    "X, Y = np.meshgrid(ps, ks)\n",
    "norm = mcolors.Normalize(vmin = 0, vmax = 1.0)"
   ]
  },
  {
   "cell_type": "code",
   "execution_count": 10,
   "id": "ef23414c-8d38-47ee-bd25-aa9dc6fd841c",
   "metadata": {},
   "outputs": [
    {
     "name": "stderr",
     "output_type": "stream",
     "text": [
      "/var/folders/kf/c67frc8x3_vbmg84ldmjmbkc0000gq/T/ipykernel_35417/2909450030.py:34: UserWarning: This figure includes Axes that are not compatible with tight_layout, so results might be incorrect.\n",
      "  fig.savefig(f'./figures/figure_2A.svg')\n",
      "/Users/hsecaira/miniconda3/envs/BipNet/lib/python3.10/site-packages/IPython/core/pylabtools.py:152: UserWarning: This figure includes Axes that are not compatible with tight_layout, so results might be incorrect.\n",
      "  fig.canvas.print_figure(bytes_io, **kw)\n"
     ]
    },
    {
     "data": {
      "image/png": "[encoded data removed]",
      "text/plain": [
       "<Figure size 600x350 with 7 Axes>"
      ]
     },
     "metadata": {},
     "output_type": "display_data"
    }
   ],
   "source": [
    "fig, axes = plt.subplots(nrows = 2, ncols = 3, figsize = (6, 3.5),\n",
    "                        sharex = True, sharey = True)\n",
    "# 1 copy\n",
    "copy = 1\n",
    "im = axes[0, 0].contourf(X, Y, results[copy][0.0][0], norm = norm, levels = 7) # No noise\n",
    "axes[0, 0].tick_params(top = True, right = True, direction = 'in', which = 'both')\n",
    "# axes[0, 0].set_title(f'Noise: {0.0}')\n",
    "j = 1\n",
    "for noise, data in results_shuffled[copy].items():\n",
    "    im = axes[0, j].contourf(X, Y, data[0], norm = norm, levels = 7)\n",
    "    axes[0, j].tick_params(top = True, right = True, direction = 'in', which = 'both')\n",
    "    # axes[0, j].set_title(f'Noise: {noise}')\n",
    "    j += 1\n",
    "\n",
    "# 5 copies\n",
    "copy = 5\n",
    "im = axes[1, 0].contourf(X, Y, results[copy][0.0][0], norm = norm, levels = 7) # No noise\n",
    "axes[1, 0].tick_params(top = True, right = True, direction = 'in', which = 'both')\n",
    "j = 1\n",
    "for noise, data in results_shuffled[copy].items():\n",
    "    im = axes[1, j].contourf(X, Y, data[0], norm = norm, levels = 7)\n",
    "    axes[1, j].tick_params(top = True, right = True, direction = 'in', which = 'both')\n",
    "    axes[1, 0].set_xlabel('p')\n",
    "    j += 1\n",
    "\n",
    "# Labels\n",
    "axes[0, 0].set_ylabel('k')\n",
    "axes[1, 0].set_ylabel('k')\n",
    "# axes[2, 0].set_ylabel('k')\n",
    "\n",
    "# Colorbar\n",
    "cbar = fig.colorbar(plt.cm.ScalarMappable(norm = norm, cmap = 'viridis'), ax = axes.ravel().tolist(), shrink = 1.0,\n",
    "                   label = 'Mean nRF distance')\n",
    "fig.savefig(f'./figures/figure_2A.svg')\n",
    "\n",
    "plt.show()"
   ]
  },
  {
   "cell_type": "code",
   "execution_count": 11,
   "id": "35f894d1-0d96-4dea-8445-b72eca2d749f",
   "metadata": {},
   "outputs": [
    {
     "name": "stderr",
     "output_type": "stream",
     "text": [
      "/var/folders/kf/c67frc8x3_vbmg84ldmjmbkc0000gq/T/ipykernel_35417/1448700246.py:35: UserWarning: This figure includes Axes that are not compatible with tight_layout, so results might be incorrect.\n",
      "  fig.savefig(f'./figures/figure_S2B.svg')\n"
     ]
    },
    {
     "data": {
      "image/png": "[encoded data removed]",
      "text/plain": [
       "<Figure size 600x350 with 7 Axes>"
      ]
     },
     "metadata": {},
     "output_type": "display_data"
    }
   ],
   "source": [
    "fig, axes = plt.subplots(nrows = 2, ncols = 3, figsize = (6, 3.5),\n",
    "                        sharex = True, sharey = True)\n",
    "# 1 copy\n",
    "copy = 1\n",
    "im = axes[0, 0].contourf(X, Y, results[copy][0.0][1], norm = norm, levels = 7) # No noise\n",
    "axes[0, 0].tick_params(top = True, right = True, direction = 'in', which = 'both')\n",
    "# axes[0, 0].set_title(f'Noise: {0.0}')\n",
    "j = 1\n",
    "for noise, data in results_shuffled[copy].items():\n",
    "    im = axes[0, j].contourf(X, Y, data[1], norm = norm, levels = 7)\n",
    "    axes[0, j].tick_params(top = True, right = True, direction = 'in', which = 'both')\n",
    "    # axes[0, j].set_title(f'Noise: {noise}')\n",
    "    j += 1\n",
    "\n",
    "# 5 copies\n",
    "copy = 5\n",
    "im = axes[1, 0].contourf(X, Y, results[copy][0.0][1], norm = norm, levels = 7) # No noise\n",
    "axes[1, 0].tick_params(top = True, right = True, direction = 'in', which = 'both')\n",
    "j = 1\n",
    "for noise, data in results_shuffled[copy].items():\n",
    "    im = axes[1, j].contourf(X, Y, data[1], norm = norm, levels = 7)\n",
    "    axes[1, j].tick_params(top = True, right = True, direction = 'in', which = 'both')\n",
    "    axes[1, 0].set_xlabel('p')\n",
    "    j += 1\n",
    "    \n",
    "# Labels\n",
    "axes[0, 0].set_ylabel('k')\n",
    "axes[1, 0].set_ylabel('k')\n",
    "# axes[2, 0].set_ylabel('k')\n",
    "\n",
    "# Colorbar\n",
    "cbar = fig.colorbar(plt.cm.ScalarMappable(norm = norm, cmap = 'viridis'), ax = axes.ravel().tolist(), shrink = 1.0,\n",
    "                   label = 'Std nRF distance')\n",
    "\n",
    "fig.savefig(f'./figures/figure_S2B.svg')\n",
    "\n",
    "plt.show()"
   ]
  },
  {
   "cell_type": "code",
   "execution_count": null,
   "id": "31e175f3-79eb-4e00-a9c4-b6f090385488",
   "metadata": {},
   "outputs": [],
   "source": []
  },
  {
   "cell_type": "code",
   "execution_count": null,
   "id": "6978fe39-2372-41cb-865c-da7149259a47",
   "metadata": {},
   "outputs": [],
   "source": []
  },
  {
   "cell_type": "code",
   "execution_count": null,
   "id": "a9add7e0-139b-49b6-a2ec-1b6aef94e91a",
   "metadata": {},
   "outputs": [],
   "source": []
  },
  {
   "cell_type": "code",
   "execution_count": null,
   "id": "a7e3efc8-8c80-4d2c-8727-769765cd95aa",
   "metadata": {},
   "outputs": [],
   "source": []
  },
  {
   "cell_type": "code",
   "execution_count": null,
   "id": "d8827b78-ccf7-4665-9641-97943ebfc958",
   "metadata": {},
   "outputs": [],
   "source": []
  },
  {
   "cell_type": "code",
   "execution_count": null,
   "id": "3deafc71-1b39-4302-89e3-06c73b1b7d76",
   "metadata": {},
   "outputs": [],
   "source": []
  },
  {
   "cell_type": "code",
   "execution_count": null,
   "id": "f84db25d-756b-447d-bef5-36e9c4d6e9f6",
   "metadata": {},
   "outputs": [],
   "source": []
  },
  {
   "cell_type": "code",
   "execution_count": null,
   "id": "59b46431-79cf-4d5b-9b3e-a0bad0e81066",
   "metadata": {},
   "outputs": [],
   "source": []
  },
  {
   "cell_type": "code",
   "execution_count": null,
   "id": "b8060d9d-99d4-4a5a-a2f0-78ffecd8dc6d",
   "metadata": {},
   "outputs": [],
   "source": []
  },
  {
   "cell_type": "code",
   "execution_count": null,
   "id": "ea37bafa-ab42-4ff0-9688-e166046556fa",
   "metadata": {},
   "outputs": [],
   "source": []
  }
 ],
 "metadata": {
  "kernelspec": {
   "display_name": "Python 3 (ipykernel)",
   "language": "python",
   "name": "python3"
  },
  "language_info": {
   "codemirror_mode": {
    "name": "ipython",
    "version": 3
   },
   "file_extension": ".py",
   "mimetype": "text/x-python",
   "name": "python",
   "nbconvert_exporter": "python",
   "pygments_lexer": "ipython3",
   "version": "3.10.13"
  }
 },
 "nbformat": 4,
 "nbformat_minor": 5
}
