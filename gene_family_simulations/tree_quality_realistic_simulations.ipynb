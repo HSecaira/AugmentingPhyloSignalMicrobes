{
 "cells": [
  {
   "cell_type": "markdown",
   "metadata": {},
   "source": [
    "# Distance between species trees --using the copy number matrix for marker gene selection"
   ]
  },
  {
   "cell_type": "code",
   "execution_count": 1,
   "metadata": {},
   "outputs": [],
   "source": [
    "import os\n",
    "import numpy as np\n",
    "import matplotlib.pyplot as plt\n",
    "import matplotlib.gridspec as grid_spec\n",
    "import matplotlib.patches as patches\n",
    "import matplotlib.colors as mcolors\n",
    "import re\n",
    "import pandas as pd"
   ]
  },
  {
   "cell_type": "code",
   "execution_count": 2,
   "metadata": {},
   "outputs": [],
   "source": [
    "from skbio import TreeNode"
   ]
  },
  {
   "cell_type": "code",
   "execution_count": 3,
   "metadata": {},
   "outputs": [],
   "source": [
    "import dendropy\n",
    "from dendropy.calculate.treecompare import unweighted_robinson_foulds_distance, weighted_robinson_foulds_distance"
   ]
  },
  {
   "cell_type": "code",
   "execution_count": 4,
   "metadata": {},
   "outputs": [],
   "source": [
    "plt.rcParams.update({\n",
    "    'figure.autolayout': True,\n",
    "    'savefig.bbox': 'tight',\n",
    "    'svg.fonttype': 'none',\n",
    "    'font.sans-serif': 'Arial',\n",
    "    'font.size': 12,\n",
    "    'boxplot.medianprops.linewidth': 2,\n",
    "    'boxplot.flierprops.markeredgecolor': 'none',\n",
    "    'boxplot.flierprops.markersize': 5})"
   ]
  },
  {
   "cell_type": "markdown",
   "metadata": {},
   "source": [
    "Functions"
   ]
  },
  {
   "cell_type": "code",
   "execution_count": 5,
   "metadata": {},
   "outputs": [],
   "source": [
    "def shared_taxa(tree1, tree2):\n",
    "    taxa1 = {node.taxon.label for node in tree1.leaf_node_iter()}\n",
    "    taxa2 = {node.taxon.label for node in tree2.leaf_node_iter()}\n",
    "    return list(taxa1.intersection(taxa2)), taxa1, taxa2"
   ]
  },
  {
   "cell_type": "code",
   "execution_count": 6,
   "metadata": {},
   "outputs": [],
   "source": [
    "def RF_distance(treeA, treeB, norm = True, **kwargs):\n",
    "    \n",
    "    treeA_copy, treeB_copy = dendropy.Tree(treeA), dendropy.Tree(treeB)\n",
    "    \n",
    "    # Prune trees such that they contain the same taxa, otherwise RF is much larger\n",
    "    taxa_to_keep, taxa1, taxa2 = shared_taxa(treeA_copy, treeB_copy)\n",
    "    if len(taxa_to_keep) < len(taxa1) or len(taxa_to_keep) < len(taxa2):\n",
    "        treeA_copy.retain_taxa_with_labels(taxa_to_keep)\n",
    "        treeB_copy.retain_taxa_with_labels(taxa_to_keep)\n",
    "        \n",
    "    # Update bipartition\n",
    "    treeA_copy.update_bipartitions()\n",
    "    treeB_copy.update_bipartitions()\n",
    "    \n",
    "    # Assuming trees share the same taxon name space\n",
    "    rf = unweighted_robinson_foulds_distance(treeA_copy, treeB_copy)\n",
    "    if norm:\n",
    "        # Normalize by the maximal possible distance: which is the sum of internal branches\n",
    "        # between both trees. Alternatively, if both trees are unrooted and binary, the sum\n",
    "        # is always 2n - 6, where n is the number of tips in the tree.\n",
    "        max_dist = 2 * len(taxa_to_keep) - 6\n",
    "        # Number of internal branches\n",
    "        # n, m = num_internal_branches(treeA_copy), num_internal_branches(treeB_copy)\n",
    "        if len(taxa_to_keep) > 3:\n",
    "            rf = rf / max_dist\n",
    "        else:\n",
    "            rf = 0.0\n",
    "\n",
    "    # Ratio between species in inferred to actual species tree\n",
    "    ratio_sps = len(taxa2) / len(taxa1)\n",
    "    \n",
    "    return rf, ratio_sps"
   ]
  },
  {
   "cell_type": "markdown",
   "metadata": {},
   "source": [
    "Generate metadata file for each replicate containing: number of species and number of gene families"
   ]
  },
  {
   "cell_type": "code",
   "execution_count": 9,
   "metadata": {},
   "outputs": [
    {
     "data": {
      "text/plain": [
       "(24, 2)"
      ]
     },
     "execution_count": 9,
     "metadata": {},
     "output_type": "execute_result"
    }
   ],
   "source": [
    "df = pd.read_csv(f'./realistic/input_data/metadata_simulations.tsv', sep = '\\t', index_col = 0)\n",
    "df.shape"
   ]
  },
  {
   "cell_type": "markdown",
   "metadata": {},
   "source": [
    "Parameters from simulations"
   ]
  },
  {
   "cell_type": "markdown",
   "metadata": {},
   "source": [
    "### Batch plots"
   ]
  },
  {
   "cell_type": "code",
   "execution_count": 15,
   "metadata": {},
   "outputs": [],
   "source": [
    "def load_data_calculate_distance(dataPathIn, noise, ps, replicates, shuffled):\n",
    "    # To store results\n",
    "    mean_distances_trees = np.zeros((11, len(ps)))\n",
    "    std_distances_trees = np.zeros((11, len(ps)))\n",
    "    mean_ratio_sps = np.zeros((11, len(ps)))\n",
    "    std_ratio_sps = np.zeros((11, len(ps)))\n",
    "    mean_prop_nodes_confident = np.zeros((11, len(ps)))\n",
    "    std_prop_nodes_confident = np.zeros((11, len(ps)))\n",
    "    # Load data\n",
    "    for i in range(11): # Since we only have 11 values for k\n",
    "        for j, p in enumerate(ps):\n",
    "            taxon_namespace = dendropy.TaxonNamespace()\n",
    "            distances = np.zeros(len(replicates))\n",
    "            ratios = np.zeros(len(replicates))\n",
    "            lpp = np.zeros(len(replicates))\n",
    "            for idx, rep in enumerate(replicates):\n",
    "                # Parameters of simulation\n",
    "                n = df.loc[rep]['num_gene_famlies_filtered']\n",
    "                ks = np.geomspace(10, n - 1, dtype = int, num = 11)\n",
    "                # Load trees\n",
    "                if not shuffled:\n",
    "                    path_inferred_tree = f'./realistic/input_data/inferred_trees/nid_sps_k_{ks[i]}_p_{p}_noise_0.05_rep_{rep}_astral-pro2.nwk'\n",
    "                    path_metadata = f'./realistic/input_data/inferred_trees/metadata_sps_k_{ks[i]}_p_{p}_noise_0.05_rep_{rep}_astral-pro2.tsv'\n",
    "                else:\n",
    "                    path_inferred_tree = f'./realistic/input_data/inferred_trees/nid_sps_shuffled_k_{ks[i]}_p_{p}_noise_{noise}_rep_{rep}_astral-pro2.nwk'\n",
    "                    path_metadata = f'./realistic/input_data/inferred_trees/metadata_sps_shuffled_k_{ks[i]}_p_{p}_noise_{noise}_rep_{rep}_astral-pro2.tsv'\n",
    "                # Load real species tree\n",
    "                actual_tree = dendropy.Tree.get(path = f'{dataPathIn}/replicate_{rep}/ExtantTree.nwk', \n",
    "                            schema = 'newick', taxon_namespace = taxon_namespace)\n",
    "                # Load inferred species tree\n",
    "                inferred_tree = dendropy.Tree.get(path = path_inferred_tree, \n",
    "                          schema = 'newick', taxon_namespace = taxon_namespace)\n",
    "                # Load tree metadata\n",
    "                metadata_tree = pd.read_csv(path_metadata,\n",
    "                                       sep = '\\t', index_col = 0)\n",
    "                # Calculate distance\n",
    "                distances[idx], ratios[idx] = RF_distance(actual_tree, inferred_tree)\n",
    "                # Calculate proportion of confident nodes (lpp > 0.95)\n",
    "                datum = metadata_tree['pp1'].values\n",
    "                lpp[idx] = np.sum(datum >= 0.95) / len(datum)\n",
    "            # Calculate mean and std of replicates\n",
    "            mean_distances_trees[i, j] = distances.mean()\n",
    "            std_distances_trees[i, j] = distances.std()\n",
    "            mean_ratio_sps[i, j] = ratios.mean()\n",
    "            std_ratio_sps[i, j] = ratios.std()\n",
    "            mean_prop_nodes_confident[i, j] = lpp.mean()\n",
    "            std_prop_nodes_confident[i, j] = lpp.std()\n",
    "\n",
    "    return mean_distances_trees, std_distances_trees, mean_ratio_sps, std_ratio_sps, mean_prop_nodes_confident, std_prop_nodes_confident"
   ]
  },
  {
   "cell_type": "code",
   "execution_count": 16,
   "metadata": {},
   "outputs": [],
   "source": [
    "replicates = [1, 3, 4, 5, 6, 7, 8, 9, 10, 11, 12, 13, 14, 16, 17, 18, 19, 20, 21, 22, 24, 25]\n",
    "ps = [-100, -75, -50, -25, 0, 25, 50, 75, 100]\n",
    "noises = [0.0, 0.25, 0.5]"
   ]
  },
  {
   "cell_type": "code",
   "execution_count": 17,
   "metadata": {},
   "outputs": [],
   "source": [
    "dataPathIn = f'./realistic/input_data/real_trees'"
   ]
  },
  {
   "cell_type": "code",
   "execution_count": 18,
   "metadata": {},
   "outputs": [
    {
     "name": "stdout",
     "output_type": "stream",
     "text": [
      "Noise: 0.0\n",
      "Noise: 0.25\n",
      "Noise: 0.5\n",
      "CPU times: user 18min 10s, sys: 11.1 s, total: 18min 21s\n",
      "Wall time: 18min 32s\n"
     ]
    }
   ],
   "source": [
    "%%time\n",
    "results = {}\n",
    "for noise in noises:\n",
    "    print(f'Noise: {noise}')\n",
    "    if noise == 0.0:\n",
    "        mean_distances_trees, std_distances_trees, mean_ratio_sps, std_ratio_sps, mean_prop_nodes_confident, std_prop_nodes_confident = load_data_calculate_distance(dataPathIn, noise, ps, replicates, shuffled = False)\n",
    "    else:\n",
    "        mean_distances_trees, std_distances_trees, mean_ratio_sps, std_ratio_sps, mean_prop_nodes_confident, std_prop_nodes_confident = load_data_calculate_distance(dataPathIn, noise, ps, replicates, shuffled = True)\n",
    "    \n",
    "    results[noise] = [mean_distances_trees, std_distances_trees, mean_ratio_sps, std_ratio_sps, mean_prop_nodes_confident, std_prop_nodes_confident]"
   ]
  },
  {
   "cell_type": "markdown",
   "metadata": {},
   "source": [
    "### Plots"
   ]
  },
  {
   "cell_type": "code",
   "execution_count": 19,
   "metadata": {},
   "outputs": [],
   "source": [
    "X, Y = np.meshgrid(ps, np.arange(11))\n",
    "norm = mcolors.Normalize(vmin = 0, vmax = 1.0)"
   ]
  },
  {
   "cell_type": "code",
   "execution_count": 22,
   "metadata": {},
   "outputs": [
    {
     "name": "stderr",
     "output_type": "stream",
     "text": [
      "/var/folders/kf/c67frc8x3_vbmg84ldmjmbkc0000gq/T/ipykernel_46841/536148510.py:17: UserWarning: This figure includes Axes that are not compatible with tight_layout, so results might be incorrect.\n",
      "  fig.savefig(f'../figures/figure_2B_nrf.svg')\n"
     ]
    },
    {
     "data": {
      "image/png": "[encoded data removed]",
      "text/plain": [
       "<Figure size 590x212 with 4 Axes>"
      ]
     },
     "metadata": {},
     "output_type": "display_data"
    }
   ],
   "source": [
    "fig, axes = plt.subplots(nrows = 1, ncols = len(noises), figsize = (5.9, 2.12),\n",
    "                        sharex = True, sharey = True)\n",
    "j = 0\n",
    "for noise, data in results.items():\n",
    "    im = axes[j].contourf(X, Y, data[0], norm = norm, levels = 7)\n",
    "    axes[j].tick_params(top = True, right = True, direction = 'in', which = 'both')\n",
    "    axes[j].set_xlabel('p')\n",
    "    axes[0].set_ylabel('k')\n",
    "#     axes[j].set_title(f'Noise: {noise}')\n",
    "    j += 1\n",
    "    \n",
    "# Colorbar\n",
    "cbar = fig.colorbar(plt.cm.ScalarMappable(norm = norm, cmap = 'viridis'), ax = axes.ravel().tolist(), \n",
    "                    shrink = 0.75,\n",
    "                   label = f'Mean nRF\\ndistance')\n",
    "\n",
    "fig.savefig(f'./figures/figure_2B_nrf.svg')\n",
    "\n",
    "plt.show()"
   ]
  },
  {
   "cell_type": "code",
   "execution_count": 23,
   "metadata": {},
   "outputs": [
    {
     "name": "stderr",
     "output_type": "stream",
     "text": [
      "/var/folders/kf/c67frc8x3_vbmg84ldmjmbkc0000gq/T/ipykernel_46841/682667002.py:16: UserWarning: This figure includes Axes that are not compatible with tight_layout, so results might be incorrect.\n",
      "  fig.savefig(f'../figures/figure_S2C_nrf.svg')\n"
     ]
    },
    {
     "data": {
      "image/png": "[encoded data removed]",
      "text/plain": [
       "<Figure size 590x212 with 4 Axes>"
      ]
     },
     "metadata": {},
     "output_type": "display_data"
    }
   ],
   "source": [
    "fig, axes = plt.subplots(nrows = 1, ncols = len(noises), figsize = (5.9, 2.12),\n",
    "                        sharex = True, sharey = True)\n",
    "j = 0\n",
    "for noise, data in results.items():\n",
    "    im = axes[j].contourf(X, Y, data[1], norm = norm, levels = 7)\n",
    "    axes[j].tick_params(top = True, right = True, direction = 'in', which = 'both')\n",
    "    axes[j].set_xlabel('p')\n",
    "#     axes[j].set_ylabel('k')\n",
    "#     axes[j].set_title(f'Noise: {noise}')\n",
    "    j += 1\n",
    "    \n",
    "# Colorbar\n",
    "cbar = fig.colorbar(plt.cm.ScalarMappable(norm = norm, cmap = 'viridis'), ax = axes.ravel().tolist(), shrink = 0.75,\n",
    "                   label = 'Std nRF distance')\n",
    "\n",
    "fig.savefig(f'./figures/figure_S2C_nrf.svg')\n",
    "\n",
    "plt.show()"
   ]
  },
  {
   "cell_type": "code",
   "execution_count": 24,
   "metadata": {},
   "outputs": [
    {
     "name": "stderr",
     "output_type": "stream",
     "text": [
      "/var/folders/kf/c67frc8x3_vbmg84ldmjmbkc0000gq/T/ipykernel_46841/1269611684.py:16: UserWarning: This figure includes Axes that are not compatible with tight_layout, so results might be incorrect.\n",
      "  fig.savefig(f'../figures/figure_2B_lpp.svg')\n"
     ]
    },
    {
     "data": {
      "image/png": "[encoded data removed]",
      "text/plain": [
       "<Figure size 590x212 with 4 Axes>"
      ]
     },
     "metadata": {},
     "output_type": "display_data"
    }
   ],
   "source": [
    "fig, axes = plt.subplots(nrows = 1, ncols = len(noises), figsize = (5.9, 2.12),\n",
    "                        sharex = True, sharey = True)\n",
    "j = 0\n",
    "for noise, data in results.items():\n",
    "    im = axes[j].contourf(X, Y, data[4], norm = norm, levels = 7, cmap = 'inferno_r')\n",
    "    axes[j].tick_params(top = True, right = True, direction = 'in', which = 'both')\n",
    "    axes[j].set_xlabel('p')\n",
    "    axes[0].set_ylabel('k')\n",
    "#     axes[j].set_title(f'Noise: {noise}')\n",
    "    j += 1\n",
    "    \n",
    "# Colorbar\n",
    "cbar = fig.colorbar(plt.cm.ScalarMappable(norm = norm, cmap = 'inferno_r'), ax = axes.ravel().tolist(), shrink = 0.75,\n",
    "                   label = f'Mean proportion\\nof confident branches')\n",
    "\n",
    "fig.savefig(f'./figures/figure_2B_lpp.svg')\n",
    "\n",
    "plt.show()"
   ]
  },
  {
   "cell_type": "code",
   "execution_count": 25,
   "metadata": {},
   "outputs": [
    {
     "name": "stderr",
     "output_type": "stream",
     "text": [
      "/var/folders/kf/c67frc8x3_vbmg84ldmjmbkc0000gq/T/ipykernel_46841/2616429776.py:16: UserWarning: This figure includes Axes that are not compatible with tight_layout, so results might be incorrect.\n",
      "  fig.savefig(f'../figures/figure_S2C_lpp.svg')\n"
     ]
    },
    {
     "data": {
      "image/png": "[encoded data removed]",
      "text/plain": [
       "<Figure size 590x212 with 4 Axes>"
      ]
     },
     "metadata": {},
     "output_type": "display_data"
    }
   ],
   "source": [
    "fig, axes = plt.subplots(nrows = 1, ncols = len(noises), figsize = (5.9, 2.12),\n",
    "                        sharex = True, sharey = True)\n",
    "j = 0\n",
    "for noise, data in results.items():\n",
    "    im = axes[j].contourf(X, Y, data[5], norm = norm, levels = 7, cmap = 'inferno_r')\n",
    "    axes[j].tick_params(top = True, right = True, direction = 'in', which = 'both')\n",
    "    axes[j].set_xlabel('p')\n",
    "#     axes[j].set_ylabel('k')\n",
    "#     axes[j].set_title(f'Noise: {noise}')\n",
    "    j += 1\n",
    "    \n",
    "# Colorbar\n",
    "cbar = fig.colorbar(plt.cm.ScalarMappable(norm = norm, cmap = 'inferno_r'), ax = axes.ravel().tolist(), shrink = 0.75,\n",
    "                   label = 'Std proportion of\\nconfident branches')\n",
    "\n",
    "fig.savefig(f'./figures/figure_S2C_lpp.svg')\n",
    "\n",
    "plt.show()"
   ]
  },
  {
   "cell_type": "markdown",
   "metadata": {},
   "source": [
    "# Gene family space"
   ]
  },
  {
   "cell_type": "code",
   "execution_count": 26,
   "metadata": {},
   "outputs": [],
   "source": [
    "def load_gene_families(tree, path):\n",
    "    '''\n",
    "    Function that loads the gene families of ZOMBI simulations\n",
    "    as an edge list\n",
    "    Parameters\n",
    "    ----------\n",
    "        tree: skbio TreeNode containing species\n",
    "        path: str containing the path to the directory that has genomic information\n",
    "    Returns\n",
    "    -------\n",
    "        edges: Arrays containing the genome and gene family\n",
    "    '''\n",
    "    genomes, families = [], []\n",
    "    for node in tree.tips():\n",
    "        file = os.path.join(path, f'output/G/Genomes/{node.name}_GENOME.tsv')\n",
    "        with open(file, 'r') as f:\n",
    "            for line in f:\n",
    "                if line[0] != 'P':\n",
    "                    gene_family = line.strip().split('\\t')[1]\n",
    "                    genomes.append(node.name)\n",
    "                    families.append(gene_family)\n",
    "    return np.array(families), np.array(genomes)"
   ]
  },
  {
   "cell_type": "code",
   "execution_count": 27,
   "metadata": {},
   "outputs": [],
   "source": [
    "def adjMatv2(edges_ogs, edges_genomes):\n",
    "    # Get unique elements\n",
    "    ogs, ogs_indices = np.unique(edges_ogs, return_inverse = True)\n",
    "    genomes, genomes_indices = np.unique(edges_genomes, return_inverse = True)\n",
    "    # Calculate bin counts for each combination of indices\n",
    "    counts = np.bincount(ogs_indices * len(genomes) + genomes_indices, minlength = len(ogs) * len(genomes))\n",
    "    # Reshape counts as adjacency matrix\n",
    "    adj = counts.reshape(len(ogs), len(genomes))\n",
    "    return adj, genomes, ogs"
   ]
  },
  {
   "cell_type": "code",
   "execution_count": 28,
   "metadata": {},
   "outputs": [],
   "source": [
    "def remove_genes(adj_mod):\n",
    "    '''\n",
    "    Function that removes genes if:\n",
    "        present in less than 4 genomes/species\n",
    "    '''\n",
    "    remove = np.array([i for i in range(len(adj_mod)) if adj_mod[i].sum() < 4])\n",
    "    return remove"
   ]
  },
  {
   "cell_type": "markdown",
   "metadata": {},
   "source": [
    "Load data"
   ]
  },
  {
   "cell_type": "code",
   "execution_count": 29,
   "metadata": {},
   "outputs": [
    {
     "name": "stdout",
     "output_type": "stream",
     "text": [
      "226\n"
     ]
    }
   ],
   "source": [
    "tree = TreeNode.read(f'./realistic/zombi/replicate_1/output/T/ExtantTree.nwk')\n",
    "print(tree.count(tips = True))"
   ]
  },
  {
   "cell_type": "code",
   "execution_count": 30,
   "metadata": {},
   "outputs": [],
   "source": [
    "edges_families, edges_genomes = load_gene_families(tree, f'./realistic/zombi/replicate_1')"
   ]
  },
  {
   "cell_type": "markdown",
   "metadata": {},
   "source": [
    "Build copy number matrix"
   ]
  },
  {
   "cell_type": "code",
   "execution_count": 31,
   "metadata": {},
   "outputs": [],
   "source": [
    "adj, genomes, ogs = adjMatv2(edges_families, edges_genomes)"
   ]
  },
  {
   "cell_type": "markdown",
   "metadata": {},
   "source": [
    "Reformat matrix"
   ]
  },
  {
   "cell_type": "code",
   "execution_count": 32,
   "metadata": {},
   "outputs": [],
   "source": [
    "adj1 = adj"
   ]
  },
  {
   "cell_type": "code",
   "execution_count": 33,
   "metadata": {},
   "outputs": [],
   "source": [
    "# Contains copy numbers\n",
    "adj2 = adj1.copy()"
   ]
  },
  {
   "cell_type": "code",
   "execution_count": 34,
   "metadata": {},
   "outputs": [],
   "source": [
    "adj1[adj1 > 1] = 1"
   ]
  },
  {
   "cell_type": "code",
   "execution_count": 35,
   "metadata": {},
   "outputs": [],
   "source": [
    "# Copy presence/absence matrix\n",
    "adj_mod = adj1.copy()\n",
    "# Select genes to remove\n",
    "remove = remove_genes(adj_mod)\n",
    "# Remove genes\n",
    "adj_mod = np.delete(adj_mod, remove, axis = 0)\n",
    "# Remove genes from list\n",
    "# ogs_mod = np.delete(ogs_sampled, remove, axis = 0)\n",
    "ogs_mod = np.delete(ogs, remove, axis = 0)"
   ]
  },
  {
   "cell_type": "code",
   "execution_count": 36,
   "metadata": {},
   "outputs": [],
   "source": [
    "# Copy matrix\n",
    "adj_mod2 = adj2.copy()\n",
    "# Remove genes\n",
    "adj_mod2 = np.delete(adj_mod2, remove, axis = 0)"
   ]
  },
  {
   "cell_type": "code",
   "execution_count": 37,
   "metadata": {},
   "outputs": [
    {
     "data": {
      "text/plain": [
       "(3653, 226)"
      ]
     },
     "execution_count": 37,
     "metadata": {},
     "output_type": "execute_result"
    }
   ],
   "source": [
    "adj_mod.shape"
   ]
  },
  {
   "cell_type": "code",
   "execution_count": 38,
   "metadata": {},
   "outputs": [
    {
     "data": {
      "text/plain": [
       "(3653, 226)"
      ]
     },
     "execution_count": 38,
     "metadata": {},
     "output_type": "execute_result"
    }
   ],
   "source": [
    "adj_mod2.shape"
   ]
  },
  {
   "cell_type": "code",
   "execution_count": 39,
   "metadata": {},
   "outputs": [
    {
     "data": {
      "image/png": "[encoded data removed]",
      "text/plain": [
       "<Figure size 450x250 with 1 Axes>"
      ]
     },
     "metadata": {},
     "output_type": "display_data"
    }
   ],
   "source": [
    "x = np.sum(adj_mod2 == 1, axis = 1) / np.sum(adj_mod2 >= 1, axis = 1)\n",
    "y = np.sum(adj_mod2 >= 1, axis = 1) / adj_mod2.shape[1]\n",
    "plt.figure(figsize = (4.5, 2.5))\n",
    "plt.scatter(x, y, alpha = 0.2, color = 'k', s = 3, edgecolor = None)\n",
    "\n",
    "# Threshold for presence and single-copy ratio\n",
    "plt.axvline(x = 0.95, ls = 'dashed', color = '#a02c2cff')\n",
    "plt.axhline(y = 0.90, ls = 'dashed', color = '#a02c2cff')\n",
    "# plt.legend(title = 'Pfam type')\n",
    "plt.tick_params(top = True, right = True, direction = 'in', which = 'both')\n",
    "plt.xlabel('Single-copy ratio across genomes')\n",
    "plt.ylabel('Proportion of genomes')\n",
    "plt.savefig(f'./figures/figure_S2A.svg')\n",
    "plt.show()"
   ]
  },
  {
   "cell_type": "code",
   "execution_count": null,
   "metadata": {},
   "outputs": [],
   "source": []
  },
  {
   "cell_type": "code",
   "execution_count": null,
   "metadata": {},
   "outputs": [],
   "source": []
  },
  {
   "cell_type": "code",
   "execution_count": null,
   "metadata": {},
   "outputs": [],
   "source": []
  },
  {
   "cell_type": "code",
   "execution_count": null,
   "metadata": {},
   "outputs": [],
   "source": []
  },
  {
   "cell_type": "code",
   "execution_count": null,
   "metadata": {},
   "outputs": [],
   "source": []
  }
 ],
 "metadata": {
  "kernelspec": {
   "display_name": "Python 3 (ipykernel)",
   "language": "python",
   "name": "python3"
  },
  "language_info": {
   "codemirror_mode": {
    "name": "ipython",
    "version": 3
   },
   "file_extension": ".py",
   "mimetype": "text/x-python",
   "name": "python",
   "nbconvert_exporter": "python",
   "pygments_lexer": "ipython3",
   "version": "3.10.13"
  }
 },
 "nbformat": 4,
 "nbformat_minor": 4
}
