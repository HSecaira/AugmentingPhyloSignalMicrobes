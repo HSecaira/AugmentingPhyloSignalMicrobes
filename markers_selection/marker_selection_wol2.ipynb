{
 "cells": [
  {
   "cell_type": "markdown",
   "id": "b44efa8d-1749-4b48-8a1c-4a490547e242",
   "metadata": {},
   "source": [
    "# Marker selection of KEGG gene families from 1,510 WoL genomes"
   ]
  },
  {
   "cell_type": "code",
   "execution_count": 1,
   "id": "dadabda5-b7f7-4923-8b70-2b7f4b35d000",
   "metadata": {},
   "outputs": [],
   "source": [
    "import numpy as np\n",
    "import pandas as pd\n",
    "import matplotlib.pyplot as plt\n",
    "from scipy.stats import pmean\n",
    "import os, lzma"
   ]
  },
  {
   "cell_type": "code",
   "execution_count": 2,
   "id": "526188eb-46b4-4c18-b24b-1a9aebf4d4e5",
   "metadata": {},
   "outputs": [],
   "source": [
    "plt.rcParams.update({\n",
    "    'figure.autolayout': True,\n",
    "    'savefig.bbox': 'tight',\n",
    "    'svg.fonttype': 'none',\n",
    "    'font.sans-serif': 'Arial',\n",
    "    'font.size': 12,\n",
    "    'boxplot.medianprops.linewidth': 2,\n",
    "    'boxplot.flierprops.markeredgecolor': 'none',\n",
    "    'boxplot.flierprops.markersize': 5})"
   ]
  },
  {
   "cell_type": "markdown",
   "id": "b6109270-64ce-4be1-ae70-ecdd9587b3d8",
   "metadata": {},
   "source": [
    "Functions"
   ]
  },
  {
   "cell_type": "code",
   "execution_count": 3,
   "id": "7a7db0f7-7b29-4c83-ae06-69fca8d94451",
   "metadata": {},
   "outputs": [],
   "source": [
    "def adjMatv2(edges_ogs, edges_genomes):\n",
    "    # Get unique elements\n",
    "    ogs, ogs_indices = np.unique(edges_ogs, return_inverse = True)\n",
    "    genomes, genomes_indices = np.unique(edges_genomes, return_inverse = True)\n",
    "    # Calculate bin counts for each combination of indices\n",
    "    counts = np.bincount(ogs_indices * len(genomes) + genomes_indices, minlength = len(ogs) * len(genomes))\n",
    "    # Reshape counts as adjacency matrix\n",
    "    adj = counts.reshape(len(ogs), len(genomes))\n",
    "    return adj, genomes, ogs"
   ]
  },
  {
   "cell_type": "code",
   "execution_count": 4,
   "id": "fec8caa5-7d83-48d9-b287-56b883eb7fc1",
   "metadata": {},
   "outputs": [],
   "source": [
    "def save_genes(genes, fOut):\n",
    "    with open(fOut, 'w') as f:\n",
    "        for gene in genes:\n",
    "            f.write(f'{gene}\\n')"
   ]
  },
  {
   "cell_type": "code",
   "execution_count": 5,
   "id": "8e142d8d-b555-4ebd-a4aa-efe84cec151d",
   "metadata": {},
   "outputs": [],
   "source": [
    "def save_markers_per_genome(markers_per_genome, fOut):\n",
    "    with open(fOut, 'w') as f:\n",
    "        for genome, number in markers_per_genome.items():\n",
    "            f.write(f'{genome}:{number}\\n')"
   ]
  },
  {
   "cell_type": "code",
   "execution_count": 6,
   "id": "20dd1cc3-6660-4c7a-a092-ce4f5f11afe9",
   "metadata": {},
   "outputs": [],
   "source": [
    "def remove_genes(adj_mod):\n",
    "    remove = np.array([i for i in range(len(adj_mod)) if adj_mod[i].sum() < 4])\n",
    "    return remove"
   ]
  },
  {
   "cell_type": "code",
   "execution_count": 7,
   "id": "b19b3748-0e21-442c-9f25-2cf565c970d0",
   "metadata": {},
   "outputs": [],
   "source": [
    "def greedy_power_mean_sample_final(data, k, p, pseudocount, min_universality_genes):\n",
    "    \n",
    "    # Size\n",
    "    n, m = data.shape\n",
    "\n",
    "    # Matrix is empty\n",
    "    if n == 0 or m == 0:\n",
    "        raise ValueError(f'Matrix is empty!')\n",
    "\n",
    "    # Matrix contains only zeroes\n",
    "    if (data == 0).all():\n",
    "        raise ValueError(f'Matrix only contains 0\\'s')\n",
    "\n",
    "    if (data.sum(axis = 1) == min_universality_genes).all():\n",
    "        raise ValueError(f'Matrix only contains genes present in less than {min_universality_genes}')\n",
    "\n",
    "    if k >= n:\n",
    "        raise ValueError(f'k should be smaller than {n}')\n",
    "    \n",
    "    # Add pseudocount\n",
    "    data = data + pseudocount\n",
    "\n",
    "    # cumulative gene counts\n",
    "    counts = np.zeros(m, dtype = int)\n",
    "\n",
    "    # gene indices in original data matrix\n",
    "    indices = np.arange(n)\n",
    "\n",
    "    # indices of selected genes\n",
    "    selected = []\n",
    "\n",
    "    # will select k genes sequentially\n",
    "    for i in range(k):\n",
    "        # calculate counts after adding each gene\n",
    "        sums_ = counts + data\n",
    "\n",
    "        # select a gene that maximizes the power mean gene count per genome, using the cumulative matric\n",
    "        if isinstance(p, int) or isinstance(p, np.int64): \n",
    "            choice = pmean(sums_, int(p), axis = 1).argmax()\n",
    "        elif p == 'min':\n",
    "            choice = sums_.min(axis = 1).argmax()\n",
    "        elif p == 'max':\n",
    "            choice = sums_.max(axis = 1).argmax()\n",
    "        else:\n",
    "            raise ValueError(f'Invalid p: {p}.')\n",
    "\n",
    "        # append index of selected gene\n",
    "        selected.append(indices[choice])\n",
    "\n",
    "        # update per-species gene counts\n",
    "        counts = sums_[choice]\n",
    "\n",
    "        # remove selected gene from data matrix\n",
    "        data = np.delete(data, choice, axis = 0)\n",
    "\n",
    "        # remove selected gene from indices\n",
    "        indices = np.delete(indices, choice)\n",
    "\n",
    "    return np.sort(np.array(selected))"
   ]
  },
  {
   "cell_type": "markdown",
   "id": "47f13391-1345-49e7-9675-5abe8897565b",
   "metadata": {},
   "source": [
    "Load selected genomes (using taxonomy; see `genome_selection.ipynb`)"
   ]
  },
  {
   "cell_type": "code",
   "execution_count": 8,
   "id": "b5a984b5-5477-4348-85a6-f195d1bbc639",
   "metadata": {},
   "outputs": [
    {
     "data": {
      "text/plain": [
       "(1510,)"
      ]
     },
     "execution_count": 8,
     "metadata": {},
     "output_type": "execute_result"
    }
   ],
   "source": [
    "genomes_sampled = np.loadtxt(f'./output_data/genomes_sampled_family_10.txt', dtype = str)\n",
    "genomes_sampled.shape"
   ]
  },
  {
   "cell_type": "markdown",
   "id": "c538685e-5a7b-4f65-ae48-50a9bba421a8",
   "metadata": {},
   "source": [
    "Load KEGG gene family raw annotations and select ORFs from the selected 1,510 genomes. [Avilable at WoL2 FTP server](http://ftp.microbio.me/pub/wol2/function/kegg/raw/)"
   ]
  },
  {
   "cell_type": "code",
   "execution_count": 9,
   "id": "9c04140f-2f08-44c2-8f4c-62ada381038b",
   "metadata": {},
   "outputs": [],
   "source": [
    "# %%time\n",
    "# tmp = []\n",
    "# with lzma.open(f'./input_data/kofamscan.tsv.xz', mode = 'rt') as f:\n",
    "#     for line in f:\n",
    "#         row = line.strip().split('\\t')\n",
    "#         # print(row)\n",
    "#         orf, ko, score = row[0], row[1], row[3]\n",
    "#         genome = orf.split('_')[0]\n",
    "#         if genome in genomes_sampled:\n",
    "#             tmp.append([orf, float(score), ko, genome])"
   ]
  },
  {
   "cell_type": "code",
   "execution_count": 10,
   "id": "851b8f36-122b-4b68-82c7-d9e8ffd26b63",
   "metadata": {},
   "outputs": [],
   "source": [
    "# with open(f'./output_data/kofamscan_filter_genomes_sampled.tsv', 'w') as f:\n",
    "#     for datum in tmp:\n",
    "#         string = '\\t'.join(datum)\n",
    "#         f.write(f'{string}\\n')"
   ]
  },
  {
   "cell_type": "code",
   "execution_count": 11,
   "id": "5a63edb5-6bac-485a-b7d4-d240aada6cae",
   "metadata": {},
   "outputs": [],
   "source": [
    "df_kegg = pd.read_csv(f'./input_data/wol2/kofamscan_filter_genomes_sampled.tsv',\n",
    "                       sep = '\\t', header = None,\n",
    "                        names = ['orf', 'ko', 'score', 'genome'])\n",
    "df_kegg.set_index('orf', inplace = True)"
   ]
  },
  {
   "cell_type": "code",
   "execution_count": 12,
   "id": "db882bcd-169f-4947-bc53-c46095cd2b63",
   "metadata": {},
   "outputs": [
    {
     "data": {
      "text/plain": [
       "(2599794, 3)"
      ]
     },
     "execution_count": 12,
     "metadata": {},
     "output_type": "execute_result"
    }
   ],
   "source": [
    "df_kegg.shape"
   ]
  },
  {
   "cell_type": "markdown",
   "id": "f59861ac-4633-40f5-b02c-97bbad438d11",
   "metadata": {},
   "source": [
    "Control copy number: For each genome and gene, discard those genes with a score less than `x` of the top `score`"
   ]
  },
  {
   "cell_type": "code",
   "execution_count": 13,
   "id": "cb99b08d-6ee7-4b38-8323-9f32882fb995",
   "metadata": {},
   "outputs": [],
   "source": [
    "threshold = 0.0\n",
    "# Calculate the maximum score for each genome and pfam combination\n",
    "max_scores = df_kegg.groupby(['genome', 'ko'])['score'].transform('max')\n",
    "# Keep rows where the score is greater than or equal to max_score * threshold\n",
    "filtered_df = df_kegg[df_kegg['score'] >= max_scores * threshold]"
   ]
  },
  {
   "cell_type": "code",
   "execution_count": 14,
   "id": "e2a21797-9a38-4c58-a818-8bf1eebc3dff",
   "metadata": {},
   "outputs": [
    {
     "data": {
      "text/plain": [
       "(2599794, 3)"
      ]
     },
     "execution_count": 14,
     "metadata": {},
     "output_type": "execute_result"
    }
   ],
   "source": [
    "filtered_df.shape"
   ]
  },
  {
   "cell_type": "markdown",
   "id": "47186b27-8eb9-4f08-a498-660a65f6748b",
   "metadata": {},
   "source": [
    "Convert to edges"
   ]
  },
  {
   "cell_type": "code",
   "execution_count": 15,
   "id": "40da780c-b023-49e6-86e8-3b37aaf0892f",
   "metadata": {},
   "outputs": [],
   "source": [
    "edges_genomes = filtered_df['genome'].values\n",
    "edges_ogs = filtered_df['ko'].values"
   ]
  },
  {
   "cell_type": "markdown",
   "id": "d8528038-9402-4e91-833b-87e8423c3927",
   "metadata": {},
   "source": [
    "Build copy number matrix"
   ]
  },
  {
   "cell_type": "code",
   "execution_count": 16,
   "id": "095d04cb-d348-466e-a094-dc3aaa249e88",
   "metadata": {},
   "outputs": [
    {
     "name": "stdout",
     "output_type": "stream",
     "text": [
      "CPU times: user 3.86 s, sys: 83.3 ms, total: 3.95 s\n",
      "Wall time: 3.95 s\n"
     ]
    },
    {
     "data": {
      "text/plain": [
       "(9485, 1510)"
      ]
     },
     "execution_count": 16,
     "metadata": {},
     "output_type": "execute_result"
    }
   ],
   "source": [
    "%%time\n",
    "adj, genomes, ogs = adjMatv2(edges_ogs, edges_genomes)\n",
    "adj.shape"
   ]
  },
  {
   "cell_type": "markdown",
   "id": "2bb314a6-4813-45d3-81c9-07a23188e743",
   "metadata": {},
   "source": [
    "Reformat matrix"
   ]
  },
  {
   "cell_type": "code",
   "execution_count": 17,
   "id": "22158743-eb75-4c46-b232-b33234866ffb",
   "metadata": {},
   "outputs": [],
   "source": [
    "adj1 = adj"
   ]
  },
  {
   "cell_type": "code",
   "execution_count": 18,
   "id": "3672e2ac-1f9f-4e1c-9301-64c360092c77",
   "metadata": {},
   "outputs": [],
   "source": [
    "# Contains copy numbers\n",
    "adj2 = adj1.copy()"
   ]
  },
  {
   "cell_type": "code",
   "execution_count": 19,
   "id": "812b42ec-5728-41a2-bdbf-4c89fb3c408a",
   "metadata": {},
   "outputs": [],
   "source": [
    "adj1[adj1 > 1] = 1"
   ]
  },
  {
   "cell_type": "markdown",
   "id": "10d98783-838a-4641-a227-1a1543b44450",
   "metadata": {},
   "source": [
    "Remove genes present in less than 4 genomes/species because `FastTree` requires at least three species and ASTRAL-pro uses quartets (i.e. four species)"
   ]
  },
  {
   "cell_type": "code",
   "execution_count": 20,
   "id": "3b1d8f18-c8c4-40ac-a8aa-f40c65030d45",
   "metadata": {},
   "outputs": [],
   "source": [
    "# Copy presence/absence matrix\n",
    "adj_mod = adj1.copy()\n",
    "# Select genes to remove\n",
    "remove = remove_genes(adj_mod)\n",
    "# Remove genes\n",
    "adj_mod = np.delete(adj_mod, remove, axis = 0)\n",
    "# Remove genes from list\n",
    "ogs_mod = np.delete(ogs, remove, axis = 0)"
   ]
  },
  {
   "cell_type": "code",
   "execution_count": 21,
   "id": "625f57f1-4cc1-4c4c-a81a-d17ba0882094",
   "metadata": {},
   "outputs": [],
   "source": [
    "# Copy matrix\n",
    "adj_mod2 = adj2.copy()\n",
    "# Remove genes\n",
    "adj_mod2 = np.delete(adj_mod2, remove, axis = 0)"
   ]
  },
  {
   "cell_type": "code",
   "execution_count": 22,
   "id": "cfc3a980-b2d2-4c3b-9b6f-5669d6d6c4d9",
   "metadata": {},
   "outputs": [
    {
     "data": {
      "text/plain": [
       "(8615, 1510)"
      ]
     },
     "execution_count": 22,
     "metadata": {},
     "output_type": "execute_result"
    }
   ],
   "source": [
    "adj_mod.shape"
   ]
  },
  {
   "cell_type": "code",
   "execution_count": 23,
   "id": "80d7c91a-6157-4e31-ab28-e4758d734773",
   "metadata": {},
   "outputs": [
    {
     "data": {
      "text/plain": [
       "(8615, 1510)"
      ]
     },
     "execution_count": 23,
     "metadata": {},
     "output_type": "execute_result"
    }
   ],
   "source": [
    "adj_mod2.shape"
   ]
  },
  {
   "cell_type": "code",
   "execution_count": 24,
   "id": "99a8efbc-a429-4a5f-bda3-c9ffb0607393",
   "metadata": {},
   "outputs": [
    {
     "data": {
      "image/png": "[encoded data removed]",
      "text/plain": [
       "<Figure size 400x250 with 1 Axes>"
      ]
     },
     "metadata": {},
     "output_type": "display_data"
    }
   ],
   "source": [
    "x = np.sum(adj_mod2 == 1, axis = 1) / np.sum(adj_mod2 >= 1, axis = 1)\n",
    "y = np.sum(adj_mod2 >= 1, axis = 1) / adj_mod2.shape[1]\n",
    "plt.figure(figsize = (4, 2.5))\n",
    "plt.scatter(x, y, alpha = 0.2, color = 'k', s = 3, edgecolor = None)\n",
    "# Threshold for presence and single-copy ratio\n",
    "plt.axvline(x = 0.95, ls = 'dashed', color = '#a02c2cff')\n",
    "plt.axhline(y = 0.90, ls = 'dashed', color = '#a02c2cff')\n",
    "# plt.legend(title = 'Pfam type')\n",
    "plt.tick_params(top = True, right = True, direction = 'in', which = 'both')\n",
    "plt.xlabel('Single-copy ratio')\n",
    "plt.ylabel('Proportion of genomes')\n",
    "plt.savefig(f'./figures/figure_1A_gene_family_space_wol2_kegg.svg')\n",
    "plt.show()"
   ]
  },
  {
   "cell_type": "markdown",
   "id": "effd271d-1e58-4652-8f9b-e59400f7d96a",
   "metadata": {},
   "source": [
    "Number of gene families and proportion of gene families withing area defined by traditional criteria"
   ]
  },
  {
   "cell_type": "code",
   "execution_count": 25,
   "id": "50296ec8-8403-45c8-bbc4-1326c957623e",
   "metadata": {},
   "outputs": [
    {
     "data": {
      "image/png": "[encoded data removed]",
      "text/plain": [
       "<Figure size 200x215 with 1 Axes>"
      ]
     },
     "metadata": {},
     "output_type": "display_data"
    }
   ],
   "source": [
    "plt.figure(figsize = (2, 2.15))\n",
    "# plt.bar([0, 1], [adj_mod.shape[0], y[(y > 0.9) & (x > 0.95)].shape[0]], color = '#4361ee')\n",
    "plt.bar([0, 1], [adj_mod.shape[0] - y[(y > 0.9) & (x > 0.95)].shape[0], y[(y > 0.9) & (x > 0.95)].shape[0]], color = '#f72585') # Pseudocount added for aesthetic purposes\n",
    "plt.xticks([0, 1], ['', ''])\n",
    "plt.text(0, 100, f'{adj_mod.shape[0] - y[(y > 0.9) & (x > 0.95)].shape[0]}', ha = 'center')\n",
    "plt.text(1, 100, f'{y[(y > 0.9) & (x > 0.95)].shape[0]}', ha = 'center')\n",
    "plt.yscale('log')\n",
    "plt.ylabel('Number of gene families')\n",
    "plt.tick_params(top = True, right = True, direction = 'in', which = 'both')\n",
    "plt.savefig(f'./figures/figure_1A_number_gene_families_wol2_kegg.svg')\n",
    "plt.show()"
   ]
  },
  {
   "cell_type": "markdown",
   "id": "aa5f8698-1e58-4634-b735-8edc8093626b",
   "metadata": {},
   "source": [
    "Distribution of gene families across genomes"
   ]
  },
  {
   "cell_type": "code",
   "execution_count": 26,
   "id": "7b90d39b-efca-4558-bcd9-af9b87f25417",
   "metadata": {},
   "outputs": [
    {
     "data": {
      "image/png": "[encoded data removed]",
      "text/plain": [
       "<Figure size 350x249 with 1 Axes>"
      ]
     },
     "metadata": {},
     "output_type": "display_data"
    }
   ],
   "source": [
    "plt.figure(figsize = (3.5, 2.49))\n",
    "plt.hist(adj_mod.sum(axis = 0), bins = 'auto', color = '#f72585')\n",
    "plt.axvline(x = np.mean(adj_mod.sum(axis = 0)), ls = 'dashed', color = 'k')\n",
    "plt.tick_params(top = True, right = True, direction = 'in', which = 'both')\n",
    "plt.xlabel('Number of gene families')\n",
    "plt.ylabel('Number of genomes')\n",
    "plt.xlim(0, 3200)\n",
    "plt.savefig(f'./figures/figure_1A_number_gene_families_histogram_wol2_kegg.svg')\n",
    "plt.show()"
   ]
  },
  {
   "cell_type": "markdown",
   "id": "6ae4898d-3932-465f-a856-d31a8619bbcd",
   "metadata": {},
   "source": [
    "Select markers from KEGG gene families"
   ]
  },
  {
   "cell_type": "code",
   "execution_count": 28,
   "id": "64ab2ace-f339-4da5-94df-b4efb259a933",
   "metadata": {},
   "outputs": [],
   "source": [
    "# Change k to generate all sets (k = 10, 50, 100, 200, 400, 600, 800, 1000)\n",
    "k = 400\n",
    "ps = [0]"
   ]
  },
  {
   "cell_type": "code",
   "execution_count": 29,
   "id": "ba20a9fa-ccea-444d-8d08-3f28e1ded333",
   "metadata": {},
   "outputs": [
    {
     "name": "stdout",
     "output_type": "stream",
     "text": [
      "\tp: 0\n",
      "CPU times: user 46.8 s, sys: 353 ms, total: 47.2 s\n",
      "Wall time: 47.5 s\n"
     ]
    }
   ],
   "source": [
    "%%time\n",
    "selected_genes_mod = {}\n",
    "selected_genes_all_criteria_mod = []\n",
    "\n",
    "# Iterate over number of selected genes\n",
    "selected_genes_mod[k] = {}\n",
    "# Iterate over criteria\n",
    "for p in ps:\n",
    "    print(f'\\tp: {p}')\n",
    "    select = greedy_power_mean_sample_final(adj_mod2, k, p = p, pseudocount = 0.1, min_universality_genes = 1)\n",
    "    selected_genes_all_criteria_mod.append(set(select))\n",
    "    selected_genes_mod[k][p] = select"
   ]
  },
  {
   "cell_type": "markdown",
   "id": "6185f79c-020f-4a7a-8b13-385235d0841f",
   "metadata": {},
   "source": [
    "Save markers"
   ]
  },
  {
   "cell_type": "code",
   "execution_count": 30,
   "id": "8027e8a8-3345-4b6c-a12c-fb6628e2b214",
   "metadata": {},
   "outputs": [],
   "source": [
    "all_genes = set.union(*selected_genes_all_criteria_mod)"
   ]
  },
  {
   "cell_type": "code",
   "execution_count": 30,
   "id": "06168f90-9754-4920-b560-1ab6ea94b61d",
   "metadata": {},
   "outputs": [],
   "source": [
    "dataPathOut = f'./output_data/wol2/marker_genes/kegg/bit_score_threshold_{threshold}'\n",
    "fOut = f'{dataPathOut}/all_genes.txt'\n",
    "save_genes([ogs_mod[i] for i in all_genes], fOut)"
   ]
  },
  {
   "cell_type": "markdown",
   "id": "685b0669-cedd-448e-8e19-da16281ade05",
   "metadata": {},
   "source": [
    "Remove genomes with less than $k * 0.25$ marker genes"
   ]
  },
  {
   "cell_type": "code",
   "execution_count": 31,
   "id": "466d5eca-4bde-4330-93d7-bb33ef7a3706",
   "metadata": {},
   "outputs": [
    {
     "data": {
      "text/plain": [
       "(1383,)"
      ]
     },
     "execution_count": 31,
     "metadata": {},
     "output_type": "execute_result"
    }
   ],
   "source": [
    "genomes_to_keep = genomes[adj_mod[selected_genes_mod[k][p]].sum(axis = 0) >= k * 0.25]\n",
    "genomes_to_keep.shape"
   ]
  },
  {
   "cell_type": "markdown",
   "id": "4ba69b16-c37f-4591-aaa5-3c364b858442",
   "metadata": {},
   "source": [
    "Save ORFs"
   ]
  },
  {
   "cell_type": "code",
   "execution_count": 32,
   "id": "84a803ab-e0a3-471c-93c5-e3598f690705",
   "metadata": {},
   "outputs": [
    {
     "name": "stdout",
     "output_type": "stream",
     "text": [
      "CPU times: user 988 ms, sys: 11.5 ms, total: 999 ms\n",
      "Wall time: 1.01 s\n"
     ]
    }
   ],
   "source": [
    "%%time\n",
    "for i in all_genes:\n",
    "    gene = ogs_mod[i]\n",
    "    with open(f'{dataPathOut}/orfs/{gene}.txt', 'w') as f:\n",
    "        orfs = filtered_df.query('ko == @gene')\n",
    "        orfs = orfs[orfs['genome'].isin(genomes_to_keep)].index.values\n",
    "        for orf in orfs:\n",
    "            f.write(f'{orf}\\n')"
   ]
  },
  {
   "cell_type": "markdown",
   "id": "465f9bb3-7b97-453f-8250-4579d97cdbb2",
   "metadata": {},
   "source": [
    "Save number of marker genes per genome"
   ]
  },
  {
   "cell_type": "code",
   "execution_count": 33,
   "id": "12ae3f8b-ab66-4754-a2b2-13e20d1fff1f",
   "metadata": {},
   "outputs": [],
   "source": [
    "num_marker_genes_per_genome = {genome : number for genome, number in zip(genomes, adj_mod[selected_genes_mod[k][p]].sum(axis = 0))}"
   ]
  },
  {
   "cell_type": "code",
   "execution_count": 34,
   "id": "21e27d38-5384-4e54-8410-e125b9b4a041",
   "metadata": {},
   "outputs": [],
   "source": [
    "save_markers_per_genome(num_marker_genes_per_genome, f'{dataPathOut}/num_markers_per_genome_k_{k}_p_{p}.txt')"
   ]
  },
  {
   "cell_type": "markdown",
   "id": "8d393f00-cb06-4e62-98be-532ceaaaf665",
   "metadata": {},
   "source": [
    "# Marker selection of EggNog gene families from 1,510 WoL genomes"
   ]
  },
  {
   "cell_type": "markdown",
   "id": "1e54a099-3628-44e0-9d7f-7eca0ba2bed2",
   "metadata": {},
   "source": [
    "Load selected genomes (using taxonomy; see `genome_selection.ipynb`)"
   ]
  },
  {
   "cell_type": "code",
   "execution_count": 35,
   "id": "6e6264df-4309-4f68-89e6-42e144606d48",
   "metadata": {},
   "outputs": [
    {
     "data": {
      "text/plain": [
       "(1510,)"
      ]
     },
     "execution_count": 35,
     "metadata": {},
     "output_type": "execute_result"
    }
   ],
   "source": [
    "genomes_sampled = np.loadtxt(f'./output_data/genomes_sampled_family_10.txt', dtype = str)\n",
    "genomes_sampled.shape"
   ]
  },
  {
   "cell_type": "markdown",
   "id": "e49356bf-37ca-4441-858d-ad53b48f869b",
   "metadata": {},
   "source": [
    "Load EggNog gene family raw annotations and select ORFs from the selected 1,510 genomes. [Avilable at WoL2 FTP server](http://ftp.microbio.me/pub/wol2/function/eggnog/raw/)"
   ]
  },
  {
   "cell_type": "code",
   "execution_count": 36,
   "id": "e33b97e1-8e8a-43dd-9454-2f1fd9238905",
   "metadata": {},
   "outputs": [],
   "source": [
    "# %%time\n",
    "# tmp = []\n",
    "# with lzma.open(f'./eggnog/emapper.annotations.xz', mode = 'rt') as f:\n",
    "#     for i, line in enumerate(f):\n",
    "#         row = line.strip().split('\\t')\n",
    "#         orf, score, og = row[0], row[3], row[4].split('|')[0]\n",
    "#         genome = orf.split('_')[0]\n",
    "#         if genome in genomes_sampled:\n",
    "#             tmp.append([orf, float(score), og.split('@')[0], genome])"
   ]
  },
  {
   "cell_type": "code",
   "execution_count": 37,
   "id": "3963f0fd-d189-4a32-8cb1-91c68a7233c2",
   "metadata": {},
   "outputs": [],
   "source": [
    "# with open(f'./output_data/emapper_annotations_filter_genomes_sampled_first_og.tsv', 'w') as f:\n",
    "#     for datum in tmp:\n",
    "#         string = '\\t'.join(datum)\n",
    "#         f.write(f'{string}\\n')"
   ]
  },
  {
   "cell_type": "code",
   "execution_count": 38,
   "id": "93adb5b3-0099-4846-8d0d-3b9e100768aa",
   "metadata": {},
   "outputs": [],
   "source": [
    "df_eggnog = pd.read_csv(f'./input_data/wol2/emapper_annotations_filter_genomes_sampled_first_og.tsv',\n",
    "                       sep = '\\t', header = None,\n",
    "                        names = ['orf', 'score', 'og', 'genome'])\n",
    "df_eggnog.set_index('orf', inplace = True)"
   ]
  },
  {
   "cell_type": "markdown",
   "id": "817048da-a53b-4b24-bc24-155fde71ca5f",
   "metadata": {},
   "source": [
    "Control copy number: For each genome and gene, discard those genes with a score less than `x` of the top `score`"
   ]
  },
  {
   "cell_type": "code",
   "execution_count": 39,
   "id": "052308d0-468c-4407-8ecf-bdd13f7b29f6",
   "metadata": {},
   "outputs": [],
   "source": [
    "threshold = 0.0\n",
    "# Calculate the maximum score for each genome and pfam combination\n",
    "max_scores = df_eggnog.groupby(['genome', 'og'])['score'].transform('max')\n",
    "# Keep rows where the score is greater than or equal to max_score * threshold\n",
    "filtered_df = df_eggnog[df_eggnog['score'] >= max_scores * threshold]"
   ]
  },
  {
   "cell_type": "code",
   "execution_count": 40,
   "id": "83915822-e190-4eb4-ba82-60662e5db51d",
   "metadata": {},
   "outputs": [
    {
     "data": {
      "text/plain": [
       "(4525049, 3)"
      ]
     },
     "execution_count": 40,
     "metadata": {},
     "output_type": "execute_result"
    }
   ],
   "source": [
    "filtered_df.shape"
   ]
  },
  {
   "cell_type": "markdown",
   "id": "9574381f-a72a-41c7-934c-a3d7daf719a8",
   "metadata": {},
   "source": [
    "Convert to edges"
   ]
  },
  {
   "cell_type": "code",
   "execution_count": 41,
   "id": "3793c6a2-c04d-4b43-842d-877748fc931d",
   "metadata": {},
   "outputs": [],
   "source": [
    "edges_genomes = filtered_df['genome'].values\n",
    "edges_ogs = filtered_df['og'].values"
   ]
  },
  {
   "cell_type": "markdown",
   "id": "83bd4fa7-8176-45a7-95ea-18e0435e1767",
   "metadata": {},
   "source": [
    "Build copy number matrix"
   ]
  },
  {
   "cell_type": "code",
   "execution_count": 42,
   "id": "667eac9c-4c42-48b9-9b69-909ca9456fe7",
   "metadata": {},
   "outputs": [
    {
     "name": "stdout",
     "output_type": "stream",
     "text": [
      "CPU times: user 7.53 s, sys: 404 ms, total: 7.93 s\n",
      "Wall time: 7.94 s\n"
     ]
    },
    {
     "data": {
      "text/plain": [
       "(104200, 1510)"
      ]
     },
     "execution_count": 42,
     "metadata": {},
     "output_type": "execute_result"
    }
   ],
   "source": [
    "%%time\n",
    "adj, genomes, ogs = adjMatv2(edges_ogs, edges_genomes)\n",
    "adj.shape"
   ]
  },
  {
   "cell_type": "markdown",
   "id": "e7a578a3-2555-454f-a238-a9248a39a9a5",
   "metadata": {},
   "source": [
    "Reformat matrix"
   ]
  },
  {
   "cell_type": "code",
   "execution_count": 43,
   "id": "efe01b16-b0b5-4031-a987-cd00c698ebd4",
   "metadata": {},
   "outputs": [],
   "source": [
    "adj1 = adj"
   ]
  },
  {
   "cell_type": "code",
   "execution_count": 44,
   "id": "b9ac4b48-7470-4162-aed5-1c3ddb25b436",
   "metadata": {},
   "outputs": [],
   "source": [
    "# Contains copy numbers\n",
    "adj2 = adj1.copy()"
   ]
  },
  {
   "cell_type": "code",
   "execution_count": 45,
   "id": "75bc411c-c962-466c-a672-2ce3d92d643d",
   "metadata": {},
   "outputs": [],
   "source": [
    "adj1[adj1 > 1] = 1"
   ]
  },
  {
   "cell_type": "markdown",
   "id": "0e7f4362-7058-4d3c-bb56-517353236754",
   "metadata": {},
   "source": [
    "Remove genes present in less than 4 genomes/species because `FastTree` requires at least three species and ASTRAL-pro uses quartets (i.e. four species)"
   ]
  },
  {
   "cell_type": "code",
   "execution_count": 46,
   "id": "c9e329a6-2ccf-482a-ad47-c88b24ef1673",
   "metadata": {},
   "outputs": [],
   "source": [
    "# Copy presence/absence matrix\n",
    "adj_mod = adj1.copy()\n",
    "# Select genes to remove\n",
    "remove = remove_genes(adj_mod)\n",
    "# Remove genes\n",
    "adj_mod = np.delete(adj_mod, remove, axis = 0)\n",
    "# Remove genes from list\n",
    "ogs_mod = np.delete(ogs, remove, axis = 0)"
   ]
  },
  {
   "cell_type": "code",
   "execution_count": 47,
   "id": "4ed58df9-9306-457a-95a6-5a7ea9e6cb93",
   "metadata": {},
   "outputs": [],
   "source": [
    "# Copy matrix\n",
    "adj_mod2 = adj2.copy()\n",
    "# Remove genes\n",
    "adj_mod2 = np.delete(adj_mod2, remove, axis = 0)"
   ]
  },
  {
   "cell_type": "code",
   "execution_count": 48,
   "id": "3fee379f-1f4d-46f1-a964-83ed88e07410",
   "metadata": {},
   "outputs": [
    {
     "data": {
      "text/plain": [
       "(38870, 1510)"
      ]
     },
     "execution_count": 48,
     "metadata": {},
     "output_type": "execute_result"
    }
   ],
   "source": [
    "adj_mod.shape"
   ]
  },
  {
   "cell_type": "code",
   "execution_count": 49,
   "id": "2d2a56a4-b506-473f-9bab-7b5faa609003",
   "metadata": {},
   "outputs": [
    {
     "data": {
      "text/plain": [
       "(38870, 1510)"
      ]
     },
     "execution_count": 49,
     "metadata": {},
     "output_type": "execute_result"
    }
   ],
   "source": [
    "adj_mod2.shape"
   ]
  },
  {
   "cell_type": "code",
   "execution_count": 50,
   "id": "0e8a5893-2838-48aa-9bd9-263476532256",
   "metadata": {},
   "outputs": [
    {
     "data": {
      "image/png": "[encoded data removed]",
      "text/plain": [
       "<Figure size 400x250 with 1 Axes>"
      ]
     },
     "metadata": {},
     "output_type": "display_data"
    }
   ],
   "source": [
    "x = np.sum(adj_mod2 == 1, axis = 1) / np.sum(adj_mod2 >= 1, axis = 1)\n",
    "y = np.sum(adj_mod2 >= 1, axis = 1) / adj_mod2.shape[1]\n",
    "plt.figure(figsize = (4, 2.5))\n",
    "plt.scatter(x, y, alpha = 0.2, color = 'k', s = 3, edgecolor = None)\n",
    "# Threshold for presence and single-copy ratio\n",
    "plt.axvline(x = 0.95, ls = 'dashed', color = '#a02c2cff')\n",
    "plt.axhline(y = 0.90, ls = 'dashed', color = '#a02c2cff')\n",
    "# plt.legend(title = 'Pfam type')\n",
    "plt.tick_params(top = True, right = True, direction = 'in', which = 'both')\n",
    "plt.xlabel('Single-copy ratio across genomes')\n",
    "plt.ylabel('Proportion of genomes')\n",
    "plt.ylim(-0.03, 1.04)\n",
    "plt.savefig(f'./figures/figure_S1A_gene_family_space_wol2_eggnog.svg')\n",
    "plt.show()"
   ]
  },
  {
   "cell_type": "markdown",
   "id": "f3c810e3-f5b6-4a7c-9fdc-593b58c2e1a7",
   "metadata": {},
   "source": [
    "Number of gene families and proportion of gene families withing area defined by traditional criteria"
   ]
  },
  {
   "cell_type": "code",
   "execution_count": 51,
   "id": "e4c61c9d-2764-4050-817e-b1ca87b40fe8",
   "metadata": {},
   "outputs": [
    {
     "data": {
      "image/png": "[encoded data removed]",
      "text/plain": [
       "<Figure size 200x210 with 1 Axes>"
      ]
     },
     "metadata": {},
     "output_type": "display_data"
    }
   ],
   "source": [
    "plt.figure(figsize = (2, 2.1))\n",
    "plt.bar([0, 1], [adj_mod.shape[0], y[(y > 0.9) & (x > 0.95)].shape[0]], color = '#4361ee')\n",
    "plt.xticks([0, 1], ['', ''])\n",
    "plt.text(0, 100, f'{adj_mod.shape[0] - y[(y > 0.9) & (x > 0.95)].shape[0]}', ha = 'center')\n",
    "plt.text(1, 100, f'{y[(y > 0.9) & (x > 0.95)].shape[0]}', ha = 'center')\n",
    "plt.yscale('log')\n",
    "plt.ylabel('Number of gene families')\n",
    "plt.tick_params(top = True, right = True, direction = 'in', which = 'both')\n",
    "plt.savefig(f'./figures/figure_S1A_number_gene_families_wol2_eggnog.svg')\n",
    "plt.show()"
   ]
  },
  {
   "cell_type": "markdown",
   "id": "6421ef5e-56a3-4afc-908f-1ca81011fb46",
   "metadata": {},
   "source": [
    "Distribution of gene families across genomes"
   ]
  },
  {
   "cell_type": "code",
   "execution_count": 52,
   "id": "cee6d1b2-c6dd-4998-8005-1ff4a2628ac7",
   "metadata": {},
   "outputs": [
    {
     "data": {
      "image/png": "[encoded data removed]",
      "text/plain": [
       "<Figure size 350x250 with 1 Axes>"
      ]
     },
     "metadata": {},
     "output_type": "display_data"
    }
   ],
   "source": [
    "plt.figure(figsize = (3.5, 2.5))\n",
    "plt.hist(adj_mod.sum(axis = 0), bins = 'auto', color = '#4361ee')\n",
    "plt.axvline(x = np.mean(adj_mod.sum(axis = 0)), ls = 'dashed', color = 'k')\n",
    "plt.tick_params(top = True, right = True, direction = 'in', which = 'both')\n",
    "plt.xlabel('Number of gene families')\n",
    "plt.ylabel('Number of genomes')\n",
    "# plt.xscale('log')\n",
    "plt.xlim(0, 3200)\n",
    "plt.savefig(f'./figures/figure_S1A_number_gene_families_histogram_wol2_eggnog.svg')\n",
    "plt.show()"
   ]
  },
  {
   "cell_type": "markdown",
   "id": "8199fc60-5dc1-41d7-a98e-c71ea9454467",
   "metadata": {},
   "source": [
    "Select markers from EggNog gene families"
   ]
  },
  {
   "cell_type": "code",
   "execution_count": 53,
   "id": "b31fea9a-3254-4024-ae8b-5536f7e25a03",
   "metadata": {},
   "outputs": [],
   "source": [
    "# Change k to generate all sets (k = 10, 50, 100, 200, 400, 600, 800, 1000)\n",
    "k = 10\n",
    "ps = [0]"
   ]
  },
  {
   "cell_type": "code",
   "execution_count": 54,
   "id": "e6d1a6d6-87c2-4d6b-b0fd-63406d2c9f2b",
   "metadata": {},
   "outputs": [
    {
     "name": "stdout",
     "output_type": "stream",
     "text": [
      "\tp: 0\n",
      "CPU times: user 6.14 s, sys: 1.26 s, total: 7.4 s\n",
      "Wall time: 7.32 s\n"
     ]
    }
   ],
   "source": [
    "%%time\n",
    "selected_genes_mod = {}\n",
    "selected_genes_all_criteria_mod = []\n",
    "\n",
    "# Iterate over number of selected genes\n",
    "selected_genes_mod[k] = {}\n",
    "# Iterate over criteria\n",
    "for p in ps:\n",
    "    print(f'\\tp: {p}')\n",
    "    select = greedy_power_mean_sample_final(adj_mod2, k, p = p, pseudocount = 0.1, min_universality_genes = 1)\n",
    "    selected_genes_all_criteria_mod.append(set(select))\n",
    "    selected_genes_mod[k][p] = select"
   ]
  },
  {
   "cell_type": "markdown",
   "id": "f5f1ec5f-15a7-4ef3-9ade-88c09a09fb36",
   "metadata": {},
   "source": [
    "Save markers"
   ]
  },
  {
   "cell_type": "code",
   "execution_count": 55,
   "id": "540fc847-5426-4384-a876-cca67a495686",
   "metadata": {},
   "outputs": [],
   "source": [
    "all_genes = set.union(*selected_genes_all_criteria_mod)"
   ]
  },
  {
   "cell_type": "code",
   "execution_count": 56,
   "id": "5c98e17f-5dad-41d9-8255-2f7ac3f76a09",
   "metadata": {},
   "outputs": [],
   "source": [
    "dataPathOut = f'./output_data/wol2/marker_genes/eggnog/bit_score_threshold_{threshold}'\n",
    "fOut = f'{dataPathOut}/all_genes.txt'\n",
    "save_genes([ogs_mod[i] for i in all_genes], fOut)"
   ]
  },
  {
   "cell_type": "markdown",
   "id": "5ede2236-ea5c-4253-8c1b-6f78c9456b9f",
   "metadata": {},
   "source": [
    "Remove genomes with less than $k * 0.25$ marker genes"
   ]
  },
  {
   "cell_type": "code",
   "execution_count": 57,
   "id": "ae8b98c9-c9cf-468d-9e82-df6fcbccbfdb",
   "metadata": {},
   "outputs": [
    {
     "data": {
      "text/plain": [
       "(1447,)"
      ]
     },
     "execution_count": 57,
     "metadata": {},
     "output_type": "execute_result"
    }
   ],
   "source": [
    "genomes_to_keep = genomes[adj_mod[selected_genes_mod[k][p]].sum(axis = 0) >= k * 0.25]\n",
    "genomes_to_keep.shape"
   ]
  },
  {
   "cell_type": "markdown",
   "id": "0e3585b4-3133-45e4-860c-ef729ba20e5c",
   "metadata": {},
   "source": [
    "Save ORFs"
   ]
  },
  {
   "cell_type": "code",
   "execution_count": 58,
   "id": "c6325ab3-3055-41b4-8da5-a2acc455d88f",
   "metadata": {},
   "outputs": [
    {
     "name": "stdout",
     "output_type": "stream",
     "text": [
      "CPU times: user 1.84 s, sys: 237 ms, total: 2.08 s\n",
      "Wall time: 2.15 s\n"
     ]
    }
   ],
   "source": [
    "%%time\n",
    "for i in all_genes:\n",
    "    gene = ogs_mod[i]\n",
    "    with open(f'{dataPathOut}/orfs/{gene}.txt', 'w') as f:\n",
    "        orfs = filtered_df.query('og == @gene')\n",
    "        orfs = orfs[orfs['genome'].isin(genomes_to_keep)].index.values\n",
    "        for orf in orfs:\n",
    "            f.write(f'{orf}\\n')"
   ]
  },
  {
   "cell_type": "markdown",
   "id": "4cfaf26e-ce42-435c-87ac-f30a867fdbd9",
   "metadata": {},
   "source": [
    "Save number of marker genes per genome"
   ]
  },
  {
   "cell_type": "code",
   "execution_count": 59,
   "id": "bfb45195-4bb6-47e0-b773-05510d1ea0f9",
   "metadata": {},
   "outputs": [],
   "source": [
    "num_marker_genes_per_genome = {genome : number for genome, number in zip(genomes, adj_mod[selected_genes_mod[k][p]].sum(axis = 0))}"
   ]
  },
  {
   "cell_type": "code",
   "execution_count": 60,
   "id": "89843853-cc0b-4bed-bd12-7151217b1623",
   "metadata": {},
   "outputs": [],
   "source": [
    "save_markers_per_genome(num_marker_genes_per_genome, f'{dataPathOut}/num_markers_per_genome_k_{k}_p_{p}.txt')"
   ]
  },
  {
   "cell_type": "code",
   "execution_count": null,
   "id": "5b52aa64-eb5d-4017-beb1-629a322d40ad",
   "metadata": {},
   "outputs": [],
   "source": []
  },
  {
   "cell_type": "code",
   "execution_count": null,
   "id": "4a342253-7f88-4abf-a1ac-008234ea295e",
   "metadata": {},
   "outputs": [],
   "source": []
  },
  {
   "cell_type": "code",
   "execution_count": null,
   "id": "b4f41d78-ff57-4853-a126-afe5cc880790",
   "metadata": {},
   "outputs": [],
   "source": []
  },
  {
   "cell_type": "code",
   "execution_count": null,
   "id": "c0034fb0-9405-413c-a8be-90d0066aa5f2",
   "metadata": {},
   "outputs": [],
   "source": []
  },
  {
   "cell_type": "code",
   "execution_count": null,
   "id": "5dc7a9cb-7e36-4ea2-a6f5-896602a6873a",
   "metadata": {},
   "outputs": [],
   "source": []
  },
  {
   "cell_type": "code",
   "execution_count": null,
   "id": "27cd7544-8853-4155-8678-51831b7fbd98",
   "metadata": {},
   "outputs": [],
   "source": []
  }
 ],
 "metadata": {
  "kernelspec": {
   "display_name": "Python 3 (ipykernel)",
   "language": "python",
   "name": "python3"
  },
  "language_info": {
   "codemirror_mode": {
    "name": "ipython",
    "version": 3
   },
   "file_extension": ".py",
   "mimetype": "text/x-python",
   "name": "python",
   "nbconvert_exporter": "python",
   "pygments_lexer": "ipython3",
   "version": "3.10.13"
  }
 },
 "nbformat": 4,
 "nbformat_minor": 5
}
