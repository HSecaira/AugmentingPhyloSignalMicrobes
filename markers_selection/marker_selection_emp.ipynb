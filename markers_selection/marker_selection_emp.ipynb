{
 "cells": [
  {
   "cell_type": "markdown",
   "id": "70368735-d3a6-4b54-ad0f-d15120af109e",
   "metadata": {},
   "source": [
    "# Marker selection of KEGG gene families from 793 EMP metagenome-assembled genomes"
   ]
  },
  {
   "cell_type": "code",
   "execution_count": 1,
   "id": "cc8fafce-c6e8-48cd-bfb6-7a979ee7e576",
   "metadata": {},
   "outputs": [],
   "source": [
    "import numpy as np\n",
    "import pandas as pd\n",
    "import matplotlib.pyplot as plt\n",
    "from scipy.stats import pmean\n",
    "import os, lzma, re"
   ]
  },
  {
   "cell_type": "code",
   "execution_count": 2,
   "id": "ed3481a5-2080-407a-9a6d-0f51598f7434",
   "metadata": {},
   "outputs": [],
   "source": [
    "plt.rcParams.update({\n",
    "    'figure.autolayout': True,\n",
    "    'savefig.bbox': 'tight',\n",
    "    'svg.fonttype': 'none',\n",
    "    'font.sans-serif': 'Arial',\n",
    "    'font.size': 12,\n",
    "    'boxplot.medianprops.linewidth': 2,\n",
    "    'boxplot.flierprops.markeredgecolor': 'none',\n",
    "    'boxplot.flierprops.markersize': 5})"
   ]
  },
  {
   "cell_type": "markdown",
   "id": "fdcea1e1-aff1-47d3-a2c9-ecc86cca0f0e",
   "metadata": {},
   "source": [
    "Functions"
   ]
  },
  {
   "cell_type": "code",
   "execution_count": 3,
   "id": "d3fd5ebf-b730-486a-8b1a-fe17c226ceec",
   "metadata": {},
   "outputs": [],
   "source": [
    "def adjMatv2(edges_ogs, edges_genomes):\n",
    "    # Get unique elements\n",
    "    ogs, ogs_indices = np.unique(edges_ogs, return_inverse = True)\n",
    "    genomes, genomes_indices = np.unique(edges_genomes, return_inverse = True)\n",
    "    # Calculate bin counts for each combination of indices\n",
    "    counts = np.bincount(ogs_indices * len(genomes) + genomes_indices, minlength = len(ogs) * len(genomes))\n",
    "    # Reshape counts as adjacency matrix\n",
    "    adj = counts.reshape(len(ogs), len(genomes))\n",
    "    return adj, genomes, ogs"
   ]
  },
  {
   "cell_type": "code",
   "execution_count": 4,
   "id": "b80ea23b-b2e4-4812-b237-94a531114455",
   "metadata": {},
   "outputs": [],
   "source": [
    "def save_genes(genes, fOut):\n",
    "    with open(fOut, 'w') as f:\n",
    "        for gene in genes:\n",
    "            f.write(f'{gene}\\n')"
   ]
  },
  {
   "cell_type": "code",
   "execution_count": 5,
   "id": "f7276918-47d9-4122-9467-7139d9283d8c",
   "metadata": {},
   "outputs": [],
   "source": [
    "def save_markers_per_genome(markers_per_genome, fOut):\n",
    "    with open(fOut, 'w') as f:\n",
    "        for genome, number in markers_per_genome.items():\n",
    "            f.write(f'{genome}:{number}\\n')"
   ]
  },
  {
   "cell_type": "code",
   "execution_count": 6,
   "id": "cfc42e05-e222-4024-9cb7-15ed824906e5",
   "metadata": {},
   "outputs": [],
   "source": [
    "def remove_genes(adj_mod):\n",
    "    remove = np.array([i for i in range(len(adj_mod)) if adj_mod[i].sum() < 4])\n",
    "    return remove"
   ]
  },
  {
   "cell_type": "code",
   "execution_count": 7,
   "id": "939607b2-8087-4d6c-a27d-2decc63bb8ee",
   "metadata": {},
   "outputs": [],
   "source": [
    "def greedy_power_mean_sample_final(data, k, p, pseudocount, min_universality_genes):\n",
    "    \n",
    "    # Size\n",
    "    n, m = data.shape\n",
    "\n",
    "    # Matrix is empty\n",
    "    if n == 0 or m == 0:\n",
    "        raise ValueError(f'Matrix is empty!')\n",
    "\n",
    "    # Matrix contains only zeroes\n",
    "    if (data == 0).all():\n",
    "        raise ValueError(f'Matrix only contains 0\\'s')\n",
    "\n",
    "    if (data.sum(axis = 1) == min_universality_genes).all():\n",
    "        raise ValueError(f'Matrix only contains genes present in less than {min_universality_genes}')\n",
    "\n",
    "    if k >= n:\n",
    "        raise ValueError(f'k should be smaller than {n}')\n",
    "    \n",
    "    # Add pseudocount\n",
    "    data = data + pseudocount\n",
    "\n",
    "    # cumulative gene counts\n",
    "    counts = np.zeros(m, dtype = int)\n",
    "\n",
    "    # gene indices in original data matrix\n",
    "    indices = np.arange(n)\n",
    "\n",
    "    # indices of selected genes\n",
    "    selected = []\n",
    "\n",
    "    # will select k genes sequentially\n",
    "    for i in range(k):\n",
    "        # calculate counts after adding each gene\n",
    "        sums_ = counts + data\n",
    "\n",
    "        # select a gene that maximizes the power mean gene count per genome, using the cumulative matric\n",
    "        if isinstance(p, int) or isinstance(p, np.int64): \n",
    "            choice = pmean(sums_, int(p), axis = 1).argmax()\n",
    "        elif p == 'min':\n",
    "            choice = sums_.min(axis = 1).argmax()\n",
    "        elif p == 'max':\n",
    "            choice = sums_.max(axis = 1).argmax()\n",
    "        else:\n",
    "            raise ValueError(f'Invalid p: {p}.')\n",
    "\n",
    "        # append index of selected gene\n",
    "        selected.append(indices[choice])\n",
    "\n",
    "        # update per-species gene counts\n",
    "        counts = sums_[choice]\n",
    "\n",
    "        # remove selected gene from data matrix\n",
    "        data = np.delete(data, choice, axis = 0)\n",
    "\n",
    "        # remove selected gene from indices\n",
    "        indices = np.delete(indices, choice)\n",
    "\n",
    "    return np.sort(np.array(selected))"
   ]
  },
  {
   "cell_type": "code",
   "execution_count": 8,
   "id": "4e1e8983-1202-4e74-8d32-7238d4ffd1e4",
   "metadata": {},
   "outputs": [],
   "source": [
    "def load_mapping(file):\n",
    "    contigs = defaultdict(list)\n",
    "    with open(file, 'r') as f:\n",
    "        for line in f:\n",
    "            l = line.strip().split(',')\n",
    "            contig_id = l[0]\n",
    "            prokka_id = l[1]\n",
    "            contigs[contig_id].append(prokka_id)\n",
    "    return dict(contigs)"
   ]
  },
  {
   "cell_type": "code",
   "execution_count": 9,
   "id": "95b976a8-3a86-4b9e-8b8d-6adfed453c25",
   "metadata": {},
   "outputs": [],
   "source": [
    "def parse_kofamscan(file):\n",
    "    '''\n",
    "    Parse KOfamscan output file\n",
    "    '''\n",
    "    results = []\n",
    "    with open(file, 'r') as f:\n",
    "        for line in f:\n",
    "            if not line.startswith('#'):\n",
    "                tmp = re.sub('\\s+', ' ', line.strip()).split(' ')\n",
    "                # Omit the description column, ko_score, and e-value\n",
    "                orf, ko, bit_score = tmp[0], tmp[1], float(tmp[3])\n",
    "                results.append([orf, ko, bit_score])\n",
    "    return results"
   ]
  },
  {
   "cell_type": "markdown",
   "id": "68c1350e-5e60-451a-be0e-d3fe93d2f4b3",
   "metadata": {},
   "source": [
    "Load name of MAGs"
   ]
  },
  {
   "cell_type": "code",
   "execution_count": 10,
   "id": "142bc2c1-03d5-4680-b740-50ce575642c7",
   "metadata": {},
   "outputs": [
    {
     "data": {
      "text/plain": [
       "(811,)"
      ]
     },
     "execution_count": 10,
     "metadata": {},
     "output_type": "execute_result"
    }
   ],
   "source": [
    "bins = np.loadtxt('./input_data/emp/mags.txt', dtype = 'str')\n",
    "bins.shape"
   ]
  },
  {
   "cell_type": "markdown",
   "id": "3d187fb4-8058-444d-8a46-8d526a440348",
   "metadata": {},
   "source": [
    "Load annotation statistics"
   ]
  },
  {
   "cell_type": "code",
   "execution_count": 11,
   "id": "3a461f30-6c30-46ea-87c5-641758e56dd7",
   "metadata": {},
   "outputs": [
    {
     "data": {
      "text/plain": [
       "(811, 3)"
      ]
     },
     "execution_count": 11,
     "metadata": {},
     "output_type": "execute_result"
    }
   ],
   "source": [
    "df_bins = pd.read_csv(f'./input_data/emp/mags_statistics_kegg.tsv', index_col = 0, sep = '\\t')\n",
    "df_bins.shape"
   ]
  },
  {
   "cell_type": "code",
   "execution_count": 12,
   "id": "1c3bf1ab-7784-4626-9a3b-2264e0457941",
   "metadata": {},
   "outputs": [
    {
     "data": {
      "image/png": "[encoded data removed]",
      "text/plain": [
       "<Figure size 400x300 with 1 Axes>"
      ]
     },
     "metadata": {},
     "output_type": "display_data"
    }
   ],
   "source": [
    "plt.figure(figsize = (4, 3))\n",
    "plt.scatter(df_bins['num_prokka_genes'], df_bins['num_ko_families'], alpha = 0.5)\n",
    "plt.plot(df_bins['num_prokka_genes'], df_bins['num_prokka_genes'], color = 'k', lw = 1)\n",
    "plt.yscale('log')\n",
    "plt.xscale('log')\n",
    "plt.xlabel('Number of Prokka genes')\n",
    "plt.ylabel('Number of KO families')\n",
    "plt.show()"
   ]
  },
  {
   "cell_type": "markdown",
   "id": "42a1e731-3f8a-459a-88aa-8b4ed75941c7",
   "metadata": {},
   "source": [
    "Remove bins outside the diagonal"
   ]
  },
  {
   "cell_type": "code",
   "execution_count": 13,
   "id": "dea83eaa-0101-48a1-b6a4-5a0b91d73b40",
   "metadata": {},
   "outputs": [],
   "source": [
    "to_exclude = []"
   ]
  },
  {
   "cell_type": "code",
   "execution_count": 14,
   "id": "b5ed0681-8aad-435d-9832-582195e810a0",
   "metadata": {},
   "outputs": [],
   "source": [
    "to_exclude.extend(df_bins.query('num_prokka_genes >= 1e4 and num_ko_families <= 300').index.to_list())\n",
    "to_exclude.extend(df_bins.query('num_ko_families <= 20').index.to_list())\n",
    "to_exclude.extend(df_bins.query('num_prokka_genes > 1e5').index.to_list())"
   ]
  },
  {
   "cell_type": "markdown",
   "id": "006bc07c-78e5-4c41-a1ac-0374e51b0dc1",
   "metadata": {},
   "source": [
    "Remove environments with less than 5 bins"
   ]
  },
  {
   "cell_type": "code",
   "execution_count": 15,
   "id": "cc9a9773-b881-4fd2-bc46-9844fb645240",
   "metadata": {},
   "outputs": [],
   "source": [
    "to_exclude.extend(df_bins[df_bins.index.str.startswith('Steppe')].index.to_list())\n",
    "to_exclude.extend(df_bins[df_bins.index.str.startswith('Mayer_watershed')].index.to_list())\n",
    "to_exclude.extend(df_bins[df_bins.index.str.startswith('Jensen_Benthic')].index.to_list())\n",
    "to_exclude.extend(df_bins[df_bins.index.str.startswith('Lichen')].index.to_list())\n",
    "to_exclude.extend(df_bins[df_bins.index.str.startswith('Seedorf_soil')].index.to_list())\n",
    "to_exclude.extend(df_bins[df_bins.index.str.startswith('Marsh')].index.to_list())"
   ]
  },
  {
   "cell_type": "code",
   "execution_count": 16,
   "id": "3d29e539-924a-40c7-9ff2-42c2f2054cc3",
   "metadata": {},
   "outputs": [
    {
     "data": {
      "text/plain": [
       "(793, 3)"
      ]
     },
     "execution_count": 16,
     "metadata": {},
     "output_type": "execute_result"
    }
   ],
   "source": [
    "df_bins = df_bins[~df_bins.index.isin(to_exclude)]\n",
    "df_bins.shape"
   ]
  },
  {
   "cell_type": "code",
   "execution_count": 17,
   "id": "d74fc3c1-e941-4561-9d68-1cabcfbf908c",
   "metadata": {},
   "outputs": [
    {
     "data": {
      "text/plain": [
       "(793,)"
      ]
     },
     "execution_count": 17,
     "metadata": {},
     "output_type": "execute_result"
    }
   ],
   "source": [
    "bins = df_bins.index.values\n",
    "bins.shape"
   ]
  },
  {
   "cell_type": "code",
   "execution_count": 18,
   "id": "d6ab8b2d-ff0b-447f-bc1c-0a220da47672",
   "metadata": {},
   "outputs": [
    {
     "data": {
      "image/png": "[encoded data removed]",
      "text/plain": [
       "<Figure size 400x300 with 1 Axes>"
      ]
     },
     "metadata": {},
     "output_type": "display_data"
    }
   ],
   "source": [
    "plt.figure(figsize = (4, 3))\n",
    "plt.scatter(df_bins['num_prokka_genes'], df_bins['num_ko_families'], alpha = 0.5)\n",
    "plt.plot(df_bins['num_prokka_genes'], df_bins['num_prokka_genes'], color = 'k', lw = 1)\n",
    "plt.yscale('log')\n",
    "plt.xscale('log')\n",
    "plt.xlabel('Number of Prokka genes')\n",
    "plt.ylabel('Number of KO families')\n",
    "plt.show()"
   ]
  },
  {
   "cell_type": "markdown",
   "id": "b20a95bd-4c9a-4112-9f44-af56c22149d9",
   "metadata": {},
   "source": [
    "Load KOfamscan of bins"
   ]
  },
  {
   "cell_type": "code",
   "execution_count": 19,
   "id": "3468cabf-e10e-4a2c-a47b-9af7b7a9ff04",
   "metadata": {},
   "outputs": [
    {
     "name": "stdout",
     "output_type": "stream",
     "text": [
      "CPU times: user 1.33 s, sys: 157 ms, total: 1.49 s\n",
      "Wall time: 1.63 s\n"
     ]
    }
   ],
   "source": [
    "%%time\n",
    "results = []\n",
    "for bin in bins:\n",
    "    # Load file\n",
    "    with open(f'./input_data/emp/kegg/{bin}.tsv', 'r') as f:\n",
    "        for line in f:\n",
    "            row = line.strip().split('\\t')\n",
    "            orf, ko, bit_score = row[0], row[1], float(row[3])\n",
    "            results.append([orf, ko, bit_score, bin])"
   ]
  },
  {
   "cell_type": "code",
   "execution_count": 20,
   "id": "d707215c-0407-4ad8-9c08-ac39536c5322",
   "metadata": {},
   "outputs": [
    {
     "data": {
      "text/plain": [
       "839302"
      ]
     },
     "execution_count": 20,
     "metadata": {},
     "output_type": "execute_result"
    }
   ],
   "source": [
    "len(results)"
   ]
  },
  {
   "cell_type": "code",
   "execution_count": 21,
   "id": "c3a45d85-3414-4b79-9759-aa02bab9363a",
   "metadata": {},
   "outputs": [],
   "source": [
    "df = pd.DataFrame(results, columns = ['orf', 'ko', 'bit_score', 'bin'])\n",
    "df.set_index('orf', inplace = True)\n",
    "df['genome'] = df.index.map(lambda x: x.split('_')[0])"
   ]
  },
  {
   "cell_type": "code",
   "execution_count": 22,
   "id": "1958d425-e2ce-483d-b162-903cb043e97a",
   "metadata": {},
   "outputs": [
    {
     "data": {
      "text/plain": [
       "(839302, 4)"
      ]
     },
     "execution_count": 22,
     "metadata": {},
     "output_type": "execute_result"
    }
   ],
   "source": [
    "df.shape"
   ]
  },
  {
   "cell_type": "markdown",
   "id": "5087be47-9ee2-4179-878a-afc5a270602d",
   "metadata": {},
   "source": [
    "Control copy number: For each genome and gene, discard those genes with a score less than `x` of the top `score`"
   ]
  },
  {
   "cell_type": "code",
   "execution_count": 23,
   "id": "88d00b82-33fc-4bcb-85f3-e8e0407d4005",
   "metadata": {},
   "outputs": [],
   "source": [
    "threshold = 0.0\n",
    "# Calculate the maximum score for each genome and pfam combination\n",
    "max_scores = df.groupby(['genome', 'ko'])['bit_score'].transform('max')\n",
    "# Keep rows where the score is greater than or equal to max_score * threshold\n",
    "filtered_df = df[df['bit_score'] >= max_scores * threshold]"
   ]
  },
  {
   "cell_type": "code",
   "execution_count": 24,
   "id": "f41d82e0-70c3-4689-a26e-5b550388280f",
   "metadata": {},
   "outputs": [
    {
     "data": {
      "text/plain": [
       "(839302, 4)"
      ]
     },
     "execution_count": 24,
     "metadata": {},
     "output_type": "execute_result"
    }
   ],
   "source": [
    "filtered_df.shape"
   ]
  },
  {
   "cell_type": "markdown",
   "id": "6e8d3342-2df3-4b03-9218-97d8976431f4",
   "metadata": {},
   "source": [
    "Convert to edges"
   ]
  },
  {
   "cell_type": "code",
   "execution_count": 25,
   "id": "7e60c708-f0b3-4110-9bfd-d4e4f4acaac2",
   "metadata": {},
   "outputs": [],
   "source": [
    "edges_genomes = filtered_df['genome'].values\n",
    "edges_ogs = filtered_df['ko'].values"
   ]
  },
  {
   "cell_type": "markdown",
   "id": "e971028c-b9b6-4de0-af72-dedd65fce877",
   "metadata": {},
   "source": [
    "Build copy number matrix"
   ]
  },
  {
   "cell_type": "code",
   "execution_count": 26,
   "id": "6213547a-d0cd-4b27-b47b-22613cfd5464",
   "metadata": {},
   "outputs": [
    {
     "name": "stdout",
     "output_type": "stream",
     "text": [
      "CPU times: user 1.73 s, sys: 27.3 ms, total: 1.76 s\n",
      "Wall time: 1.84 s\n"
     ]
    },
    {
     "data": {
      "text/plain": [
       "(8003, 793)"
      ]
     },
     "execution_count": 26,
     "metadata": {},
     "output_type": "execute_result"
    }
   ],
   "source": [
    "%%time\n",
    "adj, genomes, ogs = adjMatv2(edges_ogs, edges_genomes)\n",
    "adj.shape"
   ]
  },
  {
   "cell_type": "markdown",
   "id": "36c5055d-934e-4681-8940-c021cf032468",
   "metadata": {},
   "source": [
    "Reformat data matrix"
   ]
  },
  {
   "cell_type": "code",
   "execution_count": 27,
   "id": "33d80700-a017-41b2-afa9-bc3e267d2a9e",
   "metadata": {},
   "outputs": [],
   "source": [
    "adj1 = adj"
   ]
  },
  {
   "cell_type": "code",
   "execution_count": 28,
   "id": "4347e129-9862-4d95-be73-a04a03391fc4",
   "metadata": {},
   "outputs": [],
   "source": [
    "# Contains copy numbers\n",
    "adj2 = adj1.copy()"
   ]
  },
  {
   "cell_type": "code",
   "execution_count": 29,
   "id": "29f0e8dd-7774-4b8c-acc5-a9cafdc3f205",
   "metadata": {},
   "outputs": [],
   "source": [
    "adj1[adj1 > 1] = 1"
   ]
  },
  {
   "cell_type": "markdown",
   "id": "630a4e70-375d-4ef0-908d-e07e5d5e6d68",
   "metadata": {},
   "source": [
    "Remove genes present in less than 4 genomes/species because `FastTree` requires at least three species and ASTRAL-pro uses quartets (i.e. four species)"
   ]
  },
  {
   "cell_type": "code",
   "execution_count": 30,
   "id": "d51c412b-a1bc-4437-8daf-34f1445229be",
   "metadata": {},
   "outputs": [],
   "source": [
    "# Copy presence/absence matrix\n",
    "adj_mod = adj1.copy()\n",
    "# Select genes to remove\n",
    "remove = remove_genes(adj_mod)\n",
    "# Remove genes\n",
    "adj_mod = np.delete(adj_mod, remove, axis = 0)\n",
    "# Remove genes from list\n",
    "ogs_mod = np.delete(ogs, remove, axis = 0)"
   ]
  },
  {
   "cell_type": "code",
   "execution_count": 31,
   "id": "ec6978c1-dc41-400f-9d04-18da69d4b1fc",
   "metadata": {},
   "outputs": [],
   "source": [
    "# Copy matrix\n",
    "adj_mod2 = adj2.copy()\n",
    "# Remove genes\n",
    "adj_mod2 = np.delete(adj_mod2, remove, axis = 0)"
   ]
  },
  {
   "cell_type": "code",
   "execution_count": 32,
   "id": "142ed9cd-6528-4dfe-bf23-0ef587ec39c4",
   "metadata": {},
   "outputs": [
    {
     "data": {
      "text/plain": [
       "(6647, 793)"
      ]
     },
     "execution_count": 32,
     "metadata": {},
     "output_type": "execute_result"
    }
   ],
   "source": [
    "adj_mod.shape"
   ]
  },
  {
   "cell_type": "code",
   "execution_count": 33,
   "id": "71fe7d1f-93fb-4d2e-80c0-0b596641eae6",
   "metadata": {},
   "outputs": [
    {
     "data": {
      "text/plain": [
       "(6647, 793)"
      ]
     },
     "execution_count": 33,
     "metadata": {},
     "output_type": "execute_result"
    }
   ],
   "source": [
    "adj_mod2.shape"
   ]
  },
  {
   "cell_type": "code",
   "execution_count": 34,
   "id": "422678b5-2dd2-48d3-ab61-27f296c82010",
   "metadata": {},
   "outputs": [
    {
     "data": {
      "image/png": "[encoded data removed]",
      "text/plain": [
       "<Figure size 400x250 with 1 Axes>"
      ]
     },
     "metadata": {},
     "output_type": "display_data"
    }
   ],
   "source": [
    "x = np.sum(adj_mod2 == 1, axis = 1) / np.sum(adj_mod2 >= 1, axis = 1)\n",
    "y = np.sum(adj_mod2 >= 1, axis = 1) / adj_mod2.shape[1]\n",
    "\n",
    "plt.figure(figsize = (4, 2.5))\n",
    "plt.scatter(x, y, alpha = 0.2, color = 'k', s = 3, edgecolor = None)\n",
    "# Threshold for presence and single-copy ratio\n",
    "plt.axvline(x = 0.95, ls = 'dashed', color = '#a02c2cff')\n",
    "plt.axhline(y = 0.90, ls = 'dashed', color = '#a02c2cff')\n",
    "# plt.legend(title = 'Pfam type')\n",
    "plt.tick_params(top = True, right = True, direction = 'in', which = 'both')\n",
    "plt.xlabel('Single-copy ratio')\n",
    "plt.ylabel('Proportion of MAGs')\n",
    "plt.ylim(-0.03, 1.04)\n",
    "plt.savefig(f'./figures/figure_1A_gene_family_space_emp_kegg.svg')\n",
    "plt.show()"
   ]
  },
  {
   "cell_type": "markdown",
   "id": "b4ce9ab1-3ad2-4079-8410-02f6dbe4ad59",
   "metadata": {},
   "source": [
    "Number of gene families and proportion of gene families withing area defined by traditional criteria"
   ]
  },
  {
   "cell_type": "code",
   "execution_count": 35,
   "id": "8a128c4c-1c8a-4699-9828-64938559c8fa",
   "metadata": {},
   "outputs": [
    {
     "data": {
      "image/png": "[encoded data removed]",
      "text/plain": [
       "<Figure size 200x215 with 1 Axes>"
      ]
     },
     "metadata": {},
     "output_type": "display_data"
    }
   ],
   "source": [
    "plt.figure(figsize = (2, 2.15))\n",
    "# plt.bar([0, 1], [adj_mod.shape[0], y[(y > 0.9) & (x > 0.95)].shape[0]], color = '#4361ee')\n",
    "plt.bar([0, 1], [adj_mod.shape[0], 1], color = '#f72585') # Pseudocount added for aesthetic purposes\n",
    "plt.xticks([0, 1], ['', ''])\n",
    "plt.text(0, 100, f'{adj_mod.shape[0] - y[(y > 0.9) & (x > 0.95)].shape[0]}', ha = 'center')\n",
    "plt.text(1, 100, f'{y[(y > 0.9) & (x > 0.95)].shape[0]}', ha = 'center')\n",
    "plt.yscale('log')\n",
    "plt.ylabel('Number of gene families')\n",
    "plt.tick_params(top = True, right = True, direction = 'in', which = 'both')\n",
    "plt.savefig(f'./figures/figure_1A_number_gene_families_emp_kegg.svg')\n",
    "plt.show()"
   ]
  },
  {
   "cell_type": "markdown",
   "id": "3bf4e2f3-2868-496e-b960-8bbe1036795b",
   "metadata": {},
   "source": [
    "Distribution of gene families across MAGs"
   ]
  },
  {
   "cell_type": "code",
   "execution_count": 36,
   "id": "d9b289b3-d520-4227-a36e-dff7cc28ec72",
   "metadata": {},
   "outputs": [
    {
     "data": {
      "image/png": "[encoded data removed]",
      "text/plain": [
       "<Figure size 350x250 with 1 Axes>"
      ]
     },
     "metadata": {},
     "output_type": "display_data"
    }
   ],
   "source": [
    "plt.figure(figsize = (3.5, 2.5))\n",
    "plt.hist(adj_mod.sum(axis = 0), bins = 'auto', color = '#f72585')\n",
    "plt.axvline(x = np.mean(adj_mod.sum(axis = 0)), ls = 'dashed', color = 'k')\n",
    "plt.tick_params(top = True, right = True, direction = 'in', which = 'both')\n",
    "plt.xlabel('Number of gene families')\n",
    "plt.ylabel('Number of MAGs')\n",
    "plt.xlim(0, 3200)\n",
    "plt.savefig(f'./figures/figure_1A_number_gene_families_histogram_emp_kegg.svg')\n",
    "plt.show()"
   ]
  },
  {
   "cell_type": "markdown",
   "id": "f1515fd8-4585-4129-b929-0d320e825b6f",
   "metadata": {},
   "source": [
    "Select markers from KEGG gene families"
   ]
  },
  {
   "cell_type": "code",
   "execution_count": 37,
   "id": "19609da5-2717-43e9-92ef-db4104654cfa",
   "metadata": {},
   "outputs": [],
   "source": [
    "# Change k to generate all sets (k = 10, 50, 100, 200, 400, 600, 800, 1000)\n",
    "k = 10\n",
    "ps = [0]"
   ]
  },
  {
   "cell_type": "code",
   "execution_count": 38,
   "id": "119258b4-d849-4924-807d-c698dbcf4348",
   "metadata": {},
   "outputs": [
    {
     "name": "stdout",
     "output_type": "stream",
     "text": [
      "\tp: 0\n",
      "CPU times: user 882 ms, sys: 220 ms, total: 1.1 s\n",
      "Wall time: 581 ms\n"
     ]
    }
   ],
   "source": [
    "%%time\n",
    "selected_genes_mod = {}\n",
    "selected_genes_all_criteria_mod = []\n",
    "# Iterate over criteria\n",
    "for p in ps:\n",
    "    print(f'\\tp: {p}')\n",
    "    select = greedy_power_mean_sample_final(adj_mod2, k, p = p, pseudocount = 0.1, min_universality_genes = 1)\n",
    "    selected_genes_all_criteria_mod.append(set(select))\n",
    "    selected_genes_mod[p] = select"
   ]
  },
  {
   "cell_type": "markdown",
   "id": "4ccf51f5-dd05-470a-b653-035478060046",
   "metadata": {},
   "source": [
    "Save markers"
   ]
  },
  {
   "cell_type": "code",
   "execution_count": 39,
   "id": "0b2bbd26-b565-46e9-9c8d-a77092a60c66",
   "metadata": {},
   "outputs": [],
   "source": [
    "all_genes = set.union(*selected_genes_all_criteria_mod)"
   ]
  },
  {
   "cell_type": "code",
   "execution_count": 40,
   "id": "4802daaa-3ee8-497b-af96-9a03c03b552a",
   "metadata": {},
   "outputs": [],
   "source": [
    "dataPathOut = f'./output_data/emp/marker_genes/kegg/bit_score_threshold_{threshold}'\n",
    "fOut = f'{dataPathOut}/all_genes.txt'\n",
    "save_genes([ogs_mod[i] for i in all_genes], fOut)"
   ]
  },
  {
   "cell_type": "markdown",
   "id": "63d8c0ab-82fa-4cdb-8bd7-83019bb8f6c7",
   "metadata": {},
   "source": [
    "Remove genomes with less than $k * 0.25$ marker genes"
   ]
  },
  {
   "cell_type": "code",
   "execution_count": 41,
   "id": "98078044-b6d0-4475-adcf-73ae63f42460",
   "metadata": {},
   "outputs": [
    {
     "data": {
      "text/plain": [
       "(759,)"
      ]
     },
     "execution_count": 41,
     "metadata": {},
     "output_type": "execute_result"
    }
   ],
   "source": [
    "genomes_to_keep = genomes[adj_mod[selected_genes_mod[p]].sum(axis = 0) >= k * 0.25]\n",
    "genomes_to_keep.shape"
   ]
  },
  {
   "cell_type": "markdown",
   "id": "cd9a9b32-c346-4d4b-a819-93784e4f817c",
   "metadata": {},
   "source": [
    "Save ORFs"
   ]
  },
  {
   "cell_type": "code",
   "execution_count": 42,
   "id": "79b470fb-3e0e-401a-a95d-920e918e247a",
   "metadata": {},
   "outputs": [
    {
     "name": "stdout",
     "output_type": "stream",
     "text": [
      "CPU times: user 492 ms, sys: 16.1 ms, total: 509 ms\n",
      "Wall time: 515 ms\n"
     ]
    }
   ],
   "source": [
    "%%time\n",
    "for i in all_genes:\n",
    "    gene = ogs_mod[i]\n",
    "    with open(f'{dataPathOut}/orfs/{gene}.txt', 'w') as f:\n",
    "        orfs = filtered_df.query('ko == @gene')\n",
    "        orfs = orfs[orfs['genome'].isin(genomes_to_keep)].index.values\n",
    "        for orf in orfs:\n",
    "            f.write(f'{orf}\\n')"
   ]
  },
  {
   "cell_type": "markdown",
   "id": "9f075e5f-f4f0-4294-aa46-0510174d3e34",
   "metadata": {},
   "source": [
    "Save number of markers per MAG"
   ]
  },
  {
   "cell_type": "code",
   "execution_count": 43,
   "id": "68ed76eb-74a5-4278-b612-b987f7e83714",
   "metadata": {},
   "outputs": [],
   "source": [
    "num_marker_genes_per_genome = {genome : number for genome, number in zip(genomes, adj_mod[selected_genes_mod[p]].sum(axis = 0))}"
   ]
  },
  {
   "cell_type": "code",
   "execution_count": 44,
   "id": "a5663cc9-3a3c-4089-a881-8e1d0d0bac8f",
   "metadata": {},
   "outputs": [],
   "source": [
    "save_markers_per_genome(num_marker_genes_per_genome, f'{dataPathOut}/num_markers_per_genome_k_{k}_p_{p}.txt')"
   ]
  },
  {
   "cell_type": "markdown",
   "id": "13849a11-0044-49f4-8462-f0adaa26ccaa",
   "metadata": {},
   "source": [
    "# Marker selection of EggNog gene families from 793 EMP metagenome-assembled genomes"
   ]
  },
  {
   "cell_type": "code",
   "execution_count": 45,
   "id": "386db20a-8c3f-450a-8f2b-14d731087c2c",
   "metadata": {},
   "outputs": [
    {
     "data": {
      "text/plain": [
       "(811,)"
      ]
     },
     "execution_count": 45,
     "metadata": {},
     "output_type": "execute_result"
    }
   ],
   "source": [
    "bins = np.loadtxt('./input_data/emp/mags.txt', dtype = 'str')\n",
    "bins.shape"
   ]
  },
  {
   "cell_type": "markdown",
   "id": "12b25c5e-59fb-48f7-b613-db895304f9d2",
   "metadata": {},
   "source": [
    "Load annotation statistics"
   ]
  },
  {
   "cell_type": "code",
   "execution_count": 46,
   "id": "d182daf6-1866-4366-ab7f-4415f100a31a",
   "metadata": {},
   "outputs": [
    {
     "data": {
      "text/plain": [
       "(811, 3)"
      ]
     },
     "execution_count": 46,
     "metadata": {},
     "output_type": "execute_result"
    }
   ],
   "source": [
    "df_bins = pd.read_csv(f'./input_data/emp/mags_statistics_eggnog.tsv', index_col = 0, sep = '\\t')\n",
    "df_bins.shape"
   ]
  },
  {
   "cell_type": "code",
   "execution_count": 47,
   "id": "baafe3ab-7566-4676-9824-def7e2f1b751",
   "metadata": {},
   "outputs": [
    {
     "data": {
      "image/png": "[encoded data removed]",
      "text/plain": [
       "<Figure size 400x300 with 1 Axes>"
      ]
     },
     "metadata": {},
     "output_type": "display_data"
    }
   ],
   "source": [
    "plt.figure(figsize = (4, 3))\n",
    "plt.scatter(df_bins['num_prokka_genes'], df_bins['num_og_families'], alpha = 0.5)\n",
    "plt.plot(df_bins['num_prokka_genes'], df_bins['num_prokka_genes'], color = 'k', lw = 1)\n",
    "plt.yscale('log')\n",
    "plt.xscale('log')\n",
    "plt.xlabel('Number of Prokka genes')\n",
    "plt.ylabel('Number of KO families')\n",
    "plt.show()"
   ]
  },
  {
   "cell_type": "markdown",
   "id": "be0a9a64-562e-4ecc-aeeb-3feff6de8684",
   "metadata": {},
   "source": [
    "Remove bins outside the diagonal"
   ]
  },
  {
   "cell_type": "code",
   "execution_count": 48,
   "id": "7aba59c3-ebf6-4374-a51c-7d38d70f5731",
   "metadata": {},
   "outputs": [],
   "source": [
    "to_exclude = []"
   ]
  },
  {
   "cell_type": "code",
   "execution_count": 49,
   "id": "24a5791e-9942-4f37-9ae7-9947728156bb",
   "metadata": {},
   "outputs": [],
   "source": [
    "to_exclude.extend(df_bins.query('num_prokka_genes >= 1e4 and num_og_families <= 2e3').index.to_list())\n",
    "to_exclude.extend(df_bins.query('num_og_families <= 100').index.to_list())\n",
    "to_exclude.append('SaltMarsh.Metabat.Bin.9')\n",
    "to_exclude.extend(df_bins.query('num_prokka_genes > 1e5').index.to_list())"
   ]
  },
  {
   "cell_type": "markdown",
   "id": "14f39806-d619-4585-afec-d10eec9f6abe",
   "metadata": {},
   "source": [
    "Remove environments with less than 5 bins"
   ]
  },
  {
   "cell_type": "code",
   "execution_count": 50,
   "id": "c001cd34-866a-4b26-add7-dcf57910a99e",
   "metadata": {},
   "outputs": [],
   "source": [
    "to_exclude.extend(df_bins[df_bins.index.str.startswith('Steppe')].index.to_list())\n",
    "to_exclude.extend(df_bins[df_bins.index.str.startswith('Mayer_watershed')].index.to_list())\n",
    "to_exclude.extend(df_bins[df_bins.index.str.startswith('Jensen_Benthic')].index.to_list())\n",
    "to_exclude.extend(df_bins[df_bins.index.str.startswith('Lichen')].index.to_list())\n",
    "to_exclude.extend(df_bins[df_bins.index.str.startswith('Seedorf_soil')].index.to_list())\n",
    "to_exclude.extend(df_bins[df_bins.index.str.startswith('Marsh')].index.to_list())"
   ]
  },
  {
   "cell_type": "code",
   "execution_count": 51,
   "id": "0592d3e7-4ce4-484c-bf56-190b0141c6b6",
   "metadata": {},
   "outputs": [
    {
     "data": {
      "text/plain": [
       "(793, 3)"
      ]
     },
     "execution_count": 51,
     "metadata": {},
     "output_type": "execute_result"
    }
   ],
   "source": [
    "df_bins = df_bins[~df_bins.index.isin(to_exclude)]\n",
    "df_bins.shape"
   ]
  },
  {
   "cell_type": "code",
   "execution_count": 52,
   "id": "4fc71d20-bffa-4df0-8a03-43a1fe1a3366",
   "metadata": {},
   "outputs": [
    {
     "data": {
      "text/plain": [
       "(793,)"
      ]
     },
     "execution_count": 52,
     "metadata": {},
     "output_type": "execute_result"
    }
   ],
   "source": [
    "bins = df_bins.index.values\n",
    "bins.shape"
   ]
  },
  {
   "cell_type": "code",
   "execution_count": 53,
   "id": "0f9e3c99-762b-41bd-9e82-63f820db1e6f",
   "metadata": {},
   "outputs": [
    {
     "data": {
      "image/png": "[encoded data removed]",
      "text/plain": [
       "<Figure size 400x300 with 1 Axes>"
      ]
     },
     "metadata": {},
     "output_type": "display_data"
    }
   ],
   "source": [
    "plt.figure(figsize = (4, 3))\n",
    "plt.scatter(df_bins['num_prokka_genes'], df_bins['num_og_families'], alpha = 0.5)\n",
    "plt.plot(df_bins['num_prokka_genes'], df_bins['num_prokka_genes'], color = 'k', lw = 1)\n",
    "plt.yscale('log')\n",
    "plt.xscale('log')\n",
    "plt.xlabel('Number of Prokka genes')\n",
    "plt.ylabel('Number of KO families')\n",
    "plt.show()"
   ]
  },
  {
   "cell_type": "markdown",
   "id": "7236381e-30a0-4c70-a33e-7ec0b47ee5a3",
   "metadata": {},
   "source": [
    "Load Eggnog-mapper of bins"
   ]
  },
  {
   "cell_type": "code",
   "execution_count": 54,
   "id": "67805692-f744-47be-8796-5907ccaea730",
   "metadata": {},
   "outputs": [
    {
     "name": "stdout",
     "output_type": "stream",
     "text": [
      "CPU times: user 5.39 s, sys: 308 ms, total: 5.69 s\n",
      "Wall time: 6.46 s\n"
     ]
    }
   ],
   "source": [
    "%%time\n",
    "results = []\n",
    "for bin in bins:\n",
    "    # Load file\n",
    "    with open(f'./input_data/emp/eggnog/{bin}.emapper.annotations', 'r') as f:\n",
    "        for line in f:\n",
    "            if not line.startswith('#'):\n",
    "                row = line.strip().split('\\t')\n",
    "                orf, bit_score, og = row[0], float(row[3]), row[4].split('|')[0]\n",
    "                results.append([orf, og.split('@')[0], bit_score, bin])"
   ]
  },
  {
   "cell_type": "code",
   "execution_count": 55,
   "id": "b4052acf-377b-447d-b72a-bb3362acc6ea",
   "metadata": {},
   "outputs": [
    {
     "data": {
      "text/plain": [
       "1496419"
      ]
     },
     "execution_count": 55,
     "metadata": {},
     "output_type": "execute_result"
    }
   ],
   "source": [
    "len(results)"
   ]
  },
  {
   "cell_type": "code",
   "execution_count": 56,
   "id": "9d63d912-df2c-43ec-9629-10ebc46267d9",
   "metadata": {},
   "outputs": [],
   "source": [
    "df = pd.DataFrame(results, columns = ['orf', 'og', 'bit_score', 'bin'])\n",
    "df.set_index('orf', inplace = True)\n",
    "df['genome'] = df.index.map(lambda x: x.split('_')[0])"
   ]
  },
  {
   "cell_type": "code",
   "execution_count": 57,
   "id": "aee36189-85eb-4040-8ecf-e07791e23c12",
   "metadata": {},
   "outputs": [
    {
     "data": {
      "text/plain": [
       "(1496419, 4)"
      ]
     },
     "execution_count": 57,
     "metadata": {},
     "output_type": "execute_result"
    }
   ],
   "source": [
    "df.shape"
   ]
  },
  {
   "cell_type": "markdown",
   "id": "474c7a42-441e-44ef-a62f-1127b6750308",
   "metadata": {},
   "source": [
    "Control copy number: For each genome and gene, discard those genes with a score less than `x` of the top `score`"
   ]
  },
  {
   "cell_type": "code",
   "execution_count": 58,
   "id": "f08d8bd2-c08f-407f-9cc9-309929564ff7",
   "metadata": {},
   "outputs": [],
   "source": [
    "threshold = 0.0\n",
    "# Calculate the maximum score for each genome and pfam combination\n",
    "max_scores = df.groupby(['genome', 'og'])['bit_score'].transform('max')\n",
    "# Keep rows where the score is greater than or equal to max_score * threshold\n",
    "filtered_df = df[df['bit_score'] >= max_scores * threshold]"
   ]
  },
  {
   "cell_type": "code",
   "execution_count": 59,
   "id": "b95f70d4-822f-48ca-a13c-fcef6f045628",
   "metadata": {},
   "outputs": [
    {
     "data": {
      "text/plain": [
       "(1496419, 4)"
      ]
     },
     "execution_count": 59,
     "metadata": {},
     "output_type": "execute_result"
    }
   ],
   "source": [
    "filtered_df.shape"
   ]
  },
  {
   "cell_type": "markdown",
   "id": "1200cf89-5756-4be5-a1fb-1274a4c2c658",
   "metadata": {},
   "source": [
    "Convert to edges"
   ]
  },
  {
   "cell_type": "code",
   "execution_count": 60,
   "id": "0afce4ed-147f-4309-a23a-bf98387756ed",
   "metadata": {},
   "outputs": [],
   "source": [
    "edges_genomes = filtered_df['genome'].values\n",
    "edges_ogs = filtered_df['og'].values"
   ]
  },
  {
   "cell_type": "markdown",
   "id": "d7914e17-7ce3-4512-963a-56b18495d9a1",
   "metadata": {},
   "source": [
    "Build copy number matrix"
   ]
  },
  {
   "cell_type": "code",
   "execution_count": 61,
   "id": "2c3673ec-88b8-45ee-b47a-5c2e397ca83a",
   "metadata": {},
   "outputs": [
    {
     "name": "stdout",
     "output_type": "stream",
     "text": [
      "CPU times: user 3.44 s, sys: 103 ms, total: 3.55 s\n",
      "Wall time: 3.54 s\n"
     ]
    },
    {
     "data": {
      "text/plain": [
       "(52527, 793)"
      ]
     },
     "execution_count": 61,
     "metadata": {},
     "output_type": "execute_result"
    }
   ],
   "source": [
    "%%time\n",
    "adj, genomes, ogs = adjMatv2(edges_ogs, edges_genomes)\n",
    "adj.shape"
   ]
  },
  {
   "cell_type": "markdown",
   "id": "9bccdd3e-910b-4dc4-9df2-bd7418715900",
   "metadata": {},
   "source": [
    "Reformat matrix"
   ]
  },
  {
   "cell_type": "code",
   "execution_count": 62,
   "id": "dd058bfd-cd2f-4137-a47f-95082a6e7927",
   "metadata": {},
   "outputs": [],
   "source": [
    "adj1 = adj"
   ]
  },
  {
   "cell_type": "code",
   "execution_count": 63,
   "id": "c220de7f-a328-4235-b920-ba834c4413a7",
   "metadata": {},
   "outputs": [],
   "source": [
    "# Contains copy numbers\n",
    "adj2 = adj1.copy()"
   ]
  },
  {
   "cell_type": "code",
   "execution_count": 64,
   "id": "00ce912c-6732-4c0d-ad5f-269d886895cd",
   "metadata": {},
   "outputs": [],
   "source": [
    "adj1[adj1 > 1] = 1"
   ]
  },
  {
   "cell_type": "markdown",
   "id": "cff905d2-b2d8-40fa-909e-905e4feacee6",
   "metadata": {},
   "source": [
    "Remove genes present in less than 4 genomes/species because `FastTree` requires at least three species and ASTRAL-pro uses quartets (i.e. four species)"
   ]
  },
  {
   "cell_type": "code",
   "execution_count": 65,
   "id": "93196d3e-ca37-46c5-9adc-25262e80bfb1",
   "metadata": {},
   "outputs": [],
   "source": [
    "# Copy presence/absence matrix\n",
    "adj_mod = adj1.copy()\n",
    "# Select genes to remove\n",
    "remove = remove_genes(adj_mod)\n",
    "# Remove genes\n",
    "adj_mod = np.delete(adj_mod, remove, axis = 0)\n",
    "# Remove genes from list\n",
    "ogs_mod = np.delete(ogs, remove, axis = 0)"
   ]
  },
  {
   "cell_type": "code",
   "execution_count": 66,
   "id": "3036e9e4-9d33-4432-9b6c-7c79ddcaf026",
   "metadata": {},
   "outputs": [],
   "source": [
    "# Copy matrix\n",
    "adj_mod2 = adj2.copy()\n",
    "# Remove genes\n",
    "adj_mod2 = np.delete(adj_mod2, remove, axis = 0)"
   ]
  },
  {
   "cell_type": "code",
   "execution_count": 67,
   "id": "a39c45b3-9cc9-4305-9f55-65dacf65b8a3",
   "metadata": {},
   "outputs": [
    {
     "data": {
      "text/plain": [
       "(13575, 793)"
      ]
     },
     "execution_count": 67,
     "metadata": {},
     "output_type": "execute_result"
    }
   ],
   "source": [
    "adj_mod.shape"
   ]
  },
  {
   "cell_type": "code",
   "execution_count": 68,
   "id": "3eda6011-8aa6-4514-9c4e-8963865f7ee1",
   "metadata": {},
   "outputs": [
    {
     "data": {
      "text/plain": [
       "(13575, 793)"
      ]
     },
     "execution_count": 68,
     "metadata": {},
     "output_type": "execute_result"
    }
   ],
   "source": [
    "adj_mod2.shape"
   ]
  },
  {
   "cell_type": "code",
   "execution_count": 69,
   "id": "6c4be535-a220-4faa-a399-38b564430fed",
   "metadata": {},
   "outputs": [
    {
     "data": {
      "image/png": "[encoded data removed]",
      "text/plain": [
       "<Figure size 400x250 with 1 Axes>"
      ]
     },
     "metadata": {},
     "output_type": "display_data"
    }
   ],
   "source": [
    "x = np.sum(adj_mod2 == 1, axis = 1) / np.sum(adj_mod2 >= 1, axis = 1)\n",
    "y = np.sum(adj_mod2 >= 1, axis = 1) / adj_mod2.shape[1]\n",
    "\n",
    "plt.figure(figsize = (4, 2.5))\n",
    "plt.scatter(x, y, alpha = 0.2, color = 'k', s = 3, edgecolor = None)\n",
    "# Threshold for presence and single-copy ratio\n",
    "plt.axvline(x = 0.95, ls = 'dashed', color = '#a02c2cff')\n",
    "plt.axhline(y = 0.90, ls = 'dashed', color = '#a02c2cff')\n",
    "# plt.legend(title = 'Pfam type')\n",
    "plt.tick_params(top = True, right = True, direction = 'in', which = 'both')\n",
    "plt.xlabel('Single-copy ratio across MAGs')\n",
    "plt.ylabel('Proportion of MAGs')\n",
    "plt.ylim(-0.03, 1.04)\n",
    "plt.savefig(f'./figures/figure_S1A_gene_family_space_emp_eggnog.svg')\n",
    "plt.show()"
   ]
  },
  {
   "cell_type": "markdown",
   "id": "5496c0ea-b27f-4184-88a5-f86246956707",
   "metadata": {},
   "source": [
    "Number of gene families and proportion of gene families withing area defined by traditional criteria"
   ]
  },
  {
   "cell_type": "code",
   "execution_count": 70,
   "id": "7aeb4670-c4c5-4f9e-b972-b9ca4a3c0b6d",
   "metadata": {},
   "outputs": [
    {
     "data": {
      "image/png": "[encoded data removed]",
      "text/plain": [
       "<Figure size 200x215 with 1 Axes>"
      ]
     },
     "metadata": {},
     "output_type": "display_data"
    }
   ],
   "source": [
    "plt.figure(figsize = (2, 2.15))\n",
    "# plt.bar([0, 1], [adj_mod.shape[0], y[(y > 0.9) & (x > 0.95)].shape[0]], color = '#4361ee')\n",
    "plt.bar([0, 1], [adj_mod.shape[0], 1], color = '#4361ee') # Pseudocount added for aesthetic purposes\n",
    "plt.xticks([0, 1], ['', ''])\n",
    "plt.text(0, 100, f'{adj_mod.shape[0] - y[(y > 0.9) & (x > 0.95)].shape[0]}', ha = 'center')\n",
    "plt.text(1, 100, f'{y[(y > 0.9) & (x > 0.95)].shape[0]}', ha = 'center')\n",
    "plt.yscale('log')\n",
    "plt.ylabel('Number of gene families')\n",
    "plt.tick_params(top = True, right = True, direction = 'in', which = 'both')\n",
    "plt.savefig(f'./figures/figure_S1A_number_gene_families_emp_eggnog.svg')\n",
    "plt.show()"
   ]
  },
  {
   "cell_type": "markdown",
   "id": "5e2792a0-16cf-49ba-8794-206f35ad2979",
   "metadata": {},
   "source": [
    "Distribution of gene families across MAGs"
   ]
  },
  {
   "cell_type": "code",
   "execution_count": 71,
   "id": "6af810b7-bad8-49dc-8ab4-bfdd2216bc22",
   "metadata": {},
   "outputs": [
    {
     "data": {
      "image/png": "[encoded data removed]",
      "text/plain": [
       "<Figure size 350x250 with 1 Axes>"
      ]
     },
     "metadata": {},
     "output_type": "display_data"
    }
   ],
   "source": [
    "plt.figure(figsize = (3.5, 2.5))\n",
    "plt.hist(adj_mod.sum(axis = 0), bins = 'auto', color = '#4361ee')\n",
    "plt.axvline(x = np.mean(adj_mod.sum(axis = 0)), ls = 'dashed', color = 'k')\n",
    "plt.tick_params(top = True, right = True, direction = 'in', which = 'both')\n",
    "plt.xlabel('Number of gene families')\n",
    "plt.ylabel('Number of MAGs')\n",
    "plt.xlim(0, 3200)\n",
    "plt.savefig(f'./figures/figure_S1A_number_gene_families_histogram_emp_eggnog.svg')\n",
    "plt.show()"
   ]
  },
  {
   "cell_type": "markdown",
   "id": "5c101f21-9444-46f1-8536-077768725821",
   "metadata": {},
   "source": [
    "Select markers from EggNog gene families"
   ]
  },
  {
   "cell_type": "code",
   "execution_count": 72,
   "id": "4172bf8d-ff36-4c8f-9312-4d389482225a",
   "metadata": {},
   "outputs": [],
   "source": [
    "# Change k to generate all sets (k = 10, 50, 100, 200, 400, 600, 800, 1000)\n",
    "k = 10\n",
    "ps = [0]"
   ]
  },
  {
   "cell_type": "code",
   "execution_count": 73,
   "id": "f7513145-84ad-4a5d-8d59-03e81f9abc7d",
   "metadata": {},
   "outputs": [
    {
     "name": "stdout",
     "output_type": "stream",
     "text": [
      "\tp: 0\n",
      "CPU times: user 1.5 s, sys: 326 ms, total: 1.83 s\n",
      "Wall time: 1.29 s\n"
     ]
    }
   ],
   "source": [
    "%%time\n",
    "selected_genes_mod = {}\n",
    "selected_genes_all_criteria_mod = []\n",
    "# Iterate over criteria\n",
    "for p in ps:\n",
    "    print(f'\\tp: {p}')\n",
    "    select = greedy_power_mean_sample_final(adj_mod2, k, p = p, pseudocount = 0.1, min_universality_genes = 1)\n",
    "    selected_genes_all_criteria_mod.append(set(select))\n",
    "    selected_genes_mod[p] = select"
   ]
  },
  {
   "cell_type": "markdown",
   "id": "af3ce4b4-668c-4391-b6a1-f53588ceafa1",
   "metadata": {},
   "source": [
    "Save markers"
   ]
  },
  {
   "cell_type": "code",
   "execution_count": 74,
   "id": "57060a92-76f6-4dfb-9cb8-69a5c14c4cb7",
   "metadata": {},
   "outputs": [],
   "source": [
    "all_genes = set.union(*selected_genes_all_criteria_mod)"
   ]
  },
  {
   "cell_type": "code",
   "execution_count": 75,
   "id": "94131d70-6e36-4bf4-bd2b-76e970dfa7b4",
   "metadata": {},
   "outputs": [],
   "source": [
    "dataPathOut = f'./output_data/emp/marker_genes/eggnog/bit_score_threshold_{threshold}'\n",
    "fOut = f'{dataPathOut}/all_genes.txt'\n",
    "save_genes([ogs_mod[i] for i in all_genes], fOut)"
   ]
  },
  {
   "cell_type": "markdown",
   "id": "5dd2cd59-7fea-4f07-8eb4-1dc253283904",
   "metadata": {},
   "source": [
    "Remove genomes with less than $k * 0.25$ marker genes"
   ]
  },
  {
   "cell_type": "code",
   "execution_count": 76,
   "id": "30404c8f-8885-4820-974c-0ddf01fbc8d4",
   "metadata": {},
   "outputs": [
    {
     "data": {
      "text/plain": [
       "(785,)"
      ]
     },
     "execution_count": 76,
     "metadata": {},
     "output_type": "execute_result"
    }
   ],
   "source": [
    "genomes_to_keep = genomes[adj_mod[selected_genes_mod[p]].sum(axis = 0) >= k * 0.25]\n",
    "genomes_to_keep.shape"
   ]
  },
  {
   "cell_type": "markdown",
   "id": "d97a5f1c-504b-4baf-b56f-df6155d86048",
   "metadata": {},
   "source": [
    "Save ORFs"
   ]
  },
  {
   "cell_type": "code",
   "execution_count": 80,
   "id": "fb6a1832-d4ef-44c4-aaeb-847ff628c9ca",
   "metadata": {},
   "outputs": [
    {
     "name": "stdout",
     "output_type": "stream",
     "text": [
      "CPU times: user 994 ms, sys: 18.8 ms, total: 1.01 s\n",
      "Wall time: 1.02 s\n"
     ]
    }
   ],
   "source": [
    "%%time\n",
    "for i in all_genes:\n",
    "    gene = ogs_mod[i]\n",
    "    with open(f'{dataPathOut}/orfs/{gene}.txt', 'w') as f:\n",
    "        orfs = filtered_df.query('og == @gene')\n",
    "        orfs = orfs[orfs['genome'].isin(genomes_to_keep)].index.values\n",
    "        for orf in orfs:\n",
    "            f.write(f'{orf}\\n')"
   ]
  },
  {
   "cell_type": "markdown",
   "id": "7038d4a3-17f5-49c8-a13b-297056fc43ef",
   "metadata": {},
   "source": [
    "Save number of markers per MAG"
   ]
  },
  {
   "cell_type": "code",
   "execution_count": 81,
   "id": "effd1076-dcc4-449a-9cfa-802fea880ef0",
   "metadata": {},
   "outputs": [],
   "source": [
    "num_marker_genes_per_genome = {genome : number for genome, number in zip(genomes, adj_mod[selected_genes_mod[p]].sum(axis = 0))}"
   ]
  },
  {
   "cell_type": "code",
   "execution_count": 82,
   "id": "755fdd5a-8a11-4520-9560-c5308045ae21",
   "metadata": {},
   "outputs": [],
   "source": [
    "save_markers_per_genome(num_marker_genes_per_genome, f'{dataPathOut}/num_markers_per_genome_k_{k}_p_{p}.txt')"
   ]
  },
  {
   "cell_type": "code",
   "execution_count": null,
   "id": "9213a872-1c6a-48f0-8a6b-6bd23642e37f",
   "metadata": {},
   "outputs": [],
   "source": []
  },
  {
   "cell_type": "code",
   "execution_count": null,
   "id": "c1e2a48c-1c59-4070-87f4-2a0ead0ac8f6",
   "metadata": {},
   "outputs": [],
   "source": []
  },
  {
   "cell_type": "code",
   "execution_count": null,
   "id": "ee805b45-bba3-4321-910f-608f45963d05",
   "metadata": {},
   "outputs": [],
   "source": []
  },
  {
   "cell_type": "code",
   "execution_count": null,
   "id": "00c8f30f-e802-4be0-8de9-1b849729c51e",
   "metadata": {},
   "outputs": [],
   "source": []
  },
  {
   "cell_type": "code",
   "execution_count": null,
   "id": "dacd0828-5db4-41bc-b308-56dae49216ef",
   "metadata": {},
   "outputs": [],
   "source": []
  },
  {
   "cell_type": "code",
   "execution_count": null,
   "id": "7207ea21-ec29-4c26-a329-6de3ecc1cd29",
   "metadata": {},
   "outputs": [],
   "source": []
  },
  {
   "cell_type": "code",
   "execution_count": null,
   "id": "ad04290e-a934-4345-9453-89ba0d609b62",
   "metadata": {},
   "outputs": [],
   "source": []
  }
 ],
 "metadata": {
  "kernelspec": {
   "display_name": "Python 3 (ipykernel)",
   "language": "python",
   "name": "python3"
  },
  "language_info": {
   "codemirror_mode": {
    "name": "ipython",
    "version": 3
   },
   "file_extension": ".py",
   "mimetype": "text/x-python",
   "name": "python",
   "nbconvert_exporter": "python",
   "pygments_lexer": "ipython3",
   "version": "3.10.13"
  }
 },
 "nbformat": 4,
 "nbformat_minor": 5
}
