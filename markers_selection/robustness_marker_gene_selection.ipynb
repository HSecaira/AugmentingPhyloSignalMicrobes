{
 "cells": [
  {
   "cell_type": "markdown",
   "id": "fcb58291-5e20-47fe-8c18-c54e00697b7d",
   "metadata": {},
   "source": [
    "# Robustness in marker gene selection"
   ]
  },
  {
   "cell_type": "code",
   "execution_count": 1,
   "id": "213cd252-e6ff-4f18-9965-a6a4e08e26fc",
   "metadata": {},
   "outputs": [],
   "source": [
    "import numpy as np\n",
    "import pandas as pd\n",
    "import matplotlib.pyplot as plt\n",
    "import os\n",
    "import matplotlib.gridspec as grid_spec\n",
    "import lzma"
   ]
  },
  {
   "cell_type": "code",
   "execution_count": 2,
   "id": "d3d3cd60-564e-4c7c-b29b-07344913f949",
   "metadata": {},
   "outputs": [],
   "source": [
    "from scipy.stats import pmean"
   ]
  },
  {
   "cell_type": "code",
   "execution_count": 3,
   "id": "e847f44e-2038-493a-829a-42ddb8375b67",
   "metadata": {},
   "outputs": [],
   "source": [
    "import seaborn as sns"
   ]
  },
  {
   "cell_type": "code",
   "execution_count": 4,
   "id": "62764bc6-a010-4e84-b170-449a07f2a866",
   "metadata": {},
   "outputs": [],
   "source": [
    "plt.rcParams.update({\n",
    "    'figure.autolayout': True,\n",
    "    'savefig.bbox': 'tight',\n",
    "    'svg.fonttype': 'none',\n",
    "    'font.sans-serif': 'Arial',\n",
    "    'font.size': 12,\n",
    "    'boxplot.medianprops.linewidth': 2,\n",
    "    'boxplot.flierprops.markeredgecolor': 'none',\n",
    "    'boxplot.flierprops.markersize': 5})"
   ]
  },
  {
   "cell_type": "markdown",
   "id": "835f7a72-3c49-4a7d-887d-a2504f9c5332",
   "metadata": {},
   "source": [
    "## Functions"
   ]
  },
  {
   "cell_type": "code",
   "execution_count": 5,
   "id": "24d5da6a-854c-40dd-9c68-9ae234af9c07",
   "metadata": {},
   "outputs": [],
   "source": [
    "def adjMatv2(edges_ogs, edges_genomes):\n",
    "    # Get unique elements\n",
    "    ogs, ogs_indices = np.unique(edges_ogs, return_inverse = True)\n",
    "    genomes, genomes_indices = np.unique(edges_genomes, return_inverse = True)\n",
    "    # Calculate bin counts for each combination of indices\n",
    "    counts = np.bincount(ogs_indices * len(genomes) + genomes_indices, minlength = len(ogs) * len(genomes))\n",
    "    # Reshape counts as adjacency matrix\n",
    "    adj = counts.reshape(len(ogs), len(genomes))\n",
    "    return adj, genomes, ogs"
   ]
  },
  {
   "cell_type": "code",
   "execution_count": 6,
   "id": "ed411584-aba4-4cf3-bdff-6a32954304d2",
   "metadata": {},
   "outputs": [],
   "source": [
    "def save_genes(genes, fOut):\n",
    "    with open(fOut, 'w') as f:\n",
    "        for gene in genes:\n",
    "            f.write(f'{gene}\\n')"
   ]
  },
  {
   "cell_type": "code",
   "execution_count": 7,
   "id": "07903fb8-4c97-4842-b8a9-113114b17968",
   "metadata": {},
   "outputs": [],
   "source": [
    "def remove_genes(adj_mod):\n",
    "    '''\n",
    "    Function that removes genes if:\n",
    "        present in less than 4 genomes/species\n",
    "    '''\n",
    "    remove = np.array([i for i in range(len(adj_mod)) if adj_mod[i].sum() < 4])\n",
    "    return remove"
   ]
  },
  {
   "cell_type": "code",
   "execution_count": 8,
   "id": "39fb4b66-ba05-47e0-8fbf-ccc2d7be031d",
   "metadata": {},
   "outputs": [],
   "source": [
    "def greedy_power_mean_sample_final(data, k, p, pseudocount, min_universality_genes):\n",
    "    \"\"\"Select k rows from a matrix such that the selection criterion by column is maximized.\n",
    "\n",
    "    Parameters\n",
    "    ----------\n",
    "    data : ndarray (2D)\n",
    "        Input data matrix.\n",
    "    k : int\n",
    "        Number of rows to select.\n",
    "    p : float\n",
    "        Exponent.\n",
    "\n",
    "    Returns\n",
    "    -------\n",
    "    ndarray (1D)\n",
    "        Row indices selected in order.\n",
    "    \"\"\"\n",
    "\n",
    "    n, m = data.shape\n",
    "\n",
    "    # Matrix is empty\n",
    "    if n == 0 or m == 0:\n",
    "        raise ValueError(f'Matrix is empty!')\n",
    "\n",
    "    # Matrix contains only zeroes\n",
    "    if (data == 0).all():\n",
    "        raise ValueError(f'Matrix only contains 0\\'s')\n",
    "\n",
    "    if (data.sum(axis = 1) == min_universality_genes).all():\n",
    "        raise ValueError(f'Matrix only contains genes present in less than {min_universality_genes}')\n",
    "\n",
    "    if k >= n:\n",
    "        raise ValueError(f'k should be smaller than {n}')\n",
    "    \n",
    "    # Add pseudocount\n",
    "    data = data + pseudocount\n",
    "\n",
    "    # cumulative gene counts\n",
    "    counts = np.zeros(m, dtype = int)\n",
    "\n",
    "    # gene indices in original data matrix\n",
    "    indices = np.arange(n)\n",
    "\n",
    "    # indices of selected genes\n",
    "    selected = []\n",
    "\n",
    "    # will select k genes sequentially\n",
    "    for i in range(k):\n",
    "        # calculate counts after adding each gene\n",
    "        sums_ = counts + data\n",
    "\n",
    "        # select a gene that maximizes the power mean gene count per genome, using the cumulative matric\n",
    "        if isinstance(p, int) or isinstance(p, np.int64): \n",
    "            choice = pmean(sums_, int(p), axis = 1).argmax()\n",
    "        elif p == 'min':\n",
    "            choice = sums_.min(axis = 1).argmax()\n",
    "        elif p == 'max':\n",
    "            choice = sums_.max(axis = 1).argmax()\n",
    "        else:\n",
    "            raise ValueError(f'Invalid p: {p}.')\n",
    "\n",
    "        # append index of selected gene\n",
    "        selected.append(indices[choice])\n",
    "\n",
    "        # update per-species gene counts\n",
    "        counts = sums_[choice]\n",
    "\n",
    "        # remove selected gene from data matrix\n",
    "        data = np.delete(data, choice, axis = 0)\n",
    "\n",
    "        # remove selected gene from indices\n",
    "        indices = np.delete(indices, choice)\n",
    "\n",
    "    return np.sort(np.array(selected))"
   ]
  },
  {
   "cell_type": "markdown",
   "id": "e0963ad8-60a7-415d-a6fa-eeaa5c98984e",
   "metadata": {},
   "source": [
    "### EggNog -- raw data"
   ]
  },
  {
   "cell_type": "code",
   "execution_count": 9,
   "id": "9f9890bd-4777-4ee5-ac1f-4f2c03fe4f88",
   "metadata": {},
   "outputs": [],
   "source": [
    "# %%time\n",
    "# tmp = []\n",
    "# with lzma.open(f'./input_data/emapper.annotations.xz', mode = 'rt') as f:\n",
    "#     for i, line in enumerate(f):\n",
    "#         row = line.strip().split('\\t')\n",
    "#         orf, score, og = row[0], row[3], row[4].split('|')[0]\n",
    "#         genome = orf.split('_')[0]\n",
    "#         tmp.append([orf, float(score), og.split('@')[0], genome])"
   ]
  },
  {
   "cell_type": "code",
   "execution_count": 10,
   "id": "f405dbbb-3cdd-413d-a944-d69d10fc699f",
   "metadata": {},
   "outputs": [],
   "source": [
    "# len(tmp)"
   ]
  },
  {
   "cell_type": "code",
   "execution_count": 11,
   "id": "82f8a797-3760-43e8-aebc-94824687a4a2",
   "metadata": {},
   "outputs": [],
   "source": [
    "# df_eggnog = pd.DataFrame(tmp, columns = ['orf', 'score', 'og', 'genome'])\n",
    "# df_eggnog.set_index('orf', inplace = True)"
   ]
  },
  {
   "cell_type": "code",
   "execution_count": 12,
   "id": "fc44d82e-5129-489d-ae82-640edd64d113",
   "metadata": {},
   "outputs": [],
   "source": [
    "# df_eggnog.shape"
   ]
  },
  {
   "cell_type": "code",
   "execution_count": 13,
   "id": "f7c8d168-6951-459c-9d89-d0e3acbb101f",
   "metadata": {},
   "outputs": [],
   "source": [
    "# df_eggnog.head()"
   ]
  },
  {
   "cell_type": "markdown",
   "id": "5879f5a5-3d4b-4bf9-9698-7219633ddc54",
   "metadata": {},
   "source": [
    "## KEGG --raw data"
   ]
  },
  {
   "cell_type": "code",
   "execution_count": 14,
   "id": "5ed32359-d4ea-4c23-893a-69ec31f2e58e",
   "metadata": {},
   "outputs": [],
   "source": [
    "# %%time\n",
    "# tmp = []\n",
    "# with lzma.open(f'./input_data/kofamscan.tsv.xz', mode = 'rt') as f:\n",
    "#     for line in f:\n",
    "#         row = line.strip().split('\\t')\n",
    "#         # print(row)\n",
    "#         orf, ko, score = row[0], row[1], row[3]\n",
    "#         genome = orf.split('_')[0]\n",
    "#         tmp.append([orf, float(score), ko, genome])"
   ]
  },
  {
   "cell_type": "code",
   "execution_count": 15,
   "id": "0335e51e-890b-462f-831b-58f1308dd652",
   "metadata": {},
   "outputs": [],
   "source": [
    "# len(tmp)"
   ]
  },
  {
   "cell_type": "code",
   "execution_count": 16,
   "id": "7701a26a-d305-420b-a252-9088307da638",
   "metadata": {},
   "outputs": [],
   "source": [
    "# df_kegg = pd.DataFrame(tmp, columns = ['orf', 'score', 'ko', 'genome'])\n",
    "# df_kegg.set_index('orf', inplace = True)"
   ]
  },
  {
   "cell_type": "code",
   "execution_count": 17,
   "id": "decd3199-6ae9-4153-af05-d429beeeedbd",
   "metadata": {},
   "outputs": [],
   "source": [
    "# df_kegg.shape"
   ]
  },
  {
   "cell_type": "markdown",
   "id": "417454d6-3584-4322-9ccf-a4796a7ce3de",
   "metadata": {},
   "source": [
    "For each genome and gene, discard those genes with a score less than `x` of the top `score`"
   ]
  },
  {
   "cell_type": "code",
   "execution_count": 18,
   "id": "c290784f-c601-4bfe-9234-e45c68372f3d",
   "metadata": {},
   "outputs": [],
   "source": [
    "# %%time\n",
    "# threshold = 1.0\n",
    "# # Calculate the maximum score for each genome and pfam combination\n",
    "# max_scores = df_kegg.groupby(['genome', 'ko'])['score'].transform('max')\n",
    "# # Keep rows where the score is greater than or equal to max_score * threshold\n",
    "# filtered_df = df_kegg[df_kegg['score'] >= max_scores * threshold]"
   ]
  },
  {
   "cell_type": "code",
   "execution_count": 19,
   "id": "9493def6-7684-476d-b174-e889430001bf",
   "metadata": {},
   "outputs": [],
   "source": [
    "# filtered_df.shape"
   ]
  },
  {
   "cell_type": "code",
   "execution_count": 20,
   "id": "399a3e6a-dbc7-41ca-9246-eebe32f0a4e4",
   "metadata": {},
   "outputs": [],
   "source": [
    "# edges_genomes = filtered_df['genome'].values\n",
    "# edges_ogs = filtered_df['ko'].values"
   ]
  },
  {
   "cell_type": "code",
   "execution_count": 21,
   "id": "2e5a97d8-d016-43b1-a528-8a5868fa92ce",
   "metadata": {},
   "outputs": [],
   "source": [
    "# print(f'Genomes: {len(edges_genomes)}')\n",
    "# print(f'OGs: {len(edges_ogs)}')"
   ]
  },
  {
   "cell_type": "markdown",
   "id": "bcb872a5-e2d1-43c2-930d-d8df7933d749",
   "metadata": {},
   "source": [
    "### Build presence-absence matrix"
   ]
  },
  {
   "cell_type": "code",
   "execution_count": 22,
   "id": "46245ca8-1670-4bd5-858e-71346bd3d875",
   "metadata": {},
   "outputs": [],
   "source": [
    "# %%time\n",
    "# adj, genomes, ogs = adjMatv2(edges_ogs, edges_genomes)\n",
    "# adj.shape"
   ]
  },
  {
   "cell_type": "code",
   "execution_count": 23,
   "id": "77d47295-1f9d-4f35-bbd0-0a62e25f6520",
   "metadata": {},
   "outputs": [],
   "source": [
    "# genomes.shape"
   ]
  },
  {
   "cell_type": "code",
   "execution_count": 24,
   "id": "0bf3f6fb-73ff-45a5-971b-02768b355bd0",
   "metadata": {},
   "outputs": [],
   "source": [
    "# ogs.shape"
   ]
  },
  {
   "cell_type": "code",
   "execution_count": 25,
   "id": "b6c68ff5-636a-4d1a-acab-a400b0f1498c",
   "metadata": {},
   "outputs": [],
   "source": [
    "# genomes_indices = np.arange(len(genomes))\n",
    "# genomes_indices.shape"
   ]
  },
  {
   "cell_type": "markdown",
   "id": "365329c6-1c9f-481e-96be-533510fc23ec",
   "metadata": {},
   "source": [
    "Randomly sample 1,000 species/genomes across 25 replicates"
   ]
  },
  {
   "cell_type": "code",
   "execution_count": 26,
   "id": "45bb3fdb-9d6b-499a-a518-07b92c439a23",
   "metadata": {},
   "outputs": [],
   "source": [
    "# replicates = np.arange(25)\n",
    "# selected_genes_mod = {}"
   ]
  },
  {
   "cell_type": "code",
   "execution_count": 27,
   "id": "22abc79d-9e2b-4e6b-a890-9d4fc2345ea4",
   "metadata": {},
   "outputs": [],
   "source": [
    "# %%time\n",
    "# for rep in replicates:\n",
    "#     print(f'Replicate: {rep}')\n",
    "#     rng = np.random.default_rng(rep)\n",
    "#     genomes_sampled_indices = np.sort(rng.choice(genomes_indices, size = 1000, replace = False))\n",
    "#     # Reformat copy number matrix\n",
    "#     adj1 = adj.copy()\n",
    "#     adj1 = adj1[:, genomes_sampled_indices]\n",
    "#     # Contains copy numbers\n",
    "#     adj2 = adj1.copy()\n",
    "#     adj1[adj1 > 1] = 1\n",
    "#     # Remove species in less than 4 genomes\n",
    "#     # Copy presence/absence matrix\n",
    "#     adj_mod = adj1\n",
    "#     # Select genes to remove\n",
    "#     remove = remove_genes(adj_mod)\n",
    "#     # Remove genes\n",
    "#     adj_mod = np.delete(adj_mod, remove, axis = 0)\n",
    "#     # Remove genes from list\n",
    "#     ogs_mod = np.delete(ogs, remove, axis = 0)\n",
    "#     # Copy matrix\n",
    "#     adj_mod2 = adj2\n",
    "#     # Remove genes\n",
    "#     adj_mod2 = np.delete(adj_mod2, remove, axis = 0)\n",
    "#     print(f'\\tShape of copy number matrix: {adj_mod2.shape}')\n",
    "#     # Marker gene selection\n",
    "#     k = 400\n",
    "#     # ps = [0, -1, -2, -5, -10]\n",
    "#     ps = [10, 5, 2, 1]\n",
    "#     # Iterate over number of selected genes\n",
    "#     selected_genes_mod[rep] = {}\n",
    "#     # Iterate over criteria\n",
    "#     for p in ps:\n",
    "#         select = greedy_power_mean_sample_final(adj_mod2, k, p = p, pseudocount = 0.1, min_universality_genes = 1)\n",
    "#         selected_genes_mod[rep][p] = [ogs_mod[i] for i in select]"
   ]
  },
  {
   "cell_type": "code",
   "execution_count": 28,
   "id": "0741bcd4-67df-45df-9dfc-b0f8c359f0ee",
   "metadata": {},
   "outputs": [],
   "source": [
    "# for rep, data in selected_genes_mod.items():\n",
    "#     with open(f'./output_data/wol2/marker_genes/kegg/robustness_sampling_rep_{rep}.txt', 'w') as f:\n",
    "#     with open(f'./output_data/wol2/marker_genes/eggnog/robustness_sampling_rep_{rep}.txt', 'w') as f:\n",
    "#         for p, genes in data.items():\n",
    "#             f.write(f'presence_absence_copies_k_{k}_p_{p}\\n')\n",
    "#             for gene in genes:\n",
    "#                 f.write(f'{gene}\\n')"
   ]
  },
  {
   "cell_type": "markdown",
   "id": "e1d2e7ee-8ea1-4066-827b-56056420e9f4",
   "metadata": {},
   "source": [
    "## Results"
   ]
  },
  {
   "cell_type": "code",
   "execution_count": 29,
   "id": "ff96dfb5-bb41-4657-a604-7d5ca683b206",
   "metadata": {},
   "outputs": [],
   "source": [
    "def loadMarkerGenes(fIn):\n",
    "    marker_genes = {}\n",
    "    with open(fIn, 'r') as f:\n",
    "        for line in f:\n",
    "            if 'presence' in line.strip():\n",
    "                header = line.strip()\n",
    "                marker_genes[header] = []\n",
    "            else:\n",
    "                gene = line.strip()\n",
    "                marker_genes[header].append(gene)\n",
    "                \n",
    "    return marker_genes"
   ]
  },
  {
   "cell_type": "code",
   "execution_count": 30,
   "id": "3d42ad57-6aa0-4757-9278-cc489c75b99a",
   "metadata": {},
   "outputs": [],
   "source": [
    "replicates = np.arange(25)"
   ]
  },
  {
   "cell_type": "markdown",
   "id": "32e926c4-55ce-40fc-a5ca-951391677f43",
   "metadata": {},
   "source": [
    "### KEGG"
   ]
  },
  {
   "cell_type": "code",
   "execution_count": 31,
   "id": "9fd07ac9-04b2-4dfe-8e6d-01d27265157b",
   "metadata": {},
   "outputs": [
    {
     "name": "stdout",
     "output_type": "stream",
     "text": [
      "CPU times: user 21 ms, sys: 6.64 ms, total: 27.6 ms\n",
      "Wall time: 33 ms\n"
     ]
    }
   ],
   "source": [
    "%%time\n",
    "marker_genes_replicates_kegg = {}\n",
    "for rep in replicates:\n",
    "    marker_genes_replicates_kegg[rep] = loadMarkerGenes(f'./output_data/wol2/marker_genes/kegg/sampling_genomes/robustness_sampling_rep_{rep}.txt')"
   ]
  },
  {
   "cell_type": "code",
   "execution_count": 32,
   "id": "ef0cd3b9-7960-4e2a-832c-8404199f641a",
   "metadata": {},
   "outputs": [],
   "source": [
    "counts_kegg = {k : {} for k in marker_genes_replicates_kegg[0].keys()}"
   ]
  },
  {
   "cell_type": "markdown",
   "id": "d2def8f6-45c6-44bb-a371-ff4286f5dbd3",
   "metadata": {},
   "source": [
    "Count the number of times each gene has been selected"
   ]
  },
  {
   "cell_type": "code",
   "execution_count": 33,
   "id": "d2624029-28ef-49c2-8898-c3f43fec11b8",
   "metadata": {},
   "outputs": [
    {
     "name": "stdout",
     "output_type": "stream",
     "text": [
      "CPU times: user 23.4 ms, sys: 1.14 ms, total: 24.5 ms\n",
      "Wall time: 24.7 ms\n"
     ]
    }
   ],
   "source": [
    "%%time\n",
    "for rep, data in marker_genes_replicates_kegg.items():\n",
    "    for condition, genes in data.items():\n",
    "        for gene in genes:\n",
    "            if gene not in counts_kegg[condition].keys():\n",
    "                counts_kegg[condition][gene] = 1\n",
    "            else:\n",
    "                counts_kegg[condition][gene] += 1"
   ]
  },
  {
   "cell_type": "markdown",
   "id": "2b846b0e-e20b-40a5-ab1f-d0afd78bb7b2",
   "metadata": {},
   "source": [
    "Convert dictionary into dataframe"
   ]
  },
  {
   "cell_type": "code",
   "execution_count": 34,
   "id": "9fa02d66-46b9-4d6f-b7f5-de6a91c29b23",
   "metadata": {},
   "outputs": [],
   "source": [
    "df_counts_kegg = pd.DataFrame(counts_kegg).fillna(0)"
   ]
  },
  {
   "cell_type": "code",
   "execution_count": 35,
   "id": "f75f27f3-5957-4cad-aca8-fa03d3785e67",
   "metadata": {},
   "outputs": [
    {
     "data": {
      "text/plain": [
       "(1082, 5)"
      ]
     },
     "execution_count": 35,
     "metadata": {},
     "output_type": "execute_result"
    }
   ],
   "source": [
    "df_counts_kegg.shape"
   ]
  },
  {
   "cell_type": "markdown",
   "id": "7bdac446-8d7a-4b6d-bb9f-5c2e52cfa701",
   "metadata": {},
   "source": [
    "Heatmap"
   ]
  },
  {
   "cell_type": "code",
   "execution_count": 36,
   "id": "5468bbb3-2e93-4c1d-9302-f579872ddf6e",
   "metadata": {},
   "outputs": [
    {
     "data": {
      "image/png": "[encoded data removed]",
      "text/plain": [
       "<Figure size 415x600 with 2 Axes>"
      ]
     },
     "metadata": {},
     "output_type": "display_data"
    }
   ],
   "source": [
    "plt.figure(figsize = (4.15, 6))\n",
    "sns.heatmap(df_counts_kegg, cbar_kws = { 'label': 'Selection frequency'},\n",
    "           cmap = 'RdPu', xticklabels = ['p = 0', 'p = -1', 'p = -2', 'p = -5', 'p = -10'],\n",
    "           yticklabels = [], )\n",
    "plt.tight_layout()\n",
    "plt.ylabel('Markers selected across replicates')\n",
    "plt.savefig(f'./figures/figure_S4B_heatmap_kegg.svg')\n",
    "plt.show()"
   ]
  },
  {
   "cell_type": "markdown",
   "id": "51c2addd-095f-4397-91f3-29b8e48dbcfc",
   "metadata": {},
   "source": [
    "Total number of genes selected in each condition"
   ]
  },
  {
   "cell_type": "code",
   "execution_count": 37,
   "id": "f4ec118a-d576-481c-8e73-7a21413bc144",
   "metadata": {},
   "outputs": [],
   "source": [
    "total_number_kegg = []\n",
    "for column in df_counts_kegg.columns:\n",
    "    total_number_kegg.append(len(df_counts_kegg[df_counts_kegg[column] != 0][column]))"
   ]
  },
  {
   "cell_type": "code",
   "execution_count": 38,
   "id": "70a923d7-35cb-4bc0-90f9-a06a096dbf5f",
   "metadata": {},
   "outputs": [
    {
     "data": {
      "image/png": "[encoded data removed]",
      "text/plain": [
       "<Figure size 400x300 with 1 Axes>"
      ]
     },
     "metadata": {},
     "output_type": "display_data"
    }
   ],
   "source": [
    "plt.figure(figsize = (4, 3))\n",
    "x = np.arange(len(total_number_kegg))\n",
    "plt.bar(x, total_number_kegg, color = '#f72585', alpha = 0.8, label = 'KEGG')\n",
    "plt.axhline(y = 400, ls = 'dashed', color = 'k')\n",
    "plt.xticks(x, ['p = 0', 'p = -1', 'p = -2', 'p = -5', 'p = -10'])\n",
    "# plt.xticks(x, [10, 5, 2, 1, 0, -1, -2, -5, -10])\n",
    "plt.ylabel('Total number of markers\\nselected across replicates')\n",
    "plt.tick_params(top = True, right = True, direction = 'in', which = 'both')\n",
    "plt.legend()\n",
    "plt.show()"
   ]
  },
  {
   "cell_type": "markdown",
   "id": "52204b1f-86a0-4ecb-912a-7af8e29e878d",
   "metadata": {},
   "source": [
    "Jaccard similarity index of all genes selected in each condition ($p$)"
   ]
  },
  {
   "cell_type": "code",
   "execution_count": 39,
   "id": "0c576231-e7b7-4772-9092-ff86cf82b8e6",
   "metadata": {},
   "outputs": [],
   "source": [
    "from functools import reduce"
   ]
  },
  {
   "cell_type": "code",
   "execution_count": 40,
   "id": "f3a6552d-9de5-4180-b6c8-f1969eaabffc",
   "metadata": {},
   "outputs": [],
   "source": [
    "tmp = {}\n",
    "for rep, data in marker_genes_replicates_kegg.items():\n",
    "    for condition, markers in data.items():\n",
    "        if condition not in tmp:\n",
    "            tmp[condition] =  [markers]\n",
    "        else:\n",
    "            tmp[condition].append(markers)"
   ]
  },
  {
   "cell_type": "code",
   "execution_count": 41,
   "id": "df98d7dc-067d-48d7-b107-1f8ef5818bb6",
   "metadata": {},
   "outputs": [],
   "source": [
    "jaccard_kegg = []\n",
    "for condition, all_markers in tmp.items():\n",
    "    union = len(set(reduce(lambda x, y: set(x) | set(y), tmp[condition])))\n",
    "    intersection = len(set(reduce(lambda x, y: set(x) & set(y), tmp[condition])))\n",
    "    jaccard_kegg.append(intersection / union)"
   ]
  },
  {
   "cell_type": "code",
   "execution_count": 42,
   "id": "9aa8fc2d-2af7-463c-bea8-9df1bddeb81c",
   "metadata": {},
   "outputs": [
    {
     "data": {
      "image/png": "[encoded data removed]",
      "text/plain": [
       "<Figure size 385x300 with 1 Axes>"
      ]
     },
     "metadata": {},
     "output_type": "display_data"
    }
   ],
   "source": [
    "plt.figure(figsize = (3.85, 3))\n",
    "x = np.arange(len(jaccard_kegg))\n",
    "plt.bar(x, jaccard_kegg, color = '#f72585', alpha = 0.8, label = 'KEGG')\n",
    "# plt.axhline(y = 400, ls = 'dashed', color = 'k')\n",
    "plt.xticks(x, ['p = 0', 'p = -1', 'p = -2', 'p = -5', 'p = -10'])\n",
    "# plt.xticks(x, [10, 5, 2, 1, 0, -1, -2, -5, -10])\n",
    "plt.ylabel('Jaccard index of markers\\nselected across replicates')\n",
    "plt.tick_params(top = True, right = True, direction = 'in', which = 'both')\n",
    "plt.legend()\n",
    "plt.ylim(0, 0.85)\n",
    "plt.savefig(f'./figures/figure_S4B_jaccard_kegg.svg')\n",
    "plt.show()"
   ]
  },
  {
   "cell_type": "markdown",
   "id": "f291deb5-b2be-4fb1-b240-9c6b7b7c6777",
   "metadata": {},
   "source": [
    "## EggNog"
   ]
  },
  {
   "cell_type": "code",
   "execution_count": 43,
   "id": "460a035c-1940-4436-9d51-26173db8e094",
   "metadata": {},
   "outputs": [
    {
     "name": "stdout",
     "output_type": "stream",
     "text": [
      "CPU times: user 21 ms, sys: 5.56 ms, total: 26.5 ms\n",
      "Wall time: 28.8 ms\n"
     ]
    }
   ],
   "source": [
    "%%time\n",
    "marker_genes_replicates_eggnog = {}\n",
    "for rep in replicates:\n",
    "    marker_genes_replicates_eggnog[rep] = loadMarkerGenes(f'./output_data/wol2/marker_genes/eggnog/sampling_genomes/robustness_sampling_rep_{rep}.txt')"
   ]
  },
  {
   "cell_type": "code",
   "execution_count": 44,
   "id": "56f88c7e-dfba-4050-8c34-2bf67c125c81",
   "metadata": {},
   "outputs": [],
   "source": [
    "counts_eggnog = {k : {} for k in marker_genes_replicates_eggnog[0].keys()}"
   ]
  },
  {
   "cell_type": "code",
   "execution_count": 45,
   "id": "f948da58-a067-4859-ab7e-1b9fcbfc01eb",
   "metadata": {},
   "outputs": [
    {
     "name": "stdout",
     "output_type": "stream",
     "text": [
      "CPU times: user 23.3 ms, sys: 1.92 ms, total: 25.3 ms\n",
      "Wall time: 25.4 ms\n"
     ]
    }
   ],
   "source": [
    "%%time\n",
    "for rep, data in marker_genes_replicates_eggnog.items():\n",
    "    for condition, genes in data.items():\n",
    "        for gene in genes:\n",
    "            if gene not in counts_eggnog[condition].keys():\n",
    "                counts_eggnog[condition][gene] = 1\n",
    "            else:\n",
    "                counts_eggnog[condition][gene] += 1"
   ]
  },
  {
   "cell_type": "code",
   "execution_count": 46,
   "id": "bdb67d8c-20e0-47ed-9c3d-ca3a51b076ca",
   "metadata": {},
   "outputs": [],
   "source": [
    "df_counts_eggnog = pd.DataFrame(counts_eggnog).fillna(0)"
   ]
  },
  {
   "cell_type": "code",
   "execution_count": 47,
   "id": "fdab6c59-17b9-44c0-9733-52c643d29e70",
   "metadata": {},
   "outputs": [
    {
     "data": {
      "text/plain": [
       "(772, 5)"
      ]
     },
     "execution_count": 47,
     "metadata": {},
     "output_type": "execute_result"
    }
   ],
   "source": [
    "df_counts_eggnog.shape"
   ]
  },
  {
   "cell_type": "code",
   "execution_count": 48,
   "id": "37312973-42eb-43bd-8c99-cca5d71b7abe",
   "metadata": {},
   "outputs": [
    {
     "data": {
      "image/png": "[encoded data removed]",
      "text/plain": [
       "<Figure size 415x600 with 2 Axes>"
      ]
     },
     "metadata": {},
     "output_type": "display_data"
    }
   ],
   "source": [
    "plt.figure(figsize = (4.15, 6))\n",
    "sns.heatmap(df_counts_eggnog, cbar_kws = { 'label': 'Selection frequency'},\n",
    "           cmap = 'PuBu', xticklabels = ['p = 0', 'p = -1', 'p = -2', 'p = -5', 'p = -10'],\n",
    "           yticklabels = [], )\n",
    "plt.tight_layout()\n",
    "plt.ylabel('Marker genes selected across replicates')\n",
    "plt.savefig(f'./figures/figure_S4B_heatmap_kegg.svg')\n",
    "plt.show()"
   ]
  },
  {
   "cell_type": "code",
   "execution_count": 49,
   "id": "8ff34859-33af-47b8-8c8b-c1555c2c03c3",
   "metadata": {},
   "outputs": [],
   "source": [
    "total_number_eggnog = []\n",
    "for column in df_counts_eggnog.columns:\n",
    "    total_number_eggnog.append(len(df_counts_eggnog[df_counts_eggnog[column] != 0][column]))"
   ]
  },
  {
   "cell_type": "code",
   "execution_count": 50,
   "id": "683ce35f-11e3-4411-9b5f-2d990d683f3c",
   "metadata": {},
   "outputs": [
    {
     "data": {
      "image/png": "[encoded data removed]",
      "text/plain": [
       "<Figure size 400x300 with 1 Axes>"
      ]
     },
     "metadata": {},
     "output_type": "display_data"
    }
   ],
   "source": [
    "plt.figure(figsize = (4, 3))\n",
    "x = np.arange(len(total_number_eggnog))\n",
    "plt.bar(x, total_number_eggnog, color = '#4361ee', alpha = 0.8, label = 'EggNog')\n",
    "plt.axhline(y = 400, ls = 'dashed', color = 'k')\n",
    "plt.xticks(x, ['p = 0', 'p = -1', 'p = -2', 'p = -5', 'p = -10'])\n",
    "plt.ylabel('Total number of markers\\nselected across replicates')\n",
    "plt.tick_params(top = True, right = True, direction = 'in', which = 'both')\n",
    "plt.legend()\n",
    "plt.show()"
   ]
  },
  {
   "cell_type": "markdown",
   "id": "4158be1d-8417-4f90-a1d0-8e11c5d9d776",
   "metadata": {},
   "source": [
    "Jaccard similarity index of all genes selected in each condition ($p$)"
   ]
  },
  {
   "cell_type": "code",
   "execution_count": 51,
   "id": "dafb029f-ceda-4bf4-9da0-eca2f3c4ec92",
   "metadata": {},
   "outputs": [],
   "source": [
    "tmp = {}\n",
    "for rep, data in marker_genes_replicates_eggnog.items():\n",
    "    for condition, markers in data.items():\n",
    "        if condition not in tmp:\n",
    "            tmp[condition] =  [markers]\n",
    "        else:\n",
    "            tmp[condition].append(markers)"
   ]
  },
  {
   "cell_type": "code",
   "execution_count": 52,
   "id": "9ceefa56-c036-4223-b118-fa5eccf0d0b5",
   "metadata": {},
   "outputs": [],
   "source": [
    "jaccard_eggnog = []\n",
    "for condition, all_markers in tmp.items():\n",
    "    union = len(set(reduce(lambda x, y: set(x) | set(y), tmp[condition])))\n",
    "    intersection = len(set(reduce(lambda x, y: set(x) & set(y), tmp[condition])))\n",
    "    jaccard_eggnog.append(intersection / union)"
   ]
  },
  {
   "cell_type": "code",
   "execution_count": 53,
   "id": "ea50cb6d-2331-421a-88ca-6e3d7e4ffc2a",
   "metadata": {},
   "outputs": [
    {
     "data": {
      "image/png": "[encoded data removed]",
      "text/plain": [
       "<Figure size 385x300 with 1 Axes>"
      ]
     },
     "metadata": {},
     "output_type": "display_data"
    }
   ],
   "source": [
    "plt.figure(figsize = (3.85, 3))\n",
    "x = np.arange(len(jaccard_eggnog))\n",
    "plt.bar(x, jaccard_eggnog, color = '#4361ee', alpha = 0.8, label = 'EggNog')\n",
    "# plt.axhline(y = 400, ls = 'dashed', color = 'k')\n",
    "plt.xticks(x, ['p = 0', 'p = -1', 'p = -2', 'p = -5', 'p = -10'])\n",
    "plt.ylabel('Jaccard index of markers\\nselected across replicates')\n",
    "plt.tick_params(top = True, right = True, direction = 'in', which = 'both')\n",
    "plt.legend()\n",
    "plt.ylim(0, 0.85)\n",
    "plt.savefig(f'./figures/figure_S4B_jaccard_eggnog.svg')\n",
    "plt.show()"
   ]
  },
  {
   "cell_type": "code",
   "execution_count": null,
   "id": "598370db-9b46-420e-a77e-f90ad9d380e1",
   "metadata": {},
   "outputs": [],
   "source": []
  },
  {
   "cell_type": "code",
   "execution_count": null,
   "id": "cc2527b1-82f2-439b-a4fa-f405a7eeeb38",
   "metadata": {},
   "outputs": [],
   "source": []
  },
  {
   "cell_type": "code",
   "execution_count": null,
   "id": "0309b8ae-326e-4108-abed-d3ff03da8df2",
   "metadata": {},
   "outputs": [],
   "source": []
  },
  {
   "cell_type": "code",
   "execution_count": null,
   "id": "6ca50219-90ec-46ee-b268-bffab5459f5e",
   "metadata": {},
   "outputs": [],
   "source": []
  },
  {
   "cell_type": "code",
   "execution_count": null,
   "id": "495c7766-2046-4bfc-b780-3d639fcc0edf",
   "metadata": {},
   "outputs": [],
   "source": []
  },
  {
   "cell_type": "code",
   "execution_count": null,
   "id": "08d2739f-541d-4d7e-9b0a-5bb544899877",
   "metadata": {},
   "outputs": [],
   "source": []
  }
 ],
 "metadata": {
  "kernelspec": {
   "display_name": "Python 3 (ipykernel)",
   "language": "python",
   "name": "python3"
  },
  "language_info": {
   "codemirror_mode": {
    "name": "ipython",
    "version": 3
   },
   "file_extension": ".py",
   "mimetype": "text/x-python",
   "name": "python",
   "nbconvert_exporter": "python",
   "pygments_lexer": "ipython3",
   "version": "3.10.13"
  }
 },
 "nbformat": 4,
 "nbformat_minor": 5
}
