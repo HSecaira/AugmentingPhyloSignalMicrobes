{
 "cells": [
  {
   "cell_type": "markdown",
   "id": "afda3393-6243-4739-b363-9b2a1be9f0eb",
   "metadata": {},
   "source": [
    "# Web of Life 2 (WoL2) genome selection"
   ]
  },
  {
   "cell_type": "code",
   "execution_count": 1,
   "id": "e22ebdff-1c3f-44b5-8de6-35d06b725c01",
   "metadata": {},
   "outputs": [],
   "source": [
    "import numpy as np\n",
    "import pandas as pd\n",
    "import matplotlib.pyplot as plt\n",
    "import os"
   ]
  },
  {
   "cell_type": "code",
   "execution_count": 2,
   "id": "30ba4a7e-d469-456b-b460-3df68f00ce8a",
   "metadata": {},
   "outputs": [],
   "source": [
    "plt.rcParams.update({\n",
    "    'figure.autolayout': True,\n",
    "    'savefig.bbox': 'tight',\n",
    "    'svg.fonttype': 'none',\n",
    "    'font.sans-serif': 'Arial',\n",
    "    'font.size': 12,\n",
    "    'boxplot.medianprops.linewidth': 2,\n",
    "    'boxplot.flierprops.markeredgecolor': 'none',\n",
    "    'boxplot.flierprops.markersize': 5})"
   ]
  },
  {
   "cell_type": "markdown",
   "id": "3bd1e9f5-4f72-4f9e-81ab-f7c4d96444df",
   "metadata": {},
   "source": [
    "Load metadata of WoL2 genomes. Available at [WoL2 FTP server](http://ftp.microbio.me/pub/wol2/genomes/)"
   ]
  },
  {
   "cell_type": "code",
   "execution_count": 3,
   "id": "e4cbbfc0-035b-411f-b529-ca49adf1103b",
   "metadata": {},
   "outputs": [
    {
     "data": {
      "text/plain": [
       "(15953, 22)"
      ]
     },
     "execution_count": 3,
     "metadata": {},
     "output_type": "execute_result"
    }
   ],
   "source": [
    "df = pd.read_table(f'./input_data/assembly.tsv', sep = '\\t', index_col = 0)\n",
    "df.shape"
   ]
  },
  {
   "cell_type": "markdown",
   "id": "44653201-ea5e-43fd-8190-cda78de91b38",
   "metadata": {},
   "source": [
    "Load checkM annotations. Available at [WoL2 FTP server](http://ftp.microbio.me/pub/wol2/genomes/)"
   ]
  },
  {
   "cell_type": "code",
   "execution_count": 4,
   "id": "5279c9e1-9757-4ecd-88cf-145219fa6a10",
   "metadata": {},
   "outputs": [
    {
     "data": {
      "text/plain": [
       "(15953, 29)"
      ]
     },
     "execution_count": 4,
     "metadata": {},
     "output_type": "execute_result"
    }
   ],
   "source": [
    "checkm = pd.read_table(f'./input_data/checkm.tsv', sep = '\\t', index_col = 0)\n",
    "checkm.shape"
   ]
  },
  {
   "cell_type": "markdown",
   "id": "d151130f-b604-468c-9c03-6c0a02db64ea",
   "metadata": {},
   "source": [
    "Load GTDB taxonomy. [Avilable at WoL2 FTP server](http://ftp.microbio.me/pub/wol2/taxonomy/gtdb/)"
   ]
  },
  {
   "cell_type": "code",
   "execution_count": 5,
   "id": "64fe93cf-dec9-4860-8112-6376df6dba09",
   "metadata": {},
   "outputs": [],
   "source": [
    "levels = ['domain', 'phylum', 'class', 'order', 'family', 'genus', 'species']\n",
    "taxonomy = pd.read_csv(f'./input_data/lineages_gtdb.txt', index_col = 0, \n",
    "                     sep = r'\\t|;', engine = 'python', header = None,\n",
    "                    names = levels)\n",
    "taxonomy = taxonomy.map(lambda x: x.strip())"
   ]
  },
  {
   "cell_type": "code",
   "execution_count": 6,
   "id": "4718cafe-21b1-4e66-853a-4a46ddd42b85",
   "metadata": {},
   "outputs": [
    {
     "data": {
      "text/plain": [
       "(15953, 7)"
      ]
     },
     "execution_count": 6,
     "metadata": {},
     "output_type": "execute_result"
    }
   ],
   "source": [
    "taxonomy.shape"
   ]
  },
  {
   "cell_type": "markdown",
   "id": "2b56e0f7-390e-44ca-9d94-c8a267ba48b4",
   "metadata": {},
   "source": [
    "# Selection\n",
    "\n",
    "## 1. Exclude incomplete genomes"
   ]
  },
  {
   "cell_type": "code",
   "execution_count": 7,
   "id": "6a8565f2-407a-4c30-99d4-d242b2345a52",
   "metadata": {},
   "outputs": [
    {
     "data": {
      "text/plain": [
       "(2733, 22)"
      ]
     },
     "execution_count": 7,
     "metadata": {},
     "output_type": "execute_result"
    }
   ],
   "source": [
    "df_quality = df.query('assembly_level == \"Complete Genome\" or assembly_level == \"Chromosome\"')\n",
    "df_quality.shape"
   ]
  },
  {
   "cell_type": "markdown",
   "id": "e1db150a-9e41-4164-a6df-92c7c02b0130",
   "metadata": {},
   "source": [
    "2. Exclude taxa with less than `num` representative taxa"
   ]
  },
  {
   "cell_type": "code",
   "execution_count": 9,
   "id": "19b03a2b-4252-4cde-8f40-b38bf448b827",
   "metadata": {},
   "outputs": [
    {
     "data": {
      "text/plain": [
       "(2733, 7)"
      ]
     },
     "execution_count": 9,
     "metadata": {},
     "output_type": "execute_result"
    }
   ],
   "source": [
    "taxonomy_quality = taxonomy.loc[df_quality.index]\n",
    "taxonomy_quality.shape"
   ]
  },
  {
   "cell_type": "code",
   "execution_count": 10,
   "id": "bc06d2ca-f965-4e95-a415-460b69e4edc9",
   "metadata": {},
   "outputs": [],
   "source": [
    "num = 10\n",
    "tmp = []\n",
    "for level in levels[:-1]:\n",
    "    counts = taxonomy_quality[taxonomy_quality[level].notna()][[level]].value_counts()\n",
    "    for taxon in counts.index:\n",
    "        # Avoid taxa such as g__ or f__\n",
    "        if len(taxon[0].split('__')[1]) > 0:\n",
    "            n = counts.loc[taxon]\n",
    "            if n > num:\n",
    "                tmp.append([level, taxon[0], n])\n",
    "df_taxa = pd.DataFrame(tmp, columns = ['rank', 'taxon', 'counts'])"
   ]
  },
  {
   "cell_type": "code",
   "execution_count": 11,
   "id": "6d4a0e73-75e9-4933-9ad8-6bf58383d53f",
   "metadata": {},
   "outputs": [],
   "source": [
    "level = 'family'\n",
    "taxa = df_taxa.query('rank == @level')['taxon'].values"
   ]
  },
  {
   "cell_type": "code",
   "execution_count": 12,
   "id": "3b2e121f-ec99-4d7c-8832-9ed05455b599",
   "metadata": {},
   "outputs": [
    {
     "data": {
      "text/plain": [
       "(1510, 7)"
      ]
     },
     "execution_count": 12,
     "metadata": {},
     "output_type": "execute_result"
    }
   ],
   "source": [
    "sampled = taxonomy_quality[taxonomy_quality[level].isin(taxa)]\n",
    "sampled.shape"
   ]
  },
  {
   "cell_type": "code",
   "execution_count": 15,
   "id": "fd49ceb9-a8bd-4c7e-8805-5c6fbbaabca4",
   "metadata": {},
   "outputs": [],
   "source": [
    "genomes_sampled = sampled.index"
   ]
  },
  {
   "cell_type": "markdown",
   "id": "96ef8693-5d44-455f-ac92-40b53b465f70",
   "metadata": {},
   "source": [
    "Save selected genomes"
   ]
  },
  {
   "cell_type": "code",
   "execution_count": 16,
   "id": "344cdbae-39e2-4d4b-9605-d9e125ca1be3",
   "metadata": {},
   "outputs": [],
   "source": [
    "with open(f'./output_data/genomes_sampled_family_{num}.txt', 'w') as f:\n",
    "    for genome in genomes_sampled:\n",
    "        f.write(f'{genome}\\n')"
   ]
  },
  {
   "cell_type": "code",
   "execution_count": null,
   "id": "399d30bb-6392-4dab-88ef-1951cef3f624",
   "metadata": {},
   "outputs": [],
   "source": []
  },
  {
   "cell_type": "code",
   "execution_count": null,
   "id": "f1fda50b-e56f-484b-9ea3-a93e78342d2c",
   "metadata": {},
   "outputs": [],
   "source": []
  },
  {
   "cell_type": "code",
   "execution_count": null,
   "id": "792395f0-bd5c-4b16-91f2-c87f7637c86b",
   "metadata": {},
   "outputs": [],
   "source": []
  }
 ],
 "metadata": {
  "kernelspec": {
   "display_name": "Python 3 (ipykernel)",
   "language": "python",
   "name": "python3"
  },
  "language_info": {
   "codemirror_mode": {
    "name": "ipython",
    "version": 3
   },
   "file_extension": ".py",
   "mimetype": "text/x-python",
   "name": "python",
   "nbconvert_exporter": "python",
   "pygments_lexer": "ipython3",
   "version": "3.10.13"
  }
 },
 "nbformat": 4,
 "nbformat_minor": 5
}
