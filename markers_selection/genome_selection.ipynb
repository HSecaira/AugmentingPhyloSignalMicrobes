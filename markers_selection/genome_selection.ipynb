{
 "cells": [
  {
   "cell_type": "markdown",
   "id": "afda3393-6243-4739-b363-9b2a1be9f0eb",
   "metadata": {},
   "source": [
    "# Web of Life 2 (WoL2) genome selection"
   ]
  },
  {
   "cell_type": "code",
   "execution_count": 1,
   "id": "e22ebdff-1c3f-44b5-8de6-35d06b725c01",
   "metadata": {},
   "outputs": [],
   "source": [
    "import numpy as np\n",
    "import pandas as pd\n",
    "import matplotlib.pyplot as plt\n",
    "import os"
   ]
  },
  {
   "cell_type": "code",
   "execution_count": 2,
   "id": "bf425c8b",
   "metadata": {},
   "outputs": [],
   "source": [
    "from skbio.tree import TreeNode"
   ]
  },
  {
   "cell_type": "code",
   "execution_count": 3,
   "id": "30ba4a7e-d469-456b-b460-3df68f00ce8a",
   "metadata": {},
   "outputs": [],
   "source": [
    "plt.rcParams.update({\n",
    "    'figure.autolayout': True,\n",
    "    'savefig.bbox': 'tight',\n",
    "    'svg.fonttype': 'none',\n",
    "    'font.sans-serif': 'Arial',\n",
    "    'font.size': 12,\n",
    "    'boxplot.medianprops.linewidth': 2,\n",
    "    'boxplot.flierprops.markeredgecolor': 'none',\n",
    "    'boxplot.flierprops.markersize': 5})"
   ]
  },
  {
   "cell_type": "markdown",
   "id": "3bd1e9f5-4f72-4f9e-81ab-f7c4d96444df",
   "metadata": {},
   "source": [
    "Load metadata of WoL2 genomes. Available at [WoL2 FTP server](http://ftp.microbio.me/pub/wol2/genomes/)"
   ]
  },
  {
   "cell_type": "code",
   "execution_count": 4,
   "id": "e4cbbfc0-035b-411f-b529-ca49adf1103b",
   "metadata": {},
   "outputs": [
    {
     "data": {
      "text/plain": [
       "(15953, 22)"
      ]
     },
     "execution_count": 4,
     "metadata": {},
     "output_type": "execute_result"
    }
   ],
   "source": [
    "df = pd.read_table(f'./input_data/assembly.tsv', sep = '\\t', index_col = 0)\n",
    "df.shape"
   ]
  },
  {
   "cell_type": "markdown",
   "id": "44653201-ea5e-43fd-8190-cda78de91b38",
   "metadata": {},
   "source": [
    "Load checkM annotations. Available at [WoL2 FTP server](http://ftp.microbio.me/pub/wol2/genomes/)"
   ]
  },
  {
   "cell_type": "code",
   "execution_count": 5,
   "id": "5279c9e1-9757-4ecd-88cf-145219fa6a10",
   "metadata": {},
   "outputs": [
    {
     "data": {
      "text/plain": [
       "(15953, 29)"
      ]
     },
     "execution_count": 5,
     "metadata": {},
     "output_type": "execute_result"
    }
   ],
   "source": [
    "checkm = pd.read_table(f'./input_data/checkm.tsv', sep = '\\t', index_col = 0)\n",
    "checkm.shape"
   ]
  },
  {
   "cell_type": "markdown",
   "id": "d151130f-b604-468c-9c03-6c0a02db64ea",
   "metadata": {},
   "source": [
    "Load GTDB taxonomy. [Avilable at WoL2 FTP server](http://ftp.microbio.me/pub/wol2/taxonomy/gtdb/)"
   ]
  },
  {
   "cell_type": "code",
   "execution_count": 6,
   "id": "64fe93cf-dec9-4860-8112-6376df6dba09",
   "metadata": {},
   "outputs": [],
   "source": [
    "levels = ['domain', 'phylum', 'class', 'order', 'family', 'genus', 'species']\n",
    "taxonomy = pd.read_csv(f'./input_data/lineages_gtdb.txt', index_col = 0, \n",
    "                     sep = r'\\t|;', engine = 'python', header = None,\n",
    "                    names = levels)\n",
    "taxonomy = taxonomy.map(lambda x: x.strip())"
   ]
  },
  {
   "cell_type": "code",
   "execution_count": 7,
   "id": "4718cafe-21b1-4e66-853a-4a46ddd42b85",
   "metadata": {},
   "outputs": [
    {
     "data": {
      "text/plain": [
       "(15953, 7)"
      ]
     },
     "execution_count": 7,
     "metadata": {},
     "output_type": "execute_result"
    }
   ],
   "source": [
    "taxonomy.shape"
   ]
  },
  {
   "cell_type": "markdown",
   "id": "2b56e0f7-390e-44ca-9d94-c8a267ba48b4",
   "metadata": {},
   "source": [
    "# Selection\n",
    "\n",
    "## 1. Exclude incomplete genomes"
   ]
  },
  {
   "cell_type": "code",
   "execution_count": 8,
   "id": "6a8565f2-407a-4c30-99d4-d242b2345a52",
   "metadata": {},
   "outputs": [
    {
     "data": {
      "text/plain": [
       "(2733, 22)"
      ]
     },
     "execution_count": 8,
     "metadata": {},
     "output_type": "execute_result"
    }
   ],
   "source": [
    "df_quality = df.query('assembly_level == \"Complete Genome\" or assembly_level == \"Chromosome\"')\n",
    "df_quality.shape"
   ]
  },
  {
   "cell_type": "markdown",
   "id": "e1db150a-9e41-4164-a6df-92c7c02b0130",
   "metadata": {},
   "source": [
    "2. Exclude taxa with less than `num` representative taxa"
   ]
  },
  {
   "cell_type": "code",
   "execution_count": 9,
   "id": "19b03a2b-4252-4cde-8f40-b38bf448b827",
   "metadata": {},
   "outputs": [
    {
     "data": {
      "text/plain": [
       "(2733, 7)"
      ]
     },
     "execution_count": 9,
     "metadata": {},
     "output_type": "execute_result"
    }
   ],
   "source": [
    "taxonomy_quality = taxonomy.loc[df_quality.index]\n",
    "taxonomy_quality.shape"
   ]
  },
  {
   "cell_type": "code",
   "execution_count": 10,
   "id": "bc06d2ca-f965-4e95-a415-460b69e4edc9",
   "metadata": {},
   "outputs": [],
   "source": [
    "num = 10\n",
    "tmp = []\n",
    "for level in levels[:-1]:\n",
    "    counts = taxonomy_quality[taxonomy_quality[level].notna()][[level]].value_counts()\n",
    "    for taxon in counts.index:\n",
    "        # Avoid taxa such as g__ or f__\n",
    "        if len(taxon[0].split('__')[1]) > 0:\n",
    "            n = counts.loc[taxon]\n",
    "            if n > num:\n",
    "                tmp.append([level, taxon[0], n])\n",
    "df_taxa = pd.DataFrame(tmp, columns = ['rank', 'taxon', 'counts'])"
   ]
  },
  {
   "cell_type": "code",
   "execution_count": 11,
   "id": "6d4a0e73-75e9-4933-9ad8-6bf58383d53f",
   "metadata": {},
   "outputs": [],
   "source": [
    "level = 'family'\n",
    "taxa = df_taxa.query('rank == @level')['taxon'].values"
   ]
  },
  {
   "cell_type": "code",
   "execution_count": 12,
   "id": "3b2e121f-ec99-4d7c-8832-9ed05455b599",
   "metadata": {},
   "outputs": [
    {
     "data": {
      "text/plain": [
       "(1510, 7)"
      ]
     },
     "execution_count": 12,
     "metadata": {},
     "output_type": "execute_result"
    }
   ],
   "source": [
    "sampled = taxonomy_quality[taxonomy_quality[level].isin(taxa)]\n",
    "sampled.shape"
   ]
  },
  {
   "cell_type": "code",
   "execution_count": 13,
   "id": "fd49ceb9-a8bd-4c7e-8805-5c6fbbaabca4",
   "metadata": {},
   "outputs": [],
   "source": [
    "genomes_sampled = sampled.index"
   ]
  },
  {
   "cell_type": "markdown",
   "id": "96ef8693-5d44-455f-ac92-40b53b465f70",
   "metadata": {},
   "source": [
    "Save selected genomes"
   ]
  },
  {
   "cell_type": "code",
   "execution_count": 14,
   "id": "344cdbae-39e2-4d4b-9605-d9e125ca1be3",
   "metadata": {},
   "outputs": [],
   "source": [
    "with open(f'./output_data/genomes_sampled_family_{num}.txt', 'w') as f:\n",
    "    for genome in genomes_sampled:\n",
    "        f.write(f'{genome}\\n')"
   ]
  },
  {
   "cell_type": "markdown",
   "id": "399d30bb-6392-4dab-88ef-1951cef3f624",
   "metadata": {},
   "source": [
    "## Figures"
   ]
  },
  {
   "cell_type": "markdown",
   "id": "79675f07",
   "metadata": {},
   "source": [
    "WoL2: reference tree. Available from [WoL2 FTP server](http://ftp.microbio.me/pub/wol2/phylogeny/)"
   ]
  },
  {
   "cell_type": "code",
   "execution_count": 15,
   "id": "57cb1431",
   "metadata": {},
   "outputs": [
    {
     "name": "stdout",
     "output_type": "stream",
     "text": [
      "15953\n"
     ]
    }
   ],
   "source": [
    "wol_tree = TreeNode.read(f'../quality_inferred_trees/input_data/tree.nwk', format = 'newick')\n",
    "print(wol_tree.count(tips = True))"
   ]
  },
  {
   "cell_type": "markdown",
   "id": "ea02e301",
   "metadata": {},
   "source": [
    "Shear tree to selected genomes"
   ]
  },
  {
   "cell_type": "code",
   "execution_count": 16,
   "id": "21e4959c",
   "metadata": {},
   "outputs": [],
   "source": [
    "sheared = wol_tree.shear(genomes_sampled)\n",
    "sheared.prune()"
   ]
  },
  {
   "cell_type": "code",
   "execution_count": 17,
   "id": "1a4846a8",
   "metadata": {},
   "outputs": [
    {
     "name": "stdout",
     "output_type": "stream",
     "text": [
      "1510\n"
     ]
    }
   ],
   "source": [
    "print(sheared.count(tips = True))"
   ]
  },
  {
   "cell_type": "markdown",
   "id": "cc4581a0",
   "metadata": {},
   "source": [
    "Files for iTOL"
   ]
  },
  {
   "cell_type": "code",
   "execution_count": 18,
   "id": "106bf798",
   "metadata": {},
   "outputs": [],
   "source": [
    "# Assign domain to each node\n",
    "node_clade_domain = {}\n",
    "for node in sheared.postorder():\n",
    "    if node.is_tip():\n",
    "        node_clade_domain[node.name] = sampled.loc[node.name]['domain']\n",
    "    else:\n",
    "        child_domain_in_clade = set()\n",
    "        for child in node.children:\n",
    "            child_domain_in_clade.add(node_clade_domain[child.name])\n",
    "        if len(child_domain_in_clade) == 1:\n",
    "            node_clade_domain[node.name] = child_domain_in_clade.pop()\n",
    "        else:\n",
    "            node_clade_domain[node.name] = None"
   ]
  },
  {
   "cell_type": "code",
   "execution_count": 19,
   "id": "5a2a1ff7",
   "metadata": {},
   "outputs": [
    {
     "data": {
      "text/plain": [
       "2972"
      ]
     },
     "execution_count": 19,
     "metadata": {},
     "output_type": "execute_result"
    }
   ],
   "source": [
    "len(node_clade_domain)"
   ]
  },
  {
   "cell_type": "code",
   "execution_count": 20,
   "id": "3e908f3e",
   "metadata": {},
   "outputs": [],
   "source": [
    "colors = ['#54478c', '#f29e4c', '#2c699a', '#f1c453', '#048ba8', '#efea5a',\n",
    "            '#0db39e', '#b9e769', '#16db93', '#83e377',\n",
    "            '#ffcaa6', '#fc989d', '#f86594', '#d78186', '#bd3658', '#b01041', '#838aa7']"
   ]
  },
  {
   "cell_type": "code",
   "execution_count": 21,
   "id": "8e38b786",
   "metadata": {},
   "outputs": [],
   "source": [
    "# Add color to phylum\n",
    "phylum_colors = {}\n",
    "for i, phylum in enumerate(sampled['phylum'].value_counts().index):\n",
    "    phylum_colors[phylum] = colors[i]"
   ]
  },
  {
   "cell_type": "code",
   "execution_count": 22,
   "id": "00587fef",
   "metadata": {},
   "outputs": [],
   "source": [
    "phylum_colors[None] = '#000000'"
   ]
  },
  {
   "cell_type": "code",
   "execution_count": 23,
   "id": "a0fa7678",
   "metadata": {},
   "outputs": [],
   "source": [
    "# Add color to domain\n",
    "domain_colors = {'d__Bacteria': '#8d99ae', 'd__Archaea': '#2b2d42'}\n",
    "domain_colors[None] = '#000000'"
   ]
  },
  {
   "cell_type": "code",
   "execution_count": 24,
   "id": "f1fda50b-e56f-484b-9ea3-a93e78342d2c",
   "metadata": {},
   "outputs": [],
   "source": [
    "itol_content = [\n",
    "        \"DATASET_COLORSTRIP\",\n",
    "        \"SEPARATOR TAB\",\n",
    "        f\"DATASET_LABEL\\tDomain Classification\",\n",
    "        f\"COLOR\\t#666666\",\n",
    "        f\"COLOR_BRANCHES\\t0\",\n",
    "        \"DATA\"]"
   ]
  },
  {
   "cell_type": "code",
   "execution_count": 25,
   "id": "0ca2c3a2",
   "metadata": {},
   "outputs": [],
   "source": [
    "for node in sheared.levelorder():\n",
    "        itol_content.append(f'{node.name}\\t{domain_colors[node_clade_domain[node.name]]}\\t{node_clade_domain[node.name]}')"
   ]
  },
  {
   "cell_type": "code",
   "execution_count": 26,
   "id": "38705d5b",
   "metadata": {},
   "outputs": [],
   "source": [
    "# Write to file\n",
    "with open(f'./output_data/for_itol_wol2_colors_domain.txt', 'w') as f:\n",
    "    f.write('\\n'.join(itol_content))"
   ]
  },
  {
   "cell_type": "code",
   "execution_count": 27,
   "id": "72ea34b3",
   "metadata": {},
   "outputs": [
    {
     "data": {
      "text/plain": [
       "'./output_data/wol2_sheared.nwk'"
      ]
     },
     "execution_count": 27,
     "metadata": {},
     "output_type": "execute_result"
    }
   ],
   "source": [
    "sheared.write(f'./output_data/wol2_sheared.nwk', format = 'newick')"
   ]
  },
  {
   "cell_type": "code",
   "execution_count": 28,
   "id": "a4e10bab",
   "metadata": {},
   "outputs": [],
   "source": [
    "itol_content = [\n",
    "        #\"DATASET_COLORSTRIP\",\n",
    "        #\"SEPARATOR TAB\",\n",
    "        #f\"DATASET_LABEL\\tPhylum Classification\",\n",
    "        #f\"COLOR\\t#666666\", # Default gray color for unannotated branches/lines\n",
    "        \"TREE_COLORS\",\n",
    "        \"SEPARATOR TAB\",\n",
    "        \"DATA\"]"
   ]
  },
  {
   "cell_type": "code",
   "execution_count": 29,
   "id": "2e887703",
   "metadata": {},
   "outputs": [],
   "source": [
    "for phylum in sampled['phylum'].value_counts().index:\n",
    "    # Get LCA\n",
    "    lca = sheared.lca(sampled.query('phylum == @phylum').index)\n",
    "    itol_content.append(f'{lca.name}\\trange\\t{phylum_colors[phylum]}\\t{phylum.split(\"__\")[1]}')"
   ]
  },
  {
   "cell_type": "code",
   "execution_count": 30,
   "id": "f8dbdd47",
   "metadata": {},
   "outputs": [],
   "source": [
    "# Write to file\n",
    "with open(f'./output_data/for_itol_wol2_colors_ranges.txt', 'w') as f:\n",
    "    f.write('\\n'.join(itol_content))"
   ]
  },
  {
   "cell_type": "code",
   "execution_count": 31,
   "id": "f9c9ad78",
   "metadata": {},
   "outputs": [
    {
     "data": {
      "image/png": "[encoded data removed]",
      "text/plain": [
       "<Figure size 600x450 with 1 Axes>"
      ]
     },
     "metadata": {},
     "output_type": "display_data"
    }
   ],
   "source": [
    "level = 'domain'\n",
    "plt.figure(figsize = (6, 4.5))\n",
    "datum = sampled[level].value_counts()\n",
    "x = np.arange(len(datum))\n",
    "plt.bar(x, datum.values, color = [domain_colors[t] for t in datum.index])\n",
    "# plt.axhline(y = num, color = 'r', ls = 'dashed', lw = 1)\n",
    "plt.tick_params(top=True, right=True, direction='in', which='both')\n",
    "plt.xticks(x, labels = datum.index, rotation = 45)\n",
    "plt.ylabel('# of genomes')\n",
    "plt.savefig(f'./figures/figS1_B_domain.svg')\n",
    "plt.show()"
   ]
  },
  {
   "cell_type": "code",
   "execution_count": 32,
   "id": "ea62aa51",
   "metadata": {},
   "outputs": [
    {
     "data": {
      "image/png": "[encoded data removed]",
      "text/plain": [
       "<Figure size 600x380 with 1 Axes>"
      ]
     },
     "metadata": {},
     "output_type": "display_data"
    }
   ],
   "source": [
    "level = 'phylum'\n",
    "plt.figure(figsize = (6, 3.8))\n",
    "datum = sampled[level].value_counts()\n",
    "x = np.arange(len(datum))\n",
    "plt.bar(x, datum.values, color = [phylum_colors[t] for t in datum.index])\n",
    "# plt.axhline(y = num, color = 'r', ls = 'dashed', lw = 1)\n",
    "plt.tick_params(top=True, right=True, direction='in', which='both')\n",
    "# plt.xticks(x, labels = datum.index, rotation = 45)\n",
    "plt.xticks(x, [])\n",
    "plt.ylabel('# of genomes')\n",
    "plt.savefig(f'./figures/figS1_B_phylum.svg')\n",
    "plt.show()"
   ]
  },
  {
   "cell_type": "code",
   "execution_count": null,
   "id": "3de53b2a",
   "metadata": {},
   "outputs": [],
   "source": []
  },
  {
   "cell_type": "code",
   "execution_count": null,
   "id": "792395f0-bd5c-4b16-91f2-c87f7637c86b",
   "metadata": {},
   "outputs": [],
   "source": []
  }
 ],
 "metadata": {
  "kernelspec": {
   "display_name": "Python 3 (ipykernel)",
   "language": "python",
   "name": "python3"
  },
  "language_info": {
   "codemirror_mode": {
    "name": "ipython",
    "version": 3
   },
   "file_extension": ".py",
   "mimetype": "text/x-python",
   "name": "python",
   "nbconvert_exporter": "python",
   "pygments_lexer": "ipython3",
   "version": "3.10.13"
  }
 },
 "nbformat": 4,
 "nbformat_minor": 5
}
