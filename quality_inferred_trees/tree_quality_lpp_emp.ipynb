{
 "cells": [
  {
   "cell_type": "markdown",
   "id": "74851c22-28d4-4d86-9baa-59090e6e342e",
   "metadata": {},
   "source": [
    "# Metrics for goodness of trees -- Local posterior probability from ASTRAL-pro and Taxonomic accuracy"
   ]
  },
  {
   "cell_type": "code",
   "execution_count": 1,
   "id": "510294f7-2064-4fa9-8651-6c9f810eb379",
   "metadata": {},
   "outputs": [],
   "source": [
    "import sys, re\n",
    "import pandas as pd\n",
    "import numpy as np\n",
    "from skbio.tree import TreeNode\n",
    "import matplotlib.pyplot as plt"
   ]
  },
  {
   "cell_type": "code",
   "execution_count": 2,
   "id": "ecb4e29d-4f60-4c95-8afd-83924b5352ae",
   "metadata": {},
   "outputs": [],
   "source": [
    "import warnings\n",
    "warnings.filterwarnings('ignore')"
   ]
  },
  {
   "cell_type": "code",
   "execution_count": 3,
   "id": "1e6e9e02-644f-43b8-a418-2a24ec8b24c1",
   "metadata": {},
   "outputs": [],
   "source": [
    "plt.rcParams.update({\n",
    "    'figure.autolayout': True,\n",
    "    'savefig.bbox': 'tight',\n",
    "    'svg.fonttype': 'none',\n",
    "    'font.sans-serif': 'Arial',\n",
    "    'font.size': 12,\n",
    "    'boxplot.medianprops.linewidth': 2,\n",
    "    'boxplot.flierprops.markeredgecolor': 'none',\n",
    "    'boxplot.flierprops.markersize': 5})"
   ]
  },
  {
   "cell_type": "code",
   "execution_count": 4,
   "id": "75128287-693c-4c72-b5e0-37255147a151",
   "metadata": {},
   "outputs": [],
   "source": [
    "version = 2"
   ]
  },
  {
   "cell_type": "markdown",
   "id": "2f7b4240-89af-4cf4-b42f-9c9180a274fb",
   "metadata": {},
   "source": [
    "### 41 SCG from Martinez-Gutierrez"
   ]
  },
  {
   "cell_type": "code",
   "execution_count": 5,
   "id": "cec4e760-cbe8-4390-9ef1-6edeae73e403",
   "metadata": {},
   "outputs": [],
   "source": [
    "dataPathIn = f'./input_data/emp/martinez_gutierrez/emp_min_markers_per_genome_1'"
   ]
  },
  {
   "cell_type": "code",
   "execution_count": 6,
   "id": "aceb83d9-803f-4d4c-8f0b-239a84528b25",
   "metadata": {},
   "outputs": [
    {
     "data": {
      "text/plain": [
       "<TreeNode, name: N1, internal node count: 773, tips count: 775>"
      ]
     },
     "execution_count": 6,
     "metadata": {},
     "output_type": "execute_result"
    }
   ],
   "source": [
    "tree_martinez_no_min = TreeNode.read(f'{dataPathIn}/nid_astral-pro{version}.nwk')\n",
    "tree_martinez_no_min"
   ]
  },
  {
   "cell_type": "code",
   "execution_count": 7,
   "id": "474192a4-1e01-4a07-80f8-66528dd96057",
   "metadata": {},
   "outputs": [
    {
     "data": {
      "text/plain": [
       "(773, 9)"
      ]
     },
     "execution_count": 7,
     "metadata": {},
     "output_type": "execute_result"
    }
   ],
   "source": [
    "df_martinez_no_min = pd.read_table(f'{dataPathIn}/metadata_astral-pro{version}.tsv', index_col = 0)\n",
    "df_martinez_no_min.shape"
   ]
  },
  {
   "cell_type": "code",
   "execution_count": 8,
   "id": "08487e6a-3e26-462f-b894-1ad70edd3074",
   "metadata": {},
   "outputs": [],
   "source": [
    "dataPathIn = f'./input_data/emp/martinez_gutierrez/emp_min_markers_per_genome_10'"
   ]
  },
  {
   "cell_type": "code",
   "execution_count": 9,
   "id": "1e01072b-7844-42bc-9a42-50edaf5bd509",
   "metadata": {},
   "outputs": [
    {
     "data": {
      "text/plain": [
       "<TreeNode, name: N1, internal node count: 747, tips count: 749>"
      ]
     },
     "execution_count": 9,
     "metadata": {},
     "output_type": "execute_result"
    }
   ],
   "source": [
    "tree_martinez_min = TreeNode.read(f'{dataPathIn}/nid_astral-pro{version}.nwk')\n",
    "tree_martinez_min"
   ]
  },
  {
   "cell_type": "code",
   "execution_count": 10,
   "id": "fa8be385-3d17-420d-9dac-e61beddc6276",
   "metadata": {},
   "outputs": [
    {
     "data": {
      "text/plain": [
       "(747, 9)"
      ]
     },
     "execution_count": 10,
     "metadata": {},
     "output_type": "execute_result"
    }
   ],
   "source": [
    "df_martinez_min = pd.read_table(f'{dataPathIn}/metadata_astral-pro{version}.tsv', index_col = 0)\n",
    "df_martinez_min.shape"
   ]
  },
  {
   "cell_type": "markdown",
   "id": "106791ac-0f6b-472d-8824-f2550265e217",
   "metadata": {},
   "source": [
    "### 57 SCG from Moody 2024"
   ]
  },
  {
   "cell_type": "code",
   "execution_count": 11,
   "id": "7810fa78-f8ab-4c6c-9980-2cceb9e091cb",
   "metadata": {},
   "outputs": [],
   "source": [
    "dataPathIn = f'./input_data/emp/moody/emp_min_markers_per_genome_1'"
   ]
  },
  {
   "cell_type": "code",
   "execution_count": 12,
   "id": "cfa6662d-64a2-4e22-b259-4cc5df44fedd",
   "metadata": {},
   "outputs": [
    {
     "data": {
      "text/plain": [
       "<TreeNode, name: N1, internal node count: 782, tips count: 784>"
      ]
     },
     "execution_count": 12,
     "metadata": {},
     "output_type": "execute_result"
    }
   ],
   "source": [
    "tree_moody_no_min = TreeNode.read(f'{dataPathIn}/nid_astral-pro{version}.nwk')\n",
    "tree_moody_no_min"
   ]
  },
  {
   "cell_type": "code",
   "execution_count": 13,
   "id": "9d07cbe9-c650-4094-962d-80f6152d3b5d",
   "metadata": {},
   "outputs": [
    {
     "data": {
      "text/plain": [
       "(782, 9)"
      ]
     },
     "execution_count": 13,
     "metadata": {},
     "output_type": "execute_result"
    }
   ],
   "source": [
    "df_moody_no_min = pd.read_table(f'{dataPathIn}/metadata_astral-pro{version}.tsv', index_col = 0)\n",
    "df_moody_no_min.shape"
   ]
  },
  {
   "cell_type": "code",
   "execution_count": 14,
   "id": "f24aa912-faea-45a8-8e69-1d5f15dbbc87",
   "metadata": {},
   "outputs": [],
   "source": [
    "dataPathIn = f'./input_data/emp/moody/emp_min_markers_per_genome_14'"
   ]
  },
  {
   "cell_type": "code",
   "execution_count": 15,
   "id": "2886a675-9ec0-49ac-92a4-fa0cd21af52b",
   "metadata": {},
   "outputs": [
    {
     "data": {
      "text/plain": [
       "<TreeNode, name: N1, internal node count: 753, tips count: 755>"
      ]
     },
     "execution_count": 15,
     "metadata": {},
     "output_type": "execute_result"
    }
   ],
   "source": [
    "tree_moody_min = TreeNode.read(f'{dataPathIn}/nid_astral-pro{version}.nwk')\n",
    "tree_moody_min"
   ]
  },
  {
   "cell_type": "code",
   "execution_count": 16,
   "id": "277d381b-44eb-4ad8-afad-270e1a28724c",
   "metadata": {},
   "outputs": [
    {
     "data": {
      "text/plain": [
       "(753, 9)"
      ]
     },
     "execution_count": 16,
     "metadata": {},
     "output_type": "execute_result"
    }
   ],
   "source": [
    "df_moody_min = pd.read_table(f'{dataPathIn}/metadata_astral-pro{version}.tsv', index_col = 0)\n",
    "df_moody_min.shape"
   ]
  },
  {
   "cell_type": "markdown",
   "id": "99bec245-36ed-4bc2-850c-0edc0b05137a",
   "metadata": {},
   "source": [
    "### 400 SCG from Phylophlan"
   ]
  },
  {
   "cell_type": "code",
   "execution_count": 17,
   "id": "58a390ef-2612-41fc-84db-9cf62f3df78f",
   "metadata": {},
   "outputs": [],
   "source": [
    "dataPathIn = f'./input_data/emp/phylophlan/emp_min_marker_genes_per_genome_100'"
   ]
  },
  {
   "cell_type": "code",
   "execution_count": 18,
   "id": "285e63d3-0515-4027-9332-8eb37c7cef5c",
   "metadata": {},
   "outputs": [
    {
     "data": {
      "text/plain": [
       "<TreeNode, name: N1, internal node count: 733, tips count: 735>"
      ]
     },
     "execution_count": 18,
     "metadata": {},
     "output_type": "execute_result"
    }
   ],
   "source": [
    "tree_phylophlan_min = TreeNode.read(f'{dataPathIn}/nid_astral-pro{version}.nwk')\n",
    "tree_phylophlan_min"
   ]
  },
  {
   "cell_type": "code",
   "execution_count": 19,
   "id": "f2b6bc54-3105-4b59-a2c0-981106862203",
   "metadata": {},
   "outputs": [
    {
     "data": {
      "text/plain": [
       "(733, 9)"
      ]
     },
     "execution_count": 19,
     "metadata": {},
     "output_type": "execute_result"
    }
   ],
   "source": [
    "df_phylophlan_min = pd.read_table(f'{dataPathIn}/metadata_astral-pro{version}.tsv', index_col = 0)\n",
    "df_phylophlan_min.shape"
   ]
  },
  {
   "cell_type": "code",
   "execution_count": 20,
   "id": "a12c1e50-c955-4798-916c-83c9c21ae881",
   "metadata": {},
   "outputs": [
    {
     "data": {
      "text/plain": [
       "<TreeNode, name: N1, internal node count: 791, tips count: 793>"
      ]
     },
     "execution_count": 20,
     "metadata": {},
     "output_type": "execute_result"
    }
   ],
   "source": [
    "dataPathIn = f'./input_data/emp/phylophlan/emp_min_marker_genes_per_genome_1'\n",
    "tree_phylophlan_no_min = TreeNode.read(f'{dataPathIn}/nid_astral-pro{version}.nwk')\n",
    "tree_phylophlan_no_min"
   ]
  },
  {
   "cell_type": "code",
   "execution_count": 21,
   "id": "02f9fbfb-51ce-479a-be79-cfae58885abd",
   "metadata": {},
   "outputs": [
    {
     "data": {
      "text/plain": [
       "(791, 9)"
      ]
     },
     "execution_count": 21,
     "metadata": {},
     "output_type": "execute_result"
    }
   ],
   "source": [
    "df_phylophlan_no_min = pd.read_table(f'{dataPathIn}/metadata_astral-pro{version}.tsv', index_col = 0)\n",
    "df_phylophlan_no_min.shape"
   ]
  },
  {
   "cell_type": "markdown",
   "id": "6f5c6009-9eb9-4c94-8d5b-205c69d9a47f",
   "metadata": {},
   "source": [
    "### 136 SCG from Amphora"
   ]
  },
  {
   "cell_type": "code",
   "execution_count": 22,
   "id": "ef438d35-b1cc-4cbb-97c3-07dfe59f8fde",
   "metadata": {},
   "outputs": [],
   "source": [
    "dataPathIn = f'./input_data/emp/amphora2/emp_min_marker_genes_per_genome_34'"
   ]
  },
  {
   "cell_type": "code",
   "execution_count": 23,
   "id": "cfa0cf33-4266-4f7a-9578-ea9a3f5d98f8",
   "metadata": {},
   "outputs": [
    {
     "data": {
      "text/plain": [
       "<TreeNode, name: N1, internal node count: 303, tips count: 305>"
      ]
     },
     "execution_count": 23,
     "metadata": {},
     "output_type": "execute_result"
    }
   ],
   "source": [
    "tree_amphora_min = TreeNode.read(f'{dataPathIn}/nid_astral-pro{version}.nwk')\n",
    "tree_amphora_min"
   ]
  },
  {
   "cell_type": "code",
   "execution_count": 24,
   "id": "5a901e84-3aa3-470e-8959-549ba8e7ad19",
   "metadata": {},
   "outputs": [
    {
     "data": {
      "text/plain": [
       "(303, 9)"
      ]
     },
     "execution_count": 24,
     "metadata": {},
     "output_type": "execute_result"
    }
   ],
   "source": [
    "df_amphora_min = pd.read_table(f'{dataPathIn}/metadata_astral-pro{version}.tsv', index_col = 0)\n",
    "df_amphora_min.shape"
   ]
  },
  {
   "cell_type": "code",
   "execution_count": 25,
   "id": "e8de4e0c-eacf-48b3-9cc5-38c9509f3a09",
   "metadata": {},
   "outputs": [
    {
     "data": {
      "text/plain": [
       "<TreeNode, name: N1, internal node count: 776, tips count: 778>"
      ]
     },
     "execution_count": 25,
     "metadata": {},
     "output_type": "execute_result"
    }
   ],
   "source": [
    "dataPathIn = f'./input_data/emp/amphora2/emp_min_marker_genes_per_genome_1'\n",
    "tree_amphora_no_min = TreeNode.read(f'{dataPathIn}/nid_astral-pro{version}.nwk')\n",
    "tree_amphora_no_min"
   ]
  },
  {
   "cell_type": "code",
   "execution_count": 26,
   "id": "6494c0d1-d43b-47c1-87b9-ae6a5028c494",
   "metadata": {},
   "outputs": [
    {
     "data": {
      "text/plain": [
       "(776, 9)"
      ]
     },
     "execution_count": 26,
     "metadata": {},
     "output_type": "execute_result"
    }
   ],
   "source": [
    "df_amphora_no_min = pd.read_table(f'{dataPathIn}/metadata_astral-pro{version}.tsv', index_col = 0)\n",
    "df_amphora_no_min.shape"
   ]
  },
  {
   "cell_type": "markdown",
   "id": "07e64718-5141-4a4f-8317-252b6e5d0f4d",
   "metadata": {},
   "source": [
    "### Marker genes selected with our method--EggNog"
   ]
  },
  {
   "cell_type": "code",
   "execution_count": 27,
   "id": "30232842-449c-480b-bae9-3bba7540f13c",
   "metadata": {},
   "outputs": [],
   "source": [
    "ks = [10, 50, 100, 200, 400, 600, 800, 1000]\n",
    "ps = [0]\n",
    "versions = [2, 3]\n",
    "matrices = ['presence_absence_copies']\n",
    "th_copy = 1.0"
   ]
  },
  {
   "cell_type": "code",
   "execution_count": 28,
   "id": "2b5d3698-155f-4ec7-99df-6b431aa75b16",
   "metadata": {},
   "outputs": [
    {
     "name": "stdout",
     "output_type": "stream",
     "text": [
      "CPU times: user 4.82 s, sys: 38.3 ms, total: 4.86 s\n",
      "Wall time: 4.86 s\n"
     ]
    }
   ],
   "source": [
    "%%time\n",
    "trees_eggnog_no_min = {}\n",
    "metadata_eggnog_no_min = {}\n",
    "for k in ks:\n",
    "    for p in ps:\n",
    "        for matrix in matrices:\n",
    "            for version in versions:\n",
    "                combination = f'k_{k}_p_{p}/{matrix}' \n",
    "                dataPathIn = f'./input_data/emp/eggnog/bit_score_threshold_{th_copy}/no_min_marker_genes_per_genome/{combination}'\n",
    "                try:\n",
    "                    metadata_eggnog_no_min[f'k_{k}_p_{p}_{matrix}_ap_{version}'] = pd.read_table(f'{dataPathIn}/metadata_astral-pro{version}.tsv', index_col = 0)\n",
    "                    trees_eggnog_no_min[f'k_{k}_p_{p}_{matrix}_ap_{version}'] = TreeNode.read(f'{dataPathIn}/nid_astral-pro{version}.nwk')\n",
    "                except:\n",
    "                    # print(combination)\n",
    "                    print(f'\\t{combination}. Cannot be loaded. Error in outgroup')"
   ]
  },
  {
   "cell_type": "code",
   "execution_count": 29,
   "id": "63d75c03-e451-487a-90e9-7b6cdd754f0f",
   "metadata": {},
   "outputs": [
    {
     "name": "stdout",
     "output_type": "stream",
     "text": [
      "CPU times: user 4.29 s, sys: 33.3 ms, total: 4.32 s\n",
      "Wall time: 4.32 s\n"
     ]
    }
   ],
   "source": [
    "%%time\n",
    "trees_eggnog_min = {}\n",
    "metadata_eggnog_min = {}\n",
    "for k in ks:\n",
    "    for p in ps:\n",
    "        for matrix in matrices:\n",
    "            for version in versions:\n",
    "                combination = f'k_{k}_p_{p}/{matrix}' \n",
    "                dataPathIn = f'./input_data/emp/eggnog/bit_score_threshold_{th_copy}/min_marker_genes_per_genome/{combination}'\n",
    "                try:\n",
    "                    metadata_eggnog_min[f'k_{k}_p_{p}_{matrix}_ap_{version}'] = pd.read_table(f'{dataPathIn}/metadata_astral-pro{version}.tsv', index_col = 0)\n",
    "                    trees_eggnog_min[f'k_{k}_p_{p}_{matrix}_ap_{version}'] = TreeNode.read(f'{dataPathIn}/nid_astral-pro{version}.nwk')\n",
    "                except:\n",
    "                    # print(combination)\n",
    "                    print(f'\\t{combination}. Cannot be loaded. Error in outgroup')"
   ]
  },
  {
   "cell_type": "markdown",
   "id": "e3886a76-7f56-41fe-946b-5b17bce2aa5a",
   "metadata": {},
   "source": [
    "### Marker genes selected with our method--KEGG"
   ]
  },
  {
   "cell_type": "code",
   "execution_count": 30,
   "id": "6d9770cd-cd17-4bc7-a15f-1d8445d09365",
   "metadata": {},
   "outputs": [],
   "source": [
    "ks = [10, 50, 100, 200, 400, 600, 800, 1000]\n",
    "ps = [0]\n",
    "versions = [2, 3]\n",
    "matrices = ['presence_absence_copies']\n",
    "th_copy = 1.0"
   ]
  },
  {
   "cell_type": "code",
   "execution_count": 31,
   "id": "03e3d760-05ea-4f70-b39d-b88262046db1",
   "metadata": {},
   "outputs": [
    {
     "name": "stdout",
     "output_type": "stream",
     "text": [
      "CPU times: user 4.63 s, sys: 35.7 ms, total: 4.66 s\n",
      "Wall time: 4.67 s\n"
     ]
    }
   ],
   "source": [
    "%%time\n",
    "trees_kegg_no_min = {}\n",
    "metadata_kegg_no_min = {}\n",
    "for k in ks:\n",
    "    for p in ps:\n",
    "        for matrix in matrices:\n",
    "            for version in versions:\n",
    "                combination = f'k_{k}_p_{p}/{matrix}' \n",
    "                dataPathIn = f'./input_data/emp/kegg/bit_score_threshold_{th_copy}/no_min_marker_genes_per_genome/{combination}'\n",
    "                try:\n",
    "                    metadata_kegg_no_min[f'k_{k}_p_{p}_{matrix}_ap_{version}'] = pd.read_table(f'{dataPathIn}/metadata_astral-pro{version}.tsv', index_col = 0)\n",
    "                    trees_kegg_no_min[f'k_{k}_p_{p}_{matrix}_ap_{version}'] = TreeNode.read(f'{dataPathIn}/nid_astral-pro{version}.nwk')\n",
    "                except:\n",
    "                    # print(combination)\n",
    "                    print(f'\\t{combination}. Cannot be loaded. Error in outgroup')"
   ]
  },
  {
   "cell_type": "code",
   "execution_count": 32,
   "id": "6f549bf5-a153-4e8f-ac25-8afcaea071bb",
   "metadata": {},
   "outputs": [
    {
     "name": "stdout",
     "output_type": "stream",
     "text": [
      "CPU times: user 4.13 s, sys: 32.7 ms, total: 4.16 s\n",
      "Wall time: 4.16 s\n"
     ]
    }
   ],
   "source": [
    "%%time\n",
    "trees_kegg_min = {}\n",
    "metadata_kegg_min = {}\n",
    "for k in ks:\n",
    "    for p in ps:\n",
    "        for matrix in matrices:\n",
    "            for version in versions:\n",
    "                combination = f'k_{k}_p_{p}/{matrix}' \n",
    "                dataPathIn = f'./input_data/emp/kegg/bit_score_threshold_{th_copy}/min_marker_genes_per_genome/{combination}'\n",
    "                try:\n",
    "                    metadata_kegg_min[f'k_{k}_p_{p}_{matrix}_ap_{version}'] = pd.read_table(f'{dataPathIn}/metadata_astral-pro{version}.tsv', index_col = 0)\n",
    "                    trees_kegg_min[f'k_{k}_p_{p}_{matrix}_ap_{version}'] = TreeNode.read(f'{dataPathIn}/nid_astral-pro{version}.nwk')\n",
    "                except:\n",
    "                    # print(combination)\n",
    "                    print(f'\\t{combination}. Cannot be loaded. Error in outgroup')"
   ]
  },
  {
   "cell_type": "markdown",
   "id": "0aa3f561-43a1-4e8f-be28-8f4eedce30f5",
   "metadata": {},
   "source": [
    "# Figures"
   ]
  },
  {
   "cell_type": "code",
   "execution_count": 33,
   "id": "5265d993-e6cf-435b-b7df-2a525231aa0f",
   "metadata": {},
   "outputs": [],
   "source": [
    "version = 2"
   ]
  },
  {
   "cell_type": "code",
   "execution_count": 34,
   "id": "0d102e9e-9328-4b9c-a82f-31c09320ef77",
   "metadata": {},
   "outputs": [
    {
     "data": {
      "image/png": "[encoded data removed]",
      "text/plain": [
       "<Figure size 395x305 with 1 Axes>"
      ]
     },
     "metadata": {},
     "output_type": "display_data"
    }
   ],
   "source": [
    "plt.figure(figsize = (3.95, 3.05))\n",
    "\n",
    "# Eggnog\n",
    "y_eggnog_no_min = []\n",
    "y_eggnog_min = []\n",
    "for k in ks:\n",
    "    y_eggnog_no_min.append(trees_eggnog_no_min[f'k_{k}_p_{p}_{matrix}_ap_{version}'].count(tips = True))\n",
    "    y_eggnog_min.append(trees_eggnog_min[f'k_{k}_p_{p}_{matrix}_ap_{version}'].count(tips = True))\n",
    "plt.plot(ks, y_eggnog_no_min, alpha = 0.5, marker = '.', color = '#4361ee', ls = 'dashed',\n",
    "        markerfacecolor = 'none')\n",
    "plt.plot(ks, y_eggnog_min, alpha = 0.5, marker = '.', color = '#4361ee', label = 'EggNog', ls = 'solid')\n",
    "\n",
    "# KEGG\n",
    "y_kegg_no_min = []\n",
    "y_kegg_min = []\n",
    "for k in ks:\n",
    "    y_kegg_no_min.append(trees_kegg_no_min[f'k_{k}_p_{p}_{matrix}_ap_{version}'].count(tips = True))\n",
    "    y_kegg_min.append(trees_kegg_min[f'k_{k}_p_{p}_{matrix}_ap_{version}'].count(tips = True))\n",
    "plt.plot(ks, y_kegg_no_min, alpha = 0.5, marker = '.', color = '#f72585', ls = 'dashed',\n",
    "        markerfacecolor = 'none')\n",
    "plt.plot(ks, y_kegg_min, alpha = 0.5, marker = '.', color = '#f72585', label = 'KEGG', ls = 'solid')\n",
    "\n",
    "\n",
    "plt.scatter(41, tree_martinez_no_min.count(tips = True), color = 'r', marker = 's', alpha = 0.8,\n",
    "            facecolor = 'none')\n",
    "plt.scatter(41, tree_martinez_min.count(tips = True), color = 'r', marker = 's',\n",
    "            alpha = 0.8, label = 'Martinez')\n",
    "\n",
    "plt.scatter(57, tree_moody_no_min.count(tips = True), color = 'b', marker = 's', \n",
    "            alpha = 0.8, facecolor = 'none')\n",
    "plt.scatter(57, tree_moody_min.count(tips = True), color = 'b', marker = 's', \n",
    "            alpha = 0.8, label = 'Moody')\n",
    "\n",
    "plt.scatter(400, tree_phylophlan_min.count(tips = True), color = 'g',\n",
    "            marker = 's', alpha = 0.8, label = 'Phylophlan3')\n",
    "plt.scatter(400, tree_phylophlan_no_min.count(tips = True), color = 'g',\n",
    "            marker = 's', alpha = 0.8, facecolor = 'none')\n",
    "\n",
    "plt.scatter(136, tree_amphora_min.count(tips = True), color = 'orange',\n",
    "            marker = 's', alpha = 0.8, label = 'Amphora2')\n",
    "plt.scatter(136, tree_amphora_no_min.count(tips = True), color = 'orange',\n",
    "            marker = 's', alpha = 0.8, facecolor = 'none')\n",
    "\n",
    "# plt.legend(bbox_to_anchor = (1.04, 1), loc = 'upper left', ncol = 2)\n",
    "plt.xlabel('k')\n",
    "plt.ylabel('Number of MAGs in tree')\n",
    "plt.ylim(700, 800)\n",
    "# plt.yscale('log')\n",
    "plt.tick_params(top = True, right = True, direction = 'in', which = 'both')\n",
    "plt.savefig(f'./figures/figure_S5B.svg')\n",
    "plt.show()"
   ]
  },
  {
   "cell_type": "code",
   "execution_count": 35,
   "id": "ee71ce58-d985-4669-aadf-9d946357d3c2",
   "metadata": {},
   "outputs": [
    {
     "data": {
      "image/png": "[encoded data removed]",
      "text/plain": [
       "<Figure size 400x300 with 1 Axes>"
      ]
     },
     "metadata": {},
     "output_type": "display_data"
    }
   ],
   "source": [
    "plt.figure(figsize = (4, 3))\n",
    "\n",
    "# Eggnog\n",
    "y_eggnog_no_min = []\n",
    "y_eggnog_min = []\n",
    "for k in ks:\n",
    "    datum_eggnog_no_min = metadata_eggnog_no_min[f'k_{k}_p_{p}_{matrix}_ap_{version}']['pp1'].values\n",
    "    datum_eggnog_min = metadata_eggnog_min[f'k_{k}_p_{p}_{matrix}_ap_{version}']['pp1'].values\n",
    "    y_eggnog_no_min.append(np.sum(datum_eggnog_no_min >= 0.95) / len(datum_eggnog_no_min))\n",
    "    y_eggnog_min.append(np.sum(datum_eggnog_min >= 0.95) / len(datum_eggnog_min))\n",
    "plt.plot(ks, y_eggnog_no_min, alpha = 0.5, marker = '.', color = '#4361ee', ls = 'dashed',\n",
    "        markerfacecolor = 'none')\n",
    "plt.plot(ks, y_eggnog_min, alpha = 0.5, marker = '.', color = '#4361ee', label = 'EggNog', ls = 'solid')\n",
    "\n",
    "# KEGG\n",
    "y_kegg_no_min = []\n",
    "y_kegg_min = []\n",
    "for k in ks:\n",
    "    datum_kegg_no_min = metadata_kegg_no_min[f'k_{k}_p_{p}_{matrix}_ap_{version}']['pp1'].values\n",
    "    datum_kegg_min = metadata_kegg_min[f'k_{k}_p_{p}_{matrix}_ap_{version}']['pp1'].values\n",
    "    y_kegg_no_min.append(np.sum(datum_kegg_no_min >= 0.95) / len(datum_kegg_no_min))\n",
    "    y_kegg_min.append(np.sum(datum_kegg_min >= 0.95) / len(datum_kegg_min))\n",
    "plt.plot(ks, y_kegg_no_min, alpha = 0.5, marker = '.', color = '#f72585', ls = 'dashed',\n",
    "        markerfacecolor = 'none')\n",
    "plt.plot(ks, y_kegg_min, alpha = 0.5, marker = '.', color = '#f72585', label = 'KEGG', ls = 'solid')\n",
    "\n",
    "    \n",
    "\n",
    "datum_martinez = df_martinez_no_min['pp1'].values\n",
    "plt.scatter(41, np.sum(datum_martinez >= 0.95) / len(datum_martinez), color = 'r', marker = 's', alpha = 0.8,\n",
    "            facecolor = 'none')\n",
    "datum_martinez_min = df_martinez_min['pp1'].values\n",
    "plt.scatter(41, np.sum(datum_martinez_min >= 0.95) / len(datum_martinez_min), color = 'r', marker = 's',\n",
    "            alpha = 0.8, label = 'Martinez')\n",
    "\n",
    "\n",
    "datum_moody = df_moody_no_min['pp1'].values\n",
    "plt.scatter(57, np.sum(datum_moody >= 0.95) / len(datum_moody), color = 'b', marker = 's', \n",
    "            alpha = 0.8, facecolor = 'none')\n",
    "datum_moody_min = df_moody_min['pp1'].values\n",
    "plt.scatter(57, np.sum(datum_moody_min >= 0.95) / len(datum_moody_min), color = 'b', marker = 's', \n",
    "            alpha = 0.8, label = 'Moody')\n",
    "\n",
    "datum_phylophlan_min = df_phylophlan_min['pp1'].values\n",
    "plt.scatter(400, np.sum(datum_phylophlan_min >= 0.95) / len(datum_phylophlan_min), color = 'g',\n",
    "            marker = 's', alpha = 0.8, label = 'Phylophlan3')\n",
    "datum_phylophlan_no_min = df_phylophlan_no_min['pp1'].values\n",
    "plt.scatter(400, np.sum(datum_phylophlan_no_min >= 0.95) / len(datum_phylophlan_no_min), color = 'g',\n",
    "            marker = 's', alpha = 0.8, facecolor = 'none')\n",
    "\n",
    "datum_amphora_min = df_amphora_min['pp1'].values\n",
    "plt.scatter(136, np.sum(datum_amphora_min >= 0.95) / len(datum_amphora_min), color = 'orange',\n",
    "            marker = 's', alpha = 0.8, label = 'Amphora2')\n",
    "datum_amphora_no_min = df_amphora_no_min['pp1'].values\n",
    "plt.scatter(136, np.sum(datum_amphora_no_min >= 0.95) / len(datum_amphora_no_min), color = 'orange',\n",
    "            marker = 's', alpha = 0.8, facecolor = 'none')\n",
    "\n",
    "plt.xlabel('k')\n",
    "plt.ylabel('Proportion of\\nconfident branches')\n",
    "plt.tick_params(top = True, right = True, direction = 'in', which = 'both')\n",
    "plt.savefig(f'./figures/figure_4A.svg')\n",
    "plt.show()"
   ]
  },
  {
   "cell_type": "code",
   "execution_count": 36,
   "id": "84a9f740-9d82-476e-afe2-2f77b02c3389",
   "metadata": {},
   "outputs": [
    {
     "data": {
      "image/png": "[encoded data removed]",
      "text/plain": [
       "<Figure size 460x320 with 1 Axes>"
      ]
     },
     "metadata": {},
     "output_type": "display_data"
    }
   ],
   "source": [
    "plt.figure(figsize = (4.6, 3.2))\n",
    "\n",
    "# Eggnog\n",
    "y_eggnog_no_min = []\n",
    "y_eggnog_min = []\n",
    "for k in ks:\n",
    "    datum_eggnog_no_min = metadata_eggnog_no_min[f'k_{k}_p_{p}_{matrix}_ap_{version}']['pp1'].values\n",
    "    datum_eggnog_min = metadata_eggnog_min[f'k_{k}_p_{p}_{matrix}_ap_{version}']['pp1'].values\n",
    "    y_eggnog_no_min.append(np.sum(datum_eggnog_no_min >= 0.95) / len(datum_eggnog_no_min))\n",
    "    y_eggnog_min.append(np.sum(datum_eggnog_min >= 0.95) / len(datum_eggnog_min))\n",
    "plt.plot(ks, y_eggnog_no_min, alpha = 0.5, marker = '.', color = '#4361ee', ls = 'dashed',\n",
    "        markerfacecolor = 'none')\n",
    "plt.plot(ks, y_eggnog_min, alpha = 0.5, marker = '.', color = '#4361ee', label = 'EggNog', ls = 'solid')\n",
    "\n",
    "# KEGG\n",
    "y_kegg_no_min = []\n",
    "y_kegg_min = []\n",
    "for k in ks:\n",
    "    datum_kegg_no_min = metadata_kegg_no_min[f'k_{k}_p_{p}_{matrix}_ap_{version}']['pp1'].values\n",
    "    datum_kegg_min = metadata_kegg_min[f'k_{k}_p_{p}_{matrix}_ap_{version}']['pp1'].values\n",
    "    y_kegg_no_min.append(np.sum(datum_kegg_no_min >= 0.95) / len(datum_kegg_no_min))\n",
    "    y_kegg_min.append(np.sum(datum_kegg_min >= 0.95) / len(datum_kegg_min))\n",
    "plt.plot(ks, y_kegg_no_min, alpha = 0.5, marker = '.', color = '#f72585', ls = 'dashed',\n",
    "        markerfacecolor = 'none')\n",
    "plt.plot(ks, y_kegg_min, alpha = 0.5, marker = '.', color = '#f72585', label = 'KEGG', ls = 'solid')\n",
    "\n",
    "    \n",
    "\n",
    "datum_martinez = df_martinez_no_min['pp1'].values\n",
    "plt.scatter(41, np.sum(datum_martinez >= 0.95) / len(datum_martinez), color = 'r', marker = 's', alpha = 0.8,\n",
    "            facecolor = 'none')\n",
    "datum_martinez_min = df_martinez_min['pp1'].values\n",
    "plt.scatter(41, np.sum(datum_martinez_min >= 0.95) / len(datum_martinez_min), color = 'r', marker = 's',\n",
    "            alpha = 0.8, label = 'Martinez')\n",
    "\n",
    "\n",
    "datum_moody = df_moody_no_min['pp1'].values\n",
    "plt.scatter(57, np.sum(datum_moody >= 0.95) / len(datum_moody), color = 'b', marker = 's', \n",
    "            alpha = 0.8, facecolor = 'none')\n",
    "datum_moody_min = df_moody_min['pp1'].values\n",
    "plt.scatter(57, np.sum(datum_moody_min >= 0.95) / len(datum_moody_min), color = 'b', marker = 's', \n",
    "            alpha = 0.8, label = 'Moody')\n",
    "datum_phylophlan_min = df_phylophlan_min['pp1'].values\n",
    "plt.scatter(400, np.sum(datum_phylophlan_min >= 0.95) / len(datum_phylophlan_min), color = 'g',\n",
    "            marker = 's', alpha = 0.8, label = 'Phylophlan3')\n",
    "datum_phylophlan_no_min = df_phylophlan_no_min['pp1'].values\n",
    "plt.scatter(400, np.sum(datum_phylophlan_no_min >= 0.95) / len(datum_phylophlan_no_min), color = 'g',\n",
    "            marker = 's', alpha = 0.8, facecolor = 'none')\n",
    "\n",
    "datum_amphora_min = df_amphora_min['pp1'].values\n",
    "plt.scatter(136, np.sum(datum_amphora_min >= 0.95) / len(datum_amphora_min), color = 'orange',\n",
    "            marker = 's', alpha = 0.8, label = 'Amphora2')\n",
    "datum_amphora_no_min = df_amphora_no_min['pp1'].values\n",
    "plt.scatter(136, np.sum(datum_amphora_no_min >= 0.95) / len(datum_amphora_no_min), color = 'orange',\n",
    "            marker = 's', alpha = 0.8, facecolor = 'none')\n",
    "\n",
    "\n",
    "plt.ylabel('Proportion of\\nconfident branches')\n",
    "plt.tick_params(top = True, right = True, direction = 'in', which = 'both')\n",
    "plt.ylim(0.55, 0.76)\n",
    "plt.xlim(350, 1020)\n",
    "plt.savefig(f'./figures/figure_4A_inset.svg')\n",
    "plt.show()"
   ]
  },
  {
   "cell_type": "markdown",
   "id": "ecc96767-6b11-4016-b3f9-c7b3db53be55",
   "metadata": {},
   "source": [
    "## Impact of copy number (measured as bitscore)"
   ]
  },
  {
   "cell_type": "markdown",
   "id": "47b76777-4239-4586-956d-141e0ec45cdb",
   "metadata": {},
   "source": [
    "Load data"
   ]
  },
  {
   "cell_type": "code",
   "execution_count": 37,
   "id": "41929ca2-a689-419d-817e-102fae6d2f6a",
   "metadata": {},
   "outputs": [],
   "source": [
    "k, p, matrix = 400, 0, 'presence_absence_copies'\n",
    "threshold = 1.0\n",
    "version = 2\n",
    "combination = f'k_{k}_p_{p}/{matrix}' \n",
    "dataPathIn = f'./input_data/emp/kegg/bit_score_threshold_{threshold}/no_min_marker_genes_per_genome/{combination}'\n",
    "tree_kegg_bs_1 = TreeNode.read(f'{dataPathIn}/nid_astral-pro{version}.nwk')\n",
    "df_kegg_bs_1 = pd.read_table(f'{dataPathIn}/metadata_astral-pro{version}.tsv', index_col = 0)"
   ]
  },
  {
   "cell_type": "code",
   "execution_count": 38,
   "id": "3414e206-9690-4e8d-a811-d163f4a9cc3f",
   "metadata": {},
   "outputs": [],
   "source": [
    "k, p, matrix = 400, 0, 'presence_absence_copies'\n",
    "threshold = 0.98\n",
    "combination = f'k_{k}_p_{p}/{matrix}' \n",
    "dataPathIn = f'./input_data/emp/kegg/bit_score_threshold_{threshold}/no_min/{combination}'\n",
    "tree_kegg_bs_098 = TreeNode.read(f'{dataPathIn}/nid_astral-pro{version}.nwk')\n",
    "df_kegg_bs_098 = pd.read_table(f'{dataPathIn}/metadata_astral-pro{version}.tsv', index_col = 0)"
   ]
  },
  {
   "cell_type": "code",
   "execution_count": 39,
   "id": "d92e1512-3b43-4a05-89ce-f03f18f08d29",
   "metadata": {},
   "outputs": [],
   "source": [
    "k, p, matrix = 400, 0, 'presence_absence_copies'\n",
    "threshold = 0.95\n",
    "combination = f'k_{k}_p_{p}/{matrix}' \n",
    "dataPathIn = f'./input_data/emp/kegg/bit_score_threshold_{threshold}/no_min/{combination}'\n",
    "tree_kegg_bs_095 = TreeNode.read(f'{dataPathIn}/nid_astral-pro{version}.nwk')\n",
    "df_kegg_bs_095 = pd.read_table(f'{dataPathIn}/metadata_astral-pro{version}.tsv', index_col = 0)"
   ]
  },
  {
   "cell_type": "code",
   "execution_count": 40,
   "id": "ec4dec29-a03a-4636-a3b9-498060761ec5",
   "metadata": {},
   "outputs": [],
   "source": [
    "k, p, matrix = 400, 0, 'presence_absence_copies'\n",
    "threshold = 0.9\n",
    "combination = f'k_{k}_p_{p}/{matrix}' \n",
    "dataPathIn = f'./input_data/emp/kegg/bit_score_threshold_{threshold}/no_min/{combination}'\n",
    "tree_kegg_bs_09 = TreeNode.read(f'{dataPathIn}/nid_astral-pro{version}.nwk')\n",
    "df_kegg_bs_09 = pd.read_table(f'{dataPathIn}/metadata_astral-pro{version}.tsv', index_col = 0)"
   ]
  },
  {
   "cell_type": "code",
   "execution_count": 41,
   "id": "fb6e6785-2fc0-491c-a214-8751a8231107",
   "metadata": {},
   "outputs": [],
   "source": [
    "k, p, matrix = 400, 0, 'presence_absence_copies'\n",
    "threshold = 0.5\n",
    "combination = f'k_{k}_p_{p}/{matrix}' \n",
    "dataPathIn = f'./input_data/emp/kegg/bit_score_threshold_{threshold}/no_min/{combination}'\n",
    "tree_kegg_bs_05 = TreeNode.read(f'{dataPathIn}/nid_astral-pro{version}.nwk')\n",
    "df_kegg_bs_05 = pd.read_table(f'{dataPathIn}/metadata_astral-pro{version}.tsv', index_col = 0)"
   ]
  },
  {
   "cell_type": "code",
   "execution_count": 42,
   "id": "3e30dc63-1994-44e7-9de1-1805b51079d1",
   "metadata": {},
   "outputs": [],
   "source": [
    "k, p, matrix = 400, 0, 'presence_absence_copies'\n",
    "threshold = 0.0\n",
    "combination = f'k_{k}_p_{p}/{matrix}' \n",
    "dataPathIn = f'./input_data/emp/kegg/bit_score_threshold_{threshold}/no_min/{combination}'\n",
    "tree_kegg_bs_0 = TreeNode.read(f'{dataPathIn}/nid_astral-pro{version}.nwk')\n",
    "df_kegg_bs_0 = pd.read_table(f'{dataPathIn}/metadata_astral-pro{version}.tsv', index_col = 0)"
   ]
  },
  {
   "cell_type": "code",
   "execution_count": 43,
   "id": "c1b96a83-a216-4d94-9081-353886435212",
   "metadata": {},
   "outputs": [],
   "source": [
    "k, p, matrix = 400, 0, 'presence_absence_copies'\n",
    "threshold = 1.0\n",
    "version = 2\n",
    "combination = f'k_{k}_p_{p}/{matrix}' \n",
    "dataPathIn = f'./input_data/emp/eggnog/bit_score_threshold_{threshold}/no_min_marker_genes_per_genome/{combination}'\n",
    "tree_eggnog_bs_1 = TreeNode.read(f'{dataPathIn}/nid_astral-pro{version}.nwk')\n",
    "df_eggnog_bs_1 = pd.read_table(f'{dataPathIn}/metadata_astral-pro{version}.tsv', index_col = 0)"
   ]
  },
  {
   "cell_type": "code",
   "execution_count": 44,
   "id": "47d8e0e7-3966-42d2-ab65-ea1d48dd37c0",
   "metadata": {},
   "outputs": [],
   "source": [
    "k, p, matrix = 400, 0, 'presence_absence_copies'\n",
    "threshold = 0.98\n",
    "combination = f'k_{k}_p_{p}/{matrix}' \n",
    "dataPathIn = f'./input_data/emp/eggnog/bit_score_threshold_{threshold}/no_min/{combination}'\n",
    "tree_eggnog_bs_098 = TreeNode.read(f'{dataPathIn}/nid_astral-pro{version}.nwk')\n",
    "df_eggnog_bs_098 = pd.read_table(f'{dataPathIn}/metadata_astral-pro{version}.tsv', index_col = 0)"
   ]
  },
  {
   "cell_type": "code",
   "execution_count": 45,
   "id": "eecccb77-8738-4d88-bb2c-083228af80c7",
   "metadata": {},
   "outputs": [],
   "source": [
    "k, p, matrix = 400, 0, 'presence_absence_copies'\n",
    "threshold = 0.95\n",
    "combination = f'k_{k}_p_{p}/{matrix}' \n",
    "dataPathIn = f'./input_data/emp/eggnog/bit_score_threshold_{threshold}/no_min/{combination}'\n",
    "tree_eggnog_bs_095 = TreeNode.read(f'{dataPathIn}/nid_astral-pro{version}.nwk')\n",
    "df_eggnog_bs_095 = pd.read_table(f'{dataPathIn}/metadata_astral-pro{version}.tsv', index_col = 0)"
   ]
  },
  {
   "cell_type": "code",
   "execution_count": 46,
   "id": "a579c1e1-1205-4dd9-af45-69a15a24a21e",
   "metadata": {},
   "outputs": [],
   "source": [
    "k, p, matrix = 400, 0, 'presence_absence_copies'\n",
    "threshold = 0.9\n",
    "combination = f'k_{k}_p_{p}/{matrix}' \n",
    "dataPathIn = f'./input_data/emp/eggnog/bit_score_threshold_{threshold}/no_min/{combination}'\n",
    "tree_eggnog_bs_09 = TreeNode.read(f'{dataPathIn}/nid_astral-pro{version}.nwk')\n",
    "df_eggnog_bs_09 = pd.read_table(f'{dataPathIn}/metadata_astral-pro{version}.tsv', index_col = 0)"
   ]
  },
  {
   "cell_type": "code",
   "execution_count": 47,
   "id": "a0210784-a694-4854-b32f-59ad12dc7afd",
   "metadata": {},
   "outputs": [],
   "source": [
    "k, p, matrix = 400, 0, 'presence_absence_copies'\n",
    "threshold = 0.5\n",
    "combination = f'k_{k}_p_{p}/{matrix}' \n",
    "dataPathIn = f'./input_data/emp/eggnog/bit_score_threshold_{threshold}/no_min/{combination}'\n",
    "tree_eggnog_bs_05 = TreeNode.read(f'{dataPathIn}/nid_astral-pro{version}.nwk')\n",
    "df_eggnog_bs_05 = pd.read_table(f'{dataPathIn}/metadata_astral-pro{version}.tsv', index_col = 0)"
   ]
  },
  {
   "cell_type": "code",
   "execution_count": 48,
   "id": "11de213f-9131-4264-933b-21b6af4245c2",
   "metadata": {},
   "outputs": [],
   "source": [
    "k, p, matrix = 400, 0, 'presence_absence_copies'\n",
    "threshold = 0.0\n",
    "combination = f'k_{k}_p_{p}/{matrix}' \n",
    "dataPathIn = f'./input_data/emp/eggnog/bit_score_threshold_{threshold}/no_min/{combination}'\n",
    "tree_eggnog_bs_0 = TreeNode.read(f'{dataPathIn}/nid_astral-pro{version}.nwk')\n",
    "df_eggnog_bs_0 = pd.read_table(f'{dataPathIn}/metadata_astral-pro{version}.tsv', index_col = 0)"
   ]
  },
  {
   "cell_type": "markdown",
   "id": "3960058a-e861-4091-a670-5bdc499693a6",
   "metadata": {},
   "source": [
    "Figures"
   ]
  },
  {
   "cell_type": "code",
   "execution_count": 49,
   "id": "62e2582d-3a8b-4266-a732-8c70045a6fc7",
   "metadata": {},
   "outputs": [
    {
     "data": {
      "image/png": "[encoded data removed]",
      "text/plain": [
       "<Figure size 410x300 with 1 Axes>"
      ]
     },
     "metadata": {},
     "output_type": "display_data"
    }
   ],
   "source": [
    "plt.figure(figsize = (4.1, 3))\n",
    "k = 400\n",
    "p = 0\n",
    "datum_kegg_bs_1 = df_kegg_bs_1['pp1'].values\n",
    "datum_kegg_bs_098 = df_kegg_bs_098['pp1'].values\n",
    "datum_kegg_bs_095 = df_kegg_bs_095['pp1'].values\n",
    "datum_kegg_bs_09 = df_kegg_bs_09['pp1'].values\n",
    "datum_kegg_bs_05 = df_kegg_bs_05['pp1'].values\n",
    "datum_kegg_bs_0 = df_kegg_bs_0['pp1'].values\n",
    "y = [np.sum(datum_kegg_bs_1 >= 0.95) / len(datum_kegg_bs_1),\n",
    "    np.sum(datum_kegg_bs_098 >= 0.95) / len(datum_kegg_bs_098),\n",
    "     np.sum(datum_kegg_bs_095 >= 0.95) / len(datum_kegg_bs_095),\n",
    "     np.sum(datum_kegg_bs_09 >= 0.95) / len(datum_kegg_bs_09),\n",
    "    np.sum(datum_kegg_bs_05 >= 0.95) / len(datum_kegg_bs_05),\n",
    "    np.sum(datum_kegg_bs_0 >= 0.95) / len(datum_kegg_bs_0)]\n",
    "x = np.arange(len(y))\n",
    "plt.plot(x, y, marker = 'o', color = '#f72585', label = 'KEGG', ls = 'dashed', markerfacecolor = 'none')\n",
    "\n",
    "datum_eggnog_bs_1 = df_eggnog_bs_1['pp1'].values\n",
    "datum_eggnog_bs_098 = df_eggnog_bs_095['pp1'].values\n",
    "datum_eggnog_bs_095 = df_eggnog_bs_095['pp1'].values\n",
    "datum_eggnog_bs_09 = df_eggnog_bs_09['pp1'].values\n",
    "datum_eggnog_bs_05 = df_eggnog_bs_05['pp1'].values\n",
    "datum_eggnog_bs_0 = df_eggnog_bs_0['pp1'].values\n",
    "y = [np.sum(datum_eggnog_bs_1 >= 0.95) / len(datum_eggnog_bs_1),\n",
    "    np.sum(datum_eggnog_bs_098 >= 0.95) / len(datum_eggnog_bs_098),\n",
    "     np.sum(datum_eggnog_bs_095 >= 0.95) / len(datum_eggnog_bs_095),\n",
    "     np.sum(datum_eggnog_bs_09 >= 0.95) / len(datum_eggnog_bs_09),\n",
    "     np.sum(datum_eggnog_bs_05 >= 0.95) / len(datum_eggnog_bs_05),\n",
    "    np.sum(datum_eggnog_bs_0 >= 0.95) / len(datum_eggnog_bs_0)]\n",
    "plt.plot(x, y, marker = 'o', color = '#4361ee', label = 'EggNog', ls = 'dashed', markerfacecolor = 'none')     \n",
    "\n",
    "plt.xticks(x, labels = [1.0, 0.98, 0.95, 0.9, 0.5, 0.0])\n",
    "plt.xlabel('Bit score threshold')\n",
    "plt.ylabel('Proportion of\\nconfident branches')\n",
    "plt.tick_params(top = True, right = True, direction = 'in', which = 'both')\n",
    "plt.savefig(f'./figures/figure_S5A_lpp.svg')\n",
    "plt.show()"
   ]
  },
  {
   "cell_type": "code",
   "execution_count": 50,
   "id": "b3c2bb1b-870e-41cf-8e68-a7d25bf12c48",
   "metadata": {},
   "outputs": [],
   "source": [
    "# order: bs_1, bs_098, bs_095, bs_09, bs_05, bs_0\n",
    "# Calculated during marker selection: as adj_mod2[list(all_genes)].sum()\n",
    "number_genes_kegg = np.array([212810, 216800, 221975, 231122, 276235, 283418])\n",
    "number_genes_eggnog = np.array([238231, 244085, 253850, 272207, 418600, 561910])"
   ]
  },
  {
   "cell_type": "code",
   "execution_count": 51,
   "id": "5b0af28f-f613-4595-8ca3-e9241312af88",
   "metadata": {},
   "outputs": [
    {
     "data": {
      "image/png": "[encoded data removed]",
      "text/plain": [
       "<Figure size 415x300 with 1 Axes>"
      ]
     },
     "metadata": {},
     "output_type": "display_data"
    }
   ],
   "source": [
    "plt.figure(figsize = (4.15, 3))\n",
    "x = [0, 1, 2, 3, 4, 5]\n",
    "plt.bar(x, number_genes_eggnog, color = '#4361ee')\n",
    "plt.bar(x, number_genes_kegg, bottom = number_genes_eggnog, color = '#f72585')\n",
    "plt.xticks(x, labels = [1.0, 0.98, 0.95, 0.9, 0.5, 0.0])\n",
    "plt.tick_params(top = True, right = True, direction = 'in', which = 'both')\n",
    "plt.xlabel('Bit score threshold')\n",
    "plt.ylabel('Total number of genes')\n",
    "plt.savefig(f'./figures/figure_S5A_copy_number.svg')\n",
    "plt.show()"
   ]
  },
  {
   "cell_type": "code",
   "execution_count": null,
   "id": "91a328a4-a3fd-4bc8-b948-02de85f3e027",
   "metadata": {},
   "outputs": [],
   "source": []
  },
  {
   "cell_type": "code",
   "execution_count": null,
   "id": "26107d52-1c31-40e7-8818-eda51943a172",
   "metadata": {},
   "outputs": [],
   "source": []
  },
  {
   "cell_type": "code",
   "execution_count": null,
   "id": "ef5786b3-d08d-4774-adf0-3ba8c3096859",
   "metadata": {},
   "outputs": [],
   "source": []
  },
  {
   "cell_type": "code",
   "execution_count": null,
   "id": "58c178a5-db71-4500-89f3-761b96a5f357",
   "metadata": {},
   "outputs": [],
   "source": []
  },
  {
   "cell_type": "code",
   "execution_count": null,
   "id": "1785d17a-58f0-4c29-992a-3ee75c21a985",
   "metadata": {},
   "outputs": [],
   "source": []
  }
 ],
 "metadata": {
  "kernelspec": {
   "display_name": "Python 3 (ipykernel)",
   "language": "python",
   "name": "python3"
  },
  "language_info": {
   "codemirror_mode": {
    "name": "ipython",
    "version": 3
   },
   "file_extension": ".py",
   "mimetype": "text/x-python",
   "name": "python",
   "nbconvert_exporter": "python",
   "pygments_lexer": "ipython3",
   "version": "3.10.13"
  }
 },
 "nbformat": 4,
 "nbformat_minor": 5
}
