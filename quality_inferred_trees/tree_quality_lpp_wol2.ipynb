{
 "cells": [
  {
   "cell_type": "markdown",
   "id": "74851c22-28d4-4d86-9baa-59090e6e342e",
   "metadata": {},
   "source": [
    "# Quality of trees (proportion of confident branches, LPP) for 1,510 genomes from the WoL2"
   ]
  },
  {
   "cell_type": "code",
   "execution_count": 1,
   "id": "510294f7-2064-4fa9-8651-6c9f810eb379",
   "metadata": {},
   "outputs": [],
   "source": [
    "import sys, re\n",
    "import pandas as pd\n",
    "import numpy as np\n",
    "from skbio.tree import TreeNode\n",
    "import matplotlib.pyplot as plt"
   ]
  },
  {
   "cell_type": "code",
   "execution_count": 2,
   "id": "ecb4e29d-4f60-4c95-8afd-83924b5352ae",
   "metadata": {},
   "outputs": [],
   "source": [
    "import warnings\n",
    "warnings.filterwarnings('ignore')"
   ]
  },
  {
   "cell_type": "code",
   "execution_count": 3,
   "id": "1e6e9e02-644f-43b8-a418-2a24ec8b24c1",
   "metadata": {},
   "outputs": [],
   "source": [
    "plt.rcParams.update({\n",
    "    'figure.autolayout': True,\n",
    "    'savefig.bbox': 'tight',\n",
    "    'svg.fonttype': 'none',\n",
    "    'font.sans-serif': 'Arial',\n",
    "    'font.size': 12,\n",
    "    'boxplot.medianprops.linewidth': 2,\n",
    "    'boxplot.flierprops.markeredgecolor': 'none',\n",
    "    'boxplot.flierprops.markersize': 5})"
   ]
  },
  {
   "cell_type": "markdown",
   "id": "187c31c7-5228-48cc-b4c1-d2e8a4051fcd",
   "metadata": {},
   "source": [
    "Genomes"
   ]
  },
  {
   "cell_type": "code",
   "execution_count": 4,
   "id": "7b0d9b7e-6126-4d18-b23a-3670f1d4afe3",
   "metadata": {},
   "outputs": [],
   "source": [
    "genomes = np.loadtxt(f'./input_data/genomes_sampled_family_10.txt', dtype = str)"
   ]
  },
  {
   "cell_type": "markdown",
   "id": "3b68b5ac-9f4e-4011-b0b8-e8e0b59fb8d2",
   "metadata": {},
   "source": [
    "Astral-pro version"
   ]
  },
  {
   "cell_type": "code",
   "execution_count": 5,
   "id": "cfb74f52-8e92-4833-994d-409903e1bb00",
   "metadata": {},
   "outputs": [],
   "source": [
    "version = 2"
   ]
  },
  {
   "cell_type": "markdown",
   "id": "c08b94cd-71dd-4edd-8090-97fbe4f68992",
   "metadata": {},
   "source": [
    "### 41 SCG from Martinez-Gutierrez"
   ]
  },
  {
   "cell_type": "code",
   "execution_count": 6,
   "id": "7e4e6589-94ea-4513-ae92-08f9981de36f",
   "metadata": {},
   "outputs": [],
   "source": [
    "dataPathIn = f'./input_data/wol2/martinez_gutierrez/wol2'"
   ]
  },
  {
   "cell_type": "code",
   "execution_count": 7,
   "id": "5ecf2b4f-6687-4c46-ba15-8df8a5050b5c",
   "metadata": {},
   "outputs": [
    {
     "data": {
      "text/plain": [
       "<TreeNode, name: N1, internal node count: 1508, tips count: 1510>"
      ]
     },
     "execution_count": 7,
     "metadata": {},
     "output_type": "execute_result"
    }
   ],
   "source": [
    "tree_martinez = TreeNode.read(f'{dataPathIn}/nid_astral-pro{version}.nwk')\n",
    "tree_martinez"
   ]
  },
  {
   "cell_type": "code",
   "execution_count": 8,
   "id": "2110a7c8-5fc5-4bff-8d7e-954aee2d4d9c",
   "metadata": {},
   "outputs": [
    {
     "data": {
      "text/plain": [
       "(1508, 9)"
      ]
     },
     "execution_count": 8,
     "metadata": {},
     "output_type": "execute_result"
    }
   ],
   "source": [
    "df_martinez = pd.read_table(f'{dataPathIn}/metadata_astral-pro{version}.tsv', index_col = 0)\n",
    "df_martinez.shape"
   ]
  },
  {
   "cell_type": "markdown",
   "id": "bb915553-7f2b-41eb-9a50-a766ea0f3396",
   "metadata": {},
   "source": [
    "### 57 SCG from Moody 2024"
   ]
  },
  {
   "cell_type": "code",
   "execution_count": 9,
   "id": "aa1ae3d4-0bb9-428f-9caa-2a20280f25c2",
   "metadata": {},
   "outputs": [],
   "source": [
    "dataPathIn = f'./input_data/wol2/moody/wol2'"
   ]
  },
  {
   "cell_type": "code",
   "execution_count": 10,
   "id": "bc57c9a5-12f8-45a4-badc-e1f476e42e8e",
   "metadata": {},
   "outputs": [
    {
     "data": {
      "text/plain": [
       "<TreeNode, name: N1, internal node count: 1508, tips count: 1510>"
      ]
     },
     "execution_count": 10,
     "metadata": {},
     "output_type": "execute_result"
    }
   ],
   "source": [
    "tree_moody = TreeNode.read(f'{dataPathIn}/nid_astral-pro{version}.nwk')\n",
    "tree_moody"
   ]
  },
  {
   "cell_type": "code",
   "execution_count": 11,
   "id": "4c41497a-d326-4604-a287-e984de20b323",
   "metadata": {},
   "outputs": [
    {
     "data": {
      "text/plain": [
       "(1508, 9)"
      ]
     },
     "execution_count": 11,
     "metadata": {},
     "output_type": "execute_result"
    }
   ],
   "source": [
    "df_moody = pd.read_table(f'{dataPathIn}/metadata_astral-pro{version}.tsv', index_col = 0)\n",
    "df_moody.shape"
   ]
  },
  {
   "cell_type": "markdown",
   "id": "503f78eb-fd70-4497-b0e3-760ca1b6fac0",
   "metadata": {},
   "source": [
    "### 400 SCG from Phylophlan3"
   ]
  },
  {
   "cell_type": "code",
   "execution_count": 12,
   "id": "15612833-6205-413c-9e61-e49f84127c0f",
   "metadata": {},
   "outputs": [],
   "source": [
    "dataPathIn = f'./input_data/wol2/phylophlan/wol2_min_marker_genes_per_genome_100'"
   ]
  },
  {
   "cell_type": "code",
   "execution_count": 13,
   "id": "40fb7e54-f7ef-4260-b250-afba32bd897c",
   "metadata": {},
   "outputs": [
    {
     "data": {
      "text/plain": [
       "<TreeNode, name: N1, internal node count: 1504, tips count: 1506>"
      ]
     },
     "execution_count": 13,
     "metadata": {},
     "output_type": "execute_result"
    }
   ],
   "source": [
    "tree_phylophlan_min = TreeNode.read(f'{dataPathIn}/nid_astral-pro{version}.nwk')\n",
    "tree_phylophlan_min"
   ]
  },
  {
   "cell_type": "code",
   "execution_count": 14,
   "id": "94e4412e-c985-4aa9-9b0c-6bfb57d19066",
   "metadata": {},
   "outputs": [
    {
     "data": {
      "text/plain": [
       "(1504, 9)"
      ]
     },
     "execution_count": 14,
     "metadata": {},
     "output_type": "execute_result"
    }
   ],
   "source": [
    "df_phylophlan_min = pd.read_table(f'{dataPathIn}/metadata_astral-pro{version}.tsv', index_col = 0)\n",
    "df_phylophlan_min.shape"
   ]
  },
  {
   "cell_type": "code",
   "execution_count": 15,
   "id": "7b3b5b48-cb16-4997-82a6-aee6185e4863",
   "metadata": {},
   "outputs": [
    {
     "data": {
      "text/plain": [
       "<TreeNode, name: N1, internal node count: 1508, tips count: 1510>"
      ]
     },
     "execution_count": 15,
     "metadata": {},
     "output_type": "execute_result"
    }
   ],
   "source": [
    "dataPathIn = f'./input_data/wol2/phylophlan/wol2_min_marker_genes_per_genome_1'\n",
    "tree_phylophlan_no_min = TreeNode.read(f'{dataPathIn}/nid_astral-pro{version}.nwk')\n",
    "tree_phylophlan_no_min"
   ]
  },
  {
   "cell_type": "code",
   "execution_count": 16,
   "id": "09f66dec-5975-4280-a7fd-3a59c80d6b4f",
   "metadata": {},
   "outputs": [
    {
     "data": {
      "text/plain": [
       "(1508, 9)"
      ]
     },
     "execution_count": 16,
     "metadata": {},
     "output_type": "execute_result"
    }
   ],
   "source": [
    "df_phylophlan_no_min = pd.read_table(f'{dataPathIn}/metadata_astral-pro{version}.tsv', index_col = 0)\n",
    "df_phylophlan_no_min.shape"
   ]
  },
  {
   "cell_type": "markdown",
   "id": "f3891b1e-b9c9-40ee-8e44-32dc891311aa",
   "metadata": {},
   "source": [
    "### 136 SCG from Amphora2"
   ]
  },
  {
   "cell_type": "code",
   "execution_count": 17,
   "id": "096d2ae4-3ef8-436c-8a4f-7802fa28ac36",
   "metadata": {},
   "outputs": [],
   "source": [
    "dataPathIn = f'./input_data/wol2/amphora2/wol2_min_marker_genes_per_genome_34'"
   ]
  },
  {
   "cell_type": "code",
   "execution_count": 18,
   "id": "e3beebb4-8528-4c29-a312-3b1ad399a132",
   "metadata": {},
   "outputs": [
    {
     "data": {
      "text/plain": [
       "<TreeNode, name: N1, internal node count: 1439, tips count: 1441>"
      ]
     },
     "execution_count": 18,
     "metadata": {},
     "output_type": "execute_result"
    }
   ],
   "source": [
    "tree_amphora_min = TreeNode.read(f'{dataPathIn}/nid_astral-pro{version}.nwk')\n",
    "tree_amphora_min"
   ]
  },
  {
   "cell_type": "code",
   "execution_count": 19,
   "id": "8a970ae4-a05e-409d-9b31-8d82fb5c7ea1",
   "metadata": {},
   "outputs": [
    {
     "data": {
      "text/plain": [
       "(1439, 9)"
      ]
     },
     "execution_count": 19,
     "metadata": {},
     "output_type": "execute_result"
    }
   ],
   "source": [
    "df_amphora_min = pd.read_table(f'{dataPathIn}/metadata_astral-pro{version}.tsv', index_col = 0)\n",
    "df_amphora_min.shape"
   ]
  },
  {
   "cell_type": "code",
   "execution_count": 20,
   "id": "e06c753b-f728-4eb7-b9f4-e1f4c2f56fc3",
   "metadata": {},
   "outputs": [],
   "source": [
    "tips_amphora_min = [node.name for node in tree_amphora_min.tips()]"
   ]
  },
  {
   "cell_type": "code",
   "execution_count": 21,
   "id": "40971c9d-bd28-4d32-9dac-f5ad25e25a35",
   "metadata": {},
   "outputs": [
    {
     "data": {
      "text/plain": [
       "<TreeNode, name: N1, internal node count: 1508, tips count: 1510>"
      ]
     },
     "execution_count": 21,
     "metadata": {},
     "output_type": "execute_result"
    }
   ],
   "source": [
    "dataPathIn = f'./input_data/wol2/amphora2/wol2_min_marker_genes_per_genome_1'\n",
    "tree_amphora_no_min = TreeNode.read(f'{dataPathIn}/nid_astral-pro{version}.nwk')\n",
    "tree_amphora_no_min"
   ]
  },
  {
   "cell_type": "code",
   "execution_count": 22,
   "id": "d4e2f8a5-45de-4b0a-8250-f74c3b5d3b8f",
   "metadata": {},
   "outputs": [
    {
     "data": {
      "text/plain": [
       "(1508, 9)"
      ]
     },
     "execution_count": 22,
     "metadata": {},
     "output_type": "execute_result"
    }
   ],
   "source": [
    "df_amphora_no_min = pd.read_table(f'{dataPathIn}/metadata_astral-pro{version}.tsv', index_col = 0)\n",
    "df_amphora_no_min.shape"
   ]
  },
  {
   "cell_type": "code",
   "execution_count": 23,
   "id": "806b18de-dcd2-4e18-ad0c-70f69f3ff3a4",
   "metadata": {},
   "outputs": [],
   "source": [
    "tips_amphora_no_min = [node.name for node in tree_amphora_no_min.tips()]"
   ]
  },
  {
   "cell_type": "markdown",
   "id": "97a4b1dc-53ea-41ab-b0f5-67c2d70b5e5b",
   "metadata": {},
   "source": [
    "### Marker genes selected with our method--KEGG"
   ]
  },
  {
   "cell_type": "code",
   "execution_count": 24,
   "id": "3b081e18-f7d1-427a-b5bf-0ae3a11b7349",
   "metadata": {},
   "outputs": [],
   "source": [
    "ks = [10, 50, 100, 200, 400, 600, 800, 1000]\n",
    "ps = [0]\n",
    "matrix = 'presence_absence_copies'\n",
    "threshold = 1.0"
   ]
  },
  {
   "cell_type": "code",
   "execution_count": 25,
   "id": "a8b5e072-df61-42ca-a5e4-43eaa20ef8db",
   "metadata": {},
   "outputs": [
    {
     "name": "stdout",
     "output_type": "stream",
     "text": [
      "CPU times: user 8.21 s, sys: 66.6 ms, total: 8.28 s\n",
      "Wall time: 8.38 s\n"
     ]
    }
   ],
   "source": [
    "%%time\n",
    "trees_kegg_min = {}\n",
    "metadata_kegg_min = {}\n",
    "for k in ks:\n",
    "    for p in ps:\n",
    "        combination = f'k_{k}_p_{p}/{matrix}' \n",
    "        dataPathIn = f'./input_data/wol2/kegg/bit_score_threshold_{threshold}/min_marker_genes_per_genome/{combination}'\n",
    "        try:\n",
    "            metadata_kegg_min[f'k_{k}_p_{p}_{matrix}'] = pd.read_table(f'{dataPathIn}/metadata_astral-pro{version}.tsv', index_col = 0)\n",
    "            trees_kegg_min[f'k_{k}_p_{p}_{matrix}'] = TreeNode.read(f'{dataPathIn}/nid_astral-pro{version}.nwk')\n",
    "        except:\n",
    "            print(f'\\tCannot be loaded. Error in outgroup')"
   ]
  },
  {
   "cell_type": "code",
   "execution_count": 26,
   "id": "46eb158c-780d-47b6-8727-70f09ca472cb",
   "metadata": {},
   "outputs": [
    {
     "name": "stdout",
     "output_type": "stream",
     "text": [
      "CPU times: user 8.26 s, sys: 61.1 ms, total: 8.32 s\n",
      "Wall time: 8.35 s\n"
     ]
    }
   ],
   "source": [
    "%%time\n",
    "trees_kegg_no_min = {}\n",
    "metadata_kegg_no_min = {}\n",
    "for k in ks:\n",
    "    for p in ps:\n",
    "        combination = f'k_{k}_p_{p}/{matrix}' \n",
    "        dataPathIn = f'./input_data/wol2/kegg/bit_score_threshold_{threshold}/no_min_marker_genes_per_genome/{combination}'\n",
    "        try:\n",
    "            metadata_kegg_no_min[f'k_{k}_p_{p}_{matrix}'] = pd.read_table(f'{dataPathIn}/metadata_astral-pro{version}.tsv', index_col = 0)\n",
    "            trees_kegg_no_min[f'k_{k}_p_{p}_{matrix}'] = TreeNode.read(f'{dataPathIn}/nid_astral-pro{version}.nwk')\n",
    "        except:\n",
    "            print(f'\\tCannot be loaded. Error in outgroup')"
   ]
  },
  {
   "cell_type": "markdown",
   "id": "9560b7bb-5a22-4083-bdba-3b31c341cbdb",
   "metadata": {},
   "source": [
    "### Marker genes selected with our approach--EggNog"
   ]
  },
  {
   "cell_type": "code",
   "execution_count": 27,
   "id": "fe29c57a-4756-4de4-9e25-7fc557891a93",
   "metadata": {},
   "outputs": [],
   "source": [
    "ks = [10, 50, 100, 200, 400, 600, 800, 1000]\n",
    "ps = [0]\n",
    "matrix = 'presence_absence_copies'\n",
    "threshold = 1.0"
   ]
  },
  {
   "cell_type": "code",
   "execution_count": 28,
   "id": "af8f7452-9512-4bce-90ec-27f7d3bba6d8",
   "metadata": {},
   "outputs": [
    {
     "name": "stdout",
     "output_type": "stream",
     "text": [
      "CPU times: user 8.19 s, sys: 66.9 ms, total: 8.25 s\n",
      "Wall time: 8.28 s\n"
     ]
    }
   ],
   "source": [
    "%%time\n",
    "trees_eggnog_min = {}\n",
    "metadata_eggnog_min = {}\n",
    "for k in ks:\n",
    "    for p in ps:\n",
    "        combination = f'k_{k}_p_{p}/{matrix}' \n",
    "        dataPathIn = f'./input_data/wol2/eggnog/bit_score_threshold_{threshold}/min_marker_genes_per_genome/{combination}'\n",
    "        try:\n",
    "            metadata_eggnog_min[f'k_{k}_p_{p}_{matrix}'] = pd.read_table(f'{dataPathIn}/metadata_astral-pro{version}.tsv', index_col = 0)\n",
    "            trees_eggnog_min[f'k_{k}_p_{p}_{matrix}'] = TreeNode.read(f'{dataPathIn}/nid_astral-pro{version}.nwk')\n",
    "        except:\n",
    "            print(f'\\tCannot be loaded. Error in outgroup')"
   ]
  },
  {
   "cell_type": "code",
   "execution_count": 29,
   "id": "9c3ef0dd-119c-4b7d-b948-0180bad427d7",
   "metadata": {},
   "outputs": [
    {
     "name": "stdout",
     "output_type": "stream",
     "text": [
      "CPU times: user 8.27 s, sys: 62 ms, total: 8.34 s\n",
      "Wall time: 8.37 s\n"
     ]
    }
   ],
   "source": [
    "%%time\n",
    "trees_eggnog_no_min = {}\n",
    "metadata_eggnog_no_min = {}\n",
    "for k in ks:\n",
    "    for p in ps:\n",
    "        combination = f'k_{k}_p_{p}/{matrix}' \n",
    "        dataPathIn = f'./input_data/wol2/eggnog/bit_score_threshold_{threshold}/no_min_marker_genes_per_genome/{combination}'\n",
    "        try:\n",
    "            metadata_eggnog_no_min[f'k_{k}_p_{p}_{matrix}'] = pd.read_table(f'{dataPathIn}/metadata_astral-pro{version}.tsv', index_col = 0)\n",
    "            trees_eggnog_no_min[f'k_{k}_p_{p}_{matrix}'] = TreeNode.read(f'{dataPathIn}/nid_astral-pro{version}.nwk')\n",
    "        except:\n",
    "            print(f'\\tCannot be loaded. Error in outgroup')"
   ]
  },
  {
   "cell_type": "markdown",
   "id": "0aa3f561-43a1-4e8f-be28-8f4eedce30f5",
   "metadata": {},
   "source": [
    "# Figures"
   ]
  },
  {
   "cell_type": "code",
   "execution_count": 30,
   "id": "308df1d5-99cd-4dc7-800c-e7fe3719c902",
   "metadata": {},
   "outputs": [
    {
     "data": {
      "image/png": "[encoded data removed]",
      "text/plain": [
       "<Figure size 400x300 with 1 Axes>"
      ]
     },
     "metadata": {},
     "output_type": "display_data"
    }
   ],
   "source": [
    "plt.figure(figsize = (4, 3))\n",
    "\n",
    "# KEGG\n",
    "y_kegg_min = []\n",
    "y_kegg_no_min = []\n",
    "for k in ks:\n",
    "    datum_kegg_min = metadata_kegg_min[f'k_{k}_p_{p}_{matrix}']['pp1'].values\n",
    "    datum_kegg_no_min = metadata_kegg_no_min[f'k_{k}_p_{p}_{matrix}']['pp1'].values\n",
    "    y_kegg_min.append(np.sum(datum_kegg_min >= 0.95) / len(datum_kegg_min))\n",
    "    y_kegg_no_min.append(np.sum(datum_kegg_no_min >= 0.95) / len(datum_kegg_no_min))\n",
    "plt.plot(ks, y_kegg_min, color = '#f72585', alpha = 0.6, marker = '.', label = f'KEGG')\n",
    "plt.plot(ks, y_kegg_no_min, color = '#f72585', alpha = 0.6, marker = '.', ls = 'dashed',\n",
    "        markerfacecolor = 'none')\n",
    "\n",
    "# EggNog\n",
    "y_eggnog_min = []\n",
    "y_eggnog_no_min = []\n",
    "for k in ks:\n",
    "    datum_eggnog_min = metadata_eggnog_min[f'k_{k}_p_{p}_{matrix}']['pp1'].values\n",
    "    datum_eggnog_no_min = metadata_eggnog_no_min[f'k_{k}_p_{p}_{matrix}']['pp1'].values\n",
    "    y_eggnog_min.append(np.sum(datum_eggnog_min >= 0.95) / len(datum_eggnog_min))\n",
    "    y_eggnog_no_min.append(np.sum(datum_eggnog_no_min >= 0.95) / len(datum_eggnog_no_min))\n",
    "plt.plot(ks, y_eggnog_min, color = '#4361ee', alpha = 0.6, marker = '.', label = f'EggNog')\n",
    "plt.plot(ks, y_eggnog_no_min, color = '#4361ee', alpha = 0.6, marker = '.', ls = 'dashed',\n",
    "        markerfacecolor = 'none')\n",
    "\n",
    "# Previous marker sets\n",
    "datum_martinez = df_martinez['pp1'].values\n",
    "plt.scatter(41, np.sum(datum_martinez >= 0.95) / len(datum_martinez), color = 'r', marker = 's', alpha = 0.8, label = 'Martinez')\n",
    "datum_moody = df_moody['pp1'].values\n",
    "plt.scatter(57, np.sum(datum_moody >= 0.95) / len(datum_moody), color = 'b', marker = 's', alpha = 0.8, label = 'Moody')\n",
    "\n",
    "datum_phylophlan_min = df_phylophlan_min['pp1'].values\n",
    "plt.scatter(400, np.sum(datum_phylophlan_min >= 0.95) / len(datum_phylophlan_min), color = 'g', marker = 's',\n",
    "            alpha = 0.8, label = 'Phylophlan3',\n",
    "           zorder = 2)\n",
    "\n",
    "datum_phylophlan_no_min = df_phylophlan_no_min['pp1'].values\n",
    "plt.scatter(400, np.sum(datum_phylophlan_no_min >= 0.95) / len(datum_phylophlan_no_min), color = 'g', marker = 's',\n",
    "            alpha = 0.8,\n",
    "           zorder = 2, facecolor = 'none')\n",
    "\n",
    "datum_amphora_min = df_amphora_min['pp1'].values\n",
    "plt.scatter(136, np.sum(datum_amphora_min >= 0.95) / len(datum_amphora_min), color = 'orange', marker = 's',\n",
    "            alpha = 0.8, label = 'Amphora2')\n",
    "datum_amphora_no_min = df_amphora_no_min['pp1'].values\n",
    "plt.scatter(136, np.sum(datum_amphora_no_min >= 0.95) / len(datum_amphora_no_min), color = 'orange', marker = 's',\n",
    "            alpha = 0.8, facecolor = 'none')\n",
    "\n",
    "plt.xlabel('k')\n",
    "plt.ylabel('Proportion of\\nconfident branches')\n",
    "plt.tick_params(top = True, right = True, direction = 'in', which = 'both')\n",
    "\n",
    "plt.savefig(f'./figures/figure_3A.svg')\n",
    "plt.show()"
   ]
  },
  {
   "cell_type": "code",
   "execution_count": 31,
   "id": "b04fd302-1f8b-474d-b1cb-adba56e99515",
   "metadata": {},
   "outputs": [
    {
     "data": {
      "image/png": "[encoded data removed]",
      "text/plain": [
       "<Figure size 400x300 with 1 Axes>"
      ]
     },
     "metadata": {},
     "output_type": "display_data"
    }
   ],
   "source": [
    "plt.figure(figsize = (4, 3))\n",
    "\n",
    "# KEGG\n",
    "y_kegg_min = []\n",
    "y_kegg_no_min = []\n",
    "for k in ks:\n",
    "    datum_kegg_min = metadata_kegg_min[f'k_{k}_p_{p}_{matrix}']['pp1'].values\n",
    "    datum_kegg_no_min = metadata_kegg_no_min[f'k_{k}_p_{p}_{matrix}']['pp1'].values\n",
    "    y_kegg_min.append(np.sum(datum_kegg_min >= 0.95) / len(datum_kegg_min))\n",
    "    y_kegg_no_min.append(np.sum(datum_kegg_no_min >= 0.95) / len(datum_kegg_no_min))\n",
    "plt.plot(ks, y_kegg_min, color = '#f72585', alpha = 0.6, marker = '.', label = f'KEGG')\n",
    "plt.plot(ks, y_kegg_no_min, color = '#f72585', alpha = 0.6, marker = '.', ls = 'dashed',\n",
    "        markerfacecolor = 'none')\n",
    "\n",
    "# EggNog\n",
    "y_eggnog_min = []\n",
    "y_eggnog_no_min = []\n",
    "for k in ks:\n",
    "    datum_eggnog_min = metadata_eggnog_min[f'k_{k}_p_{p}_{matrix}']['pp1'].values\n",
    "    datum_eggnog_no_min = metadata_eggnog_no_min[f'k_{k}_p_{p}_{matrix}']['pp1'].values\n",
    "    y_eggnog_min.append(np.sum(datum_eggnog_min >= 0.95) / len(datum_eggnog_min))\n",
    "    y_eggnog_no_min.append(np.sum(datum_eggnog_no_min >= 0.95) / len(datum_eggnog_no_min))\n",
    "plt.plot(ks, y_eggnog_min, color = '#4361ee', alpha = 0.6, marker = '.', label = f'EggNog')\n",
    "plt.plot(ks, y_eggnog_no_min, color = '#4361ee', alpha = 0.6, marker = '.', ls = 'dashed',\n",
    "        markerfacecolor = 'none')\n",
    "\n",
    "# Previous marker sets\n",
    "datum_martinez = df_martinez['pp1'].values\n",
    "plt.scatter(41, np.sum(datum_martinez >= 0.95) / len(datum_martinez), color = 'r', marker = 's', alpha = 0.8, label = 'Martinez')\n",
    "datum_moody = df_moody['pp1'].values\n",
    "plt.scatter(57, np.sum(datum_moody >= 0.95) / len(datum_moody), color = 'b', marker = 's', alpha = 0.8, label = 'Moody')\n",
    "\n",
    "datum_phylophlan_min = df_phylophlan_min['pp1'].values\n",
    "plt.scatter(400, np.sum(datum_phylophlan_min >= 0.95) / len(datum_phylophlan_min), color = 'g', marker = 's',\n",
    "            alpha = 0.8, label = 'Phylophlan3',\n",
    "           zorder = 2)\n",
    "\n",
    "datum_phylophlan_no_min = df_phylophlan_no_min['pp1'].values\n",
    "plt.scatter(400, np.sum(datum_phylophlan_no_min >= 0.95) / len(datum_phylophlan_no_min), color = 'g', marker = 's',\n",
    "            alpha = 0.8,\n",
    "           zorder = 2, facecolor = 'none')\n",
    "\n",
    "datum_amphora_min = df_amphora_min['pp1'].values\n",
    "plt.scatter(136, np.sum(datum_amphora_min >= 0.95) / len(datum_amphora_min), color = 'orange', marker = 's',\n",
    "            alpha = 0.8, label = 'Amphora2')\n",
    "datum_amphora_no_min = df_amphora_no_min['pp1'].values\n",
    "plt.scatter(136, np.sum(datum_amphora_no_min >= 0.95) / len(datum_amphora_no_min), color = 'orange', marker = 's',\n",
    "            alpha = 0.8, facecolor = 'none')\n",
    "\n",
    "plt.xlabel('k')\n",
    "plt.ylabel('Proportion of\\nconfident branches')\n",
    "plt.tick_params(top = True, right = True, direction = 'in', which = 'both')\n",
    "\n",
    "plt.ylim(0.84, 0.9)\n",
    "plt.xlim(350, 1020)\n",
    "\n",
    "plt.savefig(f'./figures/figure_3A_inset.svg')\n",
    "plt.show()"
   ]
  },
  {
   "cell_type": "markdown",
   "id": "23f56b67-5b45-43ac-a8b3-85e77d8698ae",
   "metadata": {},
   "source": [
    "## Impact of copy number (measured as bitscore)"
   ]
  },
  {
   "cell_type": "markdown",
   "id": "64b48c3d-03a9-4ac2-ad5b-cc12885db5d1",
   "metadata": {},
   "source": [
    "Load data"
   ]
  },
  {
   "cell_type": "code",
   "execution_count": 32,
   "id": "a5c0cfba-53d5-4b66-8574-526ce4c488a6",
   "metadata": {},
   "outputs": [],
   "source": [
    "k, p, matrix = 400, 0, 'presence_absence_copies'\n",
    "threshold = 1.0\n",
    "version = 2\n",
    "combination = f'k_{k}_p_{p}/{matrix}' \n",
    "dataPathIn = f'./input_data/wol2/kegg/bit_score_threshold_{threshold}/min_marker_genes_per_genome/{combination}'"
   ]
  },
  {
   "cell_type": "code",
   "execution_count": 33,
   "id": "f454c386-eb75-46d5-aba6-fa180eaabcc2",
   "metadata": {},
   "outputs": [],
   "source": [
    "tree_kegg_bs_1 = TreeNode.read(f'{dataPathIn}/nid_astral-pro{version}.nwk')\n",
    "df_kegg_bs_1 = pd.read_table(f'{dataPathIn}/metadata_astral-pro{version}.tsv', index_col = 0)"
   ]
  },
  {
   "cell_type": "code",
   "execution_count": 34,
   "id": "12d068b1-c7d8-4261-89d3-e351df44ef97",
   "metadata": {},
   "outputs": [],
   "source": [
    "k, p, matrix = 400, 0, 'presence_absence_copies'\n",
    "threshold = 0.98\n",
    "dataPathIn = f'./input_data/wol2/kegg/bit_score_threshold_{threshold}/{combination}'\n",
    "tree_kegg_bs_098 = TreeNode.read(f'{dataPathIn}/nid_astral-pro{version}.nwk')\n",
    "df_kegg_bs_098 = pd.read_table(f'{dataPathIn}/metadata_astral-pro{version}.tsv', index_col = 0)"
   ]
  },
  {
   "cell_type": "code",
   "execution_count": 35,
   "id": "cd787171-0c43-4cf8-88e9-a48a7e168dba",
   "metadata": {},
   "outputs": [],
   "source": [
    "k, p, matrix = 400, 0, 'presence_absence_copies'\n",
    "threshold = 0.95\n",
    "dataPathIn = f'./input_data/wol2/kegg/bit_score_threshold_{threshold}/{combination}'\n",
    "tree_kegg_bs_095 = TreeNode.read(f'{dataPathIn}/nid_astral-pro{version}.nwk')\n",
    "df_kegg_bs_095 = pd.read_table(f'{dataPathIn}/metadata_astral-pro{version}.tsv', index_col = 0)"
   ]
  },
  {
   "cell_type": "code",
   "execution_count": 36,
   "id": "dda5a4af-83b5-42c2-964e-913a945eddfc",
   "metadata": {},
   "outputs": [],
   "source": [
    "k, p, matrix = 400, 0, 'presence_absence_copies'\n",
    "threshold = 0.9\n",
    "dataPathIn = f'./input_data/wol2/kegg/bit_score_threshold_{threshold}/{combination}'\n",
    "tree_kegg_bs_09 = TreeNode.read(f'{dataPathIn}/nid_astral-pro{version}.nwk')\n",
    "df_kegg_bs_09 = pd.read_table(f'{dataPathIn}/metadata_astral-pro{version}.tsv', index_col = 0)"
   ]
  },
  {
   "cell_type": "code",
   "execution_count": 37,
   "id": "2b4d9de2-f452-4ead-ad09-5390042bcb89",
   "metadata": {},
   "outputs": [],
   "source": [
    "k, p, matrix = 400, 0, 'presence_absence_copies'\n",
    "threshold = 0.5\n",
    "dataPathIn = f'./input_data/wol2/kegg/bit_score_threshold_{threshold}/{combination}'\n",
    "tree_kegg_bs_05 = TreeNode.read(f'{dataPathIn}/nid_astral-pro{version}.nwk')\n",
    "df_kegg_bs_05 = pd.read_table(f'{dataPathIn}/metadata_astral-pro{version}.tsv', index_col = 0)"
   ]
  },
  {
   "cell_type": "code",
   "execution_count": 38,
   "id": "70715b8e-2b25-4024-98ae-0f4b4de2f46c",
   "metadata": {},
   "outputs": [],
   "source": [
    "k, p, matrix = 400, 0, 'presence_absence_copies'\n",
    "threshold = 0.0\n",
    "dataPathIn = f'./input_data/wol2/kegg/bit_score_threshold_{threshold}/{combination}'\n",
    "tree_kegg_bs_0 = TreeNode.read(f'{dataPathIn}/nid_astral-pro{version}.nwk')\n",
    "df_kegg_bs_0 = pd.read_table(f'{dataPathIn}/metadata_astral-pro{version}.tsv', index_col = 0)"
   ]
  },
  {
   "cell_type": "code",
   "execution_count": 39,
   "id": "2d811e79-2947-4ba6-98a5-c6d8fb32ba4a",
   "metadata": {},
   "outputs": [],
   "source": [
    "k, p, matrix = 400, 0, 'presence_absence_copies'\n",
    "threshold = 1.0\n",
    "dataPathIn = f'./input_data/wol2/eggnog/bit_score_threshold_{threshold}/min_marker_genes_per_genome/{combination}'\n",
    "tree_eggnog_bs_1 = TreeNode.read(f'{dataPathIn}/nid_astral-pro{version}.nwk')\n",
    "df_eggnog_bs_1 = pd.read_table(f'{dataPathIn}/metadata_astral-pro{version}.tsv', index_col = 0)"
   ]
  },
  {
   "cell_type": "code",
   "execution_count": 40,
   "id": "fefaad0f-6eff-4309-aa59-53bcd6d67b41",
   "metadata": {},
   "outputs": [],
   "source": [
    "k, p, matrix = 400, 0, 'presence_absence_copies'\n",
    "threshold = 0.98\n",
    "dataPathIn = f'./input_data/wol2/eggnog/bit_score_threshold_{threshold}/{combination}'\n",
    "tree_eggnog_bs_098 = TreeNode.read(f'{dataPathIn}/nid_astral-pro{version}.nwk')\n",
    "df_eggnog_bs_098 = pd.read_table(f'{dataPathIn}/metadata_astral-pro{version}.tsv', index_col = 0)"
   ]
  },
  {
   "cell_type": "code",
   "execution_count": 41,
   "id": "1115da5b-f33d-4673-9ca2-65fb798ef802",
   "metadata": {},
   "outputs": [],
   "source": [
    "k, p, matrix = 400, 0, 'presence_absence_copies'\n",
    "threshold = 0.95\n",
    "dataPathIn = f'./input_data/wol2/eggnog/bit_score_threshold_{threshold}/{combination}'\n",
    "tree_eggnog_bs_095 = TreeNode.read(f'{dataPathIn}/nid_astral-pro{version}.nwk')\n",
    "df_eggnog_bs_095 = pd.read_table(f'{dataPathIn}/metadata_astral-pro{version}.tsv', index_col = 0)"
   ]
  },
  {
   "cell_type": "code",
   "execution_count": 42,
   "id": "d72467b9-e85a-4525-935a-04616e1c091d",
   "metadata": {},
   "outputs": [],
   "source": [
    "k, p, matrix = 400, 0, 'presence_absence_copies'\n",
    "threshold = 0.9\n",
    "dataPathIn = f'./input_data/wol2/eggnog/bit_score_threshold_{threshold}/{combination}'\n",
    "tree_eggnog_bs_09 = TreeNode.read(f'{dataPathIn}/nid_astral-pro{version}.nwk')\n",
    "df_eggnog_bs_09 = pd.read_table(f'{dataPathIn}/metadata_astral-pro{version}.tsv', index_col = 0)"
   ]
  },
  {
   "cell_type": "code",
   "execution_count": 43,
   "id": "10cd9e12-2f07-4f3f-b312-00141d3387c6",
   "metadata": {},
   "outputs": [],
   "source": [
    "k, p, matrix = 400, 0, 'presence_absence_copies'\n",
    "threshold = 0.5\n",
    "dataPathIn = f'./input_data/wol2/eggnog/bit_score_threshold_{threshold}/{combination}'\n",
    "tree_eggnog_bs_05 = TreeNode.read(f'{dataPathIn}/nid_astral-pro{version}.nwk')\n",
    "df_eggnog_bs_05 = pd.read_table(f'{dataPathIn}/metadata_astral-pro{version}.tsv', index_col = 0)"
   ]
  },
  {
   "cell_type": "code",
   "execution_count": 44,
   "id": "df72ece0-db87-49e6-be57-aa90cbb40c56",
   "metadata": {},
   "outputs": [],
   "source": [
    "k, p, matrix = 400, 0, 'presence_absence_copies'\n",
    "threshold = 0.0\n",
    "dataPathIn = f'./input_data/wol2/eggnog/bit_score_threshold_{threshold}/{combination}'\n",
    "tree_eggnog_bs_0 = TreeNode.read(f'{dataPathIn}/nid_astral-pro{version}.nwk')\n",
    "df_eggnog_bs_0 = pd.read_table(f'{dataPathIn}/metadata_astral-pro{version}.tsv', index_col = 0)"
   ]
  },
  {
   "cell_type": "markdown",
   "id": "95bee33e-1228-4df0-b784-48c63300f244",
   "metadata": {},
   "source": [
    "Figures"
   ]
  },
  {
   "cell_type": "code",
   "execution_count": 45,
   "id": "16e726fa-d11e-4302-b686-d084c49de1b5",
   "metadata": {},
   "outputs": [
    {
     "data": {
      "image/png": "[encoded data removed]",
      "text/plain": [
       "<Figure size 400x300 with 1 Axes>"
      ]
     },
     "metadata": {},
     "output_type": "display_data"
    }
   ],
   "source": [
    "plt.figure(figsize = (4, 3))\n",
    "datum_kegg_bs_1 = df_kegg_bs_1['pp1'].values\n",
    "datum_kegg_bs_098 = df_kegg_bs_098['pp1'].values\n",
    "datum_kegg_bs_095 = df_kegg_bs_095['pp1'].values\n",
    "datum_kegg_bs_09 = df_kegg_bs_09['pp1'].values\n",
    "datum_kegg_bs_05 = df_kegg_bs_05['pp1'].values\n",
    "datum_kegg_bs_0 = df_kegg_bs_0['pp1'].values\n",
    "y = [np.sum(datum_kegg_bs_1 >= 0.95) / len(datum_kegg_bs_1),\n",
    "    np.sum(datum_kegg_bs_098 >= 0.95) / len(datum_kegg_bs_098),\n",
    "     np.sum(datum_kegg_bs_095 >= 0.95) / len(datum_kegg_bs_095),\n",
    "     np.sum(datum_kegg_bs_09 >= 0.95) / len(datum_kegg_bs_09),\n",
    "    np.sum(datum_kegg_bs_05 >= 0.95) / len(datum_kegg_bs_05),\n",
    "    np.sum(datum_kegg_bs_0 >= 0.95) / len(datum_kegg_bs_0)]\n",
    "x = np.arange(len(y))\n",
    "plt.plot(x, y, marker = 'o', color = '#f72585', label = 'KEGG', ls = 'dashed', markerfacecolor = 'none')\n",
    "\n",
    "datum_eggnog_bs_1 = df_eggnog_bs_1['pp1'].values\n",
    "datum_eggnog_bs_098 = df_eggnog_bs_098['pp1'].values\n",
    "datum_eggnog_bs_095 = df_eggnog_bs_095['pp1'].values\n",
    "datum_eggnog_bs_09 = df_eggnog_bs_09['pp1'].values\n",
    "datum_eggnog_bs_05 = df_eggnog_bs_05['pp1'].values\n",
    "datum_eggnog_bs_0 = df_eggnog_bs_0['pp1'].values\n",
    "y = [np.sum(datum_eggnog_bs_1 >= 0.95) / len(datum_eggnog_bs_1),\n",
    "    np.sum(datum_eggnog_bs_098 >= 0.95) / len(datum_eggnog_bs_098),\n",
    "     np.sum(datum_eggnog_bs_095 >= 0.95) / len(datum_eggnog_bs_095),\n",
    "     np.sum(datum_eggnog_bs_09 >= 0.95) / len(datum_eggnog_bs_09),\n",
    "     np.sum(datum_eggnog_bs_05 >= 0.95) / len(datum_eggnog_bs_05),\n",
    "    np.sum(datum_eggnog_bs_0 >= 0.95) / len(datum_eggnog_bs_0)]\n",
    "plt.plot(x, y, marker = 'o', color = '#4361ee', label = 'EggNog', ls = 'dashed', markerfacecolor = 'none')     \n",
    "\n",
    "plt.xticks(x, labels = [1.0, 0.98, 0.95, 0.9, 0.5, 0.0])\n",
    "# plt.legend()\n",
    "plt.xlabel('Bit score threshold')\n",
    "plt.ylabel('Proportion of\\nconfident branches')\n",
    "plt.tick_params(top = True, right = True, direction = 'in', which = 'both')\n",
    "plt.savefig(f'./figures/figure_S3A_lpp.svg')\n",
    "plt.show()"
   ]
  },
  {
   "cell_type": "markdown",
   "id": "c735eed7-1251-404e-9c77-18286b1614e2",
   "metadata": {},
   "source": [
    "Number of copies"
   ]
  },
  {
   "cell_type": "code",
   "execution_count": 46,
   "id": "6e126a68-9cc2-435c-a956-f5fd6453de71",
   "metadata": {},
   "outputs": [],
   "source": [
    "# order: bs_1, bs_098, bs_095, bs_09, bs_05, bs_0\n",
    "# Calculated during marker selection: as adj_mod2[list(all_genes)].sum()\n",
    "number_genes_kegg = np.array([517991, 529715, 547561, 578943, 755383, 787005])\n",
    "number_genes_eggnog = np.array([544029, 572413, 628288, 733821, 1292816, 1635329])"
   ]
  },
  {
   "cell_type": "code",
   "execution_count": 47,
   "id": "cd2a3e56-9b5c-4778-9e5e-04630a56a506",
   "metadata": {},
   "outputs": [
    {
     "data": {
      "image/png": "[encoded data removed]",
      "text/plain": [
       "<Figure size 390x320 with 1 Axes>"
      ]
     },
     "metadata": {},
     "output_type": "display_data"
    }
   ],
   "source": [
    "plt.figure(figsize = (3.9, 3.2))\n",
    "x = [0, 1, 2, 3, 4, 5]\n",
    "plt.bar(x, number_genes_eggnog, color = '#4361ee')\n",
    "plt.bar(x, number_genes_kegg, bottom = number_genes_eggnog, color = '#f72585')\n",
    "plt.xticks(x, labels = [1.0, 0.98, 0.95, 0.9, 0.5, 0.0])\n",
    "plt.tick_params(top = True, right = True, direction = 'in', which = 'both')\n",
    "plt.xlabel('Bit score threshold')\n",
    "plt.ylabel('Total number of genes')\n",
    "plt.savefig(f'./figures/figure_S3A_copy_number.svg')\n",
    "plt.show()"
   ]
  },
  {
   "cell_type": "code",
   "execution_count": null,
   "id": "0e562b20-d4b8-4954-ae5d-ede85eba7ff8",
   "metadata": {},
   "outputs": [],
   "source": []
  },
  {
   "cell_type": "code",
   "execution_count": null,
   "id": "9198e0d3-1728-4dbf-a21e-c866810243fa",
   "metadata": {},
   "outputs": [],
   "source": []
  },
  {
   "cell_type": "code",
   "execution_count": null,
   "id": "0f9fcdca-9b83-45b6-977c-778cc74b1004",
   "metadata": {},
   "outputs": [],
   "source": []
  },
  {
   "cell_type": "code",
   "execution_count": null,
   "id": "e311cec5-a560-4cae-aa97-f378339edc3d",
   "metadata": {},
   "outputs": [],
   "source": []
  },
  {
   "cell_type": "code",
   "execution_count": null,
   "id": "4eb5d22d-e5dd-4fa1-a9ac-f470126f9285",
   "metadata": {},
   "outputs": [],
   "source": []
  }
 ],
 "metadata": {
  "kernelspec": {
   "display_name": "Python 3 (ipykernel)",
   "language": "python",
   "name": "python3"
  },
  "language_info": {
   "codemirror_mode": {
    "name": "ipython",
    "version": 3
   },
   "file_extension": ".py",
   "mimetype": "text/x-python",
   "name": "python",
   "nbconvert_exporter": "python",
   "pygments_lexer": "ipython3",
   "version": "3.10.13"
  }
 },
 "nbformat": 4,
 "nbformat_minor": 5
}
