{
 "cells": [
  {
   "cell_type": "markdown",
   "id": "0cbd5fb0-d325-4803-bcf5-55b845b828d0",
   "metadata": {},
   "source": [
    "# Normalized Robinson-Foulds distance to reference tree (WoL2)"
   ]
  },
  {
   "cell_type": "code",
   "execution_count": 1,
   "id": "ac704dac-c4ef-4170-8480-eeb4388962de",
   "metadata": {},
   "outputs": [],
   "source": [
    "import sys, re\n",
    "import pandas as pd\n",
    "import numpy as np\n",
    "import matplotlib.pyplot as plt"
   ]
  },
  {
   "cell_type": "code",
   "execution_count": 2,
   "id": "fa4cfed3-9af7-4dcb-85e4-6dd9ba556162",
   "metadata": {},
   "outputs": [],
   "source": [
    "from warnings import simplefilter\n",
    "simplefilter(action = 'ignore', category = pd.errors.PerformanceWarning)"
   ]
  },
  {
   "cell_type": "code",
   "execution_count": 3,
   "id": "f5ad02f3-8050-490d-933a-bfba7e0b2fc6",
   "metadata": {},
   "outputs": [],
   "source": [
    "import dendropy\n",
    "from dendropy.calculate.treecompare import unweighted_robinson_foulds_distance, weighted_robinson_foulds_distance"
   ]
  },
  {
   "cell_type": "code",
   "execution_count": 4,
   "id": "9a4ee21a-ac34-412d-91a4-da1b040d5393",
   "metadata": {},
   "outputs": [],
   "source": [
    "plt.rcParams.update({\n",
    "    'figure.autolayout': True,\n",
    "    'savefig.bbox': 'tight',\n",
    "    'svg.fonttype': 'none',\n",
    "    'font.sans-serif': 'Arial',\n",
    "    'font.size': 12,\n",
    "    'boxplot.medianprops.linewidth': 2,\n",
    "    'boxplot.flierprops.markeredgecolor': 'none',\n",
    "    'boxplot.flierprops.markersize': 5})"
   ]
  },
  {
   "cell_type": "markdown",
   "id": "4c2ad416-840b-4f77-ae24-478c557593d5",
   "metadata": {},
   "source": [
    "Functions"
   ]
  },
  {
   "cell_type": "code",
   "execution_count": 5,
   "id": "6e13ceca-998a-4496-af9c-d22c7a2fb811",
   "metadata": {},
   "outputs": [],
   "source": [
    "def get_cmap_colors(cmap_name, n):\n",
    "    cmap = plt.get_cmap(cmap_name)\n",
    "    colors = [cmap(i) for i in np.linspace(0, 1, n)]\n",
    "    return colors"
   ]
  },
  {
   "cell_type": "code",
   "execution_count": 6,
   "id": "71bc96dc-18cf-4c1d-878c-d0451af3bcc4",
   "metadata": {},
   "outputs": [],
   "source": [
    "def shared_taxa(tree1, tree2):\n",
    "    taxa1 = {node.taxon.label for node in tree1.leaf_node_iter()}\n",
    "    taxa2 = {node.taxon.label for node in tree2.leaf_node_iter()}\n",
    "    return list(taxa1.intersection(taxa2)), taxa1, taxa2"
   ]
  },
  {
   "cell_type": "code",
   "execution_count": 7,
   "id": "d8964042-6182-4da7-8abc-759c9df31700",
   "metadata": {},
   "outputs": [],
   "source": [
    "def count_internal_branches(tree):\n",
    "    \"\"\"\n",
    "    Calculate the number of internal branches in a phylogenetic tree.\n",
    "\n",
    "    Parameters\n",
    "    ----------\n",
    "    tree : dendropy.Tree\n",
    "        A phylogenetic tree represented by a dendropy Tree object.\n",
    "\n",
    "    Returns\n",
    "    -------\n",
    "    int\n",
    "        The number of internal branches (edges) in the tree.\n",
    "    \"\"\"\n",
    "    # Internal branches are the edges between internal nodes\n",
    "    internal_branches = 0\n",
    "    \n",
    "    for edge in tree.postorder_edge_iter():\n",
    "        if not edge.is_leaf() and edge.tail_node is not None:  # Check if it's an internal branch\n",
    "            internal_branches += 1\n",
    "    \n",
    "    return internal_branches"
   ]
  },
  {
   "cell_type": "code",
   "execution_count": 8,
   "id": "3f0028c4-2a9b-41af-8bc9-d9373593add0",
   "metadata": {},
   "outputs": [],
   "source": [
    "def RF_distance(treeA, treeB, norm = True, **kwargs):\n",
    "    \n",
    "    treeA_copy, treeB_copy = dendropy.Tree(treeA), dendropy.Tree(treeB)\n",
    "    \n",
    "    # Prune trees such that they contain the same taxa, otherwise RF is much larger\n",
    "    taxa_to_keep, taxa1, taxa2 = shared_taxa(treeA_copy, treeB_copy)\n",
    "    if len(taxa_to_keep) < len(taxa1) or len(taxa_to_keep) < len(taxa2):\n",
    "        treeA_copy.retain_taxa_with_labels(taxa_to_keep)\n",
    "        treeB_copy.retain_taxa_with_labels(taxa_to_keep)\n",
    "        \n",
    "    # Update bipartition\n",
    "    treeA_copy.update_bipartitions()\n",
    "    treeB_copy.update_bipartitions()\n",
    "    \n",
    "    # Assuming trees share the same taxon name space\n",
    "    rf = unweighted_robinson_foulds_distance(treeA_copy, treeB_copy)\n",
    "    if norm:\n",
    "        # Normalize by the maximal possible distance: which is the sum of internal branches\n",
    "        # between both trees. Alternatively, if both trees are unrooted and binary, the sum\n",
    "        # is always 2n - 6, where n is the number of tips in the tree.\n",
    "        # max_dist = 2 * len(taxa_to_keep) - 6\n",
    "        # Number of internal branches\n",
    "        n, m = count_internal_branches(treeA_copy), count_internal_branches(treeB_copy)\n",
    "        if len(taxa_to_keep) > 3:\n",
    "            rf = rf / (n + m)\n",
    "        else:\n",
    "            rf = 0.0\n",
    "\n",
    "    # Ratio between species in inferred to actual species tree\n",
    "    ratio_sps = len(taxa2) / len(taxa1)\n",
    "    \n",
    "    return rf"
   ]
  },
  {
   "cell_type": "markdown",
   "id": "77bcc276-896a-48a9-9cd2-44f1da417121",
   "metadata": {},
   "source": [
    "Genomes"
   ]
  },
  {
   "cell_type": "code",
   "execution_count": 9,
   "id": "09703264-3ffc-45dd-9470-01cadf8a0925",
   "metadata": {},
   "outputs": [
    {
     "data": {
      "text/plain": [
       "(1510,)"
      ]
     },
     "execution_count": 9,
     "metadata": {},
     "output_type": "execute_result"
    }
   ],
   "source": [
    "genomes = np.loadtxt(f'./input_data/genomes_sampled_family_10.txt', dtype = str)\n",
    "genomes.shape"
   ]
  },
  {
   "cell_type": "markdown",
   "id": "95395291-8f3c-4d9e-9d83-0427c7b3484b",
   "metadata": {},
   "source": [
    "# Normalized Robinson-Foulds distance to reference phylogeny (WoL2)"
   ]
  },
  {
   "cell_type": "markdown",
   "id": "42a2a41c-ed72-4dbd-b49b-81bddab911ce",
   "metadata": {},
   "source": [
    "Load data"
   ]
  },
  {
   "cell_type": "markdown",
   "id": "fc5251a5-b2a2-470c-bb09-7a46d8b32a03",
   "metadata": {},
   "source": [
    "### Marker genes selected with our approach--KEGG"
   ]
  },
  {
   "cell_type": "code",
   "execution_count": 10,
   "id": "a0b37130-7320-4cda-ac5c-f3cf3ecf0da4",
   "metadata": {},
   "outputs": [],
   "source": [
    "taxon_namespace = dendropy.TaxonNamespace()\n",
    "ks = [10, 50, 100, 200, 400, 600, 800, 1000]\n",
    "ps = [0]\n",
    "matrix = 'presence_absence_copies'\n",
    "threshold = 1.0\n",
    "version = 2\n",
    "taxon_namespace = dendropy.TaxonNamespace()"
   ]
  },
  {
   "cell_type": "code",
   "execution_count": 11,
   "id": "5c3d9dc8-a919-4453-86fe-50cfb0343552",
   "metadata": {},
   "outputs": [
    {
     "name": "stdout",
     "output_type": "stream",
     "text": [
      "CPU times: user 474 ms, sys: 10.6 ms, total: 484 ms\n",
      "Wall time: 489 ms\n"
     ]
    }
   ],
   "source": [
    "%%time\n",
    "trees_kegg_min = {}\n",
    "for k in ks:\n",
    "    for p in ps:\n",
    "        combination = f'k_{k}_p_{p}/{matrix}'\n",
    "        dataPathIn = f'./input_data/wol2/kegg/bit_score_threshold_{threshold}/min_marker_genes_per_genome/{combination}'\n",
    "        trees_kegg_min[f'k_{k}_p_{p}_{matrix}'] = dendropy.Tree.get(path = f'{dataPathIn}/lpp_astral-pro{version}.nwk',\n",
    "                                                                            schema = 'newick', taxon_namespace = taxon_namespace)"
   ]
  },
  {
   "cell_type": "code",
   "execution_count": 12,
   "id": "9fdc78d7-1690-42d0-82c4-373569e6d117",
   "metadata": {},
   "outputs": [
    {
     "name": "stdout",
     "output_type": "stream",
     "text": [
      "CPU times: user 452 ms, sys: 10.6 ms, total: 463 ms\n",
      "Wall time: 466 ms\n"
     ]
    }
   ],
   "source": [
    "%%time\n",
    "trees_kegg_no_min = {}\n",
    "for k in ks:\n",
    "    for p in ps:\n",
    "        combination = f'k_{k}_p_{p}/{matrix}'\n",
    "        dataPathIn = f'./input_data/wol2/kegg/bit_score_threshold_{threshold}/no_min_marker_genes_per_genome/{combination}'\n",
    "        trees_kegg_no_min[f'k_{k}_p_{p}_{matrix}'] = dendropy.Tree.get(path = f'{dataPathIn}/lpp_astral-pro{version}.nwk',\n",
    "                                                                            schema = 'newick', taxon_namespace = taxon_namespace)"
   ]
  },
  {
   "cell_type": "markdown",
   "id": "5a71029d-28f0-44ac-b728-f5500781f4f1",
   "metadata": {},
   "source": [
    "### Marker genes selected with our approach--EggNog"
   ]
  },
  {
   "cell_type": "code",
   "execution_count": 13,
   "id": "bee65c07-0cdc-4d3d-b06f-c2dee788ce62",
   "metadata": {},
   "outputs": [],
   "source": [
    "ks = [10, 50, 100, 200, 400, 600, 800, 1000]\n",
    "ps = [0]\n",
    "matrix = 'presence_absence_copies'\n",
    "threshold = 1.0"
   ]
  },
  {
   "cell_type": "code",
   "execution_count": 14,
   "id": "a57ba73c-923e-43c8-a663-213f33dde493",
   "metadata": {},
   "outputs": [
    {
     "name": "stdout",
     "output_type": "stream",
     "text": [
      "CPU times: user 536 ms, sys: 11.9 ms, total: 548 ms\n",
      "Wall time: 550 ms\n"
     ]
    }
   ],
   "source": [
    "%%time\n",
    "trees_eggnog_min = {}\n",
    "for k in ks:\n",
    "    for p in ps:\n",
    "        combination = f'k_{k}_p_{p}/{matrix}'\n",
    "        dataPathIn = f'./input_data/wol2/eggnog/bit_score_threshold_{threshold}/min_marker_genes_per_genome/{combination}'\n",
    "        trees_eggnog_min[f'k_{k}_p_{p}_{matrix}'] = dendropy.Tree.get(path = f'{dataPathIn}/lpp_astral-pro{version}.nwk',\n",
    "                                                                            schema = 'newick', taxon_namespace = taxon_namespace)"
   ]
  },
  {
   "cell_type": "code",
   "execution_count": 15,
   "id": "83d5159d-75b5-4ab1-8156-f64f6aeeadc4",
   "metadata": {},
   "outputs": [
    {
     "name": "stdout",
     "output_type": "stream",
     "text": [
      "CPU times: user 494 ms, sys: 9.92 ms, total: 504 ms\n",
      "Wall time: 506 ms\n"
     ]
    }
   ],
   "source": [
    "%%time\n",
    "trees_eggnog_no_min = {}\n",
    "for k in ks:\n",
    "    for p in ps:\n",
    "        combination = f'k_{k}_p_{p}/{matrix}'\n",
    "        dataPathIn = f'./input_data/wol2/eggnog/bit_score_threshold_{threshold}/no_min_marker_genes_per_genome/{combination}'\n",
    "        trees_eggnog_no_min[f'k_{k}_p_{p}_{matrix}'] = dendropy.Tree.get(path = f'{dataPathIn}/lpp_astral-pro{version}.nwk',\n",
    "                                                                            schema = 'newick', taxon_namespace = taxon_namespace)"
   ]
  },
  {
   "cell_type": "markdown",
   "id": "b9d70670-c961-4431-8138-72125fc30196",
   "metadata": {},
   "source": [
    "### WoL2: reference tree. Available from [WoL2 FTP server](http://ftp.microbio.me/pub/wol2/phylogeny/)"
   ]
  },
  {
   "cell_type": "code",
   "execution_count": 16,
   "id": "6574da09-6a87-4313-b547-1f7499f557ad",
   "metadata": {},
   "outputs": [],
   "source": [
    "tree_wol_dendro = dendropy.Tree.get(path = f'./input_data/tree.nwk', schema = 'newick', taxon_namespace = taxon_namespace)"
   ]
  },
  {
   "cell_type": "markdown",
   "id": "1bcccacf-cc66-45f8-9bb2-3ca2db2ab06c",
   "metadata": {},
   "source": [
    "Prune tree"
   ]
  },
  {
   "cell_type": "code",
   "execution_count": 17,
   "id": "05260234-9cc6-4341-aaf0-0b3c12789618",
   "metadata": {},
   "outputs": [],
   "source": [
    "tree_wol_dendro.retain_taxa_with_labels(genomes)\n",
    "# Update bipartition\n",
    "tree_wol_dendro.update_bipartitions()"
   ]
  },
  {
   "cell_type": "markdown",
   "id": "a3a03fe5-042c-4ab7-a856-77ae5a87829e",
   "metadata": {},
   "source": [
    "### 41 SCG from Martinez-Gutierrez"
   ]
  },
  {
   "cell_type": "code",
   "execution_count": 18,
   "id": "2c542c3f-08fa-4dd8-927d-38bce491d05a",
   "metadata": {},
   "outputs": [],
   "source": [
    "dataPathIn = f'./input_data/wol2/martinez_gutierrez/wol2'\n",
    "tree_martinez = dendropy.Tree.get(path = f'{dataPathIn}/lpp_astral-pro{version}.nwk', schema = 'newick', taxon_namespace = taxon_namespace)"
   ]
  },
  {
   "cell_type": "markdown",
   "id": "0340bb09-aebc-4db0-bcba-d68905294989",
   "metadata": {},
   "source": [
    "### 57 SCG from Moody 2024"
   ]
  },
  {
   "cell_type": "code",
   "execution_count": 19,
   "id": "17e8e327-4e38-4061-beec-47a8c40ea863",
   "metadata": {},
   "outputs": [],
   "source": [
    "dataPathIn = f'./input_data/wol2/moody/wol2'\n",
    "tree_moody = dendropy.Tree.get(path = f'{dataPathIn}/lpp_astral-pro{version}.nwk', schema = 'newick', taxon_namespace = taxon_namespace)"
   ]
  },
  {
   "cell_type": "markdown",
   "id": "f22888d3-b987-4666-9639-32ddc7014714",
   "metadata": {},
   "source": [
    "### 400 SCG from Phylophlan3"
   ]
  },
  {
   "cell_type": "code",
   "execution_count": 20,
   "id": "6f60622d-dadb-4009-a6c2-5c73aafcba9b",
   "metadata": {},
   "outputs": [],
   "source": [
    "dataPathIn = f'./input_data/wol2/phylophlan/wol2_min_marker_genes_per_genome_100'\n",
    "tree_phylophlan_min = dendropy.Tree.get(path = f'{dataPathIn}/lpp_astral-pro{version}.nwk', schema = 'newick', taxon_namespace = taxon_namespace)"
   ]
  },
  {
   "cell_type": "code",
   "execution_count": 21,
   "id": "79db1882-ba8f-4059-860d-4619bcfad0aa",
   "metadata": {},
   "outputs": [],
   "source": [
    "dataPathIn = f'./input_data/wol2/phylophlan/wol2_min_marker_genes_per_genome_1'\n",
    "tree_phylophlan_no_min = dendropy.Tree.get(path = f'{dataPathIn}/lpp_astral-pro{version}.nwk', schema = 'newick', taxon_namespace = taxon_namespace)"
   ]
  },
  {
   "cell_type": "markdown",
   "id": "ee2e9265-6c7b-4d15-a72c-bd93391f7237",
   "metadata": {},
   "source": [
    "### 136 SCG from Amphora2"
   ]
  },
  {
   "cell_type": "code",
   "execution_count": 22,
   "id": "9946bd2a-bbc6-4f56-8074-1c4a5bc64bb5",
   "metadata": {},
   "outputs": [],
   "source": [
    "dataPathIn = f'./input_data/wol2/amphora2/wol2_min_marker_genes_per_genome_34'\n",
    "tree_amphora_min = dendropy.Tree.get(path = f'{dataPathIn}/lpp_astral-pro{version}.nwk', schema = 'newick', taxon_namespace = taxon_namespace)"
   ]
  },
  {
   "cell_type": "code",
   "execution_count": 23,
   "id": "5661c9ff-0b0e-4bac-997f-5215da07f32d",
   "metadata": {},
   "outputs": [],
   "source": [
    "dataPathIn = f'./input_data/wol2/amphora2/wol2_min_marker_genes_per_genome_1'\n",
    "tree_amphora_no_min = dendropy.Tree.get(path = f'{dataPathIn}/lpp_astral-pro{version}.nwk', schema = 'newick', taxon_namespace = taxon_namespace)"
   ]
  },
  {
   "cell_type": "markdown",
   "id": "420387cc-6985-40b7-ad69-5cc8909f452b",
   "metadata": {},
   "source": [
    "# normalized Robinson Foulds distance"
   ]
  },
  {
   "cell_type": "code",
   "execution_count": 24,
   "id": "b581c784-ff9b-48e2-ab44-c346b23ec4cf",
   "metadata": {},
   "outputs": [
    {
     "name": "stdout",
     "output_type": "stream",
     "text": [
      "CPU times: user 1min 38s, sys: 713 ms, total: 1min 39s\n",
      "Wall time: 1min 39s\n"
     ]
    }
   ],
   "source": [
    "%%time\n",
    "distances_trees_min = {}\n",
    "distances_trees_no_min = {}\n",
    "p, matrix = 0, 'presence_absence_copies'\n",
    "\n",
    "# PFAM*, KEGG, and EggNog\n",
    "for k in ks:\n",
    "    distances_trees_min[f'kegg_k_{k}_p_{p}'] = RF_distance(trees_kegg_min[f'k_{k}_p_{p}_{matrix}'], tree_wol_dendro)\n",
    "    distances_trees_min[f'eggnog_k_{k}_p_{p}'] = RF_distance(trees_eggnog_min[f'k_{k}_p_{p}_{matrix}'], tree_wol_dendro)\n",
    "    distances_trees_no_min[f'kegg_k_{k}_p_{p}'] = RF_distance(trees_kegg_no_min[f'k_{k}_p_{p}_{matrix}'], tree_wol_dendro)\n",
    "    distances_trees_no_min[f'eggnog_k_{k}_p_{p}'] = RF_distance(trees_eggnog_no_min[f'k_{k}_p_{p}_{matrix}'], tree_wol_dendro)\n",
    "\n",
    "# Other marker gene sets\n",
    "distances_trees_min['martinez'] = RF_distance(tree_martinez, tree_wol_dendro)\n",
    "distances_trees_min['moody'] = RF_distance(tree_moody, tree_wol_dendro)\n",
    "distances_trees_min['phylophlan'] = RF_distance(tree_phylophlan_min, tree_wol_dendro)\n",
    "distances_trees_min['amphora'] = RF_distance(tree_amphora_min, tree_wol_dendro)\n",
    "\n",
    "distances_trees_no_min['martinez'] = RF_distance(tree_martinez, tree_wol_dendro)\n",
    "distances_trees_no_min['moody'] = RF_distance(tree_moody, tree_wol_dendro)\n",
    "distances_trees_no_min['phylophlan'] = RF_distance(tree_phylophlan_no_min, tree_wol_dendro)\n",
    "distances_trees_no_min['amphora'] = RF_distance(tree_amphora_no_min, tree_wol_dendro)"
   ]
  },
  {
   "cell_type": "code",
   "execution_count": 25,
   "id": "cefb21ec-a7ae-4ecb-9e95-5f7836457fc4",
   "metadata": {},
   "outputs": [
    {
     "data": {
      "image/png": "[encoded data removed]",
      "text/plain": [
       "<Figure size 390x300 with 1 Axes>"
      ]
     },
     "metadata": {},
     "output_type": "display_data"
    }
   ],
   "source": [
    "p, matrix = 0, 'presence_absence_copies'\n",
    "plt.figure(figsize = (3.9, 3))\n",
    "\n",
    "# KEGG\n",
    "y_kegg_min = []\n",
    "y_kegg_no_min = []\n",
    "for k in ks:\n",
    "    y_kegg_min.append(distances_trees_min[f'kegg_k_{k}_p_{p}'])\n",
    "    y_kegg_no_min.append(distances_trees_no_min[f'kegg_k_{k}_p_{p}'])\n",
    "plt.plot(ks, y_kegg_min, color = '#f72585', alpha = 0.6, marker = '.', label = f'KEGG')\n",
    "plt.plot(ks, y_kegg_no_min, color = '#f72585', alpha = 0.6, marker = '.', ls = 'dashed',\n",
    "        markerfacecolor = 'none')\n",
    "\n",
    "# Eggnog\n",
    "y_eggnog_min = []\n",
    "y_eggnog_no_min = []\n",
    "for k in ks:\n",
    "    y_eggnog_min.append(distances_trees_min[f'eggnog_k_{k}_p_{p}'])\n",
    "    y_eggnog_no_min.append(distances_trees_no_min[f'eggnog_k_{k}_p_{p}'])\n",
    "plt.plot(ks, y_eggnog_min, color = '#4361ee', alpha = 0.6, marker = '.', label = f'EggNog')\n",
    "plt.plot(ks, y_eggnog_no_min, color = '#4361ee', alpha = 0.6, marker = '.', ls = 'dashed',\n",
    "        markerfacecolor = 'none')\n",
    "\n",
    "plt.scatter(41, distances_trees_min['martinez'], color = 'r', marker = 's', alpha = 0.8, label = 'Martinez')\n",
    "plt.scatter(57, distances_trees_min['moody'], color = 'b', marker = 's', alpha = 0.8, label = 'Moody')\n",
    "plt.scatter(400, distances_trees_min['phylophlan'], color = 'g', marker = 's', alpha = 0.8, label = 'Phylophlan3', zorder = 3)\n",
    "plt.scatter(136, distances_trees_min['amphora'], color = 'orange', marker = 's', alpha = 0.8, label = 'Amphora2')\n",
    "\n",
    "plt.scatter(400, distances_trees_no_min['phylophlan'], color = 'g', marker = 's', alpha = 0.8, facecolor = 'none')\n",
    "plt.scatter(136, distances_trees_no_min['amphora'], color = 'orange', marker = 's', alpha = 0.8, facecolor = 'none')\n",
    "\n",
    "# plt.legend(bbox_to_anchor = (1.04, 1), loc = 'upper left', ncol = 2)\n",
    "plt.xlabel('Number of genes (k)')\n",
    "plt.ylabel('nRF distance')\n",
    "plt.tick_params(top = True, right = True, direction = 'in', which = 'both')\n",
    "# plt.ylim(0.1, 0.25)\n",
    "plt.savefig(f'./figures/figure_3B.svg')\n",
    "plt.show()"
   ]
  },
  {
   "cell_type": "code",
   "execution_count": 26,
   "id": "52d29218-4361-45d0-af7f-31151cb65240",
   "metadata": {},
   "outputs": [
    {
     "data": {
      "image/png": "[encoded data removed]",
      "text/plain": [
       "<Figure size 390x300 with 1 Axes>"
      ]
     },
     "metadata": {},
     "output_type": "display_data"
    }
   ],
   "source": [
    "p, matrix = 0, 'presence_absence_copies'\n",
    "plt.figure(figsize = (3.9, 3))\n",
    "\n",
    "# KEGG\n",
    "y_kegg_min = []\n",
    "y_kegg_no_min = []\n",
    "for k in ks:\n",
    "    y_kegg_min.append(distances_trees_min[f'kegg_k_{k}_p_{p}'])\n",
    "    y_kegg_no_min.append(distances_trees_no_min[f'kegg_k_{k}_p_{p}'])\n",
    "plt.plot(ks, y_kegg_min, color = '#f72585', alpha = 0.6, marker = '.', label = f'KEGG')\n",
    "plt.plot(ks, y_kegg_no_min, color = '#f72585', alpha = 0.6, marker = '.', ls = 'dashed',\n",
    "        markerfacecolor = 'none')\n",
    "\n",
    "# Eggnog\n",
    "y_eggnog_min = []\n",
    "y_eggnog_no_min = []\n",
    "for k in ks:\n",
    "    y_eggnog_min.append(distances_trees_min[f'eggnog_k_{k}_p_{p}'])\n",
    "    y_eggnog_no_min.append(distances_trees_no_min[f'eggnog_k_{k}_p_{p}'])\n",
    "plt.plot(ks, y_eggnog_min, color = '#4361ee', alpha = 0.6, marker = '.', label = f'EggNog')\n",
    "plt.plot(ks, y_eggnog_no_min, color = '#4361ee', alpha = 0.6, marker = '.', ls = 'dashed',\n",
    "        markerfacecolor = 'none')\n",
    "\n",
    "plt.scatter(41, distances_trees_min['martinez'], color = 'r', marker = 's', alpha = 0.8, label = 'Martinez')\n",
    "plt.scatter(57, distances_trees_min['moody'], color = 'b', marker = 's', alpha = 0.8, label = 'Moody')\n",
    "plt.scatter(400, distances_trees_min['phylophlan'], color = 'g', marker = 's', alpha = 0.8, label = 'Phylophlan3')\n",
    "plt.scatter(136, distances_trees_min['amphora'], color = 'orange', marker = 's', alpha = 0.8, label = 'Amphora2')\n",
    "\n",
    "plt.scatter(400, distances_trees_no_min['phylophlan'], color = 'g', marker = 's', alpha = 0.8, facecolor = 'none')\n",
    "\n",
    "plt.scatter(136, distances_trees_no_min['amphora'], color = 'orange', marker = 's', alpha = 0.8, facecolor = 'none')\n",
    "\n",
    "# plt.legend(bbox_to_anchor = (1.04, 1), loc = 'upper left', ncol = 2)\n",
    "plt.xlabel('Number of genes (k)')\n",
    "plt.ylabel('RF distance to WoL2')\n",
    "plt.tick_params(top = True, right = True, direction = 'in', which = 'both')\n",
    "plt.ylim(0.14, 0.16)\n",
    "plt.xlim(350, 1020)\n",
    "plt.savefig(f'./figures/figure_3B_inset.svg')\n",
    "plt.show()"
   ]
  },
  {
   "cell_type": "markdown",
   "id": "185acc2a-e1f7-497e-b83c-2ebb8f4122d3",
   "metadata": {},
   "source": [
    "## Impact of copy number (measured as bitscore)"
   ]
  },
  {
   "cell_type": "code",
   "execution_count": 27,
   "id": "ddd916dc-eb60-4742-818d-b3c62c5e160d",
   "metadata": {},
   "outputs": [],
   "source": [
    "taxon_namespace = dendropy.TaxonNamespace()\n",
    "tree_wol_dendro = dendropy.Tree.get(path = f'./input_data/tree.nwk', schema = 'newick', taxon_namespace = taxon_namespace)"
   ]
  },
  {
   "cell_type": "code",
   "execution_count": 28,
   "id": "70ee190b-a31b-48b3-bd0e-3743a2b07934",
   "metadata": {},
   "outputs": [],
   "source": [
    "k, p, matrix = 400, 0, 'presence_absence_copies'\n",
    "threshold = 1.0\n",
    "version = 2\n",
    "combination = f'k_{k}_p_{p}/{matrix}' \n",
    "dataPathIn = f'./input_data/wol2/kegg/bit_score_threshold_{threshold}/min_marker_genes_per_genome/{combination}'\n",
    "tree_kegg_bs_1 = dendropy.Tree.get(path = f'{dataPathIn}/lpp_astral-pro{version}.nwk', schema = 'newick', taxon_namespace = taxon_namespace)"
   ]
  },
  {
   "cell_type": "code",
   "execution_count": 29,
   "id": "0a5cf3bb-5bd0-4189-9144-dda2441d045a",
   "metadata": {},
   "outputs": [],
   "source": [
    "k, p, matrix = 400, 0, 'presence_absence_copies'\n",
    "threshold = 0.98\n",
    "dataPathIn = f'./input_data/wol2/kegg/bit_score_threshold_{threshold}/{combination}'\n",
    "tree_kegg_bs_098 = dendropy.Tree.get(path = f'{dataPathIn}/lpp_astral-pro{version}.nwk', schema = 'newick', taxon_namespace = taxon_namespace)"
   ]
  },
  {
   "cell_type": "code",
   "execution_count": 30,
   "id": "283dc843-293f-4c4b-8c31-fb529cdf42c8",
   "metadata": {},
   "outputs": [],
   "source": [
    "k, p, matrix = 400, 0, 'presence_absence_copies'\n",
    "threshold = 0.95\n",
    "dataPathIn = f'./input_data/wol2/kegg/bit_score_threshold_{threshold}/{combination}'\n",
    "tree_kegg_bs_095 = dendropy.Tree.get(path = f'{dataPathIn}/lpp_astral-pro{version}.nwk', schema = 'newick', taxon_namespace = taxon_namespace)"
   ]
  },
  {
   "cell_type": "code",
   "execution_count": 31,
   "id": "ce16070b-36c7-4738-b947-3fb692758437",
   "metadata": {},
   "outputs": [],
   "source": [
    "k, p, matrix = 400, 0, 'presence_absence_copies'\n",
    "threshold = 0.9\n",
    "dataPathIn = f'./input_data/wol2/kegg/bit_score_threshold_{threshold}/{combination}'\n",
    "tree_kegg_bs_09 = dendropy.Tree.get(path = f'{dataPathIn}/lpp_astral-pro{version}.nwk', schema = 'newick', taxon_namespace = taxon_namespace)"
   ]
  },
  {
   "cell_type": "code",
   "execution_count": 32,
   "id": "88f97b4c-4788-4bb7-98e4-7cc332248073",
   "metadata": {},
   "outputs": [],
   "source": [
    "k, p, matrix = 400, 0, 'presence_absence_copies'\n",
    "threshold = 0.5\n",
    "dataPathIn = f'./input_data/wol2/kegg/bit_score_threshold_{threshold}/{combination}'\n",
    "tree_kegg_bs_05 = dendropy.Tree.get(path = f'{dataPathIn}/lpp_astral-pro{version}.nwk', schema = 'newick', taxon_namespace = taxon_namespace)"
   ]
  },
  {
   "cell_type": "code",
   "execution_count": 33,
   "id": "3448d12c-3e2e-4c91-89ed-1b5aa35f8cba",
   "metadata": {},
   "outputs": [],
   "source": [
    "k, p, matrix = 400, 0, 'presence_absence_copies'\n",
    "threshold = 0.0\n",
    "dataPathIn = f'./input_data/wol2/kegg/bit_score_threshold_{threshold}/{combination}'\n",
    "tree_kegg_bs_0 = dendropy.Tree.get(path = f'{dataPathIn}/lpp_astral-pro{version}.nwk', schema = 'newick', taxon_namespace = taxon_namespace)"
   ]
  },
  {
   "cell_type": "code",
   "execution_count": 34,
   "id": "453d62ea-6ac1-46b9-b73c-1821cceb1c4f",
   "metadata": {},
   "outputs": [],
   "source": [
    "k, p, matrix = 400, 0, 'presence_absence_copies'\n",
    "threshold = 1.0\n",
    "dataPathIn = f'./input_data/wol2/eggnog/bit_score_threshold_{threshold}/min_marker_genes_per_genome/{combination}'\n",
    "tree_eggnog_bs_1 = dendropy.Tree.get(path = f'{dataPathIn}/lpp_astral-pro{version}.nwk', schema = 'newick', taxon_namespace = taxon_namespace)"
   ]
  },
  {
   "cell_type": "code",
   "execution_count": 35,
   "id": "593a4637-75dc-4b24-8e86-9f803c1d5a16",
   "metadata": {},
   "outputs": [],
   "source": [
    "k, p, matrix = 400, 0, 'presence_absence_copies'\n",
    "threshold = 0.98\n",
    "dataPathIn = f'./input_data/wol2/eggnog/bit_score_threshold_{threshold}/{combination}'\n",
    "tree_eggnog_bs_098 = dendropy.Tree.get(path = f'{dataPathIn}/lpp_astral-pro{version}.nwk', schema = 'newick', taxon_namespace = taxon_namespace)"
   ]
  },
  {
   "cell_type": "code",
   "execution_count": 36,
   "id": "ae8eeb2d-4693-4411-b450-fb8dd46ae29f",
   "metadata": {},
   "outputs": [],
   "source": [
    "k, p, matrix = 400, 0, 'presence_absence_copies'\n",
    "threshold = 0.95\n",
    "dataPathIn = f'./input_data/wol2/eggnog/bit_score_threshold_{threshold}/{combination}'\n",
    "tree_eggnog_bs_095 = dendropy.Tree.get(path = f'{dataPathIn}/lpp_astral-pro{version}.nwk', schema = 'newick', taxon_namespace = taxon_namespace)"
   ]
  },
  {
   "cell_type": "code",
   "execution_count": 37,
   "id": "916a6da8-82c4-46e8-b405-c57dd953f1b3",
   "metadata": {},
   "outputs": [],
   "source": [
    "k, p, matrix = 400, 0, 'presence_absence_copies'\n",
    "threshold = 0.9\n",
    "dataPathIn = f'./input_data/wol2/eggnog/bit_score_threshold_{threshold}/{combination}'\n",
    "tree_eggnog_bs_09 = dendropy.Tree.get(path = f'{dataPathIn}/lpp_astral-pro{version}.nwk', schema = 'newick', taxon_namespace = taxon_namespace)"
   ]
  },
  {
   "cell_type": "code",
   "execution_count": 38,
   "id": "776fe515-5fa9-49dc-9d47-bfc9bcaebac6",
   "metadata": {},
   "outputs": [],
   "source": [
    "k, p, matrix = 400, 0, 'presence_absence_copies'\n",
    "threshold = 0.5\n",
    "dataPathIn = f'./input_data/wol2/eggnog/bit_score_threshold_{threshold}/{combination}'\n",
    "tree_eggnog_bs_05 = dendropy.Tree.get(path = f'{dataPathIn}/lpp_astral-pro{version}.nwk', schema = 'newick', taxon_namespace = taxon_namespace)"
   ]
  },
  {
   "cell_type": "code",
   "execution_count": 39,
   "id": "432ff160-eb09-462e-aee9-cc6687025aec",
   "metadata": {},
   "outputs": [],
   "source": [
    "k, p, matrix = 400, 0, 'presence_absence_copies'\n",
    "threshold = 0.0\n",
    "dataPathIn = f'./input_data/wol2/eggnog/bit_score_threshold_{threshold}/{combination}'\n",
    "tree_eggnog_bs_0 = dendropy.Tree.get(path = f'{dataPathIn}/lpp_astral-pro{version}.nwk', schema = 'newick', taxon_namespace = taxon_namespace)"
   ]
  },
  {
   "cell_type": "code",
   "execution_count": 40,
   "id": "54699d80-dafc-4601-8ac5-5db6d4f2518b",
   "metadata": {},
   "outputs": [
    {
     "data": {
      "image/png": "[encoded data removed]",
      "text/plain": [
       "<Figure size 400x300 with 1 Axes>"
      ]
     },
     "metadata": {},
     "output_type": "display_data"
    }
   ],
   "source": [
    "plt.figure(figsize = (4, 3))\n",
    "y = [RF_distance(tree_kegg_bs_1, tree_wol_dendro),\n",
    "     RF_distance(tree_kegg_bs_098, tree_wol_dendro),\n",
    "    RF_distance(tree_kegg_bs_095, tree_wol_dendro),\n",
    "     RF_distance(tree_kegg_bs_09, tree_wol_dendro),\n",
    "    RF_distance(tree_kegg_bs_05, tree_wol_dendro),\n",
    "    RF_distance(tree_kegg_bs_0, tree_wol_dendro)]\n",
    "x = np.arange(len(y))\n",
    "plt.plot(x, y, marker = 'o', color = '#f72585', label = 'KEGG', ls = 'dashed', markerfacecolor = 'none')\n",
    "\n",
    "y = [RF_distance(tree_eggnog_bs_1, tree_wol_dendro),\n",
    "     RF_distance(tree_eggnog_bs_098, tree_wol_dendro),\n",
    "    RF_distance(tree_eggnog_bs_095, tree_wol_dendro),\n",
    "     RF_distance(tree_eggnog_bs_09, tree_wol_dendro),\n",
    "    RF_distance(tree_eggnog_bs_05, tree_wol_dendro),\n",
    "    RF_distance(tree_eggnog_bs_0, tree_wol_dendro)]\n",
    "plt.plot(x, y, marker = 'o', color = '#4361ee', label = 'EggNog', ls = 'dashed', markerfacecolor = 'none')\n",
    "\n",
    "plt.xticks(x, labels = [1.0, 0.98, 0.95, 0.9, 0.5, 0.0])\n",
    "\n",
    "plt.xlabel('Bit score threshold')\n",
    "plt.ylabel('nRF distance')\n",
    "plt.tick_params(top = True, right = True, direction = 'in', which = 'both')\n",
    "plt.savefig(f'./figures/figure_S3A_nrf.svg')\n",
    "plt.show()"
   ]
  },
  {
   "cell_type": "code",
   "execution_count": null,
   "id": "935fb002-aa88-4a34-9cb1-5aedab168a9a",
   "metadata": {},
   "outputs": [],
   "source": []
  },
  {
   "cell_type": "code",
   "execution_count": null,
   "id": "9176e4eb-aa4d-4362-8622-f5d5372dbd42",
   "metadata": {},
   "outputs": [],
   "source": []
  },
  {
   "cell_type": "code",
   "execution_count": null,
   "id": "38a97001-0188-4433-a74c-80b60a609332",
   "metadata": {},
   "outputs": [],
   "source": []
  },
  {
   "cell_type": "code",
   "execution_count": null,
   "id": "2c63e1ad-1af1-4e80-88b7-48ae1b7761e6",
   "metadata": {},
   "outputs": [],
   "source": []
  },
  {
   "cell_type": "code",
   "execution_count": null,
   "id": "0b2337d1-e908-4f63-97ab-147bbb934dc7",
   "metadata": {},
   "outputs": [],
   "source": []
  },
  {
   "cell_type": "code",
   "execution_count": null,
   "id": "bf65ae45-ef3c-4666-9cce-00aee41df67c",
   "metadata": {},
   "outputs": [],
   "source": []
  },
  {
   "cell_type": "code",
   "execution_count": null,
   "id": "f1d62f23-3374-4f0a-b32f-88342c917305",
   "metadata": {},
   "outputs": [],
   "source": []
  },
  {
   "cell_type": "code",
   "execution_count": null,
   "id": "71d25b2d-896a-4455-91e5-93719d44e7f8",
   "metadata": {},
   "outputs": [],
   "source": []
  },
  {
   "cell_type": "code",
   "execution_count": null,
   "id": "61a0d6df-2f3e-400b-9d21-a38332c6d39a",
   "metadata": {},
   "outputs": [],
   "source": []
  },
  {
   "cell_type": "code",
   "execution_count": null,
   "id": "67879b32-2272-41e9-81c8-ecd672f46dfa",
   "metadata": {},
   "outputs": [],
   "source": []
  },
  {
   "cell_type": "code",
   "execution_count": null,
   "id": "36b4f484-05ea-4983-883b-9c7202d20050",
   "metadata": {},
   "outputs": [],
   "source": []
  },
  {
   "cell_type": "code",
   "execution_count": null,
   "id": "8bc62ebb-9af2-4ff4-b4ff-e7f49678f3c8",
   "metadata": {},
   "outputs": [],
   "source": []
  },
  {
   "cell_type": "code",
   "execution_count": null,
   "id": "eb8f26de-7594-4912-a1f9-33d383a729ac",
   "metadata": {},
   "outputs": [],
   "source": []
  },
  {
   "cell_type": "code",
   "execution_count": null,
   "id": "2c01ee60-3df9-4ba6-a05c-b5e23861a794",
   "metadata": {},
   "outputs": [],
   "source": []
  },
  {
   "cell_type": "code",
   "execution_count": null,
   "id": "8b26449e-00de-44f2-86a5-82890ed3c048",
   "metadata": {},
   "outputs": [],
   "source": []
  },
  {
   "cell_type": "code",
   "execution_count": null,
   "id": "8bb4d0d7-99ce-4841-8194-150fbcc7580c",
   "metadata": {},
   "outputs": [],
   "source": []
  },
  {
   "cell_type": "code",
   "execution_count": null,
   "id": "63346c66-66e1-40d8-a3f1-ddd8b1dfc797",
   "metadata": {},
   "outputs": [],
   "source": []
  },
  {
   "cell_type": "code",
   "execution_count": null,
   "id": "6b51aa4b-e15b-4aaa-b302-26641cb745ca",
   "metadata": {},
   "outputs": [],
   "source": []
  }
 ],
 "metadata": {
  "kernelspec": {
   "display_name": "Python 3 (ipykernel)",
   "language": "python",
   "name": "python3"
  },
  "language_info": {
   "codemirror_mode": {
    "name": "ipython",
    "version": 3
   },
   "file_extension": ".py",
   "mimetype": "text/x-python",
   "name": "python",
   "nbconvert_exporter": "python",
   "pygments_lexer": "ipython3",
   "version": "3.13.0"
  }
 },
 "nbformat": 4,
 "nbformat_minor": 5
}
